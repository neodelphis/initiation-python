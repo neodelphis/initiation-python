{
 "cells": [
  {
   "cell_type": "markdown",
   "id": "804a66f1-154b-46d2-8f1e-b33fd40e2fa9",
   "metadata": {},
   "source": [
    "# Exercices du  cours 3\n",
    "Cours de Didier Muller [Python 3 par les jeux](https://www.apprendre-en-ligne.net/pj/index.html)"
   ]
  },
  {
   "cell_type": "markdown",
   "id": "a7494f62-edbd-4bdc-98d9-4758c66b6d35",
   "metadata": {},
   "source": [
    "## Exercice 2.1"
   ]
  },
  {
   "cell_type": "code",
   "execution_count": 1,
   "id": "a363d6a7-dd06-47a8-a099-04f87a39e651",
   "metadata": {},
   "outputs": [
    {
     "name": "stdout",
     "output_type": "stream",
     "text": [
      "Entrez un mot ou [Entrée] pour terminer test\n"
     ]
    },
    {
     "name": "stdout",
     "output_type": "stream",
     "text": [
      "1 test\n"
     ]
    },
    {
     "name": "stdout",
     "output_type": "stream",
     "text": [
      "Entrez un mot ou [Entrée] pour terminer \n"
     ]
    },
    {
     "name": "stdout",
     "output_type": "stream",
     "text": [
      "Au revoir\n"
     ]
    }
   ],
   "source": [
    "# Exercice 2.1\n",
    "# Écrivez un programme qui demande à l'utilisateur d'écrire des mots.\n",
    "# Tant que l'utilisateur n'aura pas pressé sur la touche 'Enter' toute seule,\n",
    "# l'ordinateur demandera un nouveau mot. Le programme écrira ce mot, précédé de numéro de rang.\n",
    "# Poliment, l'ordinateur écrira « Au revoir » avant que le programme se termine.\n",
    "\n",
    "rang = 0\n",
    "mot = 'initialisation'\n",
    "\n",
    "while mot != '':\n",
    "    if rang != 0:\n",
    "        print(rang, mot)\n",
    "    mot = input(\"Entrez un mot ou [Entrée] pour terminer\")\n",
    "    rang += 1\n",
    "print(\"Au revoir\")"
   ]
  },
  {
   "cell_type": "markdown",
   "id": "e49fea8f-1cba-436d-83eb-7e126597e41d",
   "metadata": {},
   "source": [
    "## Exercice 2.2"
   ]
  },
  {
   "cell_type": "code",
   "execution_count": 2,
   "id": "ae536b2d-b3c1-454f-a2a2-ba9fc1b137d2",
   "metadata": {},
   "outputs": [
    {
     "name": "stdout",
     "output_type": "stream",
     "text": [
      "0 heure(s)  0 minute(s) 0 seconde(s)\n",
      "0 heure(s)  0 minute(s) 1 seconde(s)\n",
      "0 heure(s)  0 minute(s) 2 seconde(s)\n",
      "0 heure(s)  1 minute(s) 0 seconde(s)\n",
      "0 heure(s)  1 minute(s) 1 seconde(s)\n",
      "0 heure(s)  1 minute(s) 2 seconde(s)\n",
      "0 heure(s)  2 minute(s) 0 seconde(s)\n",
      "0 heure(s)  2 minute(s) 1 seconde(s)\n",
      "0 heure(s)  2 minute(s) 2 seconde(s)\n",
      "1 heure(s)  0 minute(s) 0 seconde(s)\n",
      "1 heure(s)  0 minute(s) 1 seconde(s)\n",
      "1 heure(s)  0 minute(s) 2 seconde(s)\n",
      "1 heure(s)  1 minute(s) 0 seconde(s)\n",
      "1 heure(s)  1 minute(s) 1 seconde(s)\n",
      "1 heure(s)  1 minute(s) 2 seconde(s)\n",
      "1 heure(s)  2 minute(s) 0 seconde(s)\n",
      "1 heure(s)  2 minute(s) 1 seconde(s)\n",
      "1 heure(s)  2 minute(s) 2 seconde(s)\n",
      "2 heure(s)  0 minute(s) 0 seconde(s)\n",
      "2 heure(s)  0 minute(s) 1 seconde(s)\n",
      "2 heure(s)  0 minute(s) 2 seconde(s)\n",
      "2 heure(s)  1 minute(s) 0 seconde(s)\n",
      "2 heure(s)  1 minute(s) 1 seconde(s)\n",
      "2 heure(s)  1 minute(s) 2 seconde(s)\n",
      "2 heure(s)  2 minute(s) 0 seconde(s)\n",
      "2 heure(s)  2 minute(s) 1 seconde(s)\n",
      "2 heure(s)  2 minute(s) 2 seconde(s)\n"
     ]
    }
   ],
   "source": [
    "# Exercice 2.2\n",
    "# Ajoutez une boucle au programme ci-dessus pour écrire les secondes.\n",
    "h = 0\n",
    "while h<3:\n",
    "    m = 0\n",
    "    while m<3:\n",
    "        s = 0\n",
    "        while s<3:\n",
    "            print(h,\"heure(s) \",m,\"minute(s)\",s,\"seconde(s)\")\n",
    "            s += 1\n",
    "        m += 1\n",
    "    h += 1"
   ]
  },
  {
   "cell_type": "markdown",
   "id": "32610b4d-e187-44d6-ad92-6875e6c3f825",
   "metadata": {},
   "source": [
    "## Exercice 2.3"
   ]
  },
  {
   "cell_type": "code",
   "execution_count": 17,
   "id": "30442aaf-d7ac-44cf-bd0a-4297cdd0c3bd",
   "metadata": {},
   "outputs": [
    {
     "name": "stdout",
     "output_type": "stream",
     "text": [
      " 1 * 53 =   53\n",
      " 2 * 53 =  106\n",
      " 3 * 53 =  159\n",
      " 4 * 53 =  212\n",
      " 5 * 53 =  265\n",
      " 6 * 53 =  318\n",
      " 7 * 53 =  371\n",
      " 8 * 53 =  424\n",
      " 9 * 53 =  477\n",
      "10 * 53 =  530\n",
      "11 * 53 =  583\n",
      "12 * 53 =  636\n",
      "13 * 53 =  689\n",
      "14 * 53 =  742\n",
      "15 * 53 =  795\n",
      "16 * 53 =  848\n",
      "17 * 53 =  901\n",
      "18 * 53 =  954\n",
      "19 * 53 = 1007\n",
      "20 * 53 = 1060\n"
     ]
    }
   ],
   "source": [
    "# Exercice 2.3\n",
    "# Écrivez un programme qui affiche les 20 premiers termes de la table de multiplication par 53.\n",
    "i = 1\n",
    "while i <= 20:\n",
    "    print('{:2d} * {} = {:4d}'.format(i, 53, i*53))\n",
    "    i += 1"
   ]
  },
  {
   "cell_type": "code",
   "execution_count": 20,
   "id": "587f7060-d961-4dbb-8343-72385ba029b7",
   "metadata": {
    "tags": []
   },
   "outputs": [
    {
     "name": "stdout",
     "output_type": "stream",
     "text": [
      "\n",
      "Table de 1:\n",
      " 1 *  1 =   1\n",
      " 1 *  2 =   2\n",
      " 1 *  3 =   3\n",
      " 1 *  4 =   4\n",
      " 1 *  5 =   5\n",
      " 1 *  6 =   6\n",
      " 1 *  7 =   7\n",
      " 1 *  8 =   8\n",
      " 1 *  9 =   9\n",
      " 1 * 10 =  10\n",
      " 1 * 11 =  11\n",
      " 1 * 12 =  12\n",
      "\n",
      "Table de 2:\n",
      " 2 *  1 =   2\n",
      " 2 *  2 =   4\n",
      " 2 *  3 =   6\n",
      " 2 *  4 =   8\n",
      " 2 *  5 =  10\n",
      " 2 *  6 =  12\n",
      " 2 *  7 =  14\n",
      " 2 *  8 =  16\n",
      " 2 *  9 =  18\n",
      " 2 * 10 =  20\n",
      " 2 * 11 =  22\n",
      " 2 * 12 =  24\n",
      "\n",
      "Table de 3:\n",
      " 3 *  1 =   3\n",
      " 3 *  2 =   6\n",
      " 3 *  3 =   9\n",
      " 3 *  4 =  12\n",
      " 3 *  5 =  15\n",
      " 3 *  6 =  18\n",
      " 3 *  7 =  21\n",
      " 3 *  8 =  24\n",
      " 3 *  9 =  27\n",
      " 3 * 10 =  30\n",
      " 3 * 11 =  33\n",
      " 3 * 12 =  36\n",
      "\n",
      "Table de 4:\n",
      " 4 *  1 =   4\n",
      " 4 *  2 =   8\n",
      " 4 *  3 =  12\n",
      " 4 *  4 =  16\n",
      " 4 *  5 =  20\n",
      " 4 *  6 =  24\n",
      " 4 *  7 =  28\n",
      " 4 *  8 =  32\n",
      " 4 *  9 =  36\n",
      " 4 * 10 =  40\n",
      " 4 * 11 =  44\n",
      " 4 * 12 =  48\n",
      "\n",
      "Table de 5:\n",
      " 5 *  1 =   5\n",
      " 5 *  2 =  10\n",
      " 5 *  3 =  15\n",
      " 5 *  4 =  20\n",
      " 5 *  5 =  25\n",
      " 5 *  6 =  30\n",
      " 5 *  7 =  35\n",
      " 5 *  8 =  40\n",
      " 5 *  9 =  45\n",
      " 5 * 10 =  50\n",
      " 5 * 11 =  55\n",
      " 5 * 12 =  60\n",
      "\n",
      "Table de 6:\n",
      " 6 *  1 =   6\n",
      " 6 *  2 =  12\n",
      " 6 *  3 =  18\n",
      " 6 *  4 =  24\n",
      " 6 *  5 =  30\n",
      " 6 *  6 =  36\n",
      " 6 *  7 =  42\n",
      " 6 *  8 =  48\n",
      " 6 *  9 =  54\n",
      " 6 * 10 =  60\n",
      " 6 * 11 =  66\n",
      " 6 * 12 =  72\n",
      "\n",
      "Table de 7:\n",
      " 7 *  1 =   7\n",
      " 7 *  2 =  14\n",
      " 7 *  3 =  21\n",
      " 7 *  4 =  28\n",
      " 7 *  5 =  35\n",
      " 7 *  6 =  42\n",
      " 7 *  7 =  49\n",
      " 7 *  8 =  56\n",
      " 7 *  9 =  63\n",
      " 7 * 10 =  70\n",
      " 7 * 11 =  77\n",
      " 7 * 12 =  84\n",
      "\n",
      "Table de 8:\n",
      " 8 *  1 =   8\n",
      " 8 *  2 =  16\n",
      " 8 *  3 =  24\n",
      " 8 *  4 =  32\n",
      " 8 *  5 =  40\n",
      " 8 *  6 =  48\n",
      " 8 *  7 =  56\n",
      " 8 *  8 =  64\n",
      " 8 *  9 =  72\n",
      " 8 * 10 =  80\n",
      " 8 * 11 =  88\n",
      " 8 * 12 =  96\n",
      "\n",
      "Table de 9:\n",
      " 9 *  1 =   9\n",
      " 9 *  2 =  18\n",
      " 9 *  3 =  27\n",
      " 9 *  4 =  36\n",
      " 9 *  5 =  45\n",
      " 9 *  6 =  54\n",
      " 9 *  7 =  63\n",
      " 9 *  8 =  72\n",
      " 9 *  9 =  81\n",
      " 9 * 10 =  90\n",
      " 9 * 11 =  99\n",
      " 9 * 12 = 108\n",
      "\n",
      "Table de 10:\n",
      "10 *  1 =  10\n",
      "10 *  2 =  20\n",
      "10 *  3 =  30\n",
      "10 *  4 =  40\n",
      "10 *  5 =  50\n",
      "10 *  6 =  60\n",
      "10 *  7 =  70\n",
      "10 *  8 =  80\n",
      "10 *  9 =  90\n",
      "10 * 10 = 100\n",
      "10 * 11 = 110\n",
      "10 * 12 = 120\n",
      "\n",
      "Table de 11:\n",
      "11 *  1 =  11\n",
      "11 *  2 =  22\n",
      "11 *  3 =  33\n",
      "11 *  4 =  44\n",
      "11 *  5 =  55\n",
      "11 *  6 =  66\n",
      "11 *  7 =  77\n",
      "11 *  8 =  88\n",
      "11 *  9 =  99\n",
      "11 * 10 = 110\n",
      "11 * 11 = 121\n",
      "11 * 12 = 132\n",
      "\n",
      "Table de 12:\n",
      "12 *  1 =  12\n",
      "12 *  2 =  24\n",
      "12 *  3 =  36\n",
      "12 *  4 =  48\n",
      "12 *  5 =  60\n",
      "12 *  6 =  72\n",
      "12 *  7 =  84\n",
      "12 *  8 =  96\n",
      "12 *  9 = 108\n",
      "12 * 10 = 120\n",
      "12 * 11 = 132\n",
      "12 * 12 = 144\n"
     ]
    }
   ],
   "source": [
    "# Exercice 2.3\n",
    "# Affichez toutes les tables de multiplicationde 2 à 12.\n",
    "# Chaque table comprendra 12 lignes. Alignez joliment les nombres dans les tables.\n",
    "i = 1\n",
    "while i <= 12:\n",
    "    print('\\nTable de {}:'.format(i))\n",
    "    j = 1\n",
    "    while j <= 12:\n",
    "        print('{:2d} * {:2d} = {:3d}'.format(i, j, i*j))\n",
    "        j += 1\n",
    "    i += 1"
   ]
  },
  {
   "cell_type": "markdown",
   "id": "7372546f-7139-432f-bbe6-31d8d4b4c325",
   "metadata": {},
   "source": [
    "## Exercice 2.4"
   ]
  },
  {
   "cell_type": "code",
   "execution_count": 4,
   "id": "142ba39b-09a8-4ecd-a3cd-9f58b1be98fa",
   "metadata": {},
   "outputs": [
    {
     "name": "stdout",
     "output_type": "stream",
     "text": [
      "Quel est le plus grand nombre que je dois utiliser? [2 <= x <= 99] 10\n",
      "10 *  9 =  89\n",
      "10 *  9 =  88\n",
      "10 *  9 =  90\n",
      " 5 *  5 =  25\n",
      " 5 *  7 =  35\n",
      " 2 *  8 =  16\n",
      " 4 *  3 =  12\n"
     ]
    }
   ],
   "source": [
    "# Exercice 2.4\n",
    "# Test des connaissances sur les tables de multiplication\n",
    "\n",
    "# Écrivez un programme Python pour tester votre livret.\n",
    "# Le programme demandera d'abord quel est le plus grand nombre (Nmax) qu'il pourra utiliser.\n",
    "# Puis il proposera 10 questions de livret avec deux nombres tirés au sort \n",
    "# dans l'intervalle [2, Nmax].\n",
    "# En cas de réponse erronée, le programme reposera la même question,\n",
    "# tant que la bonne réponse n'aura pas été donnée.\n",
    "\n",
    "from random import randint\n",
    "\n",
    "n_max = int(input(\"Quel est le plus grand nombre que je dois utiliser? [2 <= x <= 99]\"))\n",
    "\n",
    "for _ in range(5):\n",
    "    a = randint(2, n_max)\n",
    "    b = randint(2, n_max)\n",
    "    resultat = 0\n",
    "    while resultat != a*b:\n",
    "        resultat = int(input('{:2d} * {:2d} = '.format(a, b)))"
   ]
  },
  {
   "cell_type": "markdown",
   "id": "a7b8adc6-1d0a-4b5d-8d35-e5dc023ee236",
   "metadata": {},
   "source": [
    "# Exercice 2.5"
   ]
  },
  {
   "cell_type": "code",
   "execution_count": 6,
   "id": "19c33f27-bc84-4965-8382-bd34307680b1",
   "metadata": {},
   "outputs": [
    {
     "name": "stdout",
     "output_type": "stream",
     "text": [
      "Quel est le plus grand nombre que je dois utiliser? [2 <= x <= 99] 20\n",
      " 4 * 13 =  52\n",
      "11 *  6 =  66\n",
      "15 *  4 =  60\n",
      "13 *  6 =  78\n",
      "17 * 16 =  272\n"
     ]
    },
    {
     "name": "stdout",
     "output_type": "stream",
     "text": [
      "Calculs faits en 47.77 secondes\n",
      "0 erreur"
     ]
    }
   ],
   "source": [
    "# Exercice 2.5\n",
    "# Améliorez le programme de l'exercice 2.4 : à la fin de la partie,\n",
    "# affichez le nombre d'erreurs (avec\n",
    "# la bonne orthographe) et le temps utilisé pour répondre aux dix questions.\n",
    "from time import time\n",
    "from random import randint\n",
    "\n",
    "heure_début = time()\n",
    "\n",
    "nb_de_questions = 5\n",
    "\n",
    "n_max = int(input(\"Quel est le plus grand nombre que je dois utiliser? [2 <= x <= 99]\"))\n",
    "erreurs = - nb_de_questions\n",
    "\n",
    "for _ in range(nb_de_questions):\n",
    "    a = randint(2, n_max)\n",
    "    b = randint(2, n_max)\n",
    "    resultat = 0\n",
    "\n",
    "    while resultat != a*b:\n",
    "        resultat = int(input('{:2d} * {:2d} = '.format(a, b)))\n",
    "        erreurs += 1\n",
    "\n",
    "heure_fin = time()\n",
    "\n",
    "print('Calculs faits en {:.2f} secondes'.format(heure_fin - heure_début))\n",
    "print('{} erreur'.format(erreurs), end='')\n",
    "if erreurs > 1:\n",
    "    print('s')"
   ]
  },
  {
   "cell_type": "markdown",
   "id": "a568e603-b8cf-409f-94ad-881ff6ff43a0",
   "metadata": {},
   "source": [
    "## Exercice 2.6 : calcul mental\n",
    "Améliorez le programme de l'exercice 2.5. Cette fois-ci, on ne veut pas se contenter d'exercer les multiplications, mais aussi l'addition, la soustraction et la division entière. L'opération à tester sera tirée au sort pour chaque question."
   ]
  },
  {
   "cell_type": "code",
   "execution_count": 7,
   "id": "4b047825-5151-4cd8-9801-30aa1b18b341",
   "metadata": {},
   "outputs": [
    {
     "name": "stdout",
     "output_type": "stream",
     "text": [
      "Quel est le plus grand nombre que je dois utiliser? [2 <= x <= 99] 20\n",
      "Nombre de questions souhaitées?  5\n",
      " 5 * 16 =  80\n",
      " 3 *  6 =  18\n",
      "20 //  2 =  10\n",
      " 6 *  7 =  42\n",
      " 9 *  6 =  54\n"
     ]
    },
    {
     "name": "stdout",
     "output_type": "stream",
     "text": [
      "Calculs faits en 41.86 secondes\n",
      "0 erreur"
     ]
    }
   ],
   "source": [
    "# Exercice 2.6 : calcul mental\n",
    "# Améliorez le programme de l'exercice 2.4 : à la fin de la partie,\n",
    "# affichez le nombre d'erreurs (avec\n",
    "# la bonne orthographe) et le temps utilisé pour répondre aux dix questions.\n",
    "from time import time\n",
    "from random import randint, choice\n",
    "\n",
    "heure_début = time()\n",
    "\n",
    "opérations = ['+', '-', '*', '//']\n",
    "\n",
    "n_max = int(input(\"Quel est le plus grand nombre que je dois utiliser? [2 <= x <= 99]\"))\n",
    "nb_de_questions = int(input(\"Nombre de questions souhaitées? \"))\n",
    "\n",
    "erreurs = - nb_de_questions\n",
    "\n",
    "for _ in range(nb_de_questions):\n",
    "    \n",
    "    opération = choice(opérations)\n",
    "    \n",
    "    a = randint(2, n_max)\n",
    "    b = randint(2, n_max)\n",
    "    resultat_proposé = None\n",
    "    \n",
    "    if opération == '+':\n",
    "        resultat_théorique = a + b\n",
    "    elif opération == '-':\n",
    "        resultat_théorique = a - b\n",
    "    elif opération == '*':\n",
    "        resultat_théorique = a * b\n",
    "    else:  # opération == '//'\n",
    "        resultat_théorique = a // b\n",
    "\n",
    "\n",
    "    while resultat_proposé != resultat_théorique:\n",
    "        resultat_proposé = int(input('{:2d} {} {:2d} = '.format(a, opération, b)))\n",
    "        erreurs += 1\n",
    "\n",
    "heure_fin = time()\n",
    "\n",
    "print('Calculs faits en {:.2f} secondes'.format(heure_fin - heure_début))\n",
    "print('{} erreur'.format(erreurs), end='')\n",
    "if erreurs > 1:\n",
    "    print('s')"
   ]
  },
  {
   "cell_type": "markdown",
   "id": "25cef1ef-d2e3-4f61-beba-97924230aab3",
   "metadata": {},
   "source": [
    "## Exercice 2.7\n",
    "Écrivez un programme qui simule 1000 lancers d'une pièce de monnaie. Vous afficherez seulement le nombre de piles et le nombre de faces obtenus.\n",
    "Écrivez une version avec une boucle for (voir chapitre 1) et une autre avec une boucle while."
   ]
  },
  {
   "cell_type": "code",
   "execution_count": 8,
   "id": "e79af142-aec5-4fa7-9224-9cb2fae7190d",
   "metadata": {},
   "outputs": [
    {
     "name": "stdout",
     "output_type": "stream",
     "text": [
      "Pile: 510 fois \t Face: 490 fois\n"
     ]
    }
   ],
   "source": [
    "# Exercice 2.7\n",
    "# version avec une boucle for\n",
    "from random import random\n",
    "pile = 0\n",
    "face = 0\n",
    "for _ in range(1000):\n",
    "    lancer = random()  # compris dans [0,1[\n",
    "    if lancer < .5:\n",
    "        pile += 1\n",
    "    else:\n",
    "        face += 1\n",
    "print('Pile: {} fois \\t Face: {} fois'.format(pile, face))"
   ]
  },
  {
   "cell_type": "code",
   "execution_count": 9,
   "id": "c07f7c44-117a-42d2-95fd-cc77d126cf10",
   "metadata": {},
   "outputs": [
    {
     "name": "stdout",
     "output_type": "stream",
     "text": [
      "Pile: 513 fois \t Face: 487 fois\n"
     ]
    }
   ],
   "source": [
    "# version avec une boucle while\n",
    "from random import random\n",
    "pile = 0\n",
    "face = 0\n",
    "nombre_de_lancers = 1\n",
    "while nombre_de_lancers <= 1000:\n",
    "    lancer = random()  # compris dans [0,1[\n",
    "    if lancer < .5:\n",
    "        pile += 1\n",
    "    else:\n",
    "        face += 1\n",
    "    nombre_de_lancers += 1\n",
    "print('Pile: {} fois \\t Face: {} fois'.format(pile, face))"
   ]
  },
  {
   "cell_type": "markdown",
   "id": "613436a8-50fe-455b-9a36-d1b31e8b0fd5",
   "metadata": {},
   "source": [
    "## Exercice 2.8\n",
    "Améliorez le programme de l'exercice 1.8.\n",
    "\n",
    "Générez n paquets de cartes Hearthstone valides.  \n",
    "Comptez le nombre total de cartes de chaque rareté afin de vérifier que les pourcentages obtenus\n",
    "sont « proches » des pourcentages théoriques (plus vous générerez de paquets, plus les pourcentages seront proches de la théorie).  \n",
    "Exemple de sortie avec 10 paquets (50 cartes) :\n",
    "```\n",
    "RCRCC\n",
    "CRCCC\n",
    "CRCCL !\n",
    "CRRCC\n",
    "CCCCC non valide\n",
    "CCCRC\n",
    "CCRRC\n",
    "RCCLC !\n",
    "CCCCC non valide\n",
    "CCCRC\n",
    "RCCCC\n",
    "ECECC\n",
    "   2 légendaire(s): 4.00 %\n",
    "   2 épique(s): 4.00 %\n",
    "   12 rare(s): 24.00 %\n",
    "   34 communes: 68.00 %\n",
    "  ```\n",
    "Vous ajouterez un point d'exclamation après les paquets contenant au moins une légendaire."
   ]
  },
  {
   "cell_type": "code",
   "execution_count": 10,
   "id": "da019eb1-385e-4098-bc02-a053746e0a89",
   "metadata": {},
   "outputs": [
    {
     "name": "stdout",
     "output_type": "stream",
     "text": [
      "Nombre de paquets de cartes Hearthstone valides à générer? 20\n"
     ]
    },
    {
     "name": "stdout",
     "output_type": "stream",
     "text": [
      "CCCRC\n",
      "CRCCR\n",
      "CCCCR\n",
      "CCRCR\n",
      "CCCCC non valide.\n",
      "CCRCR\n",
      "CCCCC non valide.\n",
      "RCCCC\n",
      "RCCCC\n",
      "CCRCC\n",
      "CCCCR\n",
      "CCCCR\n",
      "RCCCC\n",
      "CCCCC non valide.\n",
      "RCCCE\n",
      "CRRCC\n",
      "CCCCE\n",
      "ECECC\n",
      "CRCCC\n",
      "RCCEC\n",
      "CRRCR\n",
      "CCRCR\n",
      "CCRRC\n",
      "0 légendaire(s): 0 %\n",
      "5 épique(s): 4 %\n",
      "26 rare(s): 23 %\n",
      "84 communes(s): 73 %\n",
      "Distribution théorique:\n",
      "1 % de cartes légendaires, 4 % d'épiques, 23 % de rares et 72 % de communes\n"
     ]
    }
   ],
   "source": [
    "# Exercice 2.8\n",
    "# Générez n paquets de cartes Hearthstone valides.\n",
    "from random import random\n",
    "\n",
    "n = int(input('Nombre de paquets de cartes Hearthstone valides à générer?'))\n",
    "\n",
    "n_valides = 0  # Nombre de paquets valides générés jusqu'à maintenant\n",
    "\n",
    "# Décompte du nombre total de cartes tirées par type\n",
    "L = 0  # légendaire\n",
    "E = 0  # épique\n",
    "R = 0  # rare\n",
    "C = 0  # communes\n",
    "\n",
    "while n_valides < n:\n",
    "\n",
    "    paquet = ''\n",
    "    \n",
    "    # Décompte du nombre de cartes tirées par type pour le paquet en cours\n",
    "    L_paquet = 0  # légendaire\n",
    "    E_paquet = 0  # épique\n",
    "    R_paquet = 0  # rare\n",
    "    C_paquet = 0  # communes\n",
    "\n",
    "    for i in range(5):\n",
    "        carte = random()\n",
    "        if carte < 0.01:  # légendaire\n",
    "            paquet = paquet + 'L'\n",
    "            L_paquet += 1\n",
    "        elif carte < 0.05:  # épique\n",
    "            paquet = paquet + 'E'\n",
    "            E_paquet += 1\n",
    "        elif carte < 0.28:  # rare\n",
    "            paquet = paquet + 'R'\n",
    "            R_paquet += 1\n",
    "        else:  # communes\n",
    "            paquet = paquet + 'C'\n",
    "            C_paquet += 1\n",
    "\n",
    "    if paquet == 'CCCCC':\n",
    "        print('CCCCC non valide.')\n",
    "    elif 'L' in paquet :\n",
    "        print('{} !'.format(paquet))\n",
    "        n_valides += 1\n",
    "    else:\n",
    "        print(paquet)\n",
    "        n_valides += 1\n",
    "\n",
    "    L = L + L_paquet\n",
    "    E = E + E_paquet\n",
    "    R = R + R_paquet\n",
    "    C = C + C_paquet  \n",
    "\n",
    "# Affichage des statistiques\n",
    "n_cartes = L + E + R + C\n",
    "print('{} légendaire(s): {:.0f} %'.format(L, 100 * L/n_cartes))\n",
    "print('{} épique(s): {:.0f} %'.format(E, 100 * E/n_cartes))\n",
    "print('{} rare(s): {:.0f} %'.format(R, 100 * R/n_cartes))\n",
    "print('{} communes(s): {:.0f} %'.format(C, 100 * C/n_cartes))\n",
    "\n",
    "print('Distribution théorique:')\n",
    "print('1 % de cartes légendaires, 4 % d\\'épiques, 23 % de rares et 72 % de communes')\n",
    "\n",
    "# La méthode de comptage proposée dans l'énoncé perturbe la distribution statistique\n",
    "# Ajouté aux statistiques que si le paquet est valide\n",
    "# Pour être plus proche il faut compter tous les tirages"
   ]
  },
  {
   "cell_type": "markdown",
   "id": "994db2d5-cc7f-4b40-b5b4-636d6680066b",
   "metadata": {},
   "source": [
    "## Exercice 2.9\n",
    "Modifiez le code du § 2.3\n",
    "\n",
    "1. Avant de commencer le jeu, le programme demandera le prénom du joueur. Quand René\n",
    "trouvera le bon nombre, le programme le félicitera par la phrase :\n",
    "Bravo, René ! Vous avez trouvé 16 en 4 essai(s).\n",
    "2. À la fin de la partie, le programme proposera une nouvelle partie au joueur, qui répondra par\n",
    "oui ou non. Quand le joueur arrêtera de jouer, le programme indiquera le pourcentage de réussite et le nombre moyen de tentatives pour trouver le nombre (on ne comptabilisera le nombre de coups qu'en cas de réussite)."
   ]
  },
  {
   "cell_type": "code",
   "execution_count": 11,
   "id": "f3c854ac-360f-4268-a8f2-ae9afaa5388c",
   "metadata": {},
   "outputs": [
    {
     "name": "stdout",
     "output_type": "stream",
     "text": [
      "Quel est votre prénom? Pierre\n"
     ]
    },
    {
     "name": "stdout",
     "output_type": "stream",
     "text": [
      "J'ai choisi un nombre entre 1 et 10\n",
      "A vous de le deviner en 5 tentatives au maximum !\n",
      "Essai no  1\n"
     ]
    },
    {
     "name": "stdout",
     "output_type": "stream",
     "text": [
      "Votre proposition :  5\n"
     ]
    },
    {
     "name": "stdout",
     "output_type": "stream",
     "text": [
      "Trop grand\n",
      "Essai no  2\n"
     ]
    },
    {
     "name": "stdout",
     "output_type": "stream",
     "text": [
      "Votre proposition :  3\n"
     ]
    },
    {
     "name": "stdout",
     "output_type": "stream",
     "text": [
      "Trop grand\n",
      "Essai no  3\n"
     ]
    },
    {
     "name": "stdout",
     "output_type": "stream",
     "text": [
      "Votre proposition :  2\n"
     ]
    },
    {
     "name": "stdout",
     "output_type": "stream",
     "text": [
      "Trop grand\n",
      "Essai no  4\n"
     ]
    },
    {
     "name": "stdout",
     "output_type": "stream",
     "text": [
      "Votre proposition :  1\n"
     ]
    },
    {
     "name": "stdout",
     "output_type": "stream",
     "text": [
      "Bravo Pierre! Vous avez trouvé 1 en 4 essai(s)\n"
     ]
    },
    {
     "name": "stdout",
     "output_type": "stream",
     "text": [
      "Nouvelle partie? [oui/non] \n"
     ]
    },
    {
     "name": "stdout",
     "output_type": "stream",
     "text": [
      "---\n",
      "Réussite : 100%\n",
      "Nombre moyen de tentatives pour trouver le nombre : 4.0\n"
     ]
    }
   ],
   "source": [
    "# Exercice 2.9\n",
    "# Devine mon nombre\n",
    "from random import randint\n",
    "\n",
    "prénom = input('Quel est votre prénom?')\n",
    "jouer = 'oui'\n",
    "\n",
    "n_parties = 0\n",
    "n_reussites = 0\n",
    "n_tentatives = 0\n",
    "\n",
    "while jouer == 'oui':\n",
    "\n",
    "    nbr_essais_max = 5\n",
    "    nbr_essais = 1\n",
    "    borne_sup = 10\n",
    "    mon_nombre = randint(1,borne_sup)\n",
    "    ton_nombre = 0\n",
    "    \n",
    "    n_parties += 1\n",
    "    \n",
    "    # nombre choisi par l'ordinateur\n",
    "    # nombre proposé par le joueur\n",
    "    print(\"J'ai choisi un nombre entre 1 et\",borne_sup)\n",
    "    print(\"A vous de le deviner en\",nbr_essais_max,\"tentatives au maximum !\")\n",
    "\n",
    "    while ton_nombre != mon_nombre and nbr_essais <= nbr_essais_max:\n",
    "        print(\"Essai no \",nbr_essais)\n",
    "        ton_nombre = int(input(\"Votre proposition : \"))\n",
    "        \n",
    "        if ton_nombre < mon_nombre:\n",
    "            print(\"Trop petit\")\n",
    "        elif ton_nombre > mon_nombre:\n",
    "            print(\"Trop grand\")\n",
    "        else:\n",
    "            print(\"Bravo {}! Vous avez trouvé {} en {} essai(s)\".format(prénom, mon_nombre,nbr_essais))\n",
    "            n_reussites += 1\n",
    "            n_tentatives = n_tentatives + nbr_essais\n",
    "        \n",
    "        nbr_essais += 1\n",
    "    if nbr_essais>nbr_essais_max and ton_nombre != mon_nombre :\n",
    "        print(\"Désolé, vous avez utilisé vos\",nbr_essais_max,\"essais en vain.\")\n",
    "        print(\"J'avais choisi le nombre\",mon_nombre,\".\")\n",
    "        \n",
    "    jouer = input('Nouvelle partie? [oui/non]')\n",
    "\n",
    "print('---')\n",
    "print('Réussite : {:.0f}%'.format(n_reussites/n_parties*100))\n",
    "print('Nombre moyen de tentatives pour trouver le nombre : {:.1f}'.format(n_tentatives/n_parties))"
   ]
  },
  {
   "cell_type": "markdown",
   "id": "880657fc-17a2-452a-914d-e54062a6c723",
   "metadata": {
    "tags": []
   },
   "source": [
    "## Exercice 2.10\n",
    "Inversons les rôles ! C'est l'ordinateur qui essaiera de deviner le nombre que vous avez en tête et vous lui indiquerez si le nombre qu'il proposera est trop petit ou trop grand.\n",
    "\n",
    "Convention : entrez 1 si le nombre de l'ordinateur est trop grand, 2 s'il est trop petit et 0 si l'ordinateur a trouvé le bon nombre.\n",
    "\n",
    "Prévoyez les cas où l'utilisateur écrit autre chose qu'une des trois réponses attendues."
   ]
  },
  {
   "cell_type": "code",
   "execution_count": 12,
   "id": "fb27bdb6-99c7-47b1-a80a-3c65b0354d56",
   "metadata": {},
   "outputs": [
    {
     "name": "stdout",
     "output_type": "stream",
     "text": [
      "Pensez à un nombre entre 1 et 20\n",
      "Je vais essayer de le deviner en le moins de coups possibles\n",
      "Je propose 10\n"
     ]
    },
    {
     "name": "stdout",
     "output_type": "stream",
     "text": [
      "1: trop grand,  2: trop petit,  0: trouvé ? [0/1/2] 2\n"
     ]
    },
    {
     "name": "stdout",
     "output_type": "stream",
     "text": [
      "Je propose 15\n"
     ]
    },
    {
     "name": "stdout",
     "output_type": "stream",
     "text": [
      "1: trop grand,  2: trop petit,  0: trouvé ? [0/1/2] 0\n"
     ]
    },
    {
     "name": "stdout",
     "output_type": "stream",
     "text": [
      "Trouvé en 2 coups\n"
     ]
    }
   ],
   "source": [
    "# Exercice 2.10\n",
    "# Inversons les rôles !\n",
    "# C'est l'ordinateur qui essaiera de deviner le nombre que vous avez en tête\n",
    "# et vous lui indiquerez si le nombre qu'il proposera est trop petit ou trop grand.\n",
    "from random import randint\n",
    "\n",
    "print('Pensez à un nombre entre 1 et 20')\n",
    "print('Je vais essayer de le deviner en le moins de coups possibles')\n",
    "\n",
    "indication = -1  # Indication du joueur\n",
    "n_min = 1\n",
    "n_max = 20\n",
    "n_coups = 0\n",
    "\n",
    "while indication != 0:\n",
    "    \n",
    "    # Solution basique: aléatoire\n",
    "    #proposition = randint(n_min,n_max)  # Proposition de l'ordinateur\n",
    "    # Solution optimisée: dichotomie\n",
    "    proposition = (n_min+n_max)//2  # Proposition de l'ordinateur    \n",
    "\n",
    "    n_coups += 1\n",
    "    print('Je propose {}'.format(proposition))\n",
    "    \n",
    "    while True:\n",
    "        try:\n",
    "            indication = int(input(\"1: trop grand,  2: trop petit,  0: trouvé ? [0/1/2]\"))\n",
    "            if indication == 0 or indication == 1 or indication == 2:\n",
    "                break\n",
    "            else:\n",
    "                raise ValueError\n",
    "        except ValueError:\n",
    "            print(\"Réponse non valide. Réessayez !\")\n",
    "    if indication == 1:\n",
    "        n_max = proposition-1\n",
    "    if indication == 2:\n",
    "        n_min = proposition+1\n",
    "\n",
    "print('Trouvé en {} coups'.format(n_coups))"
   ]
  },
  {
   "cell_type": "markdown",
   "id": "d3b84a1b-1ace-4bd8-896f-af335034cc5f",
   "metadata": {},
   "source": [
    "## Exercice 2.11 : Risk"
   ]
  },
  {
   "cell_type": "code",
   "execution_count": 1,
   "id": "9cd3e76a-b102-4631-b6ea-20eeb990d3f6",
   "metadata": {},
   "outputs": [
    {
     "name": "stdout",
     "output_type": "stream",
     "text": [
      "Assaillant 4 3 2\n",
      "Dés sélectionnés pour l'assaillant 4 3\n",
      "Défenseur 2 6\n",
      "Dés sélectionnés pour le défenseur 6 2\n"
     ]
    }
   ],
   "source": [
    "# Nombre de dés lancés par l'assaillant : 3\n",
    "# Nombre de dés lancés par le défenseur : 2\n",
    "\n",
    "from random import randint\n",
    "\n",
    "a1 = randint(1, 6)\n",
    "a2 = randint(1, 6)\n",
    "a3 = randint(1, 6)\n",
    "\n",
    "d1 = randint(1, 6)\n",
    "d2 = randint(1, 6)\n",
    "\n",
    "print('Assaillant', a1, a2, a3)\n",
    "\n",
    "# Ordre des dés de l'assaillant\n",
    "if a1 >= a2 and a1 >= a3:\n",
    "    a_premier = a1\n",
    "    if a2 >= a3:\n",
    "        a_second = a2\n",
    "    else:\n",
    "        a_second = a3\n",
    "        \n",
    "if a2 >= a1 and a2 >= a3:\n",
    "    a_premier = a2\n",
    "    if a1 >= a3:\n",
    "        a_second = a1\n",
    "    else:\n",
    "        a_second = a3\n",
    "        \n",
    "if a3 >= a1 and a3 >= a2:\n",
    "    a_premier = a3\n",
    "    if a1 >= a2:\n",
    "        a_second = a1\n",
    "    else:\n",
    "        a_second = a2\n",
    "        \n",
    "print('Dés sélectionnés pour l\\'assaillant', a_premier, a_second)\n",
    "\n",
    "print('Défenseur', d1, d2)\n",
    "\n",
    "# Ordre des dés du défenseur\n",
    "if d1 >= d2:\n",
    "    d_premier = d1\n",
    "    d_second = d2\n",
    "else:\n",
    "    d_premier = d2\n",
    "    d_second = d1\n",
    "        \n",
    "print('Dés sélectionnés pour le défenseur', d_premier, d_second)"
   ]
  },
  {
   "cell_type": "code",
   "execution_count": 1,
   "id": "6a0e01b7-9585-4d60-b718-dda445a36fc5",
   "metadata": {},
   "outputs": [
    {
     "name": "stdout",
     "output_type": "stream",
     "text": [
      "Nombre de dés lancés par l'assaillant : 3\n",
      "Nombre de dés lancés par le défenseur : 2\n",
      "L'assaillant perd 2 armées : 29.27%\n",
      "Le défenseur perd 2 armées : 37.10%\n",
      "Chaque joueur perd 1 armée : 33.63%\n"
     ]
    }
   ],
   "source": [
    "# Exercice 2.11 : Risk\n",
    "# Nombre de dés lancés par l'assaillant : 3\n",
    "# Nombre de dés lancés par le défenseur : 2\n",
    "from random import randint\n",
    "\n",
    "n_test = 100000\n",
    "a_perd_2_armées = 0\n",
    "d_perd_2_armées = 0\n",
    "a_et_d_1 = 0\n",
    "\n",
    "for _ in range(n_test):\n",
    "    pertes_a = 0\n",
    "    pertes_d = 0\n",
    "    \n",
    "    # Nombre de dés lancés par l'assaillant : 3\n",
    "    # Nombre de dés lancés par le défenseur : 2\n",
    "    a1 = randint(1, 6)\n",
    "    a2 = randint(1, 6)\n",
    "    a3 = randint(1, 6)\n",
    "\n",
    "    d1 = randint(1, 6)\n",
    "    d2 = randint(1, 6)\n",
    "\n",
    "    # Ordre des dés de l'assaillant\n",
    "    if a1 >= a2 and a1 >= a3:\n",
    "        a_premier = a1\n",
    "        if a2 >= a3:\n",
    "            a_second = a2\n",
    "        else:\n",
    "            a_second = a3\n",
    "\n",
    "    if a2 >= a1 and a2 >= a3:\n",
    "        a_premier = a2\n",
    "        if a1 >= a3:\n",
    "            a_second = a1\n",
    "        else:\n",
    "            a_second = a3\n",
    "\n",
    "    if a3 >= a1 and a3 >= a2:\n",
    "        a_premier = a3\n",
    "        if a1 >= a2:\n",
    "            a_second = a1\n",
    "        else:\n",
    "            a_second = a2\n",
    "\n",
    "    # Ordre des dés du défenseur\n",
    "    if d1 >= d2:\n",
    "        d_premier = d1\n",
    "        d_second = d2\n",
    "    else:\n",
    "        d_premier = d2\n",
    "        d_second = d1\n",
    "\n",
    "    # Comparaison du dé de plus haute valeur\n",
    "    if a_premier > d_premier:\n",
    "        pertes_d += 1\n",
    "    else:\n",
    "        pertes_a += 1\n",
    "\n",
    "    # Comparaison du second dé de plus haute valeur\n",
    "    if a_second > d_second:\n",
    "        pertes_d += 1\n",
    "    else:\n",
    "        pertes_a += 1\n",
    "\n",
    "    # Incrémentation de décomptes pour les statistiques\n",
    "    if pertes_a == 2 :\n",
    "        a_perd_2_armées += 1\n",
    "    \n",
    "    if pertes_d == 2 :\n",
    "        d_perd_2_armées += 1\n",
    "        \n",
    "    if pertes_a == 1 and pertes_d == 1:\n",
    "        a_et_d_1 += 1\n",
    "  \n",
    "# Affichage des statistiques estimée par Monte-Carlo\n",
    "\n",
    "print('Nombre de dés lancés par l\\'assaillant : 3')\n",
    "print('Nombre de dés lancés par le défenseur : 2')\n",
    "print('L\\'assaillant perd 2 armées : {:.2f}%'.format(a_perd_2_armées / n_test * 100))\n",
    "print('Le défenseur perd 2 armées : {:.2f}%'.format(d_perd_2_armées / n_test * 100))\n",
    "print('Chaque joueur perd 1 armée : {:.2f}%'.format(a_et_d_1 / n_test * 100))\n"
   ]
  },
  {
   "cell_type": "markdown",
   "id": "a0c70b1c-7f03-4762-a1b3-92d632909132",
   "metadata": {},
   "source": [
    "--- Bonus ---  \n",
    "Une solution plus avancée"
   ]
  },
  {
   "cell_type": "code",
   "execution_count": 15,
   "id": "75260211-2cb4-4afd-905b-ef7e05aa5c9f",
   "metadata": {},
   "outputs": [
    {
     "data": {
      "text/plain": [
       "[3, 2, 1]"
      ]
     },
     "execution_count": 15,
     "metadata": {},
     "output_type": "execute_result"
    }
   ],
   "source": [
    "list(range(3,0, -1))"
   ]
  },
  {
   "cell_type": "code",
   "execution_count": 3,
   "id": "355ca7fa-66d6-40aa-8daf-bb31c6229ae9",
   "metadata": {},
   "outputs": [
    {
     "name": "stdout",
     "output_type": "stream",
     "text": [
      "--------------------------------------------------------------------------------\n",
      "Nombre de dés lancés par l'assaillant : 3\n",
      "Nombre de dés lancés par le défenseur : 2\n",
      "L'assaillant perd 2 armées : 29.28%\n",
      "Le défenseur perd 2 armées : 37.19%\n",
      "Chaque joueur perd 1 armée : 33.53%\n",
      "L'assaillant seul perd 1 armée : 0.00%\n",
      "Le défenseur seul perd 1 armée : 0.00%\n",
      "--------------------------------------------------------------------------------\n",
      "Nombre de dés lancés par l'assaillant : 3\n",
      "Nombre de dés lancés par le défenseur : 1\n",
      "L'assaillant perd 2 armées : 0.00%\n",
      "Le défenseur perd 2 armées : 0.00%\n",
      "Chaque joueur perd 1 armée : 0.00%\n",
      "L'assaillant seul perd 1 armée : 33.86%\n",
      "Le défenseur seul perd 1 armée : 66.14%\n",
      "--------------------------------------------------------------------------------\n",
      "Nombre de dés lancés par l'assaillant : 2\n",
      "Nombre de dés lancés par le défenseur : 2\n",
      "L'assaillant perd 2 armées : 44.85%\n",
      "Le défenseur perd 2 armées : 22.65%\n",
      "Chaque joueur perd 1 armée : 32.50%\n",
      "L'assaillant seul perd 1 armée : 0.00%\n",
      "Le défenseur seul perd 1 armée : 0.00%\n",
      "--------------------------------------------------------------------------------\n",
      "Nombre de dés lancés par l'assaillant : 2\n",
      "Nombre de dés lancés par le défenseur : 1\n",
      "L'assaillant perd 2 armées : 0.00%\n",
      "Le défenseur perd 2 armées : 0.00%\n",
      "Chaque joueur perd 1 armée : 0.00%\n",
      "L'assaillant seul perd 1 armée : 42.04%\n",
      "Le défenseur seul perd 1 armée : 57.96%\n",
      "--------------------------------------------------------------------------------\n",
      "Nombre de dés lancés par l'assaillant : 1\n",
      "Nombre de dés lancés par le défenseur : 2\n",
      "L'assaillant perd 2 armées : 0.00%\n",
      "Le défenseur perd 2 armées : 0.00%\n",
      "Chaque joueur perd 1 armée : 0.00%\n",
      "L'assaillant seul perd 1 armée : 74.64%\n",
      "Le défenseur seul perd 1 armée : 25.36%\n",
      "--------------------------------------------------------------------------------\n",
      "Nombre de dés lancés par l'assaillant : 1\n",
      "Nombre de dés lancés par le défenseur : 1\n",
      "L'assaillant perd 2 armées : 0.00%\n",
      "Le défenseur perd 2 armées : 0.00%\n",
      "Chaque joueur perd 1 armée : 0.00%\n",
      "L'assaillant seul perd 1 armée : 58.27%\n",
      "Le défenseur seul perd 1 armée : 41.73%\n"
     ]
    }
   ],
   "source": [
    "n_test = 100000\n",
    "\n",
    "for nb_dés_a in range(3,0, -1):\n",
    "    for nb_dés_d in range(2,0, -1):\n",
    "\n",
    "        a_perd_2_armées = 0\n",
    "        d_perd_2_armées = 0\n",
    "        a_et_d_1 = 0\n",
    "        a_perd_1_armée = 0\n",
    "        d_perd_1_armée = 0\n",
    "        \n",
    "        for _ in range(n_test):\n",
    "\n",
    "            dés_a = [randint(1,6) for _ in range(nb_dés_a)]\n",
    "            dés_d = [randint(1,6) for _ in range(nb_dés_d)]\n",
    "            dés_a.sort(reverse=True)\n",
    "            dés_d.sort(reverse=True)\n",
    "\n",
    "            #print(dés_a)\n",
    "            #print(dés_d)\n",
    "        \n",
    "            # pertes\n",
    "            d = 0\n",
    "            a = 0\n",
    "            \n",
    "            # Comparaison des valeurs\n",
    "            for i in range (min(len(dés_a), len(dés_d))):\n",
    "                if dés_a[i] > dés_d[i]:\n",
    "                    d += 1\n",
    "                else:\n",
    "                    a += 1\n",
    "\n",
    "\n",
    "            # Alimentation des statistiques\n",
    "            if min(len(dés_a), len(dés_d)) == 2:\n",
    "                if a == 2:\n",
    "                    a_perd_2_armées += 1\n",
    "                elif d == 2:\n",
    "                    d_perd_2_armées += 1\n",
    "                else:  # a==1 and d ==1\n",
    "                    a_et_d_1 += 1\n",
    "            else:  # min de dés = 1\n",
    "                if a == 1:\n",
    "                    a_perd_1_armée += 1\n",
    "                else:  # d == 1:\n",
    "                    d_perd_1_armée += 1\n",
    "\n",
    "        # Affichage des statistiques estimée par Monte-Carlo\n",
    "        print('-'*80)\n",
    "        print('Nombre de dés lancés par l\\'assaillant : {}'.format(nb_dés_a))\n",
    "        print('Nombre de dés lancés par le défenseur : {}'.format(nb_dés_d))\n",
    "        print('L\\'assaillant perd 2 armées : {:.2f}%'.format(a_perd_2_armées / n_test * 100))\n",
    "        print('Le défenseur perd 2 armées : {:.2f}%'.format(d_perd_2_armées / n_test * 100))\n",
    "        print('Chaque joueur perd 1 armée : {:.2f}%'.format(a_et_d_1 / n_test * 100))\n",
    "        print('L\\'assaillant seul perd 1 armée : {:.2f}%'.format(a_perd_1_armée / n_test * 100))\n",
    "        print('Le défenseur seul perd 1 armée : {:.2f}%'.format(d_perd_1_armée / n_test * 100))"
   ]
  },
  {
   "cell_type": "code",
   "execution_count": 9,
   "id": "6d16915d-63d8-49bc-aa61-c3d0f94c6229",
   "metadata": {},
   "outputs": [
    {
     "name": "stdout",
     "output_type": "stream",
     "text": [
      "a :  [6, 3, 2]  / d :  [5, 1] D\n",
      "a :  [4, 2, 1]  / d :  [2, 1] D\n",
      "a :  [6, 6, 2]  / d :  [4, 1] D\n",
      "a :  [3, 2, 2]  / d :  [5, 1] _\n",
      "a :  [3, 3, 3]  / d :  [5, 2] _\n",
      "a :  [6, 6, 1]  / d :  [4, 3] D\n",
      "a :  [4, 3, 3]  / d :  [6, 1] _\n",
      "a :  [3, 3, 2]  / d :  [2, 2] D\n",
      "a :  [4, 3, 2]  / d :  [5, 2] _\n",
      "a :  [6, 6, 5]  / d :  [6, 3] _\n",
      "a :  [6, 2, 2]  / d :  [5, 3] _\n",
      "a :  [4, 4, 3]  / d :  [6, 5] A\n",
      "a :  [3, 3, 2]  / d :  [6, 1] _\n",
      "a :  [6, 3, 2]  / d :  [3, 3] _\n",
      "a :  [6, 4, 2]  / d :  [6, 5] A\n",
      "a :  [6, 5, 3]  / d :  [6, 2] _\n",
      "a :  [5, 4, 3]  / d :  [5, 3] _\n",
      "a :  [6, 1, 1]  / d :  [5, 4] _\n",
      "a :  [5, 1, 1]  / d :  [6, 5] A\n",
      "a :  [4, 2, 1]  / d :  [2, 1] D\n",
      "a :  [6, 5, 3]  / d :  [2, 1] D\n",
      "a :  [3, 2, 2]  / d :  [6, 1] _\n",
      "a :  [3, 1, 1]  / d :  [6, 3] A\n",
      "a :  [4, 2, 2]  / d :  [4, 2] A\n",
      "a :  [6, 4, 1]  / d :  [5, 5] _\n",
      "a :  [3, 3, 1]  / d :  [6, 5] A\n",
      "a :  [4, 3, 2]  / d :  [6, 1] _\n",
      "a :  [2, 1, 1]  / d :  [4, 3] A\n",
      "a :  [6, 3, 1]  / d :  [4, 1] D\n",
      "a :  [2, 2, 1]  / d :  [6, 4] A\n",
      "a :  [5, 3, 2]  / d :  [4, 2] D\n",
      "a :  [4, 4, 1]  / d :  [4, 2] _\n",
      "a :  [6, 4, 3]  / d :  [6, 1] _\n",
      "a :  [6, 5, 1]  / d :  [6, 4] _\n",
      "a :  [6, 3, 3]  / d :  [5, 1] D\n",
      "a :  [1, 1, 1]  / d :  [4, 2] A\n",
      "a :  [6, 3, 1]  / d :  [6, 5] A\n",
      "a :  [6, 2, 1]  / d :  [4, 1] D\n",
      "a :  [6, 6, 4]  / d :  [6, 3] _\n",
      "a :  [5, 5, 1]  / d :  [5, 2] _\n",
      "a :  [3, 2, 2]  / d :  [6, 4] A\n",
      "a :  [2, 1, 1]  / d :  [5, 1] A\n",
      "a :  [6, 3, 2]  / d :  [6, 4] A\n",
      "a :  [6, 5, 2]  / d :  [5, 2] D\n",
      "a :  [6, 2, 1]  / d :  [5, 5] _\n",
      "a :  [6, 3, 1]  / d :  [5, 3] _\n",
      "a :  [6, 5, 4]  / d :  [6, 3] _\n",
      "a :  [6, 3, 2]  / d :  [3, 1] D\n",
      "a :  [6, 3, 2]  / d :  [2, 1] D\n",
      "a :  [6, 4, 1]  / d :  [5, 3] D\n",
      "a :  [3, 2, 1]  / d :  [6, 4] A\n",
      "a :  [6, 5, 4]  / d :  [6, 1] _\n",
      "a :  [4, 3, 1]  / d :  [5, 2] _\n",
      "a :  [5, 3, 2]  / d :  [6, 5] A\n",
      "a :  [6, 6, 4]  / d :  [5, 1] D\n",
      "a :  [6, 5, 4]  / d :  [4, 1] D\n",
      "a :  [5, 4, 1]  / d :  [5, 5] A\n",
      "a :  [6, 5, 4]  / d :  [5, 3] D\n",
      "a :  [4, 4, 3]  / d :  [4, 3] _\n",
      "a :  [6, 5, 1]  / d :  [6, 6] A\n",
      "a :  [5, 1, 1]  / d :  [5, 1] A\n",
      "a :  [5, 2, 2]  / d :  [6, 1] _\n",
      "a :  [6, 4, 1]  / d :  [6, 5] A\n",
      "a :  [3, 3, 2]  / d :  [4, 1] _\n",
      "a :  [6, 6, 6]  / d :  [3, 2] D\n",
      "a :  [6, 5, 4]  / d :  [5, 5] _\n",
      "a :  [6, 5, 3]  / d :  [5, 5] _\n",
      "a :  [6, 4, 4]  / d :  [3, 2] D\n",
      "a :  [6, 5, 5]  / d :  [3, 1] D\n",
      "a :  [5, 3, 2]  / d :  [5, 2] _\n",
      "a :  [2, 1, 1]  / d :  [3, 2] A\n",
      "a :  [5, 4, 4]  / d :  [4, 3] D\n",
      "a :  [2, 2, 2]  / d :  [5, 3] A\n",
      "a :  [4, 1, 1]  / d :  [5, 1] A\n",
      "a :  [4, 4, 1]  / d :  [4, 1] _\n",
      "a :  [6, 6, 5]  / d :  [4, 4] D\n",
      "a :  [3, 1, 1]  / d :  [5, 1] A\n",
      "a :  [6, 5, 1]  / d :  [3, 1] D\n",
      "a :  [5, 4, 1]  / d :  [4, 2] D\n",
      "a :  [3, 3, 3]  / d :  [5, 4] A\n",
      "a :  [6, 3, 3]  / d :  [2, 1] D\n",
      "a :  [6, 4, 3]  / d :  [6, 1] _\n",
      "a :  [6, 3, 1]  / d :  [5, 2] D\n",
      "a :  [5, 3, 2]  / d :  [1, 1] D\n",
      "a :  [6, 5, 2]  / d :  [6, 2] _\n",
      "a :  [6, 2, 1]  / d :  [6, 3] A\n",
      "a :  [5, 3, 1]  / d :  [6, 5] A\n",
      "a :  [6, 6, 1]  / d :  [2, 1] D\n",
      "a :  [6, 1, 1]  / d :  [5, 5] _\n",
      "a :  [6, 4, 3]  / d :  [6, 4] A\n",
      "a :  [6, 6, 1]  / d :  [4, 2] D\n",
      "a :  [4, 1, 1]  / d :  [1, 1] _\n",
      "a :  [6, 4, 1]  / d :  [5, 3] D\n",
      "a :  [5, 3, 1]  / d :  [4, 1] D\n",
      "a :  [5, 3, 1]  / d :  [2, 1] D\n",
      "a :  [4, 4, 2]  / d :  [3, 3] D\n",
      "a :  [6, 4, 4]  / d :  [5, 5] _\n",
      "a :  [3, 3, 2]  / d :  [2, 2] D\n",
      "a :  [6, 5, 2]  / d :  [6, 2] _\n",
      "a :  [6, 5, 2]  / d :  [6, 2] _\n",
      "--------------------------------------------------------------------------------\n",
      "Nombre de dés lancés par l'assaillant : 1\n",
      "Nombre de dés lancés par le défenseur : 1\n",
      "L'assaillant perd 2 armées : 27.00%\n",
      "Le défenseur perd 2 armées : 35.00%\n",
      "Chaque joueur perd 1 armée : 38.00%\n",
      "27\n"
     ]
    }
   ],
   "source": [
    "# Exercice 2.11 : Risk\n",
    "# Nombre de dés lancés par l'assaillant : 3\n",
    "# Nombre de dés lancés par le défenseur : 2\n",
    "from random import randint\n",
    "\n",
    "n_test = 100000\n",
    "a_perd_2_armées = 0\n",
    "d_perd_2_armées = 0\n",
    "a_et_d_1 = 0\n",
    "test = ''\n",
    "\n",
    "for _ in range(n_test):\n",
    "    pertes_a = 0\n",
    "    pertes_d = 0\n",
    "\n",
    "    dés_a = [randint(1,6) for _ in range(3)]\n",
    "    dés_d = [randint(1,6) for _ in range(2)]\n",
    "    dés_a.sort(reverse=True)\n",
    "    dés_d.sort(reverse=True)\n",
    "\n",
    "    #print('a : ', dés_a, ' / d : ', dés_d)\n",
    "    #print(dés_d)\n",
    "\n",
    "    # pertes\n",
    "    d = 0\n",
    "    a = 0\n",
    "\n",
    "    # Comparaison des valeurs\n",
    "    for i in range (2):\n",
    "        if dés_a[i] > dés_d[i]:\n",
    "            d += 1\n",
    "        else:\n",
    "            a += 1\n",
    "\n",
    "\n",
    "    # Alimentation des statistiques\n",
    "    texte = ''\n",
    "    if min(len(dés_a), len(dés_d)) == 2:\n",
    "        if a == 2:\n",
    "            a_perd_2_armées += 1\n",
    "            texte = 'A'\n",
    "            test += texte\n",
    "        elif d == 2:\n",
    "            d_perd_2_armées += 1\n",
    "            texte = 'D'\n",
    "            test += texte\n",
    "\n",
    "        else:  # a==1 and d ==1\n",
    "            a_et_d_1 += 1\n",
    "            texte = '_'\n",
    "            test += texte\n",
    "\n",
    "    else:  # min de dés = 1\n",
    "        if a == 1:\n",
    "            a_perd_1_armée += 1\n",
    "        else:  # d == 1:\n",
    "            d_perd_1_armée += 1\n",
    "\n",
    "    print('a : ', dés_a, ' / d : ', dés_d, texte)\n",
    "    \n",
    "# Affichage des statistiques estimée par Monte-Carlo\n",
    "print('-'*80)\n",
    "print('Nombre de dés lancés par l\\'assaillant : {}'.format(nb_dés_a))\n",
    "print('Nombre de dés lancés par le défenseur : {}'.format(nb_dés_d))\n",
    "print('L\\'assaillant perd 2 armées : {:.2f}%'.format(a_perd_2_armées / n_test * 100))\n",
    "print('Le défenseur perd 2 armées : {:.2f}%'.format(d_perd_2_armées / n_test * 100))\n",
    "print('Chaque joueur perd 1 armée : {:.2f}%'.format(a_et_d_1 / n_test * 100))\n",
    "\n",
    "print(test.count('A'))"
   ]
  },
  {
   "cell_type": "code",
   "execution_count": null,
   "id": "12ab279d-0038-48e6-a004-a6a7264d2df3",
   "metadata": {},
   "outputs": [],
   "source": []
  }
 ],
 "metadata": {
  "kernelspec": {
   "display_name": "Python 3 (ipykernel)",
   "language": "python",
   "name": "python3"
  },
  "language_info": {
   "codemirror_mode": {
    "name": "ipython",
    "version": 3
   },
   "file_extension": ".py",
   "mimetype": "text/x-python",
   "name": "python",
   "nbconvert_exporter": "python",
   "pygments_lexer": "ipython3",
   "version": "3.9.7"
  }
 },
 "nbformat": 4,
 "nbformat_minor": 5
}
