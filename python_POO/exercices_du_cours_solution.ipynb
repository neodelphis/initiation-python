{
 "cells": [
  {
   "cell_type": "markdown",
   "metadata": {},
   "source": [
    "# Concepts fondateurs\n",
    "Exercices du cours"
   ]
  },
  {
   "cell_type": "markdown",
   "metadata": {},
   "source": [
    "### Exercice 1.1. Classe et instances\n",
    "\n",
    "- Ecrire la classe Voiture en python.\n",
    "- Ecrire son contructeur avec la possibilité de préciser les valeurs de certains attributs à l’instanciation.\n",
    "- Instancier 3 objets issus de la classe Voiture"
   ]
  },
  {
   "cell_type": "code",
   "execution_count": 4,
   "metadata": {},
   "outputs": [],
   "source": [
    "class Voiture:\n",
    "    def __init__(self, marque, modele, couleur):\n",
    "        self.marque = marque\n",
    "        self.modele = modele\n",
    "        self.couleur = couleur\n",
    "        \n",
    "ma_voiture = Voiture('Renault', 'Clio', 'blanche')\n",
    "ma_future_voiture = Voiture('Lamborghini', 'Huracan', 'rouge')\n",
    "ma_seconde_voiture = Voiture('Citroën', 'Ami', 'bleue')"
   ]
  },
  {
   "cell_type": "markdown",
   "metadata": {},
   "source": [
    "### Exercice 1.2. Manipulation d’instances\n",
    "- Créer un tableau contenant les instances de la classe Voiture\n",
    "- Affcher la valeur de l’attribut couleur de chaque instance en parcourant ce tableau"
   ]
  },
  {
   "cell_type": "code",
   "execution_count": 6,
   "metadata": {},
   "outputs": [
    {
     "name": "stdout",
     "output_type": "stream",
     "text": [
      "blanche\n",
      "rouge\n",
      "bleue\n"
     ]
    }
   ],
   "source": [
    "voitures = [ma_voiture, ma_future_voiture, ma_seconde_voiture]\n",
    "for voiture in voitures:\n",
    "    print(voiture.couleur)"
   ]
  },
  {
   "cell_type": "markdown",
   "metadata": {},
   "source": [
    "### Exercice 2.1. Implémentez la Classe Fichier\n",
    "\n",
    "On peut parler des fichiers (en général) sans faire référence à un fichier particulier, il s’agit donc d’une classe. Un fichier est caractérisé par son nom, sa taille, sa date de création et sa date de modification. Un fichier peut s’ouvrir et se fermer."
   ]
  },
  {
   "cell_type": "code",
   "execution_count": 11,
   "metadata": {},
   "outputs": [
    {
     "name": "stdout",
     "output_type": "stream",
     "text": [
      "Fichier ouvert :  False\n",
      "Fichier ouvert :  True\n",
      "Fichier ouvert :  False\n"
     ]
    }
   ],
   "source": [
    "class Fichier:\n",
    "    def __init__(self, nom, taille, date_de_creation, date_de_modification):\n",
    "        self.nom = nom\n",
    "        self.taille = taille\n",
    "        self.date_de_creation = date_de_creation\n",
    "        self.date_de_modification = date_de_modification\n",
    "        self.ouvert = False\n",
    "\n",
    "    def ouvrir(self):\n",
    "        self.ouvert = True\n",
    "\n",
    "    def fermer(self):\n",
    "        self.ouvert = False\n",
    "\n",
    "\n",
    "mon_fichier = Fichier('photo.jpg', '3OOOO', '10/11/2021', '22/11/2021')\n",
    "print('Fichier ouvert : ', mon_fichier.ouvert)\n",
    "mon_fichier.ouvrir()\n",
    "print('Fichier ouvert : ', mon_fichier.ouvert)\n",
    "mon_fichier.fermer()\n",
    "print('Fichier ouvert : ', mon_fichier.ouvert)"
   ]
  },
  {
   "cell_type": "markdown",
   "metadata": {},
   "source": [
    "### Exercice 2.2. Gestion du stock\n",
    "\n",
    "Un Article du stock est défini par 4 champs :\n",
    "- sa référence (numéro)\n",
    "- sa désignation (texte)\n",
    "- son prix_HT\n",
    "- sa quantité (nombre d’articles disponibles)\n",
    "\n",
    "Pour manipuler ces champs, les services suivants sont fournis :\n",
    "- prix_TTC\n",
    "- prix_transport (taxe 5% prix_HT)\n",
    "- retirer un article\n",
    "- ajouter un article"
   ]
  },
  {
   "cell_type": "code",
   "execution_count": 29,
   "metadata": {},
   "outputs": [
    {
     "name": "stdout",
     "output_type": "stream",
     "text": [
      "Prix TTC pour  aspirateur  :  120.0\n",
      "Prix transport pour  aspirateur  :  5.0\n",
      "Nombre restant :  9\n",
      "Nombre restant :  10\n"
     ]
    }
   ],
   "source": [
    "class Article():\n",
    "    taux_TVA = 0.20\n",
    "\n",
    "    def __init__(self, reference, designation, prix_HT, quantite):\n",
    "        self.reference = reference\n",
    "        self.designation = designation\n",
    "        self.prix_HT = prix_HT\n",
    "        self.quantite = quantite\n",
    "\n",
    "    def prix_TTC(self):\n",
    "        return self.prix_HT * (1 + self.taux_TVA)\n",
    "\n",
    "    def prix_transport(self):\n",
    "        return self.prix_HT * (.05)\n",
    "\n",
    "    def retirer(self):\n",
    "        if self.quantite > 0:\n",
    "            self.quantite -= 1\n",
    "\n",
    "    def ajouter(self):\n",
    "        self.quantite += 1\n",
    "\n",
    "\n",
    "aspirateur = Article(1, 'aspirateur', 100, 10)\n",
    "print('Prix TTC pour ', aspirateur.designation, ' : ', aspirateur.prix_TTC())\n",
    "print('Prix transport pour ', aspirateur.designation, ' : ', aspirateur.prix_transport())\n",
    "aspirateur.retirer()\n",
    "print('Nombre restant : ', aspirateur.quantite)\n",
    "aspirateur.ajouter()\n",
    "print('Nombre restant : ', aspirateur.quantite)"
   ]
  }
 ],
 "metadata": {
  "kernelspec": {
   "display_name": "Python 3 (ipykernel)",
   "language": "python",
   "name": "python3"
  },
  "language_info": {
   "codemirror_mode": {
    "name": "ipython",
    "version": 3
   },
   "file_extension": ".py",
   "mimetype": "text/x-python",
   "name": "python",
   "nbconvert_exporter": "python",
   "pygments_lexer": "ipython3",
   "version": "3.9.7"
  }
 },
 "nbformat": 4,
 "nbformat_minor": 4
}
