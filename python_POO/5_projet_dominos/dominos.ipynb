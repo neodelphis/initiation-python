{
 "cells": [
  {
   "cell_type": "markdown",
   "id": "33969098-5d01-4d9d-9313-c68c0219876a",
   "metadata": {},
   "source": [
    "# Jeu de dominos\n",
    "POO - mise en application\n",
    "\n",
    "- Contrôle d'accès?\n",
    "- Travaille en commun\n",
    "- modules?\n",
    "- Algorithmique\n",
    "- https://www.agoralude.com/blog/la-regle-du-jeu-de-dominos-n33"
   ]
  },
  {
   "cell_type": "markdown",
   "id": "0f5f54ed-7f7c-4aee-bae9-898b7e86b3c5",
   "metadata": {},
   "source": [
    "Travail en binôme  \n",
    "1ère étape: Définir quelles sont les classes\n",
    "(imaginer quelles sont les relations entre les classes, quels sont sont les attributs et les méthodes dont on pourrait avoir besoin)\n"
   ]
  },
  {
   "cell_type": "markdown",
   "id": "1b5f4736-e8f1-4b0d-87e9-c5d2e95c3ba0",
   "metadata": {},
   "source": [
    "Quelques modifications des règles:\n",
    "- Les valeurs faciales des dominos sont tirées au hasard\n",
    "- celui qui a le domino de plus haute valeur commence avec ce domino\n",
    "- le côté blanc (vide) est compatible avec toute valeur\n",
    "\n",
    "Conditions de victoire:\n",
    "- Dès qu'un joueur a placé tous ses dominos il gagne\n",
    "- Si aucun des joueurs n'a pu placer tous ses dominos, c'est celui qui comptabilise de moins de points qui gagne"
   ]
  },
  {
   "cell_type": "markdown",
   "id": "3f31e95d-9f96-4671-a793-803d7134e3a7",
   "metadata": {},
   "source": [
    "## Classe `Domino`"
   ]
  },
  {
   "cell_type": "code",
   "execution_count": 41,
   "id": "39aa50a0-4e76-4c17-9a07-e17569e724b8",
   "metadata": {},
   "outputs": [],
   "source": [
    "from random import randint\n",
    "\n",
    "\n",
    "class Domino:\n",
    "    def __init__(self, valeur_a_gauche=None, valeur_a_droite=None):\n",
    "        if valeur_a_gauche is None:\n",
    "            valeur_a_gauche = randint(0, 6)\n",
    "        if valeur_a_droite is None:\n",
    "            valeur_a_droite = randint(0, 6)\n",
    "        self.valeur_a_gauche = valeur_a_gauche\n",
    "        self.valeur_a_droite = valeur_a_droite\n",
    "        if (self.valeur_a_gauche not in range(7)) or \\\n",
    "                (self.valeur_a_droite not in range(7)):\n",
    "            raise AttributeError('Valeur incorrecte pour le domino')\n",
    "\n",
    "    def inverse(self):\n",
    "        self.valeur_a_gauche, self.valeur_a_droite = self.valeur_a_droite, self.valeur_a_gauche\n",
    "        return self\n",
    "\n",
    "    def score(self):\n",
    "        return self.valeur_a_gauche + self.valeur_a_droite\n",
    "\n",
    "    def est_compatible(self, valeur):\n",
    "        \"\"\"Teste si le domino est compatible avec une valeur passée en paramètre\n",
    "        c'est-à-dire s'il peut être placée à côté de cette valeur\n",
    "        \"\"\"\n",
    "        if valeur == 0:\n",
    "            return True\n",
    "        if self.valeur_a_gauche == valeur or self.valeur_a_droite == valeur or self.valeur_a_gauche == 0 or self.valeur_a_droite == 0:\n",
    "            return True\n",
    "        else:\n",
    "            return False\n",
    "\n",
    "    def __repr__(self):\n",
    "        if self.valeur_a_gauche == 0:\n",
    "            valeur_a_gauche = ' '\n",
    "        else:\n",
    "            valeur_a_gauche = str(self.valeur_a_gauche)\n",
    "        if self.valeur_a_droite == 0:\n",
    "            valeur_a_droite = ' '\n",
    "        else:\n",
    "            valeur_a_droite = str(self.valeur_a_droite)\n",
    "\n",
    "        return f'[{valeur_a_gauche}:{valeur_a_droite}]'"
   ]
  },
  {
   "cell_type": "markdown",
   "id": "d40c54ba-d05a-48af-b1c0-79810e0b4d57",
   "metadata": {},
   "source": [
    "### Tests unitaires classe `Domino`"
   ]
  },
  {
   "cell_type": "code",
   "execution_count": 44,
   "id": "330fe63a-15b1-4806-881c-2092244726a0",
   "metadata": {},
   "outputs": [],
   "source": [
    "# Test constructeur\n",
    "mon_domino = Domino()\n",
    "assert mon_domino.valeur_a_gauche in range(0, 7)\n",
    "assert mon_domino.valeur_a_droite in range(0, 7)\n",
    "mon_domino = Domino(0, 5)\n",
    "assert mon_domino.valeur_a_gauche == 0\n",
    "assert mon_domino.valeur_a_droite == 5\n",
    "mon_autre_domino = Domino(1, 4)"
   ]
  },
  {
   "cell_type": "code",
   "execution_count": 45,
   "id": "25977303-8673-4dc1-8a99-71fab55b7bc3",
   "metadata": {},
   "outputs": [
    {
     "name": "stdout",
     "output_type": "stream",
     "text": [
      "[ :5] [1:4]\n"
     ]
    }
   ],
   "source": [
    "# Test __repr__\n",
    "mon_domino = Domino(0, 5)\n",
    "mon_autre_domino = Domino(1, 4)\n",
    "\n",
    "assert mon_autre_domino.__repr__() == '[1:4]'\n",
    "assert mon_domino.__repr__() == '[ :5]'\n",
    "print(mon_domino, mon_autre_domino)"
   ]
  },
  {
   "cell_type": "code",
   "execution_count": 33,
   "id": "e33ee0eb-ddef-4474-b725-e93cea546954",
   "metadata": {},
   "outputs": [],
   "source": [
    "# Doit lever une exception\n",
    "#mon_faux_domino = Domino(1, 7)\n",
    "#mon_faux_domino = Domino(-1, 0)\n",
    "#mon_faux_domino = Domino(7, 7)"
   ]
  },
  {
   "cell_type": "code",
   "execution_count": 34,
   "id": "1a5af135-a811-415f-9662-e26ca5cb41a6",
   "metadata": {},
   "outputs": [
    {
     "name": "stdout",
     "output_type": "stream",
     "text": [
      "[ :5]\n",
      "[5: ]\n"
     ]
    }
   ],
   "source": [
    "# Test inverse()\n",
    "mon_domino = Domino(0, 5)\n",
    "print(mon_domino)\n",
    "mon_domino.inverse()\n",
    "assert mon_domino.valeur_a_gauche == 5\n",
    "assert mon_domino.valeur_a_droite == 0\n",
    "print(mon_domino)"
   ]
  },
  {
   "cell_type": "code",
   "execution_count": 35,
   "id": "289a66fe-078a-4c6d-9757-afa371017e25",
   "metadata": {},
   "outputs": [],
   "source": [
    "# Test score()\n",
    "mon_autre_domino = Domino(1, 4)\n",
    "assert mon_autre_domino.score() == 5"
   ]
  },
  {
   "cell_type": "code",
   "execution_count": 36,
   "id": "9c0f292a-16bb-411f-b2d5-1e8cd94d1ffa",
   "metadata": {},
   "outputs": [],
   "source": [
    "# Test est_compatible()\n",
    "mon_domino = Domino(0, 5)\n",
    "assert mon_domino.est_compatible(4) == True\n",
    "mon_autre_domino = Domino(1, 4)\n",
    "assert mon_autre_domino.est_compatible(4) == True\n",
    "assert mon_autre_domino.est_compatible(5) == False\n",
    "assert mon_autre_domino.est_compatible(0) == True"
   ]
  },
  {
   "cell_type": "code",
   "execution_count": null,
   "id": "5d1a1df2-b288-4531-a44b-d6d9264664b1",
   "metadata": {},
   "outputs": [],
   "source": []
  },
  {
   "cell_type": "markdown",
   "id": "68d7bbc0-8715-4855-b0cc-1464443391dd",
   "metadata": {},
   "source": [
    "## Classe `Chaine`"
   ]
  },
  {
   "cell_type": "code",
   "execution_count": 37,
   "id": "22d08db3-154d-41f7-82c4-30113d771cea",
   "metadata": {},
   "outputs": [],
   "source": [
    "class Chaine:\n",
    "    \"\"\"\n",
    "    Représentation de la chaîne de jeu\n",
    "    exemple: [1: ][3:5][5:2]\n",
    "    En plus de la liste ordonnée des dominos selon le placement,\n",
    "    Deux valeurs seront stockées:\n",
    "    valeur_a_gauche dans notre exemple 1\n",
    "    valeur_a_droite dans notre exemple 2\n",
    "    \"\"\"\n",
    "\n",
    "    def __init__(self):\n",
    "        self.c = []\n",
    "        self.valeur_a_gauche = None\n",
    "        self.valeur_a_droite = None\n",
    "\n",
    "    def extremites(self):\n",
    "        return self.valeur_a_gauche, self.valeur_a_droite\n",
    "\n",
    "    def pose_premier(self, domino):\n",
    "        self.c.insert(0, domino)\n",
    "        self.valeur_a_gauche = domino.valeur_a_gauche\n",
    "        self.valeur_a_droite = domino.valeur_a_droite\n",
    "\n",
    "    def ajoute_au_cote_gauche(self, domino):\n",
    "        self.c.insert(0, domino)\n",
    "        self.valeur_a_gauche = domino.valeur_a_gauche\n",
    "\n",
    "    def ajoute_au_cote_droit(self, domino):\n",
    "        self.c.append(domino)\n",
    "        self.valeur_a_droite = domino.valeur_a_droite\n",
    "\n",
    "    def __repr__(self):\n",
    "        representation = \"\"\n",
    "        if self.c:\n",
    "            for domino in self.c:\n",
    "                representation += repr(domino)\n",
    "        return representation"
   ]
  },
  {
   "cell_type": "markdown",
   "id": "9e02ecdf-78cf-4563-8c2e-1becefd53046",
   "metadata": {},
   "source": [
    "### Tests unitaires classe `Chaine`"
   ]
  },
  {
   "cell_type": "code",
   "execution_count": 38,
   "id": "050ff8b6-ae09-4f13-ad24-6d824e6b2508",
   "metadata": {},
   "outputs": [],
   "source": [
    "chaine = Chaine()\n",
    "mon_domino = Domino(0, 5)\n",
    "chaine.pose_premier(mon_domino)\n",
    "assert chaine.valeur_a_gauche == 0\n",
    "assert chaine.valeur_a_droite == 5"
   ]
  },
  {
   "cell_type": "code",
   "execution_count": 39,
   "id": "3951950b-6812-4d87-8c48-f115db7f5a9b",
   "metadata": {},
   "outputs": [],
   "source": [
    "# Les dominos:\n",
    "# [3:5], [5:2], [1: ]\n",
    "\n",
    "premier_domino = Domino(3, 5)\n",
    "deuxieme_domino = Domino(2, 5)\n",
    "troisieme_domino = Domino(1, 0)\n",
    "\n",
    "# Placement\n",
    "#      [3:5]\n",
    "#      [3:5][5:2]\n",
    "# [1: ][3:5][5:2]\n",
    "\n",
    "chaine = Chaine()\n",
    "chaine.pose_premier(premier_domino)\n",
    "chaine.ajoute_au_cote_droit(deuxieme_domino.inverse())\n",
    "chaine.ajoute_au_cote_gauche(troisieme_domino)\n",
    "assert chaine.valeur_a_gauche == 1\n",
    "assert chaine.valeur_a_droite == 2"
   ]
  },
  {
   "cell_type": "code",
   "execution_count": 40,
   "id": "5b1f7030-49de-4dfa-a980-a2d641616e8f",
   "metadata": {},
   "outputs": [
    {
     "data": {
      "text/plain": [
       "[1: ][3:5][5:2]"
      ]
     },
     "execution_count": 40,
     "metadata": {},
     "output_type": "execute_result"
    }
   ],
   "source": [
    "chaine"
   ]
  },
  {
   "cell_type": "markdown",
   "id": "c41c8b53-8c3d-4148-91e2-37209455dae9",
   "metadata": {},
   "source": [
    "## Classe `Main`"
   ]
  },
  {
   "cell_type": "code",
   "execution_count": 128,
   "id": "3a3ad67f-b9c4-4be7-af8a-89924f600980",
   "metadata": {},
   "outputs": [],
   "source": [
    "# Gestion de la main du joueur\n",
    "class Main:\n",
    "    \"\"\"\n",
    "    Gestion de la main du joueur\n",
    "    m : liste de dominos\n",
    "    \"\"\"\n",
    "    \n",
    "    def __init__(self, m=None):\n",
    "        if m is None:\n",
    "            self.m = [Domino() for _ in range(5)]\n",
    "        else:\n",
    "            self.m = m\n",
    "\n",
    "    def plus_haute_valeur(self):\n",
    "        # Plus haute valeur dans la main du joueur\n",
    "        score = None\n",
    "        position = None\n",
    "        if self.m:\n",
    "            scores = [domino.score() for domino in self.m]\n",
    "            score = max(scores)\n",
    "            position = scores.index(score)\n",
    "        return score, position\n",
    "\n",
    "    def domino_de_plus_haute_valeur(self):\n",
    "        # Domino de plus haute valeur\n",
    "        _, position_max = self.plus_haute_valeur()\n",
    "        domino_choisi = None\n",
    "\n",
    "        if position_max is not None:\n",
    "            domino_choisi = self.m.pop(position_max)\n",
    "        return domino_choisi\n",
    "    \n",
    "    def selectionne(self, position):\n",
    "        domino_choisi = self.m.pop(position-1)\n",
    "        return domino_choisi\n",
    "        \n",
    "        \n",
    "    \"\"\"\n",
    "    def choisit(self, valeur):\n",
    "        # il existe un domino avec la valeur exacte\n",
    "        # # Version avancée: valeur exacte et pas un joker\n",
    "        # il existe un domino avec la valeur joker 0\n",
    "        # sinon renvoie None\n",
    "        domino_choisi = None\n",
    "        if self.m:\n",
    "            for indice, domino in enumerate(self.m):\n",
    "                if domino.valeur_a_gauche == valeur or domino.valeur_a_droite == valeur:\n",
    "                    indice_choisi = indice\n",
    "                    break\n",
    "\n",
    "            if indice_choisi is not None:\n",
    "                # pop removes the item at a specific index and returns it\n",
    "                domino_choisi = self.m.pop(indice_choisi)\n",
    "\n",
    "        return domino_choisi\n",
    "\n",
    "    def choisit_au_hasard(self):\n",
    "        domino = None\n",
    "        if self.m:\n",
    "            domino = self.m.pop(randint(0, len(self.m)-1))\n",
    "        return domino\n",
    "    \"\"\"\n",
    "\n",
    "    def est_compatible(self, valeur):\n",
    "        compatible = False\n",
    "        if self.m:\n",
    "            for domino in self.m:\n",
    "                if domino.est_compatible(valeur):\n",
    "                    compatible = True\n",
    "                    break\n",
    "        return compatible\n",
    "\n",
    "    def ajoute(self, domino):\n",
    "        self.m.append(domino)\n",
    "\n",
    "    def __repr__(self):\n",
    "        representation = \"\"\n",
    "        if self.m:\n",
    "            for domino in self.m:\n",
    "                representation += repr(domino)\n",
    "        return representation"
   ]
  },
  {
   "cell_type": "markdown",
   "id": "82551a9e-c084-47bb-a0a1-7c42ab4cdff7",
   "metadata": {},
   "source": [
    "### Tests unitaires classe `Main`"
   ]
  },
  {
   "cell_type": "code",
   "execution_count": 129,
   "id": "322eb3cf-a5a5-4709-9f4e-8eaea1128a3f",
   "metadata": {},
   "outputs": [
    {
     "name": "stdout",
     "output_type": "stream",
     "text": [
      "[5:5][2:2][5:1][6: ][3:4]\n",
      "[5:1][ :6][4:6][3:6][ :6]\n"
     ]
    }
   ],
   "source": [
    "main_humain = Main()  # Main([Domino() for _ in range(5)])\n",
    "main_ordinateur = Main()  # Main([Domino() for _ in range(5)])\n",
    "print(main_humain)\n",
    "print(main_ordinateur)"
   ]
  },
  {
   "cell_type": "code",
   "execution_count": 130,
   "id": "8deaf410-4815-496d-a48f-cea5ed62d61a",
   "metadata": {},
   "outputs": [
    {
     "name": "stdout",
     "output_type": "stream",
     "text": [
      "(7, 1)\n"
     ]
    }
   ],
   "source": [
    "mon_domino = Domino(2, 5)\n",
    "mon_autre_domino = Domino(1, 5)\n",
    "main_humain = Main([mon_autre_domino, mon_domino, mon_autre_domino])\n",
    "print(main_humain.plus_haute_valeur())"
   ]
  },
  {
   "cell_type": "code",
   "execution_count": 131,
   "id": "f66c8c0e-3e31-45f7-9c38-de6ddcc5fe43",
   "metadata": {},
   "outputs": [
    {
     "data": {
      "text/plain": [
       "[1:5][2:5][1:5]"
      ]
     },
     "execution_count": 131,
     "metadata": {},
     "output_type": "execute_result"
    }
   ],
   "source": [
    "main_humain"
   ]
  },
  {
   "cell_type": "code",
   "execution_count": 132,
   "id": "19c03bd6-d101-402f-bfc4-061216ad3050",
   "metadata": {},
   "outputs": [
    {
     "data": {
      "text/plain": [
       "[2:5]"
      ]
     },
     "execution_count": 132,
     "metadata": {},
     "output_type": "execute_result"
    }
   ],
   "source": [
    "main_humain.domino_de_plus_haute_valeur()"
   ]
  },
  {
   "cell_type": "code",
   "execution_count": 133,
   "id": "7811daac-5604-40ae-8b9b-97458bb7c9f4",
   "metadata": {},
   "outputs": [
    {
     "data": {
      "text/plain": [
       "[1:5][1:5]"
      ]
     },
     "execution_count": 133,
     "metadata": {},
     "output_type": "execute_result"
    }
   ],
   "source": [
    "main_humain"
   ]
  },
  {
   "cell_type": "code",
   "execution_count": 134,
   "id": "526e45b5-0a23-4ffb-b493-15d9eb0ceef8",
   "metadata": {},
   "outputs": [
    {
     "name": "stdout",
     "output_type": "stream",
     "text": [
      "[2:5][1:5]\n",
      "[2:5][1:5]\n",
      "[2:5][1:5][1:3]\n"
     ]
    }
   ],
   "source": [
    "mon_domino = Domino(2, 5)\n",
    "mon_autre_domino = Domino(1, 5)\n",
    "main_humain = Main([mon_domino, mon_autre_domino])\n",
    "print(main_humain)\n",
    "#print(main_humain.choisit(2))\n",
    "print(main_humain)\n",
    "main_humain.ajoute(Domino(1, 3))\n",
    "print(main_humain)"
   ]
  },
  {
   "cell_type": "code",
   "execution_count": null,
   "id": "5293191f-d129-4ea8-abad-00e596fdac2d",
   "metadata": {},
   "outputs": [],
   "source": []
  },
  {
   "cell_type": "code",
   "execution_count": 135,
   "id": "1eadf6b7-b995-49c6-8ad2-6f04d95a8329",
   "metadata": {},
   "outputs": [
    {
     "data": {
      "text/plain": [
       "True"
      ]
     },
     "execution_count": 135,
     "metadata": {},
     "output_type": "execute_result"
    }
   ],
   "source": [
    "main_humain.est_compatible(1)"
   ]
  },
  {
   "cell_type": "code",
   "execution_count": 136,
   "id": "dcc16416-8732-4f24-8e8b-86acb8951990",
   "metadata": {},
   "outputs": [
    {
     "data": {
      "text/plain": [
       "True"
      ]
     },
     "execution_count": 136,
     "metadata": {},
     "output_type": "execute_result"
    }
   ],
   "source": [
    "main_humain.est_compatible(2)"
   ]
  },
  {
   "cell_type": "code",
   "execution_count": null,
   "id": "08b31177-a123-470a-865e-8a514cc4893f",
   "metadata": {},
   "outputs": [],
   "source": []
  },
  {
   "cell_type": "markdown",
   "id": "2eeff504-4202-4046-9b30-11220bc63f5c",
   "metadata": {},
   "source": [
    "## Classe `Talon`"
   ]
  },
  {
   "cell_type": "code",
   "execution_count": 11,
   "id": "046faa44-6a5b-44dd-9a83-c1b8ed705b61",
   "metadata": {},
   "outputs": [],
   "source": [
    "class Talon:\n",
    "    def __init__(self, t=None):\n",
    "        if t is None:\n",
    "            self.t = [Domino() for _ in range(10)]\n",
    "        else:\n",
    "            self.t = t\n",
    "\n",
    "    def pioche(self):\n",
    "        domino = None\n",
    "        if self.t:\n",
    "            domino = self.t.pop(0)\n",
    "        return domino\n",
    "\n",
    "    def __repr__(self):\n",
    "        representation = \"\"\n",
    "        if self.t:\n",
    "            for domino in self.t:\n",
    "                representation += repr(domino)\n",
    "        return representation"
   ]
  },
  {
   "cell_type": "markdown",
   "id": "8978da30-b1e4-46f7-80ce-efea48fc91ce",
   "metadata": {},
   "source": [
    "### Tests unitaires classe `Talon`"
   ]
  },
  {
   "cell_type": "code",
   "execution_count": 18,
   "id": "2f57e7e4-8806-4c84-974d-fafa4e064c59",
   "metadata": {},
   "outputs": [],
   "source": [
    "# Test constructeur\n",
    "mon_domino = Domino(2, 5)\n",
    "mon_autre_domino = Domino(1, 5)\n",
    "talon = Talon([mon_domino, mon_autre_domino])\n",
    "assert len(talon.t) == 2\n",
    "talon = Talon()\n",
    "assert len(talon.t) == 10"
   ]
  },
  {
   "cell_type": "code",
   "execution_count": 15,
   "id": "eaeb8732-c1f7-4d0c-a88c-2b8591e5495f",
   "metadata": {},
   "outputs": [],
   "source": []
  },
  {
   "cell_type": "code",
   "execution_count": 17,
   "id": "7299b183-80f0-4685-8b4e-2ea25a78906d",
   "metadata": {},
   "outputs": [],
   "source": [
    "# Test pioche()\n",
    "mon_domino = Domino(2, 5)\n",
    "mon_autre_domino = Domino(1, 5)\n",
    "talon = Talon([mon_domino, mon_autre_domino])\n",
    "talon.pioche()\n",
    "assert len(talon.t) == 1\n",
    "talon.pioche()\n",
    "assert len(talon.t) == 0\n",
    "assert talon.pioche() == None"
   ]
  },
  {
   "cell_type": "code",
   "execution_count": 140,
   "id": "38957e16-e105-4122-bced-21e417fc2012",
   "metadata": {},
   "outputs": [
    {
     "data": {
      "text/plain": [
       "[ :3][3:1][2:1][1:5][ :4][1:1][6: ][4:2][3:3][6:3]"
      ]
     },
     "execution_count": 140,
     "metadata": {},
     "output_type": "execute_result"
    }
   ],
   "source": [
    "talon = Talon()\n",
    "talon"
   ]
  },
  {
   "cell_type": "code",
   "execution_count": null,
   "id": "06745d86-9c59-46bf-a186-a0493ec33fdb",
   "metadata": {},
   "outputs": [],
   "source": []
  },
  {
   "cell_type": "markdown",
   "id": "11ddf907-0946-4bc4-a248-62b1962766c4",
   "metadata": {},
   "source": [
    "## Logique du jeu de domino"
   ]
  },
  {
   "cell_type": "code",
   "execution_count": 141,
   "id": "cd0a8a37-35d3-4a42-b8e2-59ff5901a60c",
   "metadata": {},
   "outputs": [],
   "source": [
    "class Joueur:\n",
    "    def __init__(self, m=None):\n",
    "        self.main = Main(m)\n",
    "\n",
    "    def choisit(self):\n",
    "        raise NotImplementedError()\n",
    "\n",
    "    def revendique_la_victoire(self):\n",
    "        if len(self.main.m) == 0:\n",
    "            return True\n",
    "        else:\n",
    "            return False\n",
    "\n",
    "\n",
    "class Humain(Joueur):\n",
    "    def choisit(self):\n",
    "        indices = ''\n",
    "        for i in range(len(self.main.m)):\n",
    "            indices += f'  {i+1}  '\n",
    "        print(self.main)\n",
    "        print(indices)\n",
    "        print('inverse?')\n",
    "        print('placement d/g')\n",
    "        return self.main.selectionne(1)\n",
    "\n",
    "\n",
    "class Ordinateur(Joueur):\n",
    "    def choisit(self):\n",
    "        pass"
   ]
  },
  {
   "cell_type": "code",
   "execution_count": 142,
   "id": "6722a025-3044-414a-b852-74b81a495844",
   "metadata": {},
   "outputs": [
    {
     "name": "stdout",
     "output_type": "stream",
     "text": [
      "[6:6][6:5]\n"
     ]
    }
   ],
   "source": [
    "humain = Humain([Domino(6, 6), Domino(6, 5)])\n",
    "print(humain.main)"
   ]
  },
  {
   "cell_type": "code",
   "execution_count": 143,
   "id": "5d8edf59-c818-4691-83f8-1811a4c7f0df",
   "metadata": {},
   "outputs": [
    {
     "name": "stdout",
     "output_type": "stream",
     "text": [
      "[2:5][3:4][2:6][2:6][4:3]\n"
     ]
    }
   ],
   "source": [
    "ordinateur = Ordinateur()\n",
    "print(ordinateur.main)"
   ]
  },
  {
   "cell_type": "code",
   "execution_count": 144,
   "id": "892c5a38-307f-40fb-839d-13856f3e0486",
   "metadata": {},
   "outputs": [],
   "source": [
    "joueur = humain\n",
    "# joueur.regarde_la_chaine() -> g, d\n",
    "#joueur.choisit()\n",
    "# joueur.pose_domino\n",
    "# joueur.revendique_la_victoire"
   ]
  },
  {
   "cell_type": "code",
   "execution_count": 145,
   "id": "9adfa6c2-5074-4a6c-b6af-351488d97b4d",
   "metadata": {},
   "outputs": [
    {
     "data": {
      "text/plain": [
       "[6:6]"
      ]
     },
     "execution_count": 145,
     "metadata": {},
     "output_type": "execute_result"
    }
   ],
   "source": [
    "chaine = Chaine()\n",
    "premier_domino = joueur.main.domino_de_plus_haute_valeur()\n",
    "chaine.pose_premier(premier_domino)\n",
    "chaine"
   ]
  },
  {
   "cell_type": "code",
   "execution_count": 146,
   "id": "5cd8a851-ef17-4baa-b59f-ba31e686ec5a",
   "metadata": {},
   "outputs": [
    {
     "name": "stdout",
     "output_type": "stream",
     "text": [
      "[6:5]\n",
      "[6:5]\n",
      "  1  \n",
      "inverse?\n",
      "placement d/g\n"
     ]
    }
   ],
   "source": [
    "print(joueur.main)\n",
    "domino = joueur.choisit()\n",
    "chaine.ajoute_au_cote_gauche(domino)\n"
   ]
  },
  {
   "cell_type": "code",
   "execution_count": 147,
   "id": "65bb5f52-e2b2-49bb-bc5a-0bec1a85d85e",
   "metadata": {},
   "outputs": [
    {
     "data": {
      "text/plain": [
       "[]"
      ]
     },
     "execution_count": 147,
     "metadata": {},
     "output_type": "execute_result"
    }
   ],
   "source": [
    "joueur.main.m"
   ]
  },
  {
   "cell_type": "code",
   "execution_count": 148,
   "id": "f0520143-958d-48b7-a27b-26448a6a6ea0",
   "metadata": {},
   "outputs": [
    {
     "data": {
      "text/plain": [
       "[6:5][6:6]"
      ]
     },
     "execution_count": 148,
     "metadata": {},
     "output_type": "execute_result"
    }
   ],
   "source": [
    "chaine"
   ]
  },
  {
   "cell_type": "code",
   "execution_count": 149,
   "id": "6ee3f6fb-0dd7-4669-bab1-a6e78d427ba5",
   "metadata": {},
   "outputs": [
    {
     "data": {
      "text/plain": [
       "True"
      ]
     },
     "execution_count": 149,
     "metadata": {},
     "output_type": "execute_result"
    }
   ],
   "source": [
    "joueur.revendique_la_victoire()"
   ]
  },
  {
   "cell_type": "markdown",
   "id": "6c69fac2-8601-4ffd-ad71-4f06d901914e",
   "metadata": {},
   "source": [
    "## Le jeu"
   ]
  },
  {
   "cell_type": "markdown",
   "id": "b83f14b8-2335-4733-8f5f-ac113a15e872",
   "metadata": {},
   "source": [
    "### Utilitaires"
   ]
  },
  {
   "cell_type": "code",
   "execution_count": 39,
   "id": "560b3eb2-5cc8-49ec-9f18-41e338941d69",
   "metadata": {},
   "outputs": [],
   "source": [
    "from enum import Enum\n",
    "\n",
    "\n",
    "class Joueur(Enum):\n",
    "    ORDINATEUR = 1\n",
    "    HUMAIN = 2\n",
    "\n",
    "\n",
    "def joueur_suivant(joueur):\n",
    "    if joueur is Joueur.HUMAIN:\n",
    "        return Joueur.ORDINATEUR\n",
    "    else:\n",
    "        return Joueur.HUMAIN"
   ]
  },
  {
   "cell_type": "markdown",
   "id": "a4bda215-0374-463c-92fb-e3582c48cf7c",
   "metadata": {},
   "source": [
    "### Une partie très courte"
   ]
  },
  {
   "cell_type": "code",
   "execution_count": 40,
   "id": "4d0ac680-3546-422f-8ea9-d94a0c92f25f",
   "metadata": {},
   "outputs": [
    {
     "name": "stdout",
     "output_type": "stream",
     "text": [
      "[6:6] HUMAIN\n",
      "[1:1] ORDINATEUR\n",
      "HUMAIN\n",
      "[6:6]\n",
      "ORDINATEUR\n"
     ]
    },
    {
     "ename": "UnboundLocalError",
     "evalue": "local variable 'indice_choisi' referenced before assignment",
     "output_type": "error",
     "traceback": [
      "\u001b[0;31m---------------------------------------------------------------------------\u001b[0m",
      "\u001b[0;31mUnboundLocalError\u001b[0m                         Traceback (most recent call last)",
      "\u001b[0;32m/var/folders/gh/r2m1snfd6sx2kx_rdn26nx000000gn/T/ipykernel_63528/1636547796.py\u001b[0m in \u001b[0;36m<module>\u001b[0;34m\u001b[0m\n\u001b[1;32m     20\u001b[0m \u001b[0;34m\u001b[0m\u001b[0m\n\u001b[1;32m     21\u001b[0m \u001b[0mmain_ordinateur\u001b[0m\u001b[0;34m.\u001b[0m\u001b[0mest_compatible\u001b[0m\u001b[0;34m(\u001b[0m\u001b[0mchaine\u001b[0m\u001b[0;34m.\u001b[0m\u001b[0mvaleur_a_gauche\u001b[0m\u001b[0;34m)\u001b[0m\u001b[0;34m\u001b[0m\u001b[0;34m\u001b[0m\u001b[0m\n\u001b[0;32m---> 22\u001b[0;31m \u001b[0mdomino\u001b[0m \u001b[0;34m=\u001b[0m \u001b[0mmain_ordinateur\u001b[0m\u001b[0;34m.\u001b[0m\u001b[0mchoisit\u001b[0m\u001b[0;34m(\u001b[0m\u001b[0mchaine\u001b[0m\u001b[0;34m.\u001b[0m\u001b[0mvaleur_a_gauche\u001b[0m\u001b[0;34m)\u001b[0m\u001b[0;34m\u001b[0m\u001b[0;34m\u001b[0m\u001b[0m\n\u001b[0m\u001b[1;32m     23\u001b[0m \u001b[0mchaine\u001b[0m\u001b[0;34m.\u001b[0m\u001b[0majoute_au_cote_gauche\u001b[0m\u001b[0;34m(\u001b[0m\u001b[0mdomino\u001b[0m\u001b[0;34m)\u001b[0m\u001b[0;34m\u001b[0m\u001b[0;34m\u001b[0m\u001b[0m\n\u001b[1;32m     24\u001b[0m \u001b[0;31m# main_ordinateur.est_compatible(chaine.valeur_a_droite)\u001b[0m\u001b[0;34m\u001b[0m\u001b[0;34m\u001b[0m\u001b[0m\n",
      "\u001b[0;32m/var/folders/gh/r2m1snfd6sx2kx_rdn26nx000000gn/T/ipykernel_63528/422938923.py\u001b[0m in \u001b[0;36mchoisit\u001b[0;34m(self, valeur)\u001b[0m\n\u001b[1;32m     38\u001b[0m                     \u001b[0;32mbreak\u001b[0m\u001b[0;34m\u001b[0m\u001b[0;34m\u001b[0m\u001b[0m\n\u001b[1;32m     39\u001b[0m \u001b[0;34m\u001b[0m\u001b[0m\n\u001b[0;32m---> 40\u001b[0;31m             \u001b[0;32mif\u001b[0m \u001b[0mindice_choisi\u001b[0m \u001b[0;32mis\u001b[0m \u001b[0;32mnot\u001b[0m \u001b[0;32mNone\u001b[0m\u001b[0;34m:\u001b[0m\u001b[0;34m\u001b[0m\u001b[0;34m\u001b[0m\u001b[0m\n\u001b[0m\u001b[1;32m     41\u001b[0m                 \u001b[0;31m# pop removes the item at a specific index and returns it\u001b[0m\u001b[0;34m\u001b[0m\u001b[0;34m\u001b[0m\u001b[0m\n\u001b[1;32m     42\u001b[0m                 \u001b[0mdomino_choisi\u001b[0m \u001b[0;34m=\u001b[0m \u001b[0mself\u001b[0m\u001b[0;34m.\u001b[0m\u001b[0mm\u001b[0m\u001b[0;34m.\u001b[0m\u001b[0mpop\u001b[0m\u001b[0;34m(\u001b[0m\u001b[0mindice_choisi\u001b[0m\u001b[0;34m)\u001b[0m\u001b[0;34m\u001b[0m\u001b[0;34m\u001b[0m\u001b[0m\n",
      "\u001b[0;31mUnboundLocalError\u001b[0m: local variable 'indice_choisi' referenced before assignment"
     ]
    }
   ],
   "source": [
    "main_humain = Main([Domino(6, 6)])\n",
    "main_ordinateur = Main([Domino(1, 1)])\n",
    "print(main_humain, 'HUMAIN')\n",
    "print(main_ordinateur, 'ORDINATEUR')\n",
    "chaine = Chaine()\n",
    "\n",
    "# Qui commence?\n",
    "if main_humain.plus_haute_valeur() >= main_ordinateur.plus_haute_valeur():\n",
    "    premier_domino = main_humain.domino_de_plus_haute_valeur()\n",
    "    joueur = Joueur.HUMAIN\n",
    "else:\n",
    "    premier_domino = main_ordinateur.domino_de_plus_haute_valeur()\n",
    "    joueur = Joueur.ORDINATEUR\n",
    "\n",
    "print(joueur.name)\n",
    "chaine.pose_premier(premier_domino)\n",
    "print(chaine)\n",
    "joueur = joueur_suivant(joueur)\n",
    "print(joueur.name)\n",
    "\n",
    "main_ordinateur.est_compatible(chaine.valeur_a_gauche)\n",
    "domino = main_ordinateur.choisit(chaine.valeur_a_gauche)\n",
    "chaine.ajoute_au_cote_gauche(domino)\n",
    "# main_ordinateur.est_compatible(chaine.valeur_a_droite)\n",
    "print(chaine)\n",
    "joueur = joueur_suivant(joueur)\n",
    "print(joueur.name)\n",
    "\n",
    "main_humain.est_compatible(chaine.valeur_a_gauche)\n",
    "main_humain.est_compatible(chaine.valeur_a_droite)\n",
    "domino = main_humain.choisit(chaine.valeur_a_droite)\n",
    "\n",
    "if domino.valeur_a_gauche != chaine.valeur_a_droite:\n",
    "    domino.inverse()\n",
    "\n",
    "chaine.ajoute_au_cote_droit(domino)\n",
    "print(chaine)\n",
    "joueur = joueur_suivant(joueur)\n",
    "print(joueur.name)"
   ]
  },
  {
   "cell_type": "code",
   "execution_count": null,
   "id": "e4d63caf-6fa1-4c85-968a-bf7701c52ff8",
   "metadata": {},
   "outputs": [],
   "source": []
  },
  {
   "cell_type": "code",
   "execution_count": null,
   "id": "136d06ac-e482-456f-81d1-d1516bf1919b",
   "metadata": {},
   "outputs": [],
   "source": []
  },
  {
   "cell_type": "code",
   "execution_count": 24,
   "id": "78aeb677-15e4-4e1f-8c60-a2397de40404",
   "metadata": {},
   "outputs": [
    {
     "name": "stdout",
     "output_type": "stream",
     "text": [
      "[4:2][6:6][1: ][ :6][3:2]\n",
      "[1:6][5:5][2:2][1:5][4:5]\n"
     ]
    }
   ],
   "source": [
    "main_humain = Main()\n",
    "main_ordinateur = Main()\n",
    "print(main_humain)\n",
    "print(main_ordinateur)\n",
    "chaine = Chaine()"
   ]
  },
  {
   "cell_type": "code",
   "execution_count": 25,
   "id": "5be7b52e-04dd-465d-9ea6-9ceeffc06b90",
   "metadata": {},
   "outputs": [
    {
     "name": "stdout",
     "output_type": "stream",
     "text": [
      "[6:6]\n",
      "ORDINATEUR\n"
     ]
    }
   ],
   "source": [
    "# Qui commence?\n",
    "if main_humain.plus_haute_valeur() >= main_ordinateur.plus_haute_valeur():\n",
    "    premier_domino = main_humain.domino_de_plus_haute_valeur()\n",
    "    joueur = 'ORDINATEUR'\n",
    "else:\n",
    "    premier_domino = main_ordinateur.domino_de_plus_haute_valeur()\n",
    "    joueur = 'HUMAIN'\n",
    "\n",
    "chaine.pose_premier(premier_domino)\n",
    "print(chaine)\n",
    "print(joueur)"
   ]
  },
  {
   "cell_type": "code",
   "execution_count": 150,
   "id": "ba4ee09c-f23e-4414-a948-47ffa64de371",
   "metadata": {},
   "outputs": [
    {
     "data": {
      "text/plain": [
       "2"
      ]
     },
     "execution_count": 150,
     "metadata": {},
     "output_type": "execute_result"
    }
   ],
   "source": [
    "from enum import Enum\n",
    "\n",
    "\n",
    "class TypeDeJoueur(Enum):\n",
    "    ORDINATEUR = 1\n",
    "    HUMAIN = 2\n",
    "\n",
    "\n",
    "type_de_joueur = TypeDeJoueur.HUMAIN\n",
    "type_de_joueur.name\n",
    "type_de_joueur.value"
   ]
  },
  {
   "cell_type": "code",
   "execution_count": 27,
   "id": "990ab497-ea29-4502-bf15-24d944c32e01",
   "metadata": {},
   "outputs": [],
   "source": [
    "def joueur_suivant(joueur):\n",
    "    if joueur is Joueur.HUMAIN:\n",
    "        return Joueur.ORDINATEUR\n",
    "    else:\n",
    "        return Joueur.HUMAIN"
   ]
  },
  {
   "cell_type": "code",
   "execution_count": 28,
   "id": "ec222fd9-5444-4443-841c-135d4366bc77",
   "metadata": {},
   "outputs": [
    {
     "name": "stdout",
     "output_type": "stream",
     "text": [
      "[3:5][2:5] HUMAIN\n",
      "[1: ][3:3] ORDINATEUR\n"
     ]
    }
   ],
   "source": [
    "premier_domino = Domino(3, 5)\n",
    "deuxieme_domino = Domino(2, 5)\n",
    "troisieme_domino = Domino(1, 0)\n",
    "quatrieme_domino = Domino(3, 3)\n",
    "\n",
    "main_humain = Main([premier_domino, deuxieme_domino])\n",
    "main_ordinateur = Main([troisieme_domino, quatrieme_domino])\n",
    "print(main_humain, 'HUMAIN')\n",
    "print(main_ordinateur, 'ORDINATEUR')\n",
    "chaine = Chaine()"
   ]
  },
  {
   "cell_type": "code",
   "execution_count": 29,
   "id": "84bfae2f-711b-4604-b85a-c3bdae2e18e0",
   "metadata": {},
   "outputs": [
    {
     "name": "stdout",
     "output_type": "stream",
     "text": [
      "[3:5][2:5] HUMAIN\n",
      "[1: ][3:3] ORDINATEUR\n",
      "HUMAIN\n",
      "[3:5]\n",
      "ORDINATEUR\n",
      "[3:3][3:5]\n",
      "HUMAIN\n",
      "[3:3][3:5][5:2]\n",
      "ORDINATEUR\n"
     ]
    }
   ],
   "source": [
    "premier_domino = Domino(3, 5)\n",
    "deuxieme_domino = Domino(2, 5)\n",
    "troisieme_domino = Domino(1, 0)\n",
    "quatrieme_domino = Domino(3, 3)\n",
    "\n",
    "main_humain = Main([premier_domino, deuxieme_domino])\n",
    "main_ordinateur = Main([troisieme_domino, quatrieme_domino])\n",
    "print(main_humain, 'HUMAIN')\n",
    "print(main_ordinateur, 'ORDINATEUR')\n",
    "chaine = Chaine()\n",
    "\n",
    "# Qui commence?\n",
    "if main_humain.plus_haute_valeur() >= main_ordinateur.plus_haute_valeur():\n",
    "    premier_domino = main_humain.domino_de_plus_haute_valeur()\n",
    "    joueur = Joueur.HUMAIN\n",
    "else:\n",
    "    premier_domino = main_ordinateur.domino_de_plus_haute_valeur()\n",
    "    joueur = Joueur.ORDINATEUR\n",
    "\n",
    "print(joueur.name)\n",
    "chaine.pose_premier(premier_domino)\n",
    "print(chaine)\n",
    "joueur = joueur_suivant(joueur)\n",
    "print(joueur.name)\n",
    "\n",
    "main_ordinateur.est_compatible(chaine.valeur_a_gauche)\n",
    "domino = main_ordinateur.choisit(chaine.valeur_a_gauche)\n",
    "chaine.ajoute_au_cote_gauche(domino)\n",
    "# main_ordinateur.est_compatible(chaine.valeur_a_droite)\n",
    "print(chaine)\n",
    "joueur = joueur_suivant(joueur)\n",
    "print(joueur.name)\n",
    "\n",
    "main_humain.est_compatible(chaine.valeur_a_gauche)\n",
    "main_humain.est_compatible(chaine.valeur_a_droite)\n",
    "domino = main_humain.choisit(chaine.valeur_a_droite)\n",
    "\n",
    "if domino.valeur_a_gauche != chaine.valeur_a_droite:\n",
    "    domino.inverse()\n",
    "\n",
    "chaine.ajoute_au_cote_droit(domino)\n",
    "print(chaine)\n",
    "joueur = joueur_suivant(joueur)\n",
    "print(joueur.name)"
   ]
  },
  {
   "cell_type": "code",
   "execution_count": 30,
   "id": "13daed12-0f3f-4dcc-bdb0-ae5ba0067c47",
   "metadata": {},
   "outputs": [
    {
     "name": "stdout",
     "output_type": "stream",
     "text": [
      " HUMAIN\n",
      "[1: ] ORDINATEUR\n"
     ]
    }
   ],
   "source": [
    "print(main_humain, 'HUMAIN')\n",
    "print(main_ordinateur, 'ORDINATEUR')"
   ]
  },
  {
   "cell_type": "markdown",
   "id": "8b7fd243-d1f2-4500-854c-4a00c9d2a0d9",
   "metadata": {},
   "source": [
    "## Annexes"
   ]
  },
  {
   "cell_type": "markdown",
   "id": "148e5ea4-de1c-49ba-810f-6fa9541d8336",
   "metadata": {},
   "source": [
    "### Evaluation de 0, None, [] dans les tests"
   ]
  },
  {
   "cell_type": "code",
   "execution_count": 31,
   "id": "5a7a8dcc-ae32-4a78-ba41-eafe9cd46d4b",
   "metadata": {},
   "outputs": [
    {
     "name": "stdout",
     "output_type": "stream",
     "text": [
      "else\n"
     ]
    }
   ],
   "source": [
    "t = []\n",
    "#t = [1]\n",
    "if t:\n",
    "    print('if')\n",
    "else:\n",
    "    print('else')"
   ]
  },
  {
   "cell_type": "code",
   "execution_count": 32,
   "id": "92c9ca8d-fb05-4b47-b620-fd8c71d24060",
   "metadata": {},
   "outputs": [
    {
     "name": "stdout",
     "output_type": "stream",
     "text": [
      "else\n"
     ]
    }
   ],
   "source": [
    "if None:\n",
    "    print('if')\n",
    "else:\n",
    "    print('else')"
   ]
  },
  {
   "cell_type": "code",
   "execution_count": 33,
   "id": "3892da39-45c7-4434-aaf6-c1c1f480fead",
   "metadata": {},
   "outputs": [
    {
     "name": "stdout",
     "output_type": "stream",
     "text": [
      "else\n"
     ]
    }
   ],
   "source": [
    "if 0:\n",
    "    print('if')\n",
    "else:\n",
    "    print('else')"
   ]
  },
  {
   "cell_type": "markdown",
   "id": "2b83388c-e663-413a-9a71-03ae1ca07caf",
   "metadata": {},
   "source": [
    "### Enum"
   ]
  },
  {
   "cell_type": "code",
   "execution_count": 37,
   "id": "787c31c9-b46d-47d3-ae6b-45248716b6b3",
   "metadata": {},
   "outputs": [
    {
     "name": "stdout",
     "output_type": "stream",
     "text": [
      "Joueur.HUMAIN\n",
      "joueur.name = HUMAIN\n",
      "joueur.value = 2\n"
     ]
    }
   ],
   "source": [
    "from enum import Enum\n",
    "\n",
    "\n",
    "class Joueur(Enum):\n",
    "    ORDINATEUR = 1\n",
    "    HUMAIN = 2\n",
    "\n",
    "\n",
    "joueur = Joueur.HUMAIN\n",
    "print(joueur)\n",
    "print('joueur.name =', joueur.name)\n",
    "print('joueur.value =', joueur.value)"
   ]
  },
  {
   "cell_type": "code",
   "execution_count": null,
   "id": "37bc34f8-ae89-48bc-aa9d-f03fc41626df",
   "metadata": {},
   "outputs": [],
   "source": []
  }
 ],
 "metadata": {
  "kernelspec": {
   "display_name": "Python 3 (ipykernel)",
   "language": "python",
   "name": "python3"
  },
  "language_info": {
   "codemirror_mode": {
    "name": "ipython",
    "version": 3
   },
   "file_extension": ".py",
   "mimetype": "text/x-python",
   "name": "python",
   "nbconvert_exporter": "python",
   "pygments_lexer": "ipython3",
   "version": "3.9.7"
  }
 },
 "nbformat": 4,
 "nbformat_minor": 5
}
