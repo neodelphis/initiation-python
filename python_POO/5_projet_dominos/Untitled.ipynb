{
 "cells": [
  {
   "cell_type": "markdown",
   "id": "16d50d85-de1d-4f97-aaf1-6893b4269424",
   "metadata": {},
   "source": [
    "# Logique du jeu de domino"
   ]
  },
  {
   "cell_type": "code",
   "execution_count": 30,
   "id": "85d24b55-ee13-4eb9-8352-9b30fef7888f",
   "metadata": {},
   "outputs": [],
   "source": [
    "from random import randint\n",
    "class Main:\n",
    "    def __init__(self):\n",
    "        self.m = [randint(0,10) for _ in range(10)]\n",
    "    def test(self):\n",
    "        print('test main', self.m)"
   ]
  },
  {
   "cell_type": "code",
   "execution_count": 31,
   "id": "bd84d3ed-54ea-40b1-8fb2-6ecc50dcf59d",
   "metadata": {},
   "outputs": [
    {
     "data": {
      "text/plain": [
       "2"
      ]
     },
     "execution_count": 31,
     "metadata": {},
     "output_type": "execute_result"
    }
   ],
   "source": [
    "from enum import Enum\n",
    "\n",
    "\n",
    "class TypeDeJoueur(Enum):\n",
    "    ORDINATEUR = 1\n",
    "    HUMAIN = 2\n",
    "\n",
    "\n",
    "type_de_joueur = TypeDeJoueur.HUMAIN\n",
    "type_de_joueur.name\n",
    "type_de_joueur.value"
   ]
  },
  {
   "cell_type": "code",
   "execution_count": 25,
   "id": "aaaaf7cd-6876-410b-9f2c-06f0a3284c66",
   "metadata": {},
   "outputs": [],
   "source": [
    "# Logique du jeu de domino\n",
    "class Joueur:\n",
    "    def __init__(self):\n",
    "        self.main = Main()\n",
    "    \n",
    "    def choisit(self):\n",
    "        raise NotImplementedError()\n",
    "class Humain(Joueur):\n",
    "    def choisit(self):\n",
    "        pass\n",
    "class Ordinateur(Joueur):\n",
    "    def choisit(self):\n",
    "        pass"
   ]
  },
  {
   "cell_type": "code",
   "execution_count": 26,
   "id": "f182e47f-fab0-40b3-897f-b6d37cb37a48",
   "metadata": {},
   "outputs": [],
   "source": [
    "class Humain(Joueur):\n",
    "    def choisit(self):\n",
    "        pass"
   ]
  },
  {
   "cell_type": "code",
   "execution_count": 27,
   "id": "4d581624-0a3c-477b-8ce2-a8896d86288b",
   "metadata": {},
   "outputs": [],
   "source": [
    "class Ordinateur(Joueur):\n",
    "    def choisit(self):\n",
    "        pass"
   ]
  },
  {
   "cell_type": "code",
   "execution_count": 28,
   "id": "49e48446-4998-4fdc-889c-a34ec20662ba",
   "metadata": {},
   "outputs": [
    {
     "name": "stdout",
     "output_type": "stream",
     "text": [
      "test main [8, 0, 3, 10, 2, 5, 3, 2, 2, 9]\n"
     ]
    }
   ],
   "source": [
    "humain = Humain()\n",
    "humain.main.test()"
   ]
  },
  {
   "cell_type": "code",
   "execution_count": 29,
   "id": "6e6cf004-9b48-4f4b-aaee-c640275fbefb",
   "metadata": {},
   "outputs": [
    {
     "name": "stdout",
     "output_type": "stream",
     "text": [
      "test main [3, 3, 7, 9, 8, 7, 6, 6, 2, 4]\n"
     ]
    }
   ],
   "source": [
    "ordinateur = Ordinateur()\n",
    "ordinateur.main.test()"
   ]
  },
  {
   "cell_type": "code",
   "execution_count": null,
   "id": "aa0199a6-2c60-4ed3-b3e5-6aabe11c5d5b",
   "metadata": {},
   "outputs": [],
   "source": []
  }
 ],
 "metadata": {
  "kernelspec": {
   "display_name": "Python 3 (ipykernel)",
   "language": "python",
   "name": "python3"
  },
  "language_info": {
   "codemirror_mode": {
    "name": "ipython",
    "version": 3
   },
   "file_extension": ".py",
   "mimetype": "text/x-python",
   "name": "python",
   "nbconvert_exporter": "python",
   "pygments_lexer": "ipython3",
   "version": "3.9.7"
  }
 },
 "nbformat": 4,
 "nbformat_minor": 5
}
