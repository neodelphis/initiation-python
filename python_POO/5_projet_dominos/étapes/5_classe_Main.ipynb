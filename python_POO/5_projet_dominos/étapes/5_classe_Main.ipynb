{
 "cells": [
  {
   "cell_type": "code",
   "execution_count": 5,
   "id": "dd4f0bde-4dd6-4669-bae7-23e31733b5cf",
   "metadata": {},
   "outputs": [],
   "source": [
    "# Placez ici votre classe Domino"
   ]
  },
  {
   "cell_type": "markdown",
   "id": "ba82eee2-bddc-4ed1-937a-42aee5cf1edf",
   "metadata": {},
   "source": [
    "## Aide à la création de la Classe `Main`\n",
    "Gestion de la main du joueur\n",
    "\n",
    "### Attributs\n",
    "- m : liste de dominos\n",
    "\n",
    "### Constructeur\n",
    "1. Initialisation avec une liste de dominos ou par défaut création avec 5 dominos\n",
    "\n",
    "### Méthodes\n",
    "Nous aurons besoin au moins des méthodes suivantes:\n",
    "- plus_haute_valeur\n",
    "- domino_de_plus_haute_valeur\n",
    "- selectionne\n",
    "- retire\n",
    "- est_compatible\n",
    "- ajoute\n",
    "- \\_\\_repr\\_\\_"
   ]
  },
  {
   "cell_type": "markdown",
   "id": "bd93eec2-81fa-427c-b5f9-f34cb514b794",
   "metadata": {
    "tags": []
   },
   "source": [
    "## Classe `Main`\n",
    "### Structure de code\n",
    "Remplacez tous les endroits où il y a une instruction `pass` par votre code"
   ]
  },
  {
   "cell_type": "code",
   "execution_count": 1,
   "id": "fde64cac-4d87-4e8d-af56-966d80cbfbf0",
   "metadata": {},
   "outputs": [],
   "source": [
    "class Main:\n",
    "    \"\"\"\n",
    "    Gestion de la main du joueur\n",
    "    m : liste de dominos\n",
    "    \"\"\"\n",
    "    \n",
    "    def __init__(self, m=None):\n",
    "        pass\n",
    "\n",
    "    def plus_haute_valeur(self):\n",
    "        # Plus haute valeur dans la main du joueur\n",
    "        score = None\n",
    "        position = None\n",
    "\n",
    "        pass\n",
    "\n",
    "        return score, position\n",
    "\n",
    "    def domino_de_plus_haute_valeur(self):\n",
    "        # Extrait et renvoie le domino de plus haute valeur\n",
    "        _, position_max = self.plus_haute_valeur()\n",
    "        domino_choisi = None\n",
    "\n",
    "        if position_max is not None:\n",
    "            domino_choisi = self.m.pop(position_max)\n",
    "        return domino_choisi\n",
    "    \n",
    "    def selectionne(self, indice):\n",
    "        # Selectionne le domino tout en le laissant dans la main\n",
    "        domino_choisi = self.m[indice]\n",
    "        return domino_choisi\n",
    "\n",
    "    def retire(self, indice):\n",
    "        # Retire le domino de la main\n",
    "        domino_choisi = self.m.pop(indice)\n",
    "        return domino_choisi\n",
    "\n",
    "    def est_compatible(self, valeur):\n",
    "        # Renvoie vrai s'il y a un domino dans la main compatible avec la valeur passée en paramètre\n",
    "        compatible = False\n",
    "\n",
    "        pass\n",
    "\n",
    "        return compatible\n",
    "\n",
    "    def ajoute(self, domino):\n",
    "        self.m.append(domino)\n",
    "\n",
    "    def __repr__(self):\n",
    "        representation = \"\"\n",
    "        if self.m:\n",
    "            for domino in self.m:\n",
    "                representation += repr(domino)\n",
    "        return representation\n",
    "\n",
    "    @classmethod\n",
    "    def de_taille(cls, n):\n",
    "        main = cls([Domino() for _ in range(n)])\n",
    "        return main"
   ]
  },
  {
   "cell_type": "markdown",
   "id": "ef12bb5f-d551-4fb2-9776-d5f5ca37f3fc",
   "metadata": {},
   "source": [
    "### Tests unitaires classe `Main`"
   ]
  },
  {
   "cell_type": "code",
   "execution_count": 2,
   "id": "9b30d9aa-bffd-4c16-b51a-18cf5520a1bc",
   "metadata": {},
   "outputs": [
    {
     "ename": "AttributeError",
     "evalue": "'Main' object has no attribute 'm'",
     "output_type": "error",
     "traceback": [
      "\u001b[0;31m---------------------------------------------------------------------------\u001b[0m",
      "\u001b[0;31mAttributeError\u001b[0m                            Traceback (most recent call last)",
      "\u001b[0;32m/var/folders/gh/r2m1snfd6sx2kx_rdn26nx000000gn/T/ipykernel_9495/1656331968.py\u001b[0m in \u001b[0;36m<module>\u001b[0;34m\u001b[0m\n\u001b[1;32m      1\u001b[0m \u001b[0;31m# Constructeur\u001b[0m\u001b[0;34m\u001b[0m\u001b[0;34m\u001b[0m\u001b[0m\n\u001b[1;32m      2\u001b[0m \u001b[0mmain\u001b[0m \u001b[0;34m=\u001b[0m \u001b[0mMain\u001b[0m\u001b[0;34m(\u001b[0m\u001b[0;34m)\u001b[0m\u001b[0;34m\u001b[0m\u001b[0;34m\u001b[0m\u001b[0m\n\u001b[0;32m----> 3\u001b[0;31m \u001b[0;32massert\u001b[0m \u001b[0mlen\u001b[0m\u001b[0;34m(\u001b[0m\u001b[0mmain\u001b[0m\u001b[0;34m.\u001b[0m\u001b[0mm\u001b[0m\u001b[0;34m)\u001b[0m \u001b[0;34m==\u001b[0m \u001b[0;36m5\u001b[0m\u001b[0;34m\u001b[0m\u001b[0;34m\u001b[0m\u001b[0m\n\u001b[0m\u001b[1;32m      4\u001b[0m \u001b[0mmon_domino\u001b[0m \u001b[0;34m=\u001b[0m \u001b[0mDomino\u001b[0m\u001b[0;34m(\u001b[0m\u001b[0;36m2\u001b[0m\u001b[0;34m,\u001b[0m \u001b[0;36m5\u001b[0m\u001b[0;34m)\u001b[0m\u001b[0;34m\u001b[0m\u001b[0;34m\u001b[0m\u001b[0m\n\u001b[1;32m      5\u001b[0m \u001b[0mmon_autre_domino\u001b[0m \u001b[0;34m=\u001b[0m \u001b[0mDomino\u001b[0m\u001b[0;34m(\u001b[0m\u001b[0;36m1\u001b[0m\u001b[0;34m,\u001b[0m \u001b[0;36m5\u001b[0m\u001b[0;34m)\u001b[0m\u001b[0;34m\u001b[0m\u001b[0;34m\u001b[0m\u001b[0m\n",
      "\u001b[0;31mAttributeError\u001b[0m: 'Main' object has no attribute 'm'"
     ]
    }
   ],
   "source": [
    "# Constructeur\n",
    "main = Main()\n",
    "assert len(main.m) == 5\n",
    "mon_domino = Domino(2, 5)\n",
    "mon_autre_domino = Domino(1, 5)\n",
    "main = Main([mon_autre_domino, mon_domino])\n",
    "len(main.m)\n",
    "assert len(main.m) == 2\n",
    "print('Tests passés avec succès')"
   ]
  },
  {
   "cell_type": "code",
   "execution_count": 3,
   "id": "dc22df38-c77a-46dd-88c9-32c592f4f43c",
   "metadata": {},
   "outputs": [
    {
     "ename": "NameError",
     "evalue": "name 'Domino' is not defined",
     "output_type": "error",
     "traceback": [
      "\u001b[0;31m---------------------------------------------------------------------------\u001b[0m",
      "\u001b[0;31mNameError\u001b[0m                                 Traceback (most recent call last)",
      "\u001b[0;32m/var/folders/gh/r2m1snfd6sx2kx_rdn26nx000000gn/T/ipykernel_9495/434829115.py\u001b[0m in \u001b[0;36m<module>\u001b[0;34m\u001b[0m\n\u001b[1;32m      1\u001b[0m \u001b[0;31m# plus_haute_valeur\u001b[0m\u001b[0;34m\u001b[0m\u001b[0;34m\u001b[0m\u001b[0m\n\u001b[0;32m----> 2\u001b[0;31m \u001b[0mmon_domino\u001b[0m \u001b[0;34m=\u001b[0m \u001b[0mDomino\u001b[0m\u001b[0;34m(\u001b[0m\u001b[0;36m2\u001b[0m\u001b[0;34m,\u001b[0m \u001b[0;36m5\u001b[0m\u001b[0;34m)\u001b[0m\u001b[0;34m\u001b[0m\u001b[0;34m\u001b[0m\u001b[0m\n\u001b[0m\u001b[1;32m      3\u001b[0m \u001b[0mmon_autre_domino\u001b[0m \u001b[0;34m=\u001b[0m \u001b[0mDomino\u001b[0m\u001b[0;34m(\u001b[0m\u001b[0;36m1\u001b[0m\u001b[0;34m,\u001b[0m \u001b[0;36m5\u001b[0m\u001b[0;34m)\u001b[0m\u001b[0;34m\u001b[0m\u001b[0;34m\u001b[0m\u001b[0m\n\u001b[1;32m      4\u001b[0m \u001b[0mmain\u001b[0m \u001b[0;34m=\u001b[0m \u001b[0mMain\u001b[0m\u001b[0;34m(\u001b[0m\u001b[0;34m[\u001b[0m\u001b[0mmon_autre_domino\u001b[0m\u001b[0;34m,\u001b[0m \u001b[0mmon_domino\u001b[0m\u001b[0;34m]\u001b[0m\u001b[0;34m)\u001b[0m\u001b[0;34m\u001b[0m\u001b[0;34m\u001b[0m\u001b[0m\n\u001b[1;32m      5\u001b[0m \u001b[0;32massert\u001b[0m \u001b[0mmain\u001b[0m\u001b[0;34m.\u001b[0m\u001b[0mplus_haute_valeur\u001b[0m\u001b[0;34m(\u001b[0m\u001b[0;34m)\u001b[0m \u001b[0;34m==\u001b[0m \u001b[0;34m(\u001b[0m\u001b[0;36m7\u001b[0m\u001b[0;34m,\u001b[0m \u001b[0;36m1\u001b[0m\u001b[0;34m)\u001b[0m\u001b[0;34m\u001b[0m\u001b[0;34m\u001b[0m\u001b[0m\n",
      "\u001b[0;31mNameError\u001b[0m: name 'Domino' is not defined"
     ]
    }
   ],
   "source": [
    "# plus_haute_valeur\n",
    "mon_domino = Domino(2, 5)\n",
    "mon_autre_domino = Domino(1, 5)\n",
    "main = Main([mon_autre_domino, mon_domino])\n",
    "assert main.plus_haute_valeur() == (7, 1)\n",
    "print('Tests passés avec succès')"
   ]
  },
  {
   "cell_type": "code",
   "execution_count": 4,
   "id": "11d24a4e-8048-4d65-968a-b62a4f2d4a68",
   "metadata": {},
   "outputs": [
    {
     "ename": "NameError",
     "evalue": "name 'Domino' is not defined",
     "output_type": "error",
     "traceback": [
      "\u001b[0;31m---------------------------------------------------------------------------\u001b[0m",
      "\u001b[0;31mNameError\u001b[0m                                 Traceback (most recent call last)",
      "\u001b[0;32m/var/folders/gh/r2m1snfd6sx2kx_rdn26nx000000gn/T/ipykernel_9495/2273074221.py\u001b[0m in \u001b[0;36m<module>\u001b[0;34m\u001b[0m\n\u001b[1;32m      1\u001b[0m \u001b[0;31m# est_compatible()\u001b[0m\u001b[0;34m\u001b[0m\u001b[0;34m\u001b[0m\u001b[0m\n\u001b[0;32m----> 2\u001b[0;31m \u001b[0mmon_domino\u001b[0m \u001b[0;34m=\u001b[0m \u001b[0mDomino\u001b[0m\u001b[0;34m(\u001b[0m\u001b[0;36m2\u001b[0m\u001b[0;34m,\u001b[0m \u001b[0;36m5\u001b[0m\u001b[0;34m)\u001b[0m\u001b[0;34m\u001b[0m\u001b[0;34m\u001b[0m\u001b[0m\n\u001b[0m\u001b[1;32m      3\u001b[0m \u001b[0mmon_autre_domino\u001b[0m \u001b[0;34m=\u001b[0m \u001b[0mDomino\u001b[0m\u001b[0;34m(\u001b[0m\u001b[0;36m1\u001b[0m\u001b[0;34m,\u001b[0m \u001b[0;36m5\u001b[0m\u001b[0;34m)\u001b[0m\u001b[0;34m\u001b[0m\u001b[0;34m\u001b[0m\u001b[0m\n\u001b[1;32m      4\u001b[0m \u001b[0mmain\u001b[0m \u001b[0;34m=\u001b[0m \u001b[0mMain\u001b[0m\u001b[0;34m(\u001b[0m\u001b[0;34m[\u001b[0m\u001b[0mmon_autre_domino\u001b[0m\u001b[0;34m,\u001b[0m \u001b[0mmon_domino\u001b[0m\u001b[0;34m]\u001b[0m\u001b[0;34m)\u001b[0m\u001b[0;34m\u001b[0m\u001b[0;34m\u001b[0m\u001b[0m\n\u001b[1;32m      5\u001b[0m \u001b[0;32massert\u001b[0m \u001b[0mmain\u001b[0m\u001b[0;34m.\u001b[0m\u001b[0mest_compatible\u001b[0m\u001b[0;34m(\u001b[0m\u001b[0;36m0\u001b[0m\u001b[0;34m)\u001b[0m \u001b[0;34m==\u001b[0m \u001b[0;32mTrue\u001b[0m\u001b[0;34m\u001b[0m\u001b[0;34m\u001b[0m\u001b[0m\n",
      "\u001b[0;31mNameError\u001b[0m: name 'Domino' is not defined"
     ]
    }
   ],
   "source": [
    "# est_compatible()\n",
    "mon_domino = Domino(2, 5)\n",
    "mon_autre_domino = Domino(1, 5)\n",
    "main = Main([mon_autre_domino, mon_domino])\n",
    "assert main.est_compatible(0) == True\n",
    "assert main.est_compatible(5) == True\n",
    "assert main.est_compatible(3) == False\n",
    "print('Tests passés avec succès')"
   ]
  },
  {
   "cell_type": "code",
   "execution_count": null,
   "id": "0c694711-1026-4588-a2f9-c1c6b7d496d3",
   "metadata": {},
   "outputs": [],
   "source": []
  }
 ],
 "metadata": {
  "kernelspec": {
   "display_name": "Python 3 (ipykernel)",
   "language": "python",
   "name": "python3"
  },
  "language_info": {
   "codemirror_mode": {
    "name": "ipython",
    "version": 3
   },
   "file_extension": ".py",
   "mimetype": "text/x-python",
   "name": "python",
   "nbconvert_exporter": "python",
   "pygments_lexer": "ipython3",
   "version": "3.9.7"
  }
 },
 "nbformat": 4,
 "nbformat_minor": 5
}
