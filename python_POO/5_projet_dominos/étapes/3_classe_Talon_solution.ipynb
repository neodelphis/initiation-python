{
 "cells": [
  {
   "cell_type": "code",
   "execution_count": 4,
   "id": "dd4f0bde-4dd6-4669-bae7-23e31733b5cf",
   "metadata": {},
   "outputs": [],
   "source": [
    "# Placez ici votre classe Domino\n",
    "from random import randint\n",
    "\n",
    "\n",
    "class Domino:\n",
    "    def __init__(self, valeur_a_gauche=None, valeur_a_droite=None):\n",
    "        if valeur_a_gauche is None:\n",
    "            valeur_a_gauche = randint(0, 6)\n",
    "        if valeur_a_droite is None:\n",
    "            valeur_a_droite = randint(0, 6)\n",
    "        self.valeur_a_gauche = valeur_a_gauche\n",
    "        self.valeur_a_droite = valeur_a_droite\n",
    "        if (self.valeur_a_gauche not in range(7)) or \\\n",
    "                (self.valeur_a_droite not in range(7)):\n",
    "            raise AttributeError('Valeur incorrecte pour le domino')\n",
    "\n",
    "    def inverse(self):\n",
    "        self.valeur_a_gauche, self.valeur_a_droite = self.valeur_a_droite, self.valeur_a_gauche\n",
    "        return self\n",
    "\n",
    "    def score(self):\n",
    "        return self.valeur_a_gauche + self.valeur_a_droite\n",
    "\n",
    "    def est_compatible(self, valeur):\n",
    "        \"\"\"Teste si le domino est compatible avec une valeur passée en paramètre\n",
    "        c'est-à-dire s'il peut être placée à côté de cette valeur\n",
    "        \"\"\"\n",
    "        if valeur == 0:\n",
    "            return True\n",
    "        if self.valeur_a_gauche == valeur or self.valeur_a_droite == valeur or self.valeur_a_gauche == 0 or self.valeur_a_droite == 0:\n",
    "            return True\n",
    "        else:\n",
    "            return False\n",
    "\n",
    "    def __repr__(self):\n",
    "        if self.valeur_a_gauche == 0:\n",
    "            valeur_a_gauche = ' '\n",
    "        else:\n",
    "            valeur_a_gauche = str(self.valeur_a_gauche)\n",
    "        if self.valeur_a_droite == 0:\n",
    "            valeur_a_droite = ' '\n",
    "        else:\n",
    "            valeur_a_droite = str(self.valeur_a_droite)\n",
    "\n",
    "        return f'[{valeur_a_gauche}:{valeur_a_droite}]'"
   ]
  },
  {
   "cell_type": "markdown",
   "id": "ba82eee2-bddc-4ed1-937a-42aee5cf1edf",
   "metadata": {},
   "source": [
    "## Aide à la création de la Classe `Talon`\n",
    "### Attributs\n",
    "Un seul attribut:\n",
    "- t: une liste de dominos\n",
    "\n",
    "### Constructeur\n",
    "1. On veut pouvoir construire une liste de dominos déterminés\n",
    "2. Sans paramètres on construira liste de 10 dominos tirés au hasard\n",
    "\n",
    "### Méthodes\n",
    "Nous aurons besoin au moins des méthodes suivantes:\n",
    "- pioche: renvoie un domino qui est retiré du talon\n",
    "- \\_\\_repr\\_\\_"
   ]
  },
  {
   "cell_type": "markdown",
   "id": "bd93eec2-81fa-427c-b5f9-f34cb514b794",
   "metadata": {
    "tags": []
   },
   "source": [
    "## Classe `Talon`\n",
    "### Structure de code\n",
    "Remplacez tous les endroits où il y a une instruction `pass` par votre code"
   ]
  },
  {
   "cell_type": "code",
   "execution_count": 5,
   "id": "fde64cac-4d87-4e8d-af56-966d80cbfbf0",
   "metadata": {},
   "outputs": [],
   "source": [
    "class Talon:\n",
    "    \"\"\"\n",
    "    Talon (pioche) du jeu de domino\n",
    "    \"\"\"\n",
    "    def __init__(self, t=None):\n",
    "        if t is None:\n",
    "            self.t = [Domino() for _ in range(10)]\n",
    "        else:\n",
    "            self.t = t\n",
    "\n",
    "    def pioche(self):\n",
    "        \"\"\"\n",
    "        Renvoie un domino qui est retiré du talon ou None s'il n'y en a plus de disponible\n",
    "        \"\"\"\n",
    "        domino = None\n",
    "        if self.t:\n",
    "            domino = self.t.pop(0)\n",
    "        return domino\n",
    "\n",
    "    def __repr__(self):\n",
    "        representation = \"\"\n",
    "        if self.t:\n",
    "            for domino in self.t:\n",
    "                representation += repr(domino)\n",
    "        return representation"
   ]
  },
  {
   "cell_type": "markdown",
   "id": "ef12bb5f-d551-4fb2-9776-d5f5ca37f3fc",
   "metadata": {},
   "source": [
    "### Tests unitaires classe `Talon`"
   ]
  },
  {
   "cell_type": "code",
   "execution_count": 6,
   "id": "11d24a4e-8048-4d65-968a-b62a4f2d4a68",
   "metadata": {},
   "outputs": [
    {
     "name": "stdout",
     "output_type": "stream",
     "text": [
      "Tests passés avec succès\n"
     ]
    }
   ],
   "source": [
    "# Test constructeur\n",
    "mon_domino = Domino(2, 5)\n",
    "mon_autre_domino = Domino(1, 5)\n",
    "talon = Talon([mon_domino, mon_autre_domino])\n",
    "assert len(talon.t) == 2\n",
    "talon = Talon()\n",
    "assert len(talon.t) == 10\n",
    "print('Tests passés avec succès')"
   ]
  },
  {
   "cell_type": "code",
   "execution_count": 7,
   "id": "97668c67-2a0a-4caa-9dce-7c2e91194861",
   "metadata": {},
   "outputs": [
    {
     "name": "stdout",
     "output_type": "stream",
     "text": [
      "Tests passés avec succès\n"
     ]
    }
   ],
   "source": [
    "# Test pioche()\n",
    "mon_domino = Domino(2, 5)\n",
    "mon_autre_domino = Domino(1, 5)\n",
    "talon = Talon([mon_domino, mon_autre_domino])\n",
    "talon.pioche()\n",
    "assert len(talon.t) == 1\n",
    "talon.pioche()\n",
    "assert len(talon.t) == 0\n",
    "assert talon.pioche() == None\n",
    "print('Tests passés avec succès')"
   ]
  },
  {
   "cell_type": "code",
   "execution_count": 8,
   "id": "d563ad27-1d31-4d03-8934-f3be7251effb",
   "metadata": {},
   "outputs": [
    {
     "name": "stdout",
     "output_type": "stream",
     "text": [
      "Tests passés avec succès\n"
     ]
    }
   ],
   "source": [
    "# Test pioche()\n",
    "mon_domino = Domino(2, 5)\n",
    "talon = Talon([mon_domino])\n",
    "domino_choisi = talon.pioche()\n",
    "assert domino_choisi.valeur_a_gauche == 2\n",
    "assert domino_choisi.valeur_a_droite == 5\n",
    "print('Tests passés avec succès')"
   ]
  },
  {
   "cell_type": "code",
   "execution_count": 9,
   "id": "aaa4aff0-d099-4f23-b13c-a93b6c6b9c13",
   "metadata": {},
   "outputs": [
    {
     "name": "stdout",
     "output_type": "stream",
     "text": [
      "Tests passés avec succès\n"
     ]
    }
   ],
   "source": [
    "# test __repr__()\n",
    "mon_domino = Domino(2, 5)\n",
    "mon_autre_domino = Domino(1, 5)\n",
    "talon = Talon([mon_domino, mon_autre_domino])\n",
    "assert talon.__repr__() == '[2:5][1:5]'\n",
    "print('Tests passés avec succès')"
   ]
  },
  {
   "cell_type": "code",
   "execution_count": null,
   "id": "dcc26c15-4c43-429f-a6a3-e248b97455b8",
   "metadata": {},
   "outputs": [],
   "source": []
  }
 ],
 "metadata": {
  "kernelspec": {
   "display_name": "Python 3 (ipykernel)",
   "language": "python",
   "name": "python3"
  },
  "language_info": {
   "codemirror_mode": {
    "name": "ipython",
    "version": 3
   },
   "file_extension": ".py",
   "mimetype": "text/x-python",
   "name": "python",
   "nbconvert_exporter": "python",
   "pygments_lexer": "ipython3",
   "version": "3.9.7"
  }
 },
 "nbformat": 4,
 "nbformat_minor": 5
}
