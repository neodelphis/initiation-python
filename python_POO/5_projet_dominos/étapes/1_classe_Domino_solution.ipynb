{
 "cells": [
  {
   "cell_type": "markdown",
   "id": "12729d21-5bb1-4d57-a95f-f6ab1f089af8",
   "metadata": {},
   "source": [
    "# Jeu de dominos\n",
    "POO - mise en application\n",
    "\n",
    "- https://www.agoralude.com/blog/la-regle-du-jeu-de-dominos-n33\n",
    "\n",
    "Quelques modifications des règles:\n",
    "- Les valeurs faciales des dominos sont tirées au hasard\n",
    "- Celui qui a le domino de plus haute valeur commence avec ce domino\n",
    "- Le côté blanc (vide, associé à 0) est compatible avec toute valeur"
   ]
  },
  {
   "cell_type": "markdown",
   "id": "97b3c4fd-249e-429b-82ac-4c5b8c3f20f0",
   "metadata": {},
   "source": [
    "## Aide à la création de la Classe `Domino`\n",
    "### Attributs\n",
    "Nos dominos n'ont que 2 attributs:\n",
    "- valeur_a_gauche\n",
    "- valeur_a_droite\n",
    "\n",
    "### Constructeur\n",
    "1. On veut pouvoir construire un domino avec des valeurs déterminées\n",
    "2. On veut pouvoir construire un domino avec des valeurs tirées au hasard lorsqu'il n'y a pas de paramètres passés en argument au constructeur\n",
    "3. On veut s'assurer que les valeurs des côtés du domino sont comprises entre 0 et 6\n",
    "\n",
    "### Méthodes\n",
    "Nous aurons besoin au moins des méthodes suivantes:\n",
    "- score\n",
    "- inverse\n",
    "- \\_\\_repr\\_\\_\n",
    "\n",
    "La méthode magique \\_\\_repr\\_\\_ est une représentation sous forme de chaîne de caractères de l'objet, utile par exemple pour l'affichage.\n",
    "\n",
    "Si j'ai `d = Domino()` et je fais un `print(d)`, ça me renvoie l'adresse en mémoire où se trouve l'objet `d` de type `Domino`.\n",
    "\n",
    "Or souvent on voudrait plutôt en avoir une représentation. Si la méthode \\_\\_repr\\_\\_ existe elle sera appelée lors du print. Là on voudrait qu'elle renvoie quelque chose du type `[1:2]`  par exemple."
   ]
  },
  {
   "cell_type": "code",
   "execution_count": 1,
   "id": "64aabf2c-1733-49ec-92e7-38332234e719",
   "metadata": {},
   "outputs": [
    {
     "name": "stdout",
     "output_type": "stream",
     "text": [
      "<__main__.ClasseSansRepr object at 0x10588c370>\n",
      "ma représentation de ClasseAvecRepr\n"
     ]
    }
   ],
   "source": [
    "# Exemple usage __repr__\n",
    "class ClasseSansRepr():\n",
    "    pass\n",
    "csr = ClasseSansRepr()\n",
    "print(csr)\n",
    "\n",
    "class ClasseAvecRepr():\n",
    "    def __repr__(self):\n",
    "        return \"ma représentation de ClasseAvecRepr\"\n",
    "car = ClasseAvecRepr()\n",
    "print(car)"
   ]
  },
  {
   "cell_type": "markdown",
   "id": "03fef504-b74f-41a9-a193-f292ec3e9d0d",
   "metadata": {},
   "source": [
    "## Classe `Domino`\n",
    "### Structure de code\n",
    "Remplacer tous les endroits où il y a une instruction `pass` par votre code"
   ]
  },
  {
   "cell_type": "code",
   "execution_count": 2,
   "id": "c961afb4-fd17-44b0-925b-005674a015fe",
   "metadata": {},
   "outputs": [],
   "source": [
    "from random import randint\n",
    "\n",
    "\n",
    "class Domino:\n",
    "    def __init__(self, valeur_a_gauche=None, valeur_a_droite=None):\n",
    "        if valeur_a_gauche is None:\n",
    "            valeur_a_gauche = randint(0, 6)\n",
    "        if valeur_a_droite is None:\n",
    "            valeur_a_droite = randint(0, 6)\n",
    "        self.valeur_a_gauche = valeur_a_gauche\n",
    "        self.valeur_a_droite = valeur_a_droite\n",
    "        if (self.valeur_a_gauche not in range(7)) or \\\n",
    "                (self.valeur_a_droite not in range(7)):\n",
    "            raise AttributeError('Valeur incorrecte pour le domino')\n",
    "\n",
    "    def inverse(self):\n",
    "        self.valeur_a_gauche, self.valeur_a_droite = self.valeur_a_droite, self.valeur_a_gauche\n",
    "        return self\n",
    "\n",
    "    def score(self):\n",
    "        return self.valeur_a_gauche + self.valeur_a_droite\n",
    "\n",
    "    def est_compatible(self, valeur):\n",
    "        \"\"\"Teste si le domino est compatible avec une valeur passée en paramètre\n",
    "        c'est-à-dire s'il peut être placée à côté de cette valeur\n",
    "        \"\"\"\n",
    "        if valeur == 0:\n",
    "            return True\n",
    "        if self.valeur_a_gauche == valeur or self.valeur_a_droite == valeur or self.valeur_a_gauche == 0 or self.valeur_a_droite == 0:\n",
    "            return True\n",
    "        else:\n",
    "            return False\n",
    "\n",
    "    def __repr__(self):\n",
    "        if self.valeur_a_gauche == 0:\n",
    "            valeur_a_gauche = ' '\n",
    "        else:\n",
    "            valeur_a_gauche = str(self.valeur_a_gauche)\n",
    "        if self.valeur_a_droite == 0:\n",
    "            valeur_a_droite = ' '\n",
    "        else:\n",
    "            valeur_a_droite = str(self.valeur_a_droite)\n",
    "\n",
    "        return f'[{valeur_a_gauche}:{valeur_a_droite}]'"
   ]
  },
  {
   "cell_type": "markdown",
   "id": "d57ed0de-2e3a-456a-9c1c-f691be480a12",
   "metadata": {},
   "source": [
    "### Tests unitaires classe `Domino`"
   ]
  },
  {
   "cell_type": "code",
   "execution_count": 3,
   "id": "dfd9a17b-cb6b-4f5b-a5d7-cd96425105aa",
   "metadata": {},
   "outputs": [],
   "source": [
    "# Test constructeur\n",
    "mon_domino = Domino(0, 5)\n",
    "assert mon_domino.valeur_a_gauche == 0\n",
    "assert mon_domino.valeur_a_droite == 5\n",
    "\n",
    "mon_second_domino = Domino()\n",
    "assert mon_second_domino.valeur_a_gauche in range(0, 7)\n",
    "assert mon_second_domino.valeur_a_droite in range(0, 7)"
   ]
  },
  {
   "cell_type": "code",
   "execution_count": 4,
   "id": "07e03b65-d9a7-4bec-ae92-6b5d64d41dc5",
   "metadata": {},
   "outputs": [
    {
     "name": "stdout",
     "output_type": "stream",
     "text": [
      "[ :5] [1:4]\n"
     ]
    }
   ],
   "source": [
    "# Test __repr__\n",
    "mon_domino = Domino(0, 5)\n",
    "mon_autre_domino = Domino(1, 4)\n",
    "\n",
    "assert mon_autre_domino.__repr__() == '[1:4]'\n",
    "assert mon_domino.__repr__() == '[ :5]'\n",
    "print(mon_domino, mon_autre_domino)"
   ]
  },
  {
   "cell_type": "code",
   "execution_count": 5,
   "id": "7ca9751c-a29d-4b69-a36b-6001aee2d01a",
   "metadata": {},
   "outputs": [],
   "source": [
    "# Doit lever une exception\n",
    "#mon_faux_domino = Domino(1, 7)\n",
    "#mon_faux_domino = Domino(-1, 0)\n",
    "#mon_faux_domino = Domino(7, 7)"
   ]
  },
  {
   "cell_type": "code",
   "execution_count": 6,
   "id": "138856a4-ba10-4c1a-909e-894a50c55ee4",
   "metadata": {},
   "outputs": [
    {
     "name": "stdout",
     "output_type": "stream",
     "text": [
      "[ :5]\n",
      "[5: ]\n"
     ]
    }
   ],
   "source": [
    "# Test inverse()\n",
    "mon_domino = Domino(0, 5)\n",
    "print(mon_domino)\n",
    "mon_domino.inverse()\n",
    "assert mon_domino.valeur_a_gauche == 5\n",
    "assert mon_domino.valeur_a_droite == 0\n",
    "print(mon_domino)"
   ]
  },
  {
   "cell_type": "code",
   "execution_count": 7,
   "id": "53d1d193-855c-4d06-b5e3-f20a05880019",
   "metadata": {},
   "outputs": [],
   "source": [
    "# Test score()\n",
    "mon_autre_domino = Domino(1, 4)\n",
    "assert mon_autre_domino.score() == 5"
   ]
  },
  {
   "cell_type": "code",
   "execution_count": 8,
   "id": "c3b2f6f4-4be0-4afd-b7d1-c5be7ab6e95b",
   "metadata": {},
   "outputs": [],
   "source": [
    "# Test est_compatible()\n",
    "mon_domino = Domino(0, 5)\n",
    "assert mon_domino.est_compatible(4) == True\n",
    "mon_autre_domino = Domino(1, 4)\n",
    "assert mon_autre_domino.est_compatible(4) == True\n",
    "assert mon_autre_domino.est_compatible(5) == False\n",
    "assert mon_autre_domino.est_compatible(0) == True"
   ]
  },
  {
   "cell_type": "code",
   "execution_count": null,
   "id": "5da5f9d6-ca02-40c8-a0ca-1803130ad7d6",
   "metadata": {},
   "outputs": [],
   "source": []
  }
 ],
 "metadata": {
  "kernelspec": {
   "display_name": "Python 3 (ipykernel)",
   "language": "python",
   "name": "python3"
  },
  "language_info": {
   "codemirror_mode": {
    "name": "ipython",
    "version": 3
   },
   "file_extension": ".py",
   "mimetype": "text/x-python",
   "name": "python",
   "nbconvert_exporter": "python",
   "pygments_lexer": "ipython3",
   "version": "3.9.7"
  }
 },
 "nbformat": 4,
 "nbformat_minor": 5
}
