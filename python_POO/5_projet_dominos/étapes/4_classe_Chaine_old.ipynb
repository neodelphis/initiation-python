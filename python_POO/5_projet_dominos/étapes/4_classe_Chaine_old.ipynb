{
 "cells": [
  {
   "cell_type": "code",
   "execution_count": 6,
   "id": "dd4f0bde-4dd6-4669-bae7-23e31733b5cf",
   "metadata": {},
   "outputs": [],
   "source": [
    "# Placez ici votre classe Domino"
   ]
  },
  {
   "cell_type": "markdown",
   "id": "ba82eee2-bddc-4ed1-937a-42aee5cf1edf",
   "metadata": {},
   "source": [
    "## Aide à la création de la Classe `Chaine`\n",
    "Représentation de la chaîne de jeu sur le plateau, par exemple: `[1: ][3:5][5:2]`\n",
    "\n",
    "### Attributs\n",
    "- c: une liste ordonnée des dominos selon le placement\n",
    "- valeur_a_gauche : valeur la plus à gauche de la chaîne\n",
    "- valeur_a_droite : valeur la plus à droite de la chaîne\n",
    "\n",
    "### Constructeur\n",
    "1. Initialisation à vide et None des différents attributs\n",
    "\n",
    "### Méthodes\n",
    "Nous aurons besoin au moins des méthodes suivantes:\n",
    "- pioche: renvoie un domino qui est retiré du talon\n",
    "- pose_premier\n",
    "- ajoute_au_cote_gauche\n",
    "- ajoute_au_cote_droit\n",
    "- \\_\\_repr\\_\\_"
   ]
  },
  {
   "cell_type": "markdown",
   "id": "bd93eec2-81fa-427c-b5f9-f34cb514b794",
   "metadata": {
    "tags": []
   },
   "source": [
    "## Classe `Chaine`\n",
    "### Structure de code\n",
    "Remplacez tous les endroits où il y a une instruction `pass` par votre code"
   ]
  },
  {
   "cell_type": "code",
   "execution_count": 1,
   "id": "fde64cac-4d87-4e8d-af56-966d80cbfbf0",
   "metadata": {},
   "outputs": [],
   "source": [
    "class Chaine:\n",
    "    \"\"\"\n",
    "    Représentation de la chaîne de jeu\n",
    "    exemple: [1: ][3:5][5:2]\n",
    "    En plus de la liste ordonnée des dominos selon le placement,\n",
    "    Deux valeurs seront stockées:\n",
    "    valeur_a_gauche dans notre exemple 1\n",
    "    valeur_a_droite dans notre exemple 2\n",
    "    \"\"\"\n",
    "\n",
    "    def __init__(self):\n",
    "        pass\n",
    "\n",
    "\n",
    "    def extremites(self):\n",
    "        pass\n",
    "\n",
    "    def pose_premier(self, domino):\n",
    "        pass\n",
    "\n",
    "\n",
    "    def ajoute_au_cote_gauche(self, domino):\n",
    "        pass\n",
    "\n",
    "\n",
    "    def ajoute_au_cote_droit(self, domino):\n",
    "        pass\n",
    "\n",
    "\n",
    "    def __repr__(self):\n",
    "        pass\n"
   ]
  },
  {
   "cell_type": "markdown",
   "id": "ef12bb5f-d551-4fb2-9776-d5f5ca37f3fc",
   "metadata": {},
   "source": [
    "### Tests unitaires classe `Chaine`"
   ]
  },
  {
   "cell_type": "code",
   "execution_count": 2,
   "id": "11d24a4e-8048-4d65-968a-b62a4f2d4a68",
   "metadata": {},
   "outputs": [
    {
     "ename": "NameError",
     "evalue": "name 'Domino' is not defined",
     "output_type": "error",
     "traceback": [
      "\u001b[0;31m---------------------------------------------------------------------------\u001b[0m",
      "\u001b[0;31mNameError\u001b[0m                                 Traceback (most recent call last)",
      "\u001b[0;32m/var/folders/gh/r2m1snfd6sx2kx_rdn26nx000000gn/T/ipykernel_76096/2762635580.py\u001b[0m in \u001b[0;36m<module>\u001b[0;34m\u001b[0m\n\u001b[1;32m      1\u001b[0m \u001b[0mchaine\u001b[0m \u001b[0;34m=\u001b[0m \u001b[0mChaine\u001b[0m\u001b[0;34m(\u001b[0m\u001b[0;34m)\u001b[0m\u001b[0;34m\u001b[0m\u001b[0;34m\u001b[0m\u001b[0m\n\u001b[0;32m----> 2\u001b[0;31m \u001b[0mmon_domino\u001b[0m \u001b[0;34m=\u001b[0m \u001b[0mDomino\u001b[0m\u001b[0;34m(\u001b[0m\u001b[0;36m0\u001b[0m\u001b[0;34m,\u001b[0m \u001b[0;36m5\u001b[0m\u001b[0;34m)\u001b[0m\u001b[0;34m\u001b[0m\u001b[0;34m\u001b[0m\u001b[0m\n\u001b[0m\u001b[1;32m      3\u001b[0m \u001b[0mchaine\u001b[0m\u001b[0;34m.\u001b[0m\u001b[0mpose_premier\u001b[0m\u001b[0;34m(\u001b[0m\u001b[0mmon_domino\u001b[0m\u001b[0;34m)\u001b[0m\u001b[0;34m\u001b[0m\u001b[0;34m\u001b[0m\u001b[0m\n\u001b[1;32m      4\u001b[0m \u001b[0;32massert\u001b[0m \u001b[0mchaine\u001b[0m\u001b[0;34m.\u001b[0m\u001b[0mvaleur_a_gauche\u001b[0m \u001b[0;34m==\u001b[0m \u001b[0;36m0\u001b[0m\u001b[0;34m\u001b[0m\u001b[0;34m\u001b[0m\u001b[0m\n\u001b[1;32m      5\u001b[0m \u001b[0;32massert\u001b[0m \u001b[0mchaine\u001b[0m\u001b[0;34m.\u001b[0m\u001b[0mvaleur_a_droite\u001b[0m \u001b[0;34m==\u001b[0m \u001b[0;36m5\u001b[0m\u001b[0;34m\u001b[0m\u001b[0;34m\u001b[0m\u001b[0m\n",
      "\u001b[0;31mNameError\u001b[0m: name 'Domino' is not defined"
     ]
    }
   ],
   "source": [
    "chaine = Chaine()\n",
    "mon_domino = Domino(0, 5)\n",
    "chaine.pose_premier(mon_domino)\n",
    "assert chaine.valeur_a_gauche == 0\n",
    "assert chaine.valeur_a_droite == 5"
   ]
  },
  {
   "cell_type": "code",
   "execution_count": 3,
   "id": "97668c67-2a0a-4caa-9dce-7c2e91194861",
   "metadata": {},
   "outputs": [
    {
     "ename": "NameError",
     "evalue": "name 'Domino' is not defined",
     "output_type": "error",
     "traceback": [
      "\u001b[0;31m---------------------------------------------------------------------------\u001b[0m",
      "\u001b[0;31mNameError\u001b[0m                                 Traceback (most recent call last)",
      "\u001b[0;32m/var/folders/gh/r2m1snfd6sx2kx_rdn26nx000000gn/T/ipykernel_76096/2539948967.py\u001b[0m in \u001b[0;36m<module>\u001b[0;34m\u001b[0m\n\u001b[1;32m      2\u001b[0m \u001b[0;31m# [3:5], [5:2], [1: ]\u001b[0m\u001b[0;34m\u001b[0m\u001b[0;34m\u001b[0m\u001b[0m\n\u001b[1;32m      3\u001b[0m \u001b[0;34m\u001b[0m\u001b[0m\n\u001b[0;32m----> 4\u001b[0;31m \u001b[0mpremier_domino\u001b[0m \u001b[0;34m=\u001b[0m \u001b[0mDomino\u001b[0m\u001b[0;34m(\u001b[0m\u001b[0;36m3\u001b[0m\u001b[0;34m,\u001b[0m \u001b[0;36m5\u001b[0m\u001b[0;34m)\u001b[0m\u001b[0;34m\u001b[0m\u001b[0;34m\u001b[0m\u001b[0m\n\u001b[0m\u001b[1;32m      5\u001b[0m \u001b[0mdeuxieme_domino\u001b[0m \u001b[0;34m=\u001b[0m \u001b[0mDomino\u001b[0m\u001b[0;34m(\u001b[0m\u001b[0;36m2\u001b[0m\u001b[0;34m,\u001b[0m \u001b[0;36m5\u001b[0m\u001b[0;34m)\u001b[0m\u001b[0;34m\u001b[0m\u001b[0;34m\u001b[0m\u001b[0m\n\u001b[1;32m      6\u001b[0m \u001b[0mtroisieme_domino\u001b[0m \u001b[0;34m=\u001b[0m \u001b[0mDomino\u001b[0m\u001b[0;34m(\u001b[0m\u001b[0;36m1\u001b[0m\u001b[0;34m,\u001b[0m \u001b[0;36m0\u001b[0m\u001b[0;34m)\u001b[0m\u001b[0;34m\u001b[0m\u001b[0;34m\u001b[0m\u001b[0m\n",
      "\u001b[0;31mNameError\u001b[0m: name 'Domino' is not defined"
     ]
    }
   ],
   "source": [
    "# Les dominos:\n",
    "# [3:5], [5:2], [1: ]\n",
    "\n",
    "premier_domino = Domino(3, 5)\n",
    "deuxieme_domino = Domino(2, 5)\n",
    "troisieme_domino = Domino(1, 0)\n",
    "\n",
    "# Placement\n",
    "#      [3:5]\n",
    "#      [3:5][5:2]\n",
    "# [1: ][3:5][5:2]\n",
    "\n",
    "chaine = Chaine()\n",
    "chaine.pose_premier(premier_domino)\n",
    "chaine.ajoute_au_cote_droit(deuxieme_domino.inverse())\n",
    "chaine.ajoute_au_cote_gauche(troisieme_domino)\n",
    "assert chaine.valeur_a_gauche == 1\n",
    "assert chaine.valeur_a_droite == 2"
   ]
  },
  {
   "cell_type": "code",
   "execution_count": 4,
   "id": "d563ad27-1d31-4d03-8934-f3be7251effb",
   "metadata": {},
   "outputs": [
    {
     "ename": "TypeError",
     "evalue": "__repr__ returned non-string (type NoneType)",
     "output_type": "error",
     "traceback": [
      "\u001b[0;31m---------------------------------------------------------------------------\u001b[0m",
      "\u001b[0;31mTypeError\u001b[0m                                 Traceback (most recent call last)",
      "\u001b[0;32m~/miniforge3/lib/python3.9/site-packages/IPython/core/formatters.py\u001b[0m in \u001b[0;36m__call__\u001b[0;34m(self, obj)\u001b[0m\n\u001b[1;32m    700\u001b[0m                 \u001b[0mtype_pprinters\u001b[0m\u001b[0;34m=\u001b[0m\u001b[0mself\u001b[0m\u001b[0;34m.\u001b[0m\u001b[0mtype_printers\u001b[0m\u001b[0;34m,\u001b[0m\u001b[0;34m\u001b[0m\u001b[0;34m\u001b[0m\u001b[0m\n\u001b[1;32m    701\u001b[0m                 deferred_pprinters=self.deferred_printers)\n\u001b[0;32m--> 702\u001b[0;31m             \u001b[0mprinter\u001b[0m\u001b[0;34m.\u001b[0m\u001b[0mpretty\u001b[0m\u001b[0;34m(\u001b[0m\u001b[0mobj\u001b[0m\u001b[0;34m)\u001b[0m\u001b[0;34m\u001b[0m\u001b[0;34m\u001b[0m\u001b[0m\n\u001b[0m\u001b[1;32m    703\u001b[0m             \u001b[0mprinter\u001b[0m\u001b[0;34m.\u001b[0m\u001b[0mflush\u001b[0m\u001b[0;34m(\u001b[0m\u001b[0;34m)\u001b[0m\u001b[0;34m\u001b[0m\u001b[0;34m\u001b[0m\u001b[0m\n\u001b[1;32m    704\u001b[0m             \u001b[0;32mreturn\u001b[0m \u001b[0mstream\u001b[0m\u001b[0;34m.\u001b[0m\u001b[0mgetvalue\u001b[0m\u001b[0;34m(\u001b[0m\u001b[0;34m)\u001b[0m\u001b[0;34m\u001b[0m\u001b[0;34m\u001b[0m\u001b[0m\n",
      "\u001b[0;32m~/miniforge3/lib/python3.9/site-packages/IPython/lib/pretty.py\u001b[0m in \u001b[0;36mpretty\u001b[0;34m(self, obj)\u001b[0m\n\u001b[1;32m    392\u001b[0m                         \u001b[0;32mif\u001b[0m \u001b[0mcls\u001b[0m \u001b[0;32mis\u001b[0m \u001b[0;32mnot\u001b[0m \u001b[0mobject\u001b[0m\u001b[0;31m \u001b[0m\u001b[0;31m\\\u001b[0m\u001b[0;34m\u001b[0m\u001b[0;34m\u001b[0m\u001b[0m\n\u001b[1;32m    393\u001b[0m                                 \u001b[0;32mand\u001b[0m \u001b[0mcallable\u001b[0m\u001b[0;34m(\u001b[0m\u001b[0mcls\u001b[0m\u001b[0;34m.\u001b[0m\u001b[0m__dict__\u001b[0m\u001b[0;34m.\u001b[0m\u001b[0mget\u001b[0m\u001b[0;34m(\u001b[0m\u001b[0;34m'__repr__'\u001b[0m\u001b[0;34m)\u001b[0m\u001b[0;34m)\u001b[0m\u001b[0;34m:\u001b[0m\u001b[0;34m\u001b[0m\u001b[0;34m\u001b[0m\u001b[0m\n\u001b[0;32m--> 394\u001b[0;31m                             \u001b[0;32mreturn\u001b[0m \u001b[0m_repr_pprint\u001b[0m\u001b[0;34m(\u001b[0m\u001b[0mobj\u001b[0m\u001b[0;34m,\u001b[0m \u001b[0mself\u001b[0m\u001b[0;34m,\u001b[0m \u001b[0mcycle\u001b[0m\u001b[0;34m)\u001b[0m\u001b[0;34m\u001b[0m\u001b[0;34m\u001b[0m\u001b[0m\n\u001b[0m\u001b[1;32m    395\u001b[0m \u001b[0;34m\u001b[0m\u001b[0m\n\u001b[1;32m    396\u001b[0m             \u001b[0;32mreturn\u001b[0m \u001b[0m_default_pprint\u001b[0m\u001b[0;34m(\u001b[0m\u001b[0mobj\u001b[0m\u001b[0;34m,\u001b[0m \u001b[0mself\u001b[0m\u001b[0;34m,\u001b[0m \u001b[0mcycle\u001b[0m\u001b[0;34m)\u001b[0m\u001b[0;34m\u001b[0m\u001b[0;34m\u001b[0m\u001b[0m\n",
      "\u001b[0;32m~/miniforge3/lib/python3.9/site-packages/IPython/lib/pretty.py\u001b[0m in \u001b[0;36m_repr_pprint\u001b[0;34m(obj, p, cycle)\u001b[0m\n\u001b[1;32m    698\u001b[0m     \u001b[0;34m\"\"\"A pprint that just redirects to the normal repr function.\"\"\"\u001b[0m\u001b[0;34m\u001b[0m\u001b[0;34m\u001b[0m\u001b[0m\n\u001b[1;32m    699\u001b[0m     \u001b[0;31m# Find newlines and replace them with p.break_()\u001b[0m\u001b[0;34m\u001b[0m\u001b[0;34m\u001b[0m\u001b[0m\n\u001b[0;32m--> 700\u001b[0;31m     \u001b[0moutput\u001b[0m \u001b[0;34m=\u001b[0m \u001b[0mrepr\u001b[0m\u001b[0;34m(\u001b[0m\u001b[0mobj\u001b[0m\u001b[0;34m)\u001b[0m\u001b[0;34m\u001b[0m\u001b[0;34m\u001b[0m\u001b[0m\n\u001b[0m\u001b[1;32m    701\u001b[0m     \u001b[0mlines\u001b[0m \u001b[0;34m=\u001b[0m \u001b[0moutput\u001b[0m\u001b[0;34m.\u001b[0m\u001b[0msplitlines\u001b[0m\u001b[0;34m(\u001b[0m\u001b[0;34m)\u001b[0m\u001b[0;34m\u001b[0m\u001b[0;34m\u001b[0m\u001b[0m\n\u001b[1;32m    702\u001b[0m     \u001b[0;32mwith\u001b[0m \u001b[0mp\u001b[0m\u001b[0;34m.\u001b[0m\u001b[0mgroup\u001b[0m\u001b[0;34m(\u001b[0m\u001b[0;34m)\u001b[0m\u001b[0;34m:\u001b[0m\u001b[0;34m\u001b[0m\u001b[0;34m\u001b[0m\u001b[0m\n",
      "\u001b[0;31mTypeError\u001b[0m: __repr__ returned non-string (type NoneType)"
     ]
    }
   ],
   "source": [
    "chaine"
   ]
  },
  {
   "cell_type": "code",
   "execution_count": null,
   "id": "0c694711-1026-4588-a2f9-c1c6b7d496d3",
   "metadata": {},
   "outputs": [],
   "source": []
  }
 ],
 "metadata": {
  "kernelspec": {
   "display_name": "Python 3 (ipykernel)",
   "language": "python",
   "name": "python3"
  },
  "language_info": {
   "codemirror_mode": {
    "name": "ipython",
    "version": 3
   },
   "file_extension": ".py",
   "mimetype": "text/x-python",
   "name": "python",
   "nbconvert_exporter": "python",
   "pygments_lexer": "ipython3",
   "version": "3.9.7"
  }
 },
 "nbformat": 4,
 "nbformat_minor": 5
}
