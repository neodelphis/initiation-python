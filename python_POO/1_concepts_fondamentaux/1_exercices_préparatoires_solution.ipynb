{
 "cells": [
  {
   "cell_type": "markdown",
   "metadata": {},
   "source": [
    "# Exercices préparatoires\n"
   ]
  },
  {
   "cell_type": "markdown",
   "metadata": {},
   "source": [
    "## Classe ou objet ?\n",
    "Différencier les classes des objets (instances de classe) dans les propositions suivantes : Footballeur, Zidane, Basket, Sport, Voiture, Clio, Rouge, Bleu, Humain, Couleur, Mégane, Manaudou."
   ]
  },
  {
   "cell_type": "markdown",
   "metadata": {},
   "source": [
    "`Classes : Footballeur, Sport, Voiture, Couleur, Humain  \n",
    "Objets (intances de classe): Zidane, Basket, Clio, Mégane, Rouge, Bleu, Manaudou.`"
   ]
  },
  {
   "cell_type": "markdown",
   "metadata": {},
   "source": [
    "## Attributs de classe\n",
    "Les étudiants sont caractérisés par leur numéro d’étudiant, leur nom, leur prénom, leur date de naissance et leur adresse.\n",
    "Identifier les attributs de la classe Etudiant."
   ]
  },
  {
   "cell_type": "markdown",
   "metadata": {},
   "source": [
    "`Attributs de la classe Etudiant:  \n",
    "numéro d’étudiant, nom, prénom, date de naissance, adresse`\n"
   ]
  },
  {
   "cell_type": "markdown",
   "metadata": {},
   "source": [
    "# Classe pour les nombres complexes\n",
    "Un complexe z est composé d’une partie réelle x et d’une partie imaginaire y, tel que $$z = x + i.y$$\n",
    "Nous proposons ici d’implémenter une classe Complexe.\n"
   ]
  },
  {
   "cell_type": "markdown",
   "metadata": {},
   "source": [
    "## Définition\n",
    "- Définir une classe `Complexe`\n",
    "- Commenter la classe `Complexe`\n",
    "En python, si la première ligne suivant l’instruction class est une chaîne de caractères, celle-ci sera considérée comme un commentaire et incorporée automatiquement dans un dispositif de documentation des classes qui fait partie intégrante de Python. Prenez donc l’habitude de toujours placer une chaîne décrivant la classe à cet endroit.\n"
   ]
  },
  {
   "cell_type": "code",
   "execution_count": 9,
   "metadata": {},
   "outputs": [],
   "source": [
    "class Complexe:\n",
    "    \"\"\"Classe pour travailler avec les nombres complexes\n",
    "    \"\"\"\n",
    "    pass"
   ]
  },
  {
   "cell_type": "markdown",
   "metadata": {},
   "source": [
    "## Constructeur\n",
    "- Ajouter un constructeur\n",
    "- Ajouter deux attributs x et y\n",
    "- Ajouter au constructeur la possibilité de spécifier les valeurs de x et y\n"
   ]
  },
  {
   "cell_type": "code",
   "execution_count": 10,
   "metadata": {},
   "outputs": [],
   "source": [
    "class Complexe:\n",
    "    \"\"\"Classe pour travailler avec les nombres complexes\n",
    "    \"\"\"\n",
    "    def __init__(self, x=0, y=0):\n",
    "        self.x = x\n",
    "        self.y = y"
   ]
  },
  {
   "cell_type": "markdown",
   "metadata": {},
   "source": [
    "## Instanciation d'un objet\n",
    "Nous venons de définir une classe `Complexe`. Nous pouvons dès à présent nous en servir pour créer des objets de ce type, par instanciation.\n",
    "\n",
    "Créer un objet c1, instance de la classe Complexe."
   ]
  },
  {
   "cell_type": "code",
   "execution_count": 11,
   "metadata": {},
   "outputs": [],
   "source": [
    "c1 = Complexe()"
   ]
  },
  {
   "cell_type": "markdown",
   "metadata": {},
   "source": [
    "## Identité\n",
    "Effectuer les manipulations suivantes avec notre nouvel objet c1:\n",
    "```\n",
    "print(c1.__doc__)\n",
    "print(c1)\n",
    "```\n",
    "Que remarquez vous ?"
   ]
  },
  {
   "cell_type": "code",
   "execution_count": 12,
   "metadata": {},
   "outputs": [
    {
     "name": "stdout",
     "output_type": "stream",
     "text": [
      "Classe pour travailler avec les nombres complexes\n",
      "    \n",
      "<__main__.Complexe object at 0x7f8d9deec8d0>\n"
     ]
    }
   ],
   "source": [
    "print(c1.__doc__)\n",
    "print(c1)"
   ]
  },
  {
   "cell_type": "markdown",
   "metadata": {},
   "source": [
    "## Comportement\n",
    "- Affecter la valeur 3 à l’attribut x et 4 à l’attribut y de l’objet c1\n",
    "- Les fonctions peuvent utiliser des objets comme paramètres.  \n",
    "Définir une fonction affiche_complexe qui affiche les valeurs du complexe passé en paramètre.\n",
    "Testez la avec l’objet c1.\n",
    "- Créer une méthode (fonction dans la classe) show qui affiche les attributs de la classe Complexe.\n",
    "Testez la avec l’objet c1."
   ]
  },
  {
   "cell_type": "code",
   "execution_count": 13,
   "metadata": {},
   "outputs": [
    {
     "name": "stdout",
     "output_type": "stream",
     "text": [
      "3 + i . 4\n"
     ]
    }
   ],
   "source": [
    "c1.x = 3\n",
    "c1.y = 4\n",
    "\n",
    "def affiche_complexe(c):\n",
    "    print(f'{c.x} + i . {c.y}')\n",
    "    \n",
    "affiche_complexe(c1)"
   ]
  },
  {
   "cell_type": "markdown",
   "metadata": {},
   "source": [
    "## Manipulation de plusieurs objets\n",
    "- Créer une fonction `compare_complexes` qui renvoie vrai si chaque attribut de deux objets sont identiques.\n",
    "- Créer un objet c2 de type `Complexe`, tester `compare_complexes`"
   ]
  },
  {
   "cell_type": "code",
   "execution_count": 16,
   "metadata": {},
   "outputs": [
    {
     "name": "stdout",
     "output_type": "stream",
     "text": [
      "False\n",
      "True\n"
     ]
    }
   ],
   "source": [
    "def compare_complexes(c1, c2):\n",
    "    if c1.x == c2.x and c1.y == c2.y:\n",
    "        return True\n",
    "    else:\n",
    "        return False\n",
    "\n",
    "c1 = Complexe(3, 4)\n",
    "c2 = Complexe(1, 2)\n",
    "print(compare_complexes(c1, c2))\n",
    "print(compare_complexes(c1, c1))"
   ]
  },
  {
   "cell_type": "markdown",
   "metadata": {},
   "source": [
    "## Manipulation de plusieurs objets Python\n",
    "- Affecter la valeur 3 à l’attribut x et 4 à l’attribut y de l’objet c2.\n",
    "- Ajouter une méthode clone qui recopie un objet de type Complexe.\n",
    "- Effectuer les manipulations suivantes :\n",
    "```\n",
    "print (c1 == c2)\n",
    "c1 = c2\n",
    "print (c1 == c2)\n",
    "c3 = c1.clone()\n",
    "print (c1 == c3)\n",
    "```\n",
    "Que remarquez vous ?"
   ]
  },
  {
   "cell_type": "code",
   "execution_count": 37,
   "metadata": {},
   "outputs": [],
   "source": [
    "class Complexe:\n",
    "    \"\"\"Classe pour travailler avec les nombres complexes\n",
    "    \"\"\"\n",
    "    def __init__(self, x=0, y=0):\n",
    "        self.x = x\n",
    "        self.y = y\n",
    "\n",
    "    def clone_adresse(self):\n",
    "        return self\n",
    "\n",
    "    def clone(self):\n",
    "        return Complexe(self.x, self.y)"
   ]
  },
  {
   "cell_type": "code",
   "execution_count": 38,
   "metadata": {},
   "outputs": [
    {
     "name": "stdout",
     "output_type": "stream",
     "text": [
      "False\n"
     ]
    }
   ],
   "source": [
    "c1 = Complexe(3, 4)\n",
    "c2 = Complexe(3, 4)\n",
    "print (c1 == c2)"
   ]
  },
  {
   "cell_type": "code",
   "execution_count": 39,
   "metadata": {},
   "outputs": [
    {
     "name": "stdout",
     "output_type": "stream",
     "text": [
      "True\n"
     ]
    }
   ],
   "source": [
    "c1 = c2\n",
    "print (c1 == c2)"
   ]
  },
  {
   "cell_type": "code",
   "execution_count": 42,
   "metadata": {},
   "outputs": [
    {
     "name": "stdout",
     "output_type": "stream",
     "text": [
      "False\n"
     ]
    },
    {
     "data": {
      "text/plain": [
       "3"
      ]
     },
     "execution_count": 42,
     "metadata": {},
     "output_type": "execute_result"
    }
   ],
   "source": [
    "c3 = c1.clone()\n",
    "print (c1 == c3)\n",
    "c3.x = 100\n",
    "c1.x"
   ]
  },
  {
   "cell_type": "code",
   "execution_count": 45,
   "metadata": {},
   "outputs": [
    {
     "name": "stdout",
     "output_type": "stream",
     "text": [
      "True\n"
     ]
    },
    {
     "data": {
      "text/plain": [
       "100"
      ]
     },
     "execution_count": 45,
     "metadata": {},
     "output_type": "execute_result"
    }
   ],
   "source": [
    "c4 = c1.clone_adresse()\n",
    "print (c4 == c1)\n",
    "c4.x = 100\n",
    "c1.x"
   ]
  },
  {
   "cell_type": "code",
   "execution_count": null,
   "metadata": {},
   "outputs": [],
   "source": []
  }
 ],
 "metadata": {
  "kernelspec": {
   "display_name": "Python 3 (ipykernel)",
   "language": "python",
   "name": "python3"
  },
  "language_info": {
   "codemirror_mode": {
    "name": "ipython",
    "version": 3
   },
   "file_extension": ".py",
   "mimetype": "text/x-python",
   "name": "python",
   "nbconvert_exporter": "python",
   "pygments_lexer": "ipython3",
   "version": "3.9.7"
  }
 },
 "nbformat": 4,
 "nbformat_minor": 4
}
