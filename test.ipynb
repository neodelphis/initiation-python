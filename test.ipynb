{
 "cells": [
  {
   "cell_type": "code",
   "execution_count": 2,
   "id": "e9b033c9",
   "metadata": {},
   "outputs": [
    {
     "data": {
      "text/plain": [
       "1"
      ]
     },
     "execution_count": 2,
     "metadata": {},
     "output_type": "execute_result"
    }
   ],
   "source": [
    "a = 0\n",
    "a += 1\n",
    "a"
   ]
  },
  {
   "cell_type": "code",
   "execution_count": null,
   "id": "8f6354fa",
   "metadata": {},
   "outputs": [],
   "source": [
    "a += 1\n",
    "a\n"
   ]
  },
  {
   "cell_type": "code",
   "execution_count": 5,
   "id": "26911ed7",
   "metadata": {},
   "outputs": [
    {
     "data": {
      "text/plain": [
       "(1, True)"
      ]
     },
     "execution_count": 5,
     "metadata": {},
     "output_type": "execute_result"
    }
   ],
   "source": [
    "d ={'a': 1, 2: True}\n",
    "d['a'], d[2]"
   ]
  },
  {
   "cell_type": "code",
   "execution_count": 7,
   "id": "ee91f235",
   "metadata": {},
   "outputs": [
    {
     "name": "stdout",
     "output_type": "stream",
     "text": [
      "lambda: 0.18161454199798754\n",
      "def   : 0.13296766599887633\n"
     ]
    }
   ],
   "source": [
    "from timeit import timeit\n",
    "\n",
    "# Fonction lambda\n",
    "lambda_func = lambda x: x * 2\n",
    "\n",
    "# Fonction classique\n",
    "def def_func(x):\n",
    "    return x * 2\n",
    "\n",
    "# Mesure du temps\n",
    "print(\"lambda:\", timeit('lambda_func(5)', globals=globals(), number=10_000_000))\n",
    "print(\"def   :\", timeit('def_func(5)', globals=globals(), number=10_000_000))"
   ]
  },
  {
   "cell_type": "code",
   "execution_count": null,
   "id": "5b7a41df",
   "metadata": {},
   "outputs": [],
   "source": []
  }
 ],
 "metadata": {
  "kernelspec": {
   "display_name": "game",
   "language": "python",
   "name": "game"
  },
  "language_info": {
   "codemirror_mode": {
    "name": "ipython",
    "version": 3
   },
   "file_extension": ".py",
   "mimetype": "text/x-python",
   "name": "python",
   "nbconvert_exporter": "python",
   "pygments_lexer": "ipython3",
   "version": "3.13.2"
  }
 },
 "nbformat": 4,
 "nbformat_minor": 5
}
