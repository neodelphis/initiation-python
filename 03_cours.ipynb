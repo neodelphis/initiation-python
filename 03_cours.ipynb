{
 "cells": [
  {
   "cell_type": "raw",
   "id": "54d43084",
   "metadata": {
    "slideshow": {
     "slide_type": "skip"
    },
    "vscode": {
     "languageId": "raw"
    }
   },
   "source": [
    "---\n",
    "title: \"Fin du cours d’introduction à Python\"\n",
    "author: \"Pierre Jaumier\"\n",
    "format:\n",
    "  pdf:\n",
    "    toc: false\n",
    "    number-sections: false\n",
    "    colorlinks: true\n",
    "---"
   ]
  },
  {
   "cell_type": "markdown",
   "id": "3847cbcc",
   "metadata": {
    "slideshow": {
     "slide_type": "slide"
    }
   },
   "source": [
    "## 🎯 Objectifs pédagogiques\n",
    "\n",
    "À l’issue de cette séance, les participants seront capables de :\n",
    "- Créer un mini-jeu interactif en Python\n",
    "- Utiliser les variables pour stocker et manipuler des données\n",
    "- Comprendre et utiliser la boucle `while`\n",
    "- Gérer les saisies utilisateur avec `input()`\n",
    "- Convertir des types (chaînes → entiers)\n",
    "- Utiliser les structures conditionnelles (`if...elif...else`)\n",
    "- Gérer les erreurs avec les exceptions (`try...except`)"
   ]
  },
  {
   "cell_type": "markdown",
   "id": "65bcc28c",
   "metadata": {
    "slideshow": {
     "slide_type": "slide"
    }
   },
   "source": [
    "## 🕐 Introduction au jeu \"Devine mon nombre !\"\n",
    "\n",
    "- Le but du jeu : deviner un nombre tiré au sort par l’ordinateur entre 1 et 30.\n",
    "- Le joueur dispose de 5 essais maximum.\n",
    "- À chaque tentative, le programme indique si le nombre proposé est trop grand ou trop petit."
   ]
  },
  {
   "cell_type": "markdown",
   "id": "856bff8f",
   "metadata": {
    "slideshow": {
     "slide_type": "slide"
    }
   },
   "source": [
    "## 💻 Code complet du jeu (début)\n",
    "\n",
    "```python\n",
    "from random import randint\n",
    "\n",
    "nbr_essais_max = 5\n",
    "nbr_essais = 1\n",
    "borne_sup = 30\n",
    "mon_nombre = randint(1, borne_sup)\n",
    "ton_nombre = 0\n",
    "\n",
    "print(\"J'ai choisi un nombre entre 1 et\", borne_sup)\n",
    "print(\"A vous de le deviner en\", nbr_essais_max, \"tentatives au maximum!\")\n",
    "\n",
    "```"
   ]
  },
  {
   "cell_type": "markdown",
   "id": "826b321d",
   "metadata": {
    "slideshow": {
     "slide_type": "slide"
    }
   },
   "source": [
    "## 💻 Code complet du jeu (fin)\n",
    "\n",
    "```python\n",
    "while ton_nombre != mon_nombre and nbr_essais <= nbr_essais_max:\n",
    "    print(\"Essai no\", nbr_essais)\n",
    "    ton_nombre = int(input(\"Votre proposition: \"))\n",
    "    if ton_nombre < mon_nombre:\n",
    "        print(\"Trop petit\")\n",
    "    elif ton_nombre > mon_nombre:\n",
    "        print(\"Trop grand\")\n",
    "    else:\n",
    "        print(\"Bravo! Vous avez trouvé\", mon_nombre, \"en\", nbr_essais, \"essai(s)\")\n",
    "    nbr_essais += 1\n",
    "\n",
    "if ton_nombre != mon_nombre:\n",
    "    print(\"Désolé, vous avez utilisé vos\", nbr_essais_max, \"essais en vain.\")\n",
    "    print(\"J'avais choisi le nombre\", mon_nombre, \".\")\n",
    "```"
   ]
  },
  {
   "cell_type": "markdown",
   "id": "0addd1b5",
   "metadata": {
    "slideshow": {
     "slide_type": "slide"
    }
   },
   "source": [
    "## 🧱 Variables\n",
    "\n",
    "### Définition\n",
    "Une variable est un contenant qui stocke une valeur.  \n",
    "En Python, on n’a pas besoin de déclarer le type d’une variable à l’avance.\n",
    "\n",
    "### Exemples\n",
    "```python\n",
    "nbr_essais_max = 5     # entier\n",
    "borne_sup = 30         # entier\n",
    "mon_nombre = randint(1, borne_sup)  # nombre aléatoire\n",
    "ton_nombre = 0         # initialisation\n",
    "```\n",
    "\n",
    "> On peut voir une variable comme une boîte étiquetée dans laquelle on place une valeur."
   ]
  },
  {
   "cell_type": "markdown",
   "id": "5d45d4ba",
   "metadata": {
    "slideshow": {
     "slide_type": "slide"
    }
   },
   "source": [
    "## 🔁 Boucle `while`\n",
    "\n",
    "### Quand l’utiliser ?\n",
    "Quand on ne connaît pas à l’avance le nombre d’itérations.\n",
    "\n",
    "### Syntaxe\n",
    "```python\n",
    "while condition:\n",
    "    # bloc de code répété tant que la condition est vraie\n",
    "```\n",
    "\n",
    "### Dans notre jeu :\n",
    "```python\n",
    "while ton_nombre != mon_nombre and nbr_essais <= nbr_essais_max:\n",
    "    ...\n",
    "```"
   ]
  },
  {
   "cell_type": "markdown",
   "id": "dca5e8dc",
   "metadata": {
    "slideshow": {
     "slide_type": "slide"
    }
   },
   "source": [
    "## ➕ Incrémentation\n",
    "\n",
    "Pour compter les essais, on incrémente la variable `nbr_essais` :\n",
    "\n",
    "```python\n",
    "nbr_essais += 1\n",
    "```\n",
    "\n",
    "Cela revient à écrire :\n",
    "```python\n",
    "nbr_essais = nbr_essais + 1\n",
    "```\n",
    "\n",
    "> C’est une opération très courante dans les boucles.\n"
   ]
  },
  {
   "cell_type": "markdown",
   "id": "97028326",
   "metadata": {
    "slideshow": {
     "slide_type": "slide"
    }
   },
   "source": [
    "## 📥 Saisie utilisateur : `input()`\n",
    "\n",
    "La fonction `input()` permet de récupérer une chaîne de caractères saisie par l’utilisateur.\n",
    "\n",
    "Exemple :\n",
    "```python\n",
    "ton_nombre = int(input(\"Votre proposition: \"))\n",
    "```\n",
    "\n",
    "⚠️ Attention : `input()` retourne toujours une **chaîne de caractères** (`str`). Il faut la convertir en **entier** (`int`) si besoin."
   ]
  },
  {
   "cell_type": "markdown",
   "id": "067f8cc5",
   "metadata": {
    "slideshow": {
     "slide_type": "slide"
    }
   },
   "source": [
    "## ❗ Gestion des erreurs : Exceptions\n",
    "\n",
    "Si l’utilisateur saisit autre chose qu’un nombre, le programme plante.\n",
    "\n",
    "### Solution : utiliser `try...except`\n",
    "\n",
    "```python\n",
    "while True:\n",
    "    try:\n",
    "        ton_nombre = int(input(\"Votre proposition: \"))\n",
    "        break\n",
    "    except ValueError:\n",
    "        print(\"Réponse non valide. Réessayez!\")\n",
    "```\n",
    "\n",
    "> Cette structure protège le programme des erreurs imprévues."
   ]
  },
  {
   "cell_type": "markdown",
   "id": "d061e10c",
   "metadata": {
    "slideshow": {
     "slide_type": "slide"
    }
   },
   "source": [
    "## 🧠 Structures conditionnelles : `if...elif...else`\n",
    "\n",
    "Permet de prendre des décisions selon les valeurs.\n",
    "\n",
    "```python\n",
    "if ton_nombre < mon_nombre:\n",
    "    print(\"Trop petit\")\n",
    "elif ton_nombre > mon_nombre:\n",
    "    print(\"Trop grand\")\n",
    "else:\n",
    "    print(\"Bravo!\")\n",
    "```\n",
    "\n",
    "> Très utile pour gérer les différents cas possibles dans un jeu."
   ]
  },
  {
   "cell_type": "markdown",
   "id": "93372133",
   "metadata": {
    "slideshow": {
     "slide_type": "slide"
    }
   },
   "source": [
    "## 📝 Bonnes pratiques de programmation\n",
    "\n",
    "### Noms de variables\n",
    "- En minuscules\n",
    "- Avec des mots significatifs\n",
    "- snake_case: Sans espaces ni caractères spéciaux (utiliser `_`)\n",
    "\n",
    "### Commentaires\n",
    "- Ne pas commenter ce qui est évident\n",
    "- Expliquer pourquoi plutôt que comment\n",
    "- Garder le code clair et lisible"
   ]
  },
  {
   "cell_type": "markdown",
   "id": "975367b3",
   "metadata": {
    "slideshow": {
     "slide_type": "slide"
    }
   },
   "source": [
    "## 🧪 Exercices supplémentaires\n",
    "\n",
    "### Exercice 1 : Deviner avec aide personnalisée\n",
    "Demander le prénom du joueur et l’appeler par son nom pendant le jeu.\n",
    "\n",
    "### Exercice 2 : Rejouer plusieurs fois\n",
    "Proposer de rejouer après chaque partie. Calculer :\n",
    "- Le pourcentage de réussite\n",
    "- Le nombre moyen d'essais pour les parties gagnées\n",
    "\n",
    "### Exercice 3 : Mode multijoueur\n",
    "Faire jouer deux joueurs à tour de rôle jusqu’à ce que l’un trouve le nombre."
   ]
  },
  {
   "cell_type": "markdown",
   "id": "e354241e",
   "metadata": {
    "slideshow": {
     "slide_type": "slide"
    }
   },
   "source": [
    "## 🧩 Concepts abordés dans ce chapitre\n",
    "\n",
    "| Concept | Utilité |\n",
    "|--------|---------|\n",
    "| Variables | Stocker des données |\n",
    "| Boucle `while` | Répéter des actions sans connaître le nombre d’itérations |\n",
    "| Incrémentation | Compter les tours ou les essais |\n",
    "| Conditions | Prendre des décisions |\n",
    "| `input()` / `int()` | Récupérer et convertir des données utilisateur |\n",
    "| Exceptions | Gérer les erreurs sans planter le programme |\n",
    "| Commentaires | Améliorer la lisibilité du code |"
   ]
  },
  {
   "cell_type": "markdown",
   "id": "c916e3a0",
   "metadata": {
    "slideshow": {
     "slide_type": "slide"
    }
   },
   "source": [
    "## 📚 Pour aller plus loin\n",
    "\n",
    "- Formatage des nombres avec `.format()`\n",
    "- Mesure du temps avec `time.time()`\n",
    "- Génération de statistiques\n",
    "- Jeux avec choix multiples"
   ]
  }
 ],
 "metadata": {
  "kernelspec": {
   "display_name": "game",
   "language": "python",
   "name": "game"
  },
  "language_info": {
   "name": "python",
   "version": "3.13.2"
  }
 },
 "nbformat": 4,
 "nbformat_minor": 5
}
