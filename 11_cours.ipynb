{
 "cells": [
  {
   "cell_type": "raw",
   "id": "bde17fd9",
   "metadata": {
    "slideshow": {
     "slide_type": "skip"
    },
    "vscode": {
     "languageId": "raw"
    }
   },
   "source": [
    "---\n",
    "title: \"Programmation Orientée Objet en Python\"\n",
    "author: \"Pierre Jaumier\"\n",
    "format:\n",
    "  pdf:\n",
    "    toc: false\n",
    "    number-sections: false\n",
    "    colorlinks: true\n",
    "---"
   ]
  },
  {
   "cell_type": "markdown",
   "id": "3847cbcc",
   "metadata": {
    "slideshow": {
     "slide_type": "slide"
    }
   },
   "source": [
    "## ✅ Programmation Orientée Objet en Python\n",
    "\n",
    "- Introduction aux concepts fondamentaux\n",
    "- Différences avec la programmation procédurale\n",
    "- Pourquoi utiliser la POO ?"
   ]
  },
  {
   "cell_type": "markdown",
   "id": "65bcc28c",
   "metadata": {
    "slideshow": {
     "slide_type": "slide"
    }
   },
   "source": [
    "## 🔹 Qu’est-ce que la POO ?\n",
    "\n",
    "> 💡 La Programmation Orientée Objet est un paradigme basé sur le concept d'**objets** qui peuvent contenir **des données (attributs)** et **du code (méthodes)**.\n",
    "\n",
    "📌 En résumé :\n",
    "- Une **classe** = modèle (plan de construction)\n",
    "- Un **objet** = instance concrète du modèle\n",
    "\n",
    "👉 Comparaison rapide :\n",
    "\n",
    "| Langage | Concept |\n",
    "|--------|---------|\n",
    "| Java   | `class`, `new`, `this` |\n",
    "| C++    | `class`, `struct`, constructeurs |\n",
    "| Python | `class`, pas de `new`, syntaxe fluide |\n"
   ]
  },
  {
   "cell_type": "markdown",
   "id": "856bff8f",
   "metadata": {
    "slideshow": {
     "slide_type": "slide"
    }
   },
   "source": [
    "## 🔹 Définir une classe simple\n",
    "\n",
    "```python\n",
    "class Personne:\n",
    "    pass\n",
    "```\n",
    "\n",
    "- `class` = mot-clé pour définir une nouvelle classe\n",
    "- `Personne` = nom de la classe (par convention, en PascalCase)\n",
    "- `pass` = placeholder (rien ne se passe)\n",
    "\n",
    "**Créer un objet :**\n",
    "```python\n",
    "alice = Personne()\n",
    "print(alice)  # <__main__.Personne object at 0x...>\n",
    "```\n"
   ]
  },
  {
   "cell_type": "markdown",
   "id": "0addd1b5",
   "metadata": {
    "slideshow": {
     "slide_type": "slide"
    }
   },
   "source": [
    "## 🔹 Attributs d’instance\n",
    "\n",
    "```python\n",
    "class Personne:\n",
    "    def __init__(self, nom, age):\n",
    "        self.nom = nom\n",
    "        self.age = age\n",
    "\n",
    "# Création d'un objet\n",
    "alice = Personne('Alice', 25)\n",
    "print(alice.nom)  # 'Alice'\n",
    "```\n",
    "\n",
    "- `__init__()` = constructeur de l’objet\n",
    "- `self` = référence vers l’objet courant\n",
    "- `self.nom` = attribut d’instance\n",
    "\n",
    "💡 Comparaison :\n",
    "- Java : `this.nom = nom;`"
   ]
  },
  {
   "cell_type": "markdown",
   "id": "5d45d4ba",
   "metadata": {
    "slideshow": {
     "slide_type": "slide"
    }
   },
   "source": [
    "## 🔹 Méthodes d’une classe\n",
    "\n",
    "```python\n",
    "class Personne:\n",
    "    def __init__(self, nom, age):\n",
    "        self.nom = nom\n",
    "        self.age = age\n",
    "\n",
    "    def se_presenter(self):\n",
    "        print(f'Bonjour, je m\\'appelle {self.nom}.')\n",
    "\n",
    "# Utilisation\n",
    "alice = Personne('Alice', 25)\n",
    "alice.se_presenter()  # Bonjour, je m'appelle Alice.\n",
    "```\n",
    "\n",
    "- Une méthode = fonction liée à une classe\n",
    "- Le premier argument est toujours `self`"
   ]
  },
  {
   "cell_type": "markdown",
   "id": "dca5e8dc",
   "metadata": {
    "slideshow": {
     "slide_type": "slide"
    }
   },
   "source": [
    "## 🔹 Encapsulation \n",
    "\n",
    "En Python, l’encapsulation n’est **pas stricte**, mais on peut simuler :\n",
    "\n",
    "```python\n",
    "class CompteBancaire:\n",
    "    def __init__(self, solde_initial):\n",
    "        self._solde = solde_initial  # Attribut privé\n",
    "\n",
    "    def afficher_solde(self):\n",
    "        print(f'Solde : {self._solde} €')\n",
    "```\n",
    "\n",
    "- `_solde` = convention pour indiquer \"privé\"\n",
    "- `__solde` = double underscore pour mettre l'accent sur le danger d'y accéder\n",
    "\n",
    "⚠️ Attention : Python ne bloque pas l’accès. C’est une question de discipline !"
   ]
  },
  {
   "cell_type": "markdown",
   "id": "97028326",
   "metadata": {
    "slideshow": {
     "slide_type": "slide"
    }
   },
   "source": [
    "## 🔹 Getter / Setter en Python\n",
    "\n",
    "```python\n",
    "class Temperature:\n",
    "    def __init__(self, celsius=0):\n",
    "        self._celsius = celsius\n",
    "\n",
    "    def get_celsius(self):\n",
    "        return self._celsius\n",
    "\n",
    "    def set_celsius(self, valeur):\n",
    "        if valeur < -273.15:\n",
    "            raise ValueError('Température invalide')\n",
    "        self._celsius = valeur\n",
    "```\n",
    "\n",
    "✅ Cette approche permet de valider les données\n",
    "\n",
    "💡 En Java/C++ : cette gestion est automatique via `private` + getters/setters"
   ]
  },
  {
   "cell_type": "markdown",
   "id": "067f8cc5",
   "metadata": {
    "slideshow": {
     "slide_type": "slide"
    }
   },
   "source": [
    "## 🔹 Propriétés avec `@property`\n",
    "\n",
    "Getter : La méthode décorée avec @property est utilisée pour accéder à l'attribut privé _celsius comme s'il s'agissait d'un attribut public.\n",
    "\n",
    "```python\n",
    "class Temperature:\n",
    "    def __init__(self, celsius=0):\n",
    "        self._celsius = celsius\n",
    "\n",
    "    @property\n",
    "    def celsius(self):\n",
    "        return self._celsius\n",
    "```\n",
    "Setter : Le décorateur @celsius.setter permet de définir une méthode pour modifier la valeur de _celsius avec une validation.\n",
    "\n",
    "➡️ Avantage : usage naturel\n",
    "\n",
    "```python\n",
    "t = Temperature()\n",
    "print(t.celsius)  # 0\n",
    "```"
   ]
  },
  {
   "cell_type": "markdown",
   "id": "097f6fdb",
   "metadata": {
    "slideshow": {
     "slide_type": "slide"
    }
   },
   "source": [
    "## 🔹 Le décorateur `@attribut_privé.setter`\n",
    "\n",
    "Setter : Le décorateur @celsius.setter permet de définir une méthode pour modifier la valeur de _celsius avec une validation.\n",
    "\n",
    "```python\n",
    "class Temperature:\n",
    "    def __init__(self, celsius=0):\n",
    "        self._celsius = celsius\n",
    "\n",
    "    @property\n",
    "    def celsius(self):\n",
    "        return self._celsius\n",
    "\n",
    "    @celsius.setter\n",
    "    def celsius(self, valeur):\n",
    "        if valeur < -273.15:\n",
    "            raise ValueError('Température invalide')\n",
    "        self._celsius = valeur\n",
    "```\n",
    "\n",
    "```python\n",
    "t = Temperature(25)\n",
    "t.celsius = 30  # Valide\n",
    "t.celsius = -300  # Lève une erreur\n",
    "```"
   ]
  },
  {
   "cell_type": "markdown",
   "id": "d061e10c",
   "metadata": {
    "slideshow": {
     "slide_type": "slide"
    }
   },
   "source": [
    "## 🔹 Méthodes spéciales utiles\n",
    "\n",
    "```python\n",
    "class Point:\n",
    "    def __init__(self, x, y):\n",
    "        self.x = x\n",
    "        self.y = y\n",
    "\n",
    "    def __str__(self):\n",
    "        return f'Point({self.x}, {self.y})'\n",
    "\n",
    "    def __repr__(self):\n",
    "        return f'Point(x={self.x}, y={self.y})'\n",
    "```\n",
    "\n",
    "➡️ Résultat :\n",
    "\n",
    "```python\n",
    "p = Point(2, 3)\n",
    "print(p)          # Point(2, 3)\n",
    "print(repr(p))    # Point(x=2, y=3)\n",
    "```\n",
    "\n",
    "📌 Utile pour le debugging et l’affichage utilisateur"
   ]
  },
  {
   "cell_type": "markdown",
   "id": "93372133",
   "metadata": {
    "slideshow": {
     "slide_type": "slide"
    }
   },
   "source": [
    "## 🔹 Comparaison entre objets\n",
    "\n",
    "```python\n",
    "class Personne:\n",
    "    def __init__(self, nom, age):\n",
    "        self.nom = nom\n",
    "        self.age = age\n",
    "\n",
    "    def __eq__(self, autre):\n",
    "        return self.nom == autre.nom and self.age == autre.age\n",
    "\n",
    "    def __lt__(self, autre):\n",
    "        return self.age < autre.age\n",
    "```\n",
    "\n",
    "➡️ Permet de faire :\n",
    "\n",
    "```python\n",
    "a = Personne('Alice', 25)\n",
    "b = Personne('Alice', 25)\n",
    "print(a == b)  # True\n",
    "```"
   ]
  },
  {
   "cell_type": "markdown",
   "id": "8c5c76da",
   "metadata": {
    "slideshow": {
     "slide_type": "slide"
    }
   },
   "source": [
    "## 🔹  – Méthodes spéciales / magiques en détail (Dunder methods)\n",
    "\n",
    "Python propose des méthodes commençant et finissant par `__` pour enrichir le comportement des objets.\n",
    "\n",
    "Exemples courants :\n",
    "\n",
    "- `__str__()` → affichage utilisateur\n",
    "- `__repr__()` → affichage développeur\n",
    "- `__eq__()` → comparaison\n",
    "- `__lt__()`, `__gt__()` → tri et comparaison\n",
    "- `__len__()` → supporte la fontion len()\n",
    "\n",
    "```python\n",
    "def __str__(self):\n",
    "    return f'Personne: {self.nom}, {self.age} ans'\n",
    "\n",
    "def __eq__(self, autre):\n",
    "    return self.nom == autre.nom and self.age == autre.age\n",
    "```\n",
    "\n",
    "Il y en a plus de 100 (https://www.pythonmorsels.com/every-dunder-method/)"
   ]
  },
  {
   "cell_type": "markdown",
   "id": "975367b3",
   "metadata": {
    "slideshow": {
     "slide_type": "slide"
    }
   },
   "source": [
    "## 🔹 Attributs de classe vs instance\n",
    "\n",
    "```python\n",
    "class Chien:\n",
    "    espece = 'Canis lupus familiaris'  # Attribut de classe\n",
    "\n",
    "    def __init__(self, nom):\n",
    "        self.nom = nom  # Attribut d'instance\n",
    "\n",
    "# Utilisation\n",
    "rex = Chien('Rex')\n",
    "milou = Chien('Milou')\n",
    "\n",
    "print(rex.espece)     # Canis lupus familiaris\n",
    "print(milou.espece)\n",
    "```\n",
    "\n",
    "👉 Tous les chiens partagent la même espèce"
   ]
  },
  {
   "cell_type": "markdown",
   "id": "e354241e",
   "metadata": {
    "slideshow": {
     "slide_type": "slide"
    }
   },
   "source": [
    "## 🔹 Mini-Projet : Classe Personne\n",
    "\n",
    "Écrivez une classe `Personne` avec :\n",
    "- Nom, prénom, âge\n",
    "- Méthode `.se_presenter()` → 'Bonjour, je m’appelle Alice Martin.'\n",
    "- Méthode `.vieillir()` → incrémente l’âge\n",
    "- Gestion des accesseurs/mutateurs"
   ]
  },
  {
   "cell_type": "markdown",
   "id": "db98036e",
   "metadata": {
    "slideshow": {
     "slide_type": "slide"
    }
   },
   "source": [
    "## 🔹 Héritage simple\n",
    "\n",
    "```python\n",
    "class Vehicule:\n",
    "    def demarrer(self):\n",
    "        print('Véhicule démarré.')\n",
    "\n",
    "class Voiture(Vehicule):  # Hérite de Vehicule\n",
    "    def rouler(self):\n",
    "        print('Voiture en mouvement.')\n",
    "```\n",
    "\n",
    "➡️ La classe `Voiture` hérite de `Vehicule` et peut utiliser ses méthodes.\n",
    "\n",
    "```python\n",
    "ma_voiture = Voiture()\n",
    "ma_voiture.demarrer()  # Méthode héritée\n",
    "```"
   ]
  },
  {
   "cell_type": "markdown",
   "id": "c916e3a0",
   "metadata": {
    "slideshow": {
     "slide_type": "slide"
    }
   },
   "source": [
    "## 🔹  – Méthodes statiques\n",
    "\n",
    "```python\n",
    "class MathOperations:\n",
    "\n",
    "    @staticmethod\n",
    "    def add_numbers(x, y):\n",
    "        return x + y\n",
    "\n",
    "# Appel de la méthode statique sans créer d'instance de la classe\n",
    "result = MathOperations.add_numbers(5, 3)\n",
    "print(\"Le résultat est :\", result)\n",
    "\n",
    "```\n",
    "\n",
    "📌 Besoin d'une fonction qui a une relation logique avec la classe,\n",
    " mais qui n'a pas besoin d'accéder ou de modifier l'état de la classe ou de ses instances."
   ]
  },
  {
   "cell_type": "markdown",
   "id": "3f49ee95",
   "metadata": {
    "slideshow": {
     "slide_type": "slide"
    }
   },
   "source": [
    "## 🔹  – Méthodes de classe\n",
    "\n",
    "Le décorateur `@classmethod` permet de définir une **méthode qui reçoit la classe (`cls`) comme premier argument**, au lieu de l’instance (`self`).\n",
    "\n",
    "```python\n",
    "class MaClasse:\n",
    "    @classmethod\n",
    "    def ma_methode(cls, arg1, arg2):\n",
    "        ...\n",
    "```\n",
    "\n",
    "- `cls` = référence vers la **classe elle-même**\n",
    "- Utile pour :\n",
    "  - Créer des **constructeurs alternatifs**\n",
    "  - Manipuler des **attributs de classe**\n",
    "  - Des méthodes liées à la classe plutôt qu’à l’instance"
   ]
  },
  {
   "cell_type": "markdown",
   "id": "92cf929d",
   "metadata": {
    "slideshow": {
     "slide_type": "slide"
    }
   },
   "source": [
    "## 🧩 Exemple : constructeur alternatif\n",
    "\n",
    "Imaginons que tu veuilles créer une classe `Personne` où on puisse instancier facilement une personne à partir d’une chaîne de caractères.\n",
    "\n",
    "```python\n",
    "class Personne:\n",
    "    def __init__(self, nom, age):\n",
    "        self.nom = nom\n",
    "        self.age = age\n",
    "\n",
    "    @classmethod\n",
    "    def depuis_chaine(cls, donnees_str):\n",
    "        nom, age = donnees_str.split(',')\n",
    "        return cls(nom.strip(), int(age.strip()))\n",
    "\n",
    "\n",
    "# Utilisation\n",
    "a = Personne('Alice', 30)\n",
    "b = Personne.depuis_chaine('Bob, 25')\n",
    "print(b.nom, b.age)  # Bob 25\n",
    "```"
   ]
  },
  {
   "cell_type": "markdown",
   "id": "00e63f6d",
   "metadata": {
    "slideshow": {
     "slide_type": "slide"
    }
   },
   "source": [
    "## 🎯 Quand utiliser `@classmethod` ?\n",
    "\n",
    "- Pour **créer des constructeurs alternatifs**\n",
    "- Pour manipuler des **attributs de classe**\n",
    "- Pour des méthodes qui **doivent fonctionner même sur une sous-classe**\n",
    "\n",
    "\n"
   ]
  },
  {
   "cell_type": "markdown",
   "id": "1fd9977a",
   "metadata": {
    "slideshow": {
     "slide_type": "slide"
    }
   },
   "source": [
    "## 🧪 Un autre exemple : compteur d'instances\n",
    "\n",
    "```python\n",
    "class Personne:\n",
    "    nombre_de_personnes = 0\n",
    "\n",
    "    def __init__(self, nom):\n",
    "        self.nom = nom\n",
    "        Personne.nombre_de_personnes += 1\n",
    "\n",
    "    @classmethod\n",
    "    def afficher_nombre(cls):\n",
    "        print(f\"Nombre total de personnes : {cls.nombre_de_personnes}\")\n",
    "\n",
    "# Utilisation\n",
    "a = Personne('Alice')\n",
    "b = Personne('Bob')\n",
    "\n",
    "Personne.afficher_nombre()  # Nombre total de personnes : 2\n",
    "```\n",
    "\n",
    "👉 Ici, `afficher_nombre()` est une méthode de classe qui lit un attribut de classe."
   ]
  },
  {
   "cell_type": "markdown",
   "id": "de4145b4",
   "metadata": {
    "slideshow": {
     "slide_type": "slide"
    }
   },
   "source": [
    "## 🔹 Méthodes abstraites avec `abc`\n",
    "\n",
    "- `ABC` = classe de base abstraite\n",
    "- `@abstractmethod` = décorateur pour définir une méthode qui doit être **implémentée dans les sous-classes**\n",
    "\n",
    "👉 Cela permet de créer des interfaces ou des classes partiellement implémentées, typiquement utilisées en Programmation Orientée Objet (POO).\n",
    "\n",
    "Imaginons que tu veuilles modéliser différents animaux. Tous doivent avoir une méthode `.parler()` mais chacun la définit différemment.\n",
    "\n",
    "### Étape 1 : Définir la classe abstraite\n",
    "\n",
    "```python\n",
    "from abc import ABC, abstractmethod\n",
    "\n",
    "class Animal(ABC):\n",
    "    @abstractmethod\n",
    "    def parler(self):\n",
    "        pass\n",
    "```\n",
    "\n",
    "👉 Cette classe ne peut **pas être instanciée directement**.\n",
    "\n",
    "👉 Oblige les sous-classes à implémenter certaines méthodes"
   ]
  },
  {
   "cell_type": "markdown",
   "id": "e6c77be7",
   "metadata": {
    "slideshow": {
     "slide_type": "slide"
    }
   },
   "source": [
    "## 🔹 Méthodes abstraites\n",
    "### Étape 2 : Créer des sous-classes concrètes\n",
    "\n",
    "```python\n",
    "class Chat(Animal):\n",
    "    def parler(self):\n",
    "        print('Miaou')\n",
    "\n",
    "class Chien(Animal):\n",
    "    def parler(self):\n",
    "        print('Wouaf')\n",
    "```\n",
    "\n",
    "✅ Les méthodes abstraites sont maintenant **implémentées** dans chaque sous-classe.\n"
   ]
  },
  {
   "cell_type": "markdown",
   "id": "32527b42",
   "metadata": {
    "slideshow": {
     "slide_type": "slide"
    }
   },
   "source": [
    "## 🔹 Méthodes abstraites\n",
    "### Étape 3 : Utiliser le polymorphisme\n",
    "\n",
    "```python\n",
    "animaux = [Chat(), Chien()]\n",
    "\n",
    "for animal in animaux:\n",
    "    animal.parler()\n",
    "```\n",
    "\n",
    "➡️ Résultat :\n",
    "```python\n",
    "Miaou\n",
    "Wouaf\n",
    "```"
   ]
  },
  {
   "cell_type": "markdown",
   "id": "aea83cca",
   "metadata": {
    "slideshow": {
     "slide_type": "slide"
    }
   },
   "source": [
    "## 🔹 Méthodes abstraites\n",
    "\n",
    "❌ Ce que tu ne peux pas faire\n",
    "\n",
    "```python\n",
    "a = Animal()  # ❌ Erreur : on ne peut pas instancier une classe abstraite\n",
    "```\n",
    "\n",
    "Python empêche cela car la méthode `.parler()` n’est pas implémentée dans `Animal`.\n",
    "\n",
    "---\n",
    "\n",
    "🎯 Pourquoi utiliser `ABC` et `@abstractmethod` ?\n",
    "\n",
    "Cela permet de :\n",
    "- Imposer une **structure commune** aux sous-classes\n",
    "- Garantir qu’une méthode existe dans toutes les sous-classes\n",
    "- Créer des **interfaces** en Python (comme en Java/C++)"
   ]
  },
  {
   "cell_type": "markdown",
   "id": "5fa00aa4",
   "metadata": {
    "slideshow": {
     "slide_type": "slide"
    }
   },
   "source": [
    "## 🔹 Héritage multiple\n",
    "\n",
    "```python\n",
    "class A:\n",
    "    def methode(self):\n",
    "        print('A')\n",
    "\n",
    "class B:\n",
    "    def methode(self):\n",
    "        print('B')\n",
    "\n",
    "class C(A, B):\n",
    "    pass\n",
    "```\n",
    "\n",
    "➡️ Quel résultat donne `C().methode()` ?  \n",
    "Python suit **la MRO (Method Resolution Order)**.\n",
    "\n",
    "```python\n",
    "print(C.__mro__)  # Affiche l'ordre de résolution\n",
    "```\n",
    "\n",
    "📌 Astuce : évitez l’héritage multiple complexe sauf cas bien identifiés."
   ]
  },
  {
   "cell_type": "markdown",
   "id": "27a17d2d",
   "metadata": {
    "slideshow": {
     "slide_type": "slide"
    }
   },
   "source": [
    "## 🔹 Polymorphisme\n",
    "\n",
    "Le polymorphisme permet d’utiliser des objets selon leur interface commune :\n",
    "\n",
    "```python\n",
    "class Chat:\n",
    "    def parler(self):\n",
    "        print('Miaou')\n",
    "\n",
    "class Robot:\n",
    "    def parler(self):\n",
    "        print('Bip Bip')\n",
    "\n",
    "for truc in [Chat(), Robot()]:\n",
    "    truc.parler()\n",
    "```\n",
    "\n",
    "➡️ Résultat :\n",
    "```python\n",
    "Miaou\n",
    "Bip Bip\n",
    "```\n",
    "\n",
    "📌 Très utile pour écrire du code générique et extensible.\n"
   ]
  },
  {
   "cell_type": "markdown",
   "id": "51667b5e",
   "metadata": {
    "slideshow": {
     "slide_type": "slide"
    }
   },
   "source": [
    "## 🔹 Mini-Projet : Générateur de formulaires\n",
    "\n",
    "Créez un système de formulaires basé sur des classes :\n",
    "\n",
    "```python\n",
    "class Champ:\n",
    "    def __init__(self, nom):\n",
    "        self.nom = nom\n",
    "\n",
    "    def valider(self):\n",
    "        raise NotImplementedError('Doit être implémenté')\n",
    "\n",
    "class ChampTexte(Champ):\n",
    "    def valider(self):\n",
    "        return len(self.nom.strip()) > 0\n",
    "```\n",
    "\n",
    "➡️ Objectif :\n",
    "- Créer différentes sous-classes (`ChampEmail`, `ChampNombre`)\n",
    "- Implémenter une méthode `.valider()` cohérente\n",
    "- Créer une classe `Formulaire` qui gère plusieurs champs\n",
    "\n",
    "---"
   ]
  },
  {
   "cell_type": "markdown",
   "id": "7590252f",
   "metadata": {
    "slideshow": {
     "slide_type": "slide"
    }
   },
   "source": [
    "## 🔹 Bonnes pratiques\n",
    "\n",
    "✅ Utilisez :\n",
    "- Des **classes** pour modéliser des entités logiques\n",
    "- Des **propriétés** plutôt que des getters/setters manuels\n",
    "- Des **méthodes abstraites** pour imposer une structure\n",
    "\n",
    "🚫 Évitez :\n",
    "- L’héritage multiple trop complexe\n",
    "- Les classes trop longues (respectez SRP: Single Responsibility Principle)\n",
    "\n",
    "💡 Lisibilité avant performance !"
   ]
  },
  {
   "cell_type": "markdown",
   "id": "cca386a5",
   "metadata": {
    "slideshow": {
     "slide_type": "slide"
    }
   },
   "source": [
    "## 🔹 Conclusion\n",
    "\n",
    "Ce que vous avez appris aujourd’hui :\n",
    "- Définir une classe avec Python\n",
    "- Créer des objets et leur donner des attributs\n",
    "- Ajouter des méthodes\n",
    "- Simuler l’encapsulation\n",
    "- Utiliser les propriétés\n",
    "- Utiliser les méthodes spéciales (`__str__`, `__eq__`, etc.)\n",
    "- Organiser des hiérarchies de classes\n",
    "- Appliquer l’héritage et le polymorphisme\n",
    "- Gérer les attributs privés et les validations\n",
    "\n",
    "❓ Questions?"
   ]
  },
  {
   "cell_type": "markdown",
   "id": "24113f06",
   "metadata": {
    "slideshow": {
     "slide_type": "slide"
    }
   },
   "source": []
  },
  {
   "cell_type": "markdown",
   "id": "e3f8f817",
   "metadata": {
    "slideshow": {
     "slide_type": "slide"
    }
   },
   "source": []
  },
  {
   "cell_type": "markdown",
   "id": "ef20cd32",
   "metadata": {
    "slideshow": {
     "slide_type": "slide"
    }
   },
   "source": []
  },
  {
   "cell_type": "markdown",
   "id": "02256117",
   "metadata": {
    "slideshow": {
     "slide_type": "slide"
    }
   },
   "source": []
  },
  {
   "cell_type": "markdown",
   "id": "27d2773a",
   "metadata": {
    "slideshow": {
     "slide_type": "slide"
    }
   },
   "source": []
  }
 ],
 "metadata": {
  "kernelspec": {
   "display_name": "game",
   "language": "python",
   "name": "game"
  },
  "language_info": {
   "codemirror_mode": {
    "name": "ipython",
    "version": 3
   },
   "file_extension": ".py",
   "mimetype": "text/x-python",
   "name": "python",
   "nbconvert_exporter": "python",
   "pygments_lexer": "ipython3",
   "version": "3.13.2"
  }
 },
 "nbformat": 4,
 "nbformat_minor": 5
}
