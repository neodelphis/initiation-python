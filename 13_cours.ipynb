{
 "cells": [
  {
   "cell_type": "raw",
   "id": "e55e9a3b",
   "metadata": {
    "slideshow": {
     "slide_type": "skip"
    },
    "vscode": {
     "languageId": "raw"
    }
   },
   "source": [
    "---\n",
    "title: \"Initiation au Traitement des Données avec Python\"\n",
    "author: \"Pierre Jaumier\"\n",
    "format:\n",
    "  pdf:\n",
    "    toc: false\n",
    "    number-sections: false\n",
    "    colorlinks: true\n",
    "---"
   ]
  },
  {
   "cell_type": "markdown",
   "id": "3847cbcc",
   "metadata": {
    "slideshow": {
     "slide_type": "slide"
    }
   },
   "source": [
    "## 📊 Initiation au Traitement des Données avec Python  \n",
    "\n",
    "### 🖥️ Introduction\n",
    "\n",
    "- Langage Python très populaire en Data Science\n",
    "- Librairies utilisées :\n",
    "  - **Pandas** – manipulation de données\n",
    "  - **NumPy** – opérations numériques\n",
    "  - **Seaborn / Matplotlib** – visualisation\n",
    "- Objectifs :\n",
    "  - Charger et explorer des données\n",
    "  - Nettoyer et transformer\n",
    "  - Calculer des statistiques\n",
    "  - Visualiser simplement\n"
   ]
  },
  {
   "cell_type": "markdown",
   "id": "65bcc28c",
   "metadata": {
    "slideshow": {
     "slide_type": "slide"
    }
   },
   "source": [
    "### 🧮 Fonctions utiles en Python pur : `map()` et `filter()`\n",
    "\n",
    "**`map(function, iterable)`** – applique une fonction à chaque élément d’un itérable.\n",
    "\n",
    "```python\n",
    "list(map(lambda x: x*2, [1, 2, 3]))  # ➜ [2, 4, 6]\n",
    "```\n",
    "\n",
    "**`filter(function, iterable)`** – garde les éléments pour lesquels la fonction retourne `True`.\n",
    "\n",
    "```python\n",
    "list(filter(lambda x: x % 2 == 0, [1, 2, 3, 4]))  # ➜ [2, 4]\n",
    "```\n",
    "\n",
    "👉 Ces outils sont très utiles aussi dans **Pandas** (`apply`, `map`) !\n"
   ]
  },
  {
   "cell_type": "markdown",
   "id": "97fd2c45",
   "metadata": {
    "slideshow": {
     "slide_type": "slide"
    }
   },
   "source": [
    "### 🐼 Pandas – manipulation de tableaux (dataframe)\n",
    "\n",
    "|    | nom     |   âge | ville     |   salaire |\n",
    "|---:|:--------|------:|:----------|----------:|\n",
    "|  0 | Alice   |    25 | Paris     |     35000 |\n",
    "|  1 | Bob     |    34 | Lyon      |     42000 |\n",
    "|  2 | Charlie |    17 | Paris     |     22000 |\n",
    "|  3 | David   |    62 | Marseille |     55000 |\n",
    "|  4 | Eve     |    29 | Lyon      |     38000 |"
   ]
  },
  {
   "cell_type": "markdown",
   "id": "856bff8f",
   "metadata": {
    "slideshow": {
     "slide_type": "slide"
    }
   },
   "source": [
    "### 🐼 Pandas – La base\n",
    "\n",
    "**Importer pandas**\n",
    "\n",
    "```python\n",
    "import pandas as pd\n",
    "```\n",
    "\n",
    "**Charger un fichier CSV**\n",
    "\n",
    "```python\n",
    "df = pd.read_csv('donnees.csv')\n",
    "```\n",
    "\n",
    "**Afficher les premières lignes**\n",
    "\n",
    "```python\n",
    "df.head()\n",
    "```\n",
    "\n",
    "**Structure du DataFrame**\n",
    "\n",
    "```python\n",
    "df.info()   # Infos générales\n",
    "df.describe()  # Statistiques descriptives\n",
    "```"
   ]
  },
  {
   "cell_type": "markdown",
   "id": "0addd1b5",
   "metadata": {
    "slideshow": {
     "slide_type": "slide"
    }
   },
   "source": [
    "### 🔍 Filtrer avec `filter` et conditions\n",
    "\n",
    "**Filtrer par colonne**\n",
    "\n",
    "```python\n",
    "df[['nom', 'âge']]\n",
    "```\n",
    "\n",
    "**Filtrer par ligne (condition)**\n",
    "\n",
    "```python\n",
    "df[df['âge'] > 30]\n",
    "```\n",
    "\n",
    "**Plusieurs conditions**\n",
    "\n",
    "```python\n",
    "df[(df['âge'] > 30) & (df['ville'] == 'Paris')]\n",
    "```"
   ]
  },
  {
   "cell_type": "markdown",
   "id": "5d45d4ba",
   "metadata": {
    "slideshow": {
     "slide_type": "slide"
    }
   },
   "source": [
    "### 🔁 Transformer avec `map` et `apply`\n",
    "\n",
    "**Créer une nouvelle colonne**\n",
    "\n",
    "```python\n",
    "df['année_naissance'] = 2025 - df['âge']\n",
    "```\n",
    "\n",
    "**Utiliser `map()` pour modifier une colonne**\n",
    "\n",
    "```python\n",
    "df['ville'] = df['ville'].map({'Paris': 'FR', 'Lyon': 'FR', 'Berlin': 'DE'})\n",
    "```\n",
    "\n",
    "**Utiliser `apply()` pour appliquer une fonction**\n",
    "\n",
    "```python\n",
    "def categorie_age(age):\n",
    "    if age < 18: return 'Mineur'\n",
    "    elif age < 60: return 'Adulte'\n",
    "    else: return 'Senior'\n",
    "\n",
    "df['catégorie'] = df['âge'].apply(categorie_age)\n",
    "```"
   ]
  },
  {
   "cell_type": "markdown",
   "id": "dca5e8dc",
   "metadata": {
    "slideshow": {
     "slide_type": "slide"
    }
   },
   "source": [
    "### 🧮 Calculs statistiques simples\n",
    "\n",
    "**Statistiques de base**\n",
    "\n",
    "```python\n",
    "df['âge'].mean()     # Moyenne\n",
    "df['âge'].median()   # Médiane\n",
    "df['âge'].std()      # Écart-type\n",
    "df['âge'].min(), df['âge'].max()\n",
    "```\n",
    "\n",
    "**Grouper et agréger (`groupby`)**\n",
    "```python\n",
    "df.groupby('ville')['âge'].mean()\n",
    "```\n",
    "\n",
    "```python\n",
    "df.groupby('ville').agg({\n",
    "    'âge': ['mean', 'median', 'count'],\n",
    "    'salaire': 'mean'\n",
    "})\n",
    "```"
   ]
  },
  {
   "cell_type": "markdown",
   "id": "97028326",
   "metadata": {
    "slideshow": {
     "slide_type": "slide"
    }
   },
   "source": [
    "### 🎨 Visualisation avec Seaborn\n",
    "\n",
    "**Importer seaborn et matplotlib**\n",
    "\n",
    "```python\n",
    "import seaborn as sns\n",
    "import matplotlib.pyplot as plt\n",
    "```\n",
    "\n",
    "**Histogramme**\n",
    "\n",
    "```python\n",
    "sns.histplot(df['âge'], bins=10)\n",
    "plt.show()\n",
    "```\n"
   ]
  },
  {
   "cell_type": "markdown",
   "id": "067f8cc5",
   "metadata": {
    "slideshow": {
     "slide_type": "slide"
    }
   },
   "source": [
    "### 🎨 Visualisation avec Seaborn\n",
    "\n",
    "**Boxplot**\n",
    "\n",
    "```python\n",
    "sns.boxplot(x='ville', y='âge', data=df)\n",
    "plt.show()\n",
    "```\n",
    "\n",
    "**Nuage de points**\n",
    "\n",
    "```python\n",
    "sns.scatterplot(x='âge', y='salaire', data=df)\n",
    "plt.show()\n",
    "```\n",
    "\n",
    "**Corrélation (heatmap)**\n",
    "\n",
    "```python\n",
    "corr = df.corr(numeric_only=True)\n",
    "sns.heatmap(corr, annot=True)\n",
    "plt.show()\n",
    "```"
   ]
  },
  {
   "cell_type": "markdown",
   "id": "d061e10c",
   "metadata": {
    "slideshow": {
     "slide_type": "slide"
    }
   },
   "source": [
    "### 📌 Bonus : Exemple complet rapide\n",
    "\n",
    "```python\n",
    "import pandas as pd\n",
    "import seaborn as sns\n",
    "import matplotlib.pyplot as plt\n",
    "\n",
    "# Charger les données\n",
    "df = pd.read_csv('personnes.csv')\n",
    "\n",
    "# Ajouter une colonne\n",
    "df['année_naissance'] = 2025 - df['âge']\n",
    "\n",
    "# Filtrer\n",
    "df_paris = df[df['ville'] == 'Paris']\n",
    "\n",
    "# Statistique\n",
    "print(\"Âge moyen à Paris :\", df_paris['âge'].mean())\n",
    "\n",
    "# Visualisation\n",
    "sns.histplot(df_paris['âge'], bins=10)\n",
    "plt.title(\"Répartition des âges à Paris\")\n",
    "plt.show()\n",
    "```"
   ]
  },
  {
   "cell_type": "code",
   "execution_count": 10,
   "id": "dc184793",
   "metadata": {},
   "outputs": [],
   "source": [
    "import pandas as pd\n",
    "import numpy as np\n",
    "import seaborn as sns\n",
    "import matplotlib.pyplot as plt\n",
    "\n",
    "# Créons un DataFrame fictif\n",
    "data = {\n",
    "    'nom': ['Alice', 'Bob', 'Charlie', 'David', 'Eve', 'Frank', 'Grace',\n",
    "            'Hugo', 'Inès', 'Julien', 'Yasmina'],\n",
    "    'âge': [25, 34, 17, 62, 29, 45, 30, 16, 38, 55, 40],\n",
    "    'ville': ['Paris', 'Lyon', 'Paris', 'Marseille', 'Lyon', 'Paris',\n",
    "            'Marseille', 'Paris', 'Lyon', 'Marseille', 'Rabat'],\n",
    "    'salaire': [35000, 42000, 22000, 55000, 38000, 47000, 36000, 20000,\n",
    "                41000, 52000, 39000],\n",
    "}\n",
    "\n",
    "df = pd.DataFrame(data)"
   ]
  },
  {
   "cell_type": "code",
   "execution_count": 2,
   "id": "8da2f5a0",
   "metadata": {},
   "outputs": [
    {
     "data": {
      "text/html": [
       "<div>\n",
       "<style scoped>\n",
       "    .dataframe tbody tr th:only-of-type {\n",
       "        vertical-align: middle;\n",
       "    }\n",
       "\n",
       "    .dataframe tbody tr th {\n",
       "        vertical-align: top;\n",
       "    }\n",
       "\n",
       "    .dataframe thead th {\n",
       "        text-align: right;\n",
       "    }\n",
       "</style>\n",
       "<table border=\"1\" class=\"dataframe\">\n",
       "  <thead>\n",
       "    <tr style=\"text-align: right;\">\n",
       "      <th></th>\n",
       "      <th>nom</th>\n",
       "      <th>âge</th>\n",
       "      <th>ville</th>\n",
       "      <th>salaire</th>\n",
       "    </tr>\n",
       "  </thead>\n",
       "  <tbody>\n",
       "    <tr>\n",
       "      <th>0</th>\n",
       "      <td>Alice</td>\n",
       "      <td>25</td>\n",
       "      <td>Paris</td>\n",
       "      <td>35000</td>\n",
       "    </tr>\n",
       "    <tr>\n",
       "      <th>1</th>\n",
       "      <td>Bob</td>\n",
       "      <td>34</td>\n",
       "      <td>Lyon</td>\n",
       "      <td>42000</td>\n",
       "    </tr>\n",
       "    <tr>\n",
       "      <th>2</th>\n",
       "      <td>Charlie</td>\n",
       "      <td>17</td>\n",
       "      <td>Paris</td>\n",
       "      <td>22000</td>\n",
       "    </tr>\n",
       "    <tr>\n",
       "      <th>3</th>\n",
       "      <td>David</td>\n",
       "      <td>62</td>\n",
       "      <td>Marseille</td>\n",
       "      <td>55000</td>\n",
       "    </tr>\n",
       "    <tr>\n",
       "      <th>4</th>\n",
       "      <td>Eve</td>\n",
       "      <td>29</td>\n",
       "      <td>Lyon</td>\n",
       "      <td>38000</td>\n",
       "    </tr>\n",
       "  </tbody>\n",
       "</table>\n",
       "</div>"
      ],
      "text/plain": [
       "       nom  âge      ville  salaire\n",
       "0    Alice   25      Paris    35000\n",
       "1      Bob   34       Lyon    42000\n",
       "2  Charlie   17      Paris    22000\n",
       "3    David   62  Marseille    55000\n",
       "4      Eve   29       Lyon    38000"
      ]
     },
     "execution_count": 2,
     "metadata": {},
     "output_type": "execute_result"
    }
   ],
   "source": [
    "df.head()\n",
    "# Affiche les 5 premières lignes du DataFrame"
   ]
  },
  {
   "cell_type": "code",
   "execution_count": 3,
   "id": "9f130dd7",
   "metadata": {},
   "outputs": [
    {
     "name": "stdout",
     "output_type": "stream",
     "text": [
      "       nom  âge  ville  salaire\n",
      "2  Charlie   17  Paris    22000\n",
      "7     Hugo   16  Paris    20000\n"
     ]
    }
   ],
   "source": [
    "# Filtrer par âge\n",
    "mineurs = df[df['âge'] < 18]\n",
    "print(mineurs)"
   ]
  },
  {
   "cell_type": "code",
   "execution_count": 4,
   "id": "3bad52b5",
   "metadata": {},
   "outputs": [
    {
     "name": "stdout",
     "output_type": "stream",
     "text": [
      "     nom  âge  ville  salaire\n",
      "0  Alice   25  Paris    35000\n",
      "5  Frank   45  Paris    47000\n"
     ]
    }
   ],
   "source": [
    "# Plusieurs conditions\n",
    "paris_adultes = df[(df['âge'] >= 18) & (df['ville'] == 'Paris')]\n",
    "print(paris_adultes)"
   ]
  },
  {
   "cell_type": "code",
   "execution_count": 7,
   "id": "4731f8b0",
   "metadata": {},
   "outputs": [
    {
     "data": {
      "text/html": [
       "<div>\n",
       "<style scoped>\n",
       "    .dataframe tbody tr th:only-of-type {\n",
       "        vertical-align: middle;\n",
       "    }\n",
       "\n",
       "    .dataframe tbody tr th {\n",
       "        vertical-align: top;\n",
       "    }\n",
       "\n",
       "    .dataframe thead th {\n",
       "        text-align: right;\n",
       "    }\n",
       "</style>\n",
       "<table border=\"1\" class=\"dataframe\">\n",
       "  <thead>\n",
       "    <tr style=\"text-align: right;\">\n",
       "      <th></th>\n",
       "      <th>nom</th>\n",
       "      <th>âge</th>\n",
       "      <th>ville</th>\n",
       "      <th>salaire</th>\n",
       "      <th>année_naissance</th>\n",
       "    </tr>\n",
       "  </thead>\n",
       "  <tbody>\n",
       "    <tr>\n",
       "      <th>0</th>\n",
       "      <td>Alice</td>\n",
       "      <td>25</td>\n",
       "      <td>Paris</td>\n",
       "      <td>35000</td>\n",
       "      <td>2000</td>\n",
       "    </tr>\n",
       "    <tr>\n",
       "      <th>1</th>\n",
       "      <td>Bob</td>\n",
       "      <td>34</td>\n",
       "      <td>Lyon</td>\n",
       "      <td>42000</td>\n",
       "      <td>1991</td>\n",
       "    </tr>\n",
       "    <tr>\n",
       "      <th>2</th>\n",
       "      <td>Charlie</td>\n",
       "      <td>17</td>\n",
       "      <td>Paris</td>\n",
       "      <td>22000</td>\n",
       "      <td>2008</td>\n",
       "    </tr>\n",
       "    <tr>\n",
       "      <th>3</th>\n",
       "      <td>David</td>\n",
       "      <td>62</td>\n",
       "      <td>Marseille</td>\n",
       "      <td>55000</td>\n",
       "      <td>1963</td>\n",
       "    </tr>\n",
       "    <tr>\n",
       "      <th>4</th>\n",
       "      <td>Eve</td>\n",
       "      <td>29</td>\n",
       "      <td>Lyon</td>\n",
       "      <td>38000</td>\n",
       "      <td>1996</td>\n",
       "    </tr>\n",
       "  </tbody>\n",
       "</table>\n",
       "</div>"
      ],
      "text/plain": [
       "       nom  âge      ville  salaire  année_naissance\n",
       "0    Alice   25      Paris    35000             2000\n",
       "1      Bob   34       Lyon    42000             1991\n",
       "2  Charlie   17      Paris    22000             2008\n",
       "3    David   62  Marseille    55000             1963\n",
       "4      Eve   29       Lyon    38000             1996"
      ]
     },
     "execution_count": 7,
     "metadata": {},
     "output_type": "execute_result"
    }
   ],
   "source": [
    "# Ajouter une colonne\n",
    "df['année_naissance'] = 2025 - df['âge']\n",
    "df.head()"
   ]
  },
  {
   "cell_type": "code",
   "execution_count": 9,
   "id": "9d09afd8",
   "metadata": {},
   "outputs": [
    {
     "name": "stdout",
     "output_type": "stream",
     "text": [
      "        ville    pays\n",
      "0       Paris  France\n",
      "1        Lyon  France\n",
      "2       Paris  France\n",
      "3   Marseille  France\n",
      "4        Lyon  France\n",
      "5       Paris  France\n",
      "6   Marseille  France\n",
      "7       Paris  France\n",
      "8        Lyon  France\n",
      "9   Marseille  France\n",
      "10      Rabat   Maroc\n"
     ]
    }
   ],
   "source": [
    "# Mapper les villes vers des pays\n",
    "df['pays'] = df['ville'].map({'Paris': 'France', \n",
    "                              'Lyon': 'France', 'Marseille': 'France',\n",
    "                              'Rabat': 'Maroc'})\n",
    "print(df[['ville', 'pays']])"
   ]
  },
  {
   "cell_type": "code",
   "execution_count": 8,
   "id": "d785558e",
   "metadata": {},
   "outputs": [
    {
     "name": "stdout",
     "output_type": "stream",
     "text": [
      "        nom  âge catégorie\n",
      "0     Alice   25    Adulte\n",
      "1       Bob   34    Adulte\n",
      "2   Charlie   17    Mineur\n",
      "3     David   62    Senior\n",
      "4       Eve   29    Adulte\n",
      "5     Frank   45    Adulte\n",
      "6     Grace   30    Adulte\n",
      "7      Hugo   16    Mineur\n",
      "8      Inès   38    Adulte\n",
      "9    Julien   55    Adulte\n",
      "10  Yasmina   40    Adulte\n"
     ]
    }
   ],
   "source": [
    "# Catégoriser l'âge\n",
    "def categorie_age(age):\n",
    "    if age < 18: return 'Mineur'\n",
    "    elif age < 60: return 'Adulte'\n",
    "    else: return 'Senior'\n",
    "\n",
    "df['catégorie'] = df['âge'].apply(categorie_age)\n",
    "print(df[['nom', 'âge', 'catégorie']])"
   ]
  },
  {
   "cell_type": "code",
   "execution_count": 19,
   "id": "2ada7f4c",
   "metadata": {},
   "outputs": [
    {
     "name": "stdout",
     "output_type": "stream",
     "text": [
      "             âge       salaire  année_naissance\n",
      "count  11.000000     11.000000        11.000000\n",
      "mean   35.545455  38818.181818      1989.454545\n",
      "std    14.514569  10851.895519        14.514569\n",
      "min    16.000000  20000.000000      1963.000000\n",
      "25%    27.000000  35500.000000      1982.500000\n",
      "50%    34.000000  39000.000000      1991.000000\n",
      "75%    42.500000  44500.000000      1998.000000\n",
      "max    62.000000  55000.000000      2009.000000\n"
     ]
    }
   ],
   "source": [
    "# Statistiques générales\n",
    "print(df.describe())"
   ]
  },
  {
   "cell_type": "code",
   "execution_count": 20,
   "id": "746e3797",
   "metadata": {},
   "outputs": [
    {
     "name": "stdout",
     "output_type": "stream",
     "text": [
      "Salaire moyen à Paris : 31000.0\n"
     ]
    }
   ],
   "source": [
    "# Moyenne des salaires à Paris\n",
    "moyenne_salaire_paris = df[df['ville'] == 'Paris']['salaire'].mean()\n",
    "print(\"Salaire moyen à Paris :\", moyenne_salaire_paris)"
   ]
  },
  {
   "cell_type": "code",
   "execution_count": 21,
   "id": "556f9b7c",
   "metadata": {},
   "outputs": [
    {
     "name": "stdout",
     "output_type": "stream",
     "text": [
      "                 âge                    salaire\n",
      "                mean median count          mean\n",
      "ville                                          \n",
      "Lyon       33.666667   34.0     3  40333.333333\n",
      "Marseille  49.000000   55.0     3  47666.666667\n",
      "Paris      25.750000   21.0     4  31000.000000\n",
      "Rabat      40.000000   40.0     1  39000.000000\n"
     ]
    }
   ],
   "source": [
    "# Grouper par ville\n",
    "stats_par_ville = df.groupby('ville').agg({\n",
    "    'âge': ['mean', 'median', 'count'],\n",
    "    'salaire': 'mean'\n",
    "})\n",
    "print(stats_par_ville)"
   ]
  },
  {
   "cell_type": "code",
   "execution_count": 22,
   "id": "3a480046",
   "metadata": {},
   "outputs": [
    {
     "data": {
      "image/png": "[encoded data removed]",
      "text/plain": [
       "<Figure size 640x480 with 1 Axes>"
      ]
     },
     "metadata": {},
     "output_type": "display_data"
    }
   ],
   "source": [
    "# Histogramme des âges\n",
    "sns.histplot(df['âge'], bins=10)\n",
    "plt.title(\"Répartition des âges\")\n",
    "plt.show()"
   ]
  },
  {
   "cell_type": "code",
   "execution_count": 23,
   "id": "20d8c59a",
   "metadata": {},
   "outputs": [
    {
     "data": {
      "image/png": "[encoded data removed]",
      "text/plain": [
       "<Figure size 640x480 with 1 Axes>"
      ]
     },
     "metadata": {},
     "output_type": "display_data"
    }
   ],
   "source": [
    "# Boxplot des âges par ville\n",
    "sns.boxplot(x='ville', y='âge', data=df)\n",
    "plt.title(\"Âge par ville\")\n",
    "plt.show()\n"
   ]
  },
  {
   "cell_type": "code",
   "execution_count": 24,
   "id": "d162c9b4",
   "metadata": {},
   "outputs": [
    {
     "data": {
      "image/png": "[encoded data removed]",
      "text/plain": [
       "<Figure size 640x480 with 1 Axes>"
      ]
     },
     "metadata": {},
     "output_type": "display_data"
    }
   ],
   "source": [
    "# Nuage de points âge vs salaire\n",
    "sns.scatterplot(x='âge', y='salaire', data=df)\n",
    "plt.title(\"Relation entre âge et salaire\")\n",
    "plt.show()"
   ]
  },
  {
   "cell_type": "code",
   "execution_count": 25,
   "id": "df6cd632",
   "metadata": {},
   "outputs": [
    {
     "data": {
      "image/png": "[encoded data removed]",
      "text/plain": [
       "<Figure size 640x480 with 2 Axes>"
      ]
     },
     "metadata": {},
     "output_type": "display_data"
    }
   ],
   "source": [
    "# Corrélation\n",
    "corr = df.select_dtypes(include=[np.number]).corr()\n",
    "sns.heatmap(corr, annot=True)\n",
    "plt.title(\"Matrice de corrélation\")\n",
    "plt.show()"
   ]
  },
  {
   "cell_type": "code",
   "execution_count": null,
   "id": "75969a73",
   "metadata": {},
   "outputs": [],
   "source": []
  }
 ],
 "metadata": {
  "kernelspec": {
   "display_name": "game",
   "language": "python",
   "name": "game"
  },
  "language_info": {
   "codemirror_mode": {
    "name": "ipython",
    "version": 3
   },
   "file_extension": ".py",
   "mimetype": "text/x-python",
   "name": "python",
   "nbconvert_exporter": "python",
   "pygments_lexer": "ipython3",
   "version": "3.13.2"
  }
 },
 "nbformat": 4,
 "nbformat_minor": 5
}
