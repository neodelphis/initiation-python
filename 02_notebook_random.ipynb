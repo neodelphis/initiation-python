{
 "cells": [
  {
   "cell_type": "markdown",
   "id": "1ae74ec5",
   "metadata": {},
   "source": [
    "# 🎲 Python 3 : Objectif Jeux\n",
    "## Le hasard dans les jeux\n",
    "Ce notebook explore l’utilisation du module `random` pour créer des jeux simples."
   ]
  },
  {
   "cell_type": "code",
   "execution_count": 1,
   "id": "b4adfab2",
   "metadata": {},
   "outputs": [],
   "source": [
    "from random import *"
   ]
  },
  {
   "cell_type": "markdown",
   "id": "0281728e",
   "metadata": {},
   "source": [
    "## 🧮 1. Générer des nombres aléatoires"
   ]
  },
  {
   "cell_type": "code",
   "execution_count": 2,
   "id": "634dc522",
   "metadata": {},
   "outputs": [
    {
     "name": "stdout",
     "output_type": "stream",
     "text": [
      "Nombre entre 0 et 1 : 0.3353861104646578\n"
     ]
    }
   ],
   "source": [
    "print('Nombre entre 0 et 1 :', random())"
   ]
  },
  {
   "cell_type": "code",
   "execution_count": 3,
   "id": "bf7ab0ff",
   "metadata": {},
   "outputs": [
    {
     "name": "stdout",
     "output_type": "stream",
     "text": [
      "Dé à 6 faces : 5\n"
     ]
    }
   ],
   "source": [
    "print('Dé à 6 faces :', randint(1, 6))"
   ]
  },
  {
   "cell_type": "markdown",
   "id": "03ef11dd",
   "metadata": {},
   "source": [
    "## 🎳 2. Répéter une action plusieurs fois – La boucle `for`"
   ]
  },
  {
   "cell_type": "code",
   "execution_count": 4,
   "id": "248ae385",
   "metadata": {},
   "outputs": [
    {
     "name": "stdout",
     "output_type": "stream",
     "text": [
      "Lancers de dés :\n",
      "3 5 3 5 5 6 6 5 5 4 "
     ]
    }
   ],
   "source": [
    "print('Lancers de dés :')\n",
    "for _ in range(10):\n",
    "    print(randint(1, 6), end=' ')"
   ]
  },
  {
   "cell_type": "markdown",
   "id": "3799c090",
   "metadata": {},
   "source": [
    "## 🃏 3. Choisir un élément au hasard dans une liste – `choice()`"
   ]
  },
  {
   "cell_type": "code",
   "execution_count": 5,
   "id": "e37cc3fe",
   "metadata": {},
   "outputs": [
    {
     "name": "stdout",
     "output_type": "stream",
     "text": [
      "Carte tirée : Dame\n"
     ]
    }
   ],
   "source": [
    "cartes = ['As', 'Roi', 'Dame', 'Valet']\n",
    "print('Carte tirée :', choice(cartes))"
   ]
  },
  {
   "cell_type": "markdown",
   "id": "b592125f",
   "metadata": {},
   "source": [
    "## 🔀 4. Mélanger une liste – `shuffle()`"
   ]
  },
  {
   "cell_type": "code",
   "execution_count": 6,
   "id": "b7d4f947",
   "metadata": {},
   "outputs": [
    {
     "name": "stdout",
     "output_type": "stream",
     "text": [
      "Paquet mélangé : ['Pique', 'Trèfle', 'Cœur', 'Carreau']\n"
     ]
    }
   ],
   "source": [
    "paquet = ['Cœur', 'Carreau', 'Trèfle', 'Pique']\n",
    "shuffle(paquet)\n",
    "print('Paquet mélangé :', paquet)"
   ]
  },
  {
   "cell_type": "markdown",
   "id": "9f48d860",
   "metadata": {},
   "source": [
    "## 🎁 5. Tirer plusieurs éléments sans répétition – `sample()`"
   ]
  },
  {
   "cell_type": "code",
   "execution_count": 7,
   "id": "f7550df6",
   "metadata": {},
   "outputs": [
    {
     "name": "stdout",
     "output_type": "stream",
     "text": [
      "Tirage Euro Millions : [44, 40, 13, 1, 22]\n"
     ]
    }
   ],
   "source": [
    "numeros = list(range(1, 51))\n",
    "tirage = sample(numeros, 5)\n",
    "print('Tirage Euro Millions :', tirage)"
   ]
  },
  {
   "cell_type": "markdown",
   "id": "00a3c3cc",
   "metadata": {},
   "source": [
    "## 🧠 6. Prendre des décisions selon le hasard – `if... elif... else`"
   ]
  },
  {
   "cell_type": "code",
   "execution_count": 8,
   "id": "9c6f0387",
   "metadata": {},
   "outputs": [
    {
     "name": "stdout",
     "output_type": "stream",
     "text": [
      "Résultat : 2\n"
     ]
    }
   ],
   "source": [
    "rnd = random()\n",
    "if rnd < 0.1:\n",
    "    print('Résultat : 1')\n",
    "elif rnd < 0.25:\n",
    "    print('Résultat : 2')\n",
    "elif rnd < 0.4:\n",
    "    print('Résultat : 3')\n",
    "elif rnd < 0.55:\n",
    "    print('Résultat : 4')\n",
    "elif rnd < 0.7:\n",
    "    print('Résultat : 5')\n",
    "else:\n",
    "    print('Résultat : 6')"
   ]
  },
  {
   "cell_type": "markdown",
   "id": "a86bd4ba",
   "metadata": {},
   "source": [
    "## 🧩 7. Mini-Projets interactifs"
   ]
  },
  {
   "cell_type": "markdown",
   "id": "4afff76a",
   "metadata": {},
   "source": [
    "### 🎰 Exercice 1 : Dé pipé"
   ]
  },
  {
   "cell_type": "code",
   "execution_count": 9,
   "id": "56967132",
   "metadata": {},
   "outputs": [
    {
     "name": "stdout",
     "output_type": "stream",
     "text": [
      "[5, 2, 5, 4, 3, 5, 4, 6, 2, 1]\n"
     ]
    }
   ],
   "source": [
    "import random\n",
    "\n",
    "resultats = []\n",
    "for _ in range(100):\n",
    "    r = random.random()\n",
    "    if r < 0.1:\n",
    "        resultats.append(1)\n",
    "    elif r < 0.25:\n",
    "        resultats.append(2)\n",
    "    elif r < 0.4:\n",
    "        resultats.append(3)\n",
    "    elif r < 0.55:\n",
    "        resultats.append(4)\n",
    "    elif r < 0.7:\n",
    "        resultats.append(5)\n",
    "    else:\n",
    "        resultats.append(6)\n",
    "print(resultats[:10])"
   ]
  },
  {
   "cell_type": "markdown",
   "id": "b9b90fd5",
   "metadata": {},
   "source": [
    "### 🔐 Exercice 2 : Générateur de mot de passe"
   ]
  },
  {
   "cell_type": "code",
   "execution_count": 10,
   "id": "1c6f4fe8",
   "metadata": {},
   "outputs": [
    {
     "name": "stdout",
     "output_type": "stream",
     "text": [
      "0ch3yaza\n"
     ]
    }
   ],
   "source": [
    "import string\n",
    "\n",
    "def generer_mdp(longueur=8):\n",
    "    caracteres = string.ascii_lowercase + string.digits\n",
    "    return ''.join(choice(caracteres) for _ in range(longueur))\n",
    "print(generer_mdp())"
   ]
  },
  {
   "cell_type": "markdown",
   "id": "1fb43cc6",
   "metadata": {},
   "source": [
    "### 🥊 Exercice 3 : Ordre d'entrée Royal Rumble"
   ]
  },
  {
   "cell_type": "code",
   "execution_count": 11,
   "id": "4fa2af40",
   "metadata": {},
   "outputs": [
    {
     "name": "stdout",
     "output_type": "stream",
     "text": [
      "1. Antonio Cesaro\n",
      "2. Brodus Clay\n",
      "3. Darren Young\n",
      "4. Ryback\n",
      "5. Titus O'Neil\n",
      "6. Damien Sandow\n",
      "7. Rey Mysterio\n",
      "8. Santino Marella\n",
      "9. Heath Slater\n",
      "10. John Cena\n",
      "11. The Godfather\n",
      "12. Wade Barrett\n",
      "13. Bo Dallas\n",
      "14. Zack Ryder\n",
      "15. Sin Cara\n",
      "16. Drew McIntyre\n",
      "17. Chris Jericho\n",
      "18. The Miz\n",
      "19. Jinder Mahal\n",
      "20. Kofi Kingston\n",
      "21. The Great Khali\n",
      "22. Randy Orton\n",
      "23. David Otunga\n",
      "24. Cody Rhodes\n",
      "25. Goldust\n",
      "26. Sheamus\n",
      "27. Dolph Ziggler\n",
      "28. Kane\n",
      "29. Tensai\n",
      "30. Daniel Bryan\n"
     ]
    }
   ],
   "source": [
    "catcheurs = [\n",
    "    \"Wade Barrett\", \"Daniel Bryan\", \"Sin Cara\", \"John Cena\", \"Antonio Cesaro\",\n",
    "    \"Brodus Clay\", \"Bo Dallas\", \"The Godfather\", \"Goldust\", \"Kane\",\n",
    "    \"The Great Khali\", \"Chris Jericho\", \"Kofi Kingston\", \"Jinder Mahal\",\n",
    "    \"Santino Marella\", \"Drew McIntyre\", \"The Miz\", \"Rey Mysterio\",\n",
    "    \"Titus O'Neil\", \"Randy Orton\", \"David Otunga\", \"Cody Rhodes\", \"Ryback\",\n",
    "    \"Zack Ryder\", \"Damien Sandow\", \"Heath Slater\", \"Sheamus\", \"Tensai\",\n",
    "    \"Darren Young\", \"Dolph Ziggler\"\n",
    "]\n",
    "shuffle(catcheurs)\n",
    "for i, c in enumerate(catcheurs, start=1):\n",
    "    print(f\"{i}. {c}\")"
   ]
  },
  {
   "cell_type": "code",
   "execution_count": null,
   "id": "acf8f357",
   "metadata": {},
   "outputs": [],
   "source": []
  },
  {
   "cell_type": "code",
   "execution_count": null,
   "id": "b21c71f9",
   "metadata": {},
   "outputs": [],
   "source": []
  }
 ],
 "metadata": {
  "kernelspec": {
   "display_name": "game",
   "language": "python",
   "name": "game"
  },
  "language_info": {
   "codemirror_mode": {
    "name": "ipython",
    "version": 3
   },
   "file_extension": ".py",
   "mimetype": "text/x-python",
   "name": "python",
   "nbconvert_exporter": "python",
   "pygments_lexer": "ipython3",
   "version": "3.13.2"
  }
 },
 "nbformat": 4,
 "nbformat_minor": 5
}
