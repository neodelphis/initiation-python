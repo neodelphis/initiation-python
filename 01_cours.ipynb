{
 "cells": [
  {
   "cell_type": "raw",
   "id": "62a73bc2",
   "metadata": {
    "slideshow": {
     "slide_type": "skip"
    },
    "vscode": {
     "languageId": "raw"
    }
   },
   "source": [
    "---\n",
    "title: \"Découverte de Python et premiers pas\"\n",
    "author: \"Pierre Jaumier\"\n",
    "format:\n",
    "  pdf:\n",
    "    toc: false\n",
    "    number-sections: false\n",
    "    colorlinks: true\n",
    "---"
   ]
  },
  {
   "cell_type": "markdown",
   "id": "3847cbcc",
   "metadata": {
    "slideshow": {
     "slide_type": "slide"
    }
   },
   "source": [
    "# Découverte de Python et premiers pas"
   ]
  },
  {
   "cell_type": "markdown",
   "id": "65bcc28c",
   "metadata": {
    "slideshow": {
     "slide_type": "slide"
    }
   },
   "source": [
    "## Bienvenue\n",
    "-  Introduction à Python – Jour 1, Matinée 1\n",
    "- Découverte de Python et premiers pas\n",
    "- Pierre Jaumier\n"
   ]
  },
  {
   "cell_type": "markdown",
   "id": "856bff8f",
   "metadata": {
    "slideshow": {
     "slide_type": "slide"
    }
   },
   "source": [
    "## 🔹 Qu’est-ce que Python ?\n",
    "- Langage de programmation créé par Guido van Rossum (1991)\n",
    "- Simple, puissant, polyvalent\n",
    "- Lisibilité du code avant tout\n",
    "- Syntaxe proche de l’anglais\n",
    "- Domaines d’utilisation :\n",
    "  - Web (Django, Flask)\n",
    "  - Data Science / IA (Pandas, NumPy, TensorFlow)\n",
    "  - Scripts d’automatisation\n",
    "  - Réseaux, DevOps, jeux, etc."
   ]
  },
  {
   "cell_type": "markdown",
   "id": "0addd1b5",
   "metadata": {
    "slideshow": {
     "slide_type": "slide"
    }
   },
   "source": [
    "## 🔹 Pourquoi Python ?\n",
    "✅ Facile à apprendre  \n",
    "✅ Grande communauté  \n",
    "✅ Multiplateforme  \n",
    "✅ Gratuit et open-source  \n",
    "✅ Très demandé dans le monde professionnel"
   ]
  },
  {
   "cell_type": "markdown",
   "id": "5d45d4ba",
   "metadata": {
    "slideshow": {
     "slide_type": "slide"
    }
   },
   "source": [
    "## 🔹 Installation de Python\n",
    "- Télécharger depuis : [https://www.python.org/](https://www.python.org/)\n",
    "- Cocher \"Add to PATH\" pendant l'installation\n",
    "- Vérifier avec la commande :  \n",
    "  ```bash\n",
    "  python --version\n",
    "  ```\n",
    "  ou  \n",
    "  ```bash\n",
    "  python3 --version\n",
    "  ```"
   ]
  },
  {
   "cell_type": "markdown",
   "id": "dca5e8dc",
   "metadata": {
    "slideshow": {
     "slide_type": "slide"
    }
   },
   "source": [
    "## 🐍 Conda : Gestionnaire d’Environnements et de Packages pour Python\n"
   ]
  },
  {
   "cell_type": "markdown",
   "id": "97028326",
   "metadata": {
    "slideshow": {
     "slide_type": "slide"
    }
   },
   "source": [
    "### ✅ Qu’est-ce que Conda ?\n",
    "\n",
    "* Conda est un **gestionnaire d’environnements** et de **packages**.\n",
    "* Il permet d’installer, mettre à jour et gérer des bibliothèques **Python** (et d'autres langages).\n",
    "* Il isole les projets dans des **environnements virtuels**, évitant les conflits entre dépendances.\n"
   ]
  },
  {
   "cell_type": "markdown",
   "id": "067f8cc5",
   "metadata": {
    "slideshow": {
     "slide_type": "slide"
    }
   },
   "source": [
    "### 🚀 Pourquoi utiliser Conda ?\n",
    "\n",
    "* ✅ Gérer plusieurs versions de Python facilement.\n",
    "* ✅ Éviter les conflits entre bibliothèques.\n",
    "* ✅ Installer des packages scientifiques lourds (NumPy, Pandas, etc.) rapidement.\n",
    "* ✅ Fonctionne sous Windows, macOS et Linux."
   ]
  },
  {
   "cell_type": "markdown",
   "id": "d061e10c",
   "metadata": {
    "slideshow": {
     "slide_type": "slide"
    }
   },
   "source": [
    "### 🔧 Comment l’installer ?\n",
    "\n",
    "1. Aller sur : [https://www.anaconda.com/products/distribution](https://www.anaconda.com/products/distribution)\n",
    "2. Télécharger l'installateur pour votre système (Windows/macOS/Linux).\n",
    "3. Installer en suivant les instructions.\n",
    "4. (Optionnel) Vérifier dans un terminal :\n",
    "\n",
    "   ```bash\n",
    "   conda --version\n",
    "   ```"
   ]
  },
  {
   "cell_type": "markdown",
   "id": "93372133",
   "metadata": {
    "slideshow": {
     "slide_type": "slide"
    }
   },
   "source": [
    "### 💡 Exemple de base\n",
    "\n",
    "```bash\n",
    "# Créer un environnement\n",
    "conda create -n monenv python=3.10\n",
    "\n",
    "# Activer l’environnement\n",
    "conda activate monenv\n",
    "\n",
    "# Installer un package\n",
    "conda install numpy\n",
    "\n",
    "# Désactiver l’environnement\n",
    "conda deactivate\n",
    "```"
   ]
  },
  {
   "cell_type": "markdown",
   "id": "975367b3",
   "metadata": {
    "slideshow": {
     "slide_type": "slide"
    }
   },
   "source": [
    "## 🔹 IDE recommandés\n",
    "| IDE | Niveau | Avantages |\n",
    "|-----|--------|-----------|\n",
    "| **Thonny** | Débutant | Simple, léger, inclus Python |\n",
    "| **VS Code** | Intermédiaire | Puissant, extensions nombreuses |\n",
    "| **PyCharm Community** | Avancé | Orienté développement pro |\n",
    "| **Jupyter NoteBook** | Avancé | Data Science et IA |\n",
    "\n",
    "👉 Recommandation : Thonny et Jupyter pour cette formation\n"
   ]
  },
  {
   "cell_type": "markdown",
   "id": "e354241e",
   "metadata": {
    "slideshow": {
     "slide_type": "slide"
    }
   },
   "source": [
    "## 🔹 Votre premier programme\n",
    "```python\n",
    "print(\"Hello World\")\n",
    "```\n",
    "\n",
    "- C’est traditionnel de commencer par ce message\n",
    "- `print()` affiche du texte à l’écran\n",
    "- Le texte est entouré de guillemets (`\"` ou `'`)\n"
   ]
  },
  {
   "cell_type": "markdown",
   "id": "c916e3a0",
   "metadata": {
    "slideshow": {
     "slide_type": "slide"
    }
   },
   "source": [
    "## 🔹 Commentaires\n",
    "Les commentaires expliquent le code mais ne sont pas exécutés.\n",
    "\n",
    "```python\n",
    "# Ceci est un commentaire\n",
    "print(\"Ce code s'exécute\")\n",
    "```\n",
    "\n",
    "💡 Utile pour documenter ou désactiver des lignes"
   ]
  },
  {
   "cell_type": "markdown",
   "id": "de4145b4",
   "metadata": {
    "slideshow": {
     "slide_type": "slide"
    }
   },
   "source": [
    "## 🔹 Variables et affectation\n",
    "Une variable stocke une valeur d'un certain type.\n",
    "\n",
    "```python\n",
    "prenom = \"Alice\"\n",
    "age = 25\n",
    "pi = 3.1416\n",
    "est_majeur = True\n",
    "```\n",
    "\n",
    "- Pas besoin de déclarer le type\n",
    "- Le signe `=` attribue une valeur"
   ]
  },
  {
   "cell_type": "markdown",
   "id": "ccc051dd",
   "metadata": {
    "slideshow": {
     "slide_type": "slide"
    }
   },
   "source": [
    "## 🔹 Types de base\n",
    "| Type | Exemple |\n",
    "|------|---------|\n",
    "| Entier (`int`) | `5`, `-10`, `1000` |\n",
    "| Flottant (`float`) | `3.14`, `0.5`, `-100.0` |\n",
    "| Chaîne de caractères (`str`) | `\"Bonjour\"`, `'Python'` |\n",
    "| Booléen (`bool`) | `True`, `False` |\n"
   ]
  },
  {
   "cell_type": "markdown",
   "id": "5fa00aa4",
   "metadata": {
    "slideshow": {
     "slide_type": "slide"
    }
   },
   "source": [
    "## 🔹 Opérateurs arithmétiques\n",
    "| Opérateur | Signification | Exemple |\n",
    "|----------|---------------|---------|\n",
    "| `+` | Addition | `5 + 3 → 8` |\n",
    "| `-` | Soustraction | `10 - 4 → 6` |\n",
    "| `*` | Multiplication | `3 * 4 → 12` |\n",
    "| `/` | Division | `10 / 3 → 3.333...` |\n",
    "| `//` | Division entière | `10 // 3 → 3` |\n",
    "| `%` | Modulo | `10 % 3 → 1` |\n",
    "| `**` | Puissance | `2 ** 3 → 8` |\n"
   ]
  },
  {
   "cell_type": "markdown",
   "id": "27a17d2d",
   "metadata": {
    "slideshow": {
     "slide_type": "slide"
    }
   },
   "source": [
    "## 🔹 Afficher à l'écran : `print()`\n",
    "```python\n",
    "print(\"Bonjour\")               # Affiche du texte\n",
    "print(42)                      # Affiche un nombre\n",
    "print(\"La réponse est\", 42)    # Plusieurs valeurs séparées par des virgules\n",
    "print(f\"{prenom} a {age} ans\") # f-string (formatage moderne)\n",
    "```"
   ]
  },
  {
   "cell_type": "markdown",
   "id": "51667b5e",
   "metadata": {
    "slideshow": {
     "slide_type": "slide"
    }
   },
   "source": [
    "## 🔹 Récupérer une saisie utilisateur : `input()`\n",
    "```python\n",
    "nom = input(\"Quel est votre nom ? \")\n",
    "print(\"Bonjour\", nom)\n",
    "```\n",
    "\n",
    "⚠️ `input()` retourne toujours une chaîne (`str`)  \n",
    "→ Conversion nécessaire pour les nombres :\n",
    "\n",
    "```python\n",
    "age = int(input(\"Quel est votre âge ? \"))\n",
    "```\n"
   ]
  },
  {
   "cell_type": "markdown",
   "id": "7590252f",
   "metadata": {
    "slideshow": {
     "slide_type": "slide"
    }
   },
   "source": [
    "## 🔹 Exercice 1 : Bonjour utilisateur\n",
    "**Objectif** : Demander le prénom et l’âge de l’utilisateur, puis afficher un message personnalisé.\n",
    "\n",
    "Exemple :\n",
    "```\n",
    "Quel est votre prénom ? Alice\n",
    "Quel est votre âge ? 25\n",
    "Bonjour Alice, vous avez 25 ans.\n",
    "```"
   ]
  },
  {
   "cell_type": "markdown",
   "id": "cca386a5",
   "metadata": {
    "slideshow": {
     "slide_type": "slide"
    }
   },
   "source": [
    "## 🔹 Exercice 2 : Calculatrice simplifiée\n",
    "**Objectif** : Demander deux nombres à l’utilisateur et afficher leur somme, produit et différence.\n",
    "\n",
    "Exemple :\n",
    "```\n",
    "Entrez le premier nombre : 10\n",
    "Entrez le deuxième nombre : 3\n",
    "Somme : 13\n",
    "Produit : 30\n",
    "Différence : 7\n",
    "```"
   ]
  },
  {
   "cell_type": "markdown",
   "id": "24113f06",
   "metadata": {
    "slideshow": {
     "slide_type": "slide"
    }
   },
   "source": [
    "## 🔹 Exercice 3 (Bonus) : Conversion Celsius/Fahrenheit\n",
    "**Formule** : `F = C * 9 / 5 + 32`\n",
    "\n",
    "Exemple :\n",
    "```\n",
    "Température en °C : 20\n",
    "Température en °F : 68.0\n",
    "```\n"
   ]
  },
  {
   "cell_type": "markdown",
   "id": "e3f8f817",
   "metadata": {
    "slideshow": {
     "slide_type": "slide"
    }
   },
   "source": [
    "## 🔹 Correction exercices\n",
    "Partage des solutions aux exercices."
   ]
  },
  {
   "cell_type": "markdown",
   "id": "ef20cd32",
   "metadata": {
    "slideshow": {
     "slide_type": "slide"
    }
   },
   "source": [
    "### 🔹 18 – Points clés de la matinée\n",
    "- Python est simple, puissant et très utilisé\n",
    "- L’IDE permet d’écrire et d’exécuter du code\n",
    "- On utilise `print()` pour afficher et `input()` pour récupérer une saisie\n",
    "- Les variables stockent des données de différents types\n",
    "- On peut faire des calculs avec des opérateurs\n",
    "- On peut convertir les entrées utilisateur en nombres"
   ]
  },
  {
   "cell_type": "markdown",
   "id": "02256117",
   "metadata": {
    "slideshow": {
     "slide_type": "slide"
    }
   },
   "source": [
    "### 🔹 19 – Questions & Discussions\n",
    "- Ouverture aux questions des participants\n",
    "- Retour sur les difficultés rencontrées"
   ]
  },
  {
   "cell_type": "markdown",
   "id": "27d2773a",
   "metadata": {
    "slideshow": {
     "slide_type": "slide"
    }
   },
   "source": [
    "### 🔹 20 – À suivre…\n",
    "#### Prochain cours : Structures conditionnelles et boucles\n",
    "- Apprendre à prendre des décisions dans le code\n",
    "- Répéter des actions plusieurs fois"
   ]
  }
 ],
 "metadata": {
  "kernelspec": {
   "display_name": "game",
   "language": "python",
   "name": "game"
  },
  "language_info": {
   "name": "python",
   "version": "3.13.2"
  }
 },
 "nbformat": 4,
 "nbformat_minor": 5
}
