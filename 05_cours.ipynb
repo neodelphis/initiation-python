{
 "cells": [
  {
   "cell_type": "raw",
   "id": "bc93fb7a",
   "metadata": {
    "slideshow": {
     "slide_type": "slide"
    },
    "vscode": {
     "languageId": "raw"
    }
   },
   "source": [
    "---\n",
    "title: \"Fonctions, modules et fichiers en Python\"\n",
    "author: \"Pierre Jaumier\"\n",
    "format:\n",
    "  pdf:\n",
    "    toc: false\n",
    "    number-sections: false\n",
    "    colorlinks: true\n",
    "---"
   ]
  },
  {
   "cell_type": "markdown",
   "id": "3847cbcc",
   "metadata": {
    "slideshow": {
     "slide_type": "slide"
    }
   },
   "source": [
    "## 🧩 Fonctions, modules et fichiers\n",
    "\n",
    "- Apprendre à organiser son code en fonctions\n",
    "- Découvrir les modules standards de Python\n",
    "- Lire et écrire des fichiers texte\n"
   ]
  },
  {
   "cell_type": "markdown",
   "id": "65bcc28c",
   "metadata": {
    "slideshow": {
     "slide_type": "slide"
    }
   },
   "source": [
    "## 🔹 Pourquoi organiser le code ?\n",
    "\n",
    "> \"Une bonne organisation du code rend ton programme plus lisible, réutilisable et maintenable.\"\n",
    "\n",
    "Quelques bonnes raisons :\n",
    "- Réutiliser un bloc de code plusieurs fois → **fonctions**\n",
    "- Séparer la logique métier de l’interface → **modules**\n",
    "- Sauvegarder ou lire des données → **fichiers**\n",
    "\n",
    "👉 En Python, tout cela est simple et intuitif !"
   ]
  },
  {
   "cell_type": "markdown",
   "id": "856bff8f",
   "metadata": {
    "slideshow": {
     "slide_type": "slide"
    }
   },
   "source": [
    "## 🔹 Définir une fonction avec `def`\n",
    "\n",
    "```python\n",
    "def saluer(nom):\n",
    "    print(f'Bonjour {nom} !')\n",
    "```\n",
    "\n",
    "- `def` = mot-clé pour définir une fonction\n",
    "- `saluer` = nom de la fonction\n",
    "- `(nom)` = paramètre\n",
    "- `print(...)` = corps de la fonction\n",
    "\n",
    "**Appel :**\n",
    "```python\n",
    "saluer('Alice')  # Bonjour Alice !\n",
    "```"
   ]
  },
  {
   "cell_type": "markdown",
   "id": "0addd1b5",
   "metadata": {
    "slideshow": {
     "slide_type": "slide"
    }
   },
   "source": [
    "## 🔹 Retourner une valeur avec `return`\n",
    "\n",
    "```python\n",
    "def carre(x):\n",
    "    return x * x\n",
    "\n",
    "resultat = carre(5)\n",
    "print(resultat)  # 25\n",
    "```\n",
    "\n",
    "- `return` permet de renvoyer une valeur utilisable ailleurs\n",
    "- Une fonction peut aussi ne rien retourner (ex: affichage)\n",
    "\n",
    "```python\n",
    "def nada():\n",
    "    pass\n",
    "\n",
    "print(nada())  # None\n",
    "```"
   ]
  },
  {
   "cell_type": "markdown",
   "id": "5d45d4ba",
   "metadata": {
    "slideshow": {
     "slide_type": "slide"
    }
   },
   "source": [
    "## 🔹 Portée des variables (local vs global)\n",
    "\n",
    "```python\n",
    "def exemple():\n",
    "    local_var = 'locale'\n",
    "    print(local_var)\n",
    "\n",
    "global_var = 'globale'\n",
    "\n",
    "exemple()       # Affiche 'locale'\n",
    "print(global_var)  # Affiche 'globale'\n",
    "# print(local_var)  # ❌ Erreur : variable inconnue\n",
    "```\n",
    "\n",
    "👉 Les variables définies dans une fonction sont **locales**  \n",
    "👉 Les variables définies en dehors sont **globales**"
   ]
  },
  {
   "cell_type": "markdown",
   "id": "dca5e8dc",
   "metadata": {
    "slideshow": {
     "slide_type": "slide"
    }
   },
   "source": [
    "## 🔹 Arguments par défaut\n",
    "\n",
    "```python\n",
    "def dire_bonjour(nom='inconnu'):\n",
    "    print(f'Bonjour {nom} !')\n",
    "\n",
    "dire_bonjour()         # Bonjour inconnu !\n",
    "dire_bonjour('Bob')    # Bonjour Bob !\n",
    "```\n",
    "\n",
    "- Très utile pour rendre les paramètres optionnels\n",
    "- À comparer avec Java/C++ où il faut surcharger les fonctions"
   ]
  },
  {
   "cell_type": "markdown",
   "id": "97028326",
   "metadata": {
    "slideshow": {
     "slide_type": "slide"
    }
   },
   "source": [
    "## 🔹 Modules – Importer des bibliothèques\n",
    "\n",
    "```python\n",
    "import math\n",
    "\n",
    "print(math.sqrt(16))  # 4.0\n",
    "```\n",
    "\n",
    "- `import` permet d’utiliser du code externe\n",
    "- Des milliers de modules disponibles dans la **bibliothèque standard**\n",
    "\n",
    "Exemples utiles :\n",
    "- `math`, `random`, `datetime`, `os`, `sys`"
   ]
  },
  {
   "cell_type": "markdown",
   "id": "067f8cc5",
   "metadata": {
    "slideshow": {
     "slide_type": "slide"
    }
   },
   "source": [
    "## 🔹 Module `math` – Opérations mathématiques\n",
    "\n",
    "```python\n",
    "import math\n",
    "\n",
    "print(math.sqrt(16))    # Racine carrée → 4.0\n",
    "print(math.pi)          # Valeur de π → 3.14159...\n",
    "print(math.ceil(2.3))   # Arrondi supérieur → 3\n",
    "print(math.floor(2.7))  # Arrondi inférieur → 2\n",
    "```\n"
   ]
  },
  {
   "cell_type": "markdown",
   "id": "d061e10c",
   "metadata": {
    "slideshow": {
     "slide_type": "slide"
    }
   },
   "source": [
    "## 🔹 Module `random` – Tirage aléatoire\n",
    "\n",
    "```python\n",
    "import random\n",
    "\n",
    "print(random.randint(1, 6))     # Un entier entre 1 et 6\n",
    "print(random.random())          # Un float entre 0 et 1\n",
    "print(random.choice(['a', 'b', 'c']))  # Choix au hasard\n",
    "```\n",
    "\n",
    "💡 Astuce : Utile pour jeux, tests, simulations"
   ]
  },
  {
   "cell_type": "markdown",
   "id": "93372133",
   "metadata": {
    "slideshow": {
     "slide_type": "slide"
    }
   },
   "source": [
    "## 🔹 Module `datetime` – Manipuler les dates et heures\n",
    "\n",
    "```python\n",
    "from datetime import datetime\n",
    "\n",
    "# Date actuelle\n",
    "now = datetime.now()\n",
    "print(now.strftime('%Y-%m-%d %H:%M'))  # Format personnalisé\n",
    "\n",
    "# Créer une date spécifique\n",
    "date = datetime(2025, 4, 5, 10, 30)\n",
    "print(date)\n",
    "```\n",
    "\n",
    "📅 Principales méthodes :\n",
    "- `.now()` → date actuelle\n",
    "- `.strftime()` → formater la date\n",
    "- `.timedelta()` → calculer des durées"
   ]
  },
  {
   "cell_type": "markdown",
   "id": "975367b3",
   "metadata": {
    "slideshow": {
     "slide_type": "slide"
    }
   },
   "source": [
    "## 🔹 Module `os` – Interagir avec le système\n",
    "\n",
    "```python\n",
    "import os\n",
    "\n",
    "print(os.getcwd())              # Chemin du dossier courant\n",
    "os.makedirs('nouveau_dossier', exist_ok=True)  # Créer un dossier\n",
    "print(os.listdir('.'))          # Lister les fichiers\n",
    "```\n",
    "\n",
    "📁 Utile pour :\n",
    "- Gérer des dossiers/fichiers\n",
    "- Travailler avec des chemins dynamiques"
   ]
  },
  {
   "cell_type": "markdown",
   "id": "e354241e",
   "metadata": {
    "slideshow": {
     "slide_type": "slide"
    }
   },
   "source": [
    "## 🔹 Module `sys` – Contrôler l'environnement d'exécution\n",
    "\n",
    "```python\n",
    "import sys\n",
    "\n",
    "print(sys.platform)         # OS utilisé (win32, linux, darwin...)\n",
    "print(sys.version)          # Version de Python\n",
    "sys.exit()                  # Quitter le programme\n",
    "```\n",
    "\n",
    "⚙️ Autres usages :\n",
    "- Lire depuis l’entrée standard (`sys.stdin`)\n",
    "- Écrire sur la sortie standard (`sys.stdout`)\n",
    "- Gérer les arguments passés au script (`sys.argv`)\n"
   ]
  },
  {
   "cell_type": "markdown",
   "id": "c916e3a0",
   "metadata": {
    "slideshow": {
     "slide_type": "slide"
    }
   },
   "source": [
    "## 🔹 Mini-projet : Générateur de mot de passe\n",
    "\n",
    "Écrivez un programme qui génère un mot de passe aléatoire de 10 caractères.\n",
    "\n",
    "```python\n",
    "import random\n",
    "import string\n",
    "\n",
    "caracteres = string.ascii_letters + string.digits + '!@#$%&'\n",
    "mdp = ''.join(random.choices(caracteres, k=10))\n",
    "print(f'Votre mot de passe : {mdp}')\n",
    "```\n",
    "\n",
    "🎯 Utilise :\n",
    "- `random.choices()` pour choisir plusieurs caractères\n",
    "- `string` pour avoir facilement lettres et chiffres"
   ]
  },
  {
   "cell_type": "markdown",
   "id": "de4145b4",
   "metadata": {
    "slideshow": {
     "slide_type": "slide"
    }
   },
   "source": [
    "## 🔹 Bonnes pratiques\n",
    "\n",
    "✅ Importez uniquement ce que vous utilisez  \n",
    "```python\n",
    "from math import sqrt  # plutôt que import math si tu n'utilises qu'une seule fonction\n",
    "```\n",
    "\n",
    "✅ Documentez vos imports  \n",
    "```python\n",
    "# Pour gérer les dates de création\n",
    "from datetime import datetime\n",
    "```\n",
    "\n",
    "✅ N’utilisez pas trop de modules inutiles  \n",
    "→ Gardez votre code propre et compréhensible"
   ]
  },
  {
   "cell_type": "markdown",
   "id": "ccc051dd",
   "metadata": {
    "slideshow": {
     "slide_type": "slide"
    }
   },
   "source": [
    "## 🔹 Importer une partie d’un module\n",
    "\n",
    "```python\n",
    "from random import randint\n",
    "\n",
    "print(randint(1, 6))  # Un nombre entre 1 et 6\n",
    "```\n",
    "\n",
    "Avantages :\n",
    "- Évite de taper `random.randint()` à chaque fois\n",
    "- Gagne en lisibilité si peu de fonctions nécessaires\n",
    "\n",
    "⚠️ À utiliser avec parcimonie si conflit de noms possible"
   ]
  },
  {
   "cell_type": "markdown",
   "id": "5fa00aa4",
   "metadata": {
    "slideshow": {
     "slide_type": "slide"
    }
   },
   "source": [
    "## 🔹 Créer son propre module\n",
    "\n",
    "Créez un fichier `mymodule.py` :\n",
    "```python\n",
    "def info():\n",
    "    print('Ceci est un module personnalisé')\n",
    "```\n",
    "\n",
    "Utilisez-le dans un autre script :\n",
    "```python\n",
    "import mymodule\n",
    "\n",
    "mymodule.info()  # Ceci est un module personnalisé\n",
    "```\n",
    "\n",
    "👉 C’est ainsi qu’on structure un projet en plusieurs fichiers"
   ]
  },
  {
   "cell_type": "markdown",
   "id": "27a17d2d",
   "metadata": {
    "slideshow": {
     "slide_type": "slide"
    }
   },
   "source": [
    "## 🔹 Lire un fichier texte\n",
    "\n",
    "```python\n",
    "with open('exemple.txt', 'r') as fichier:\n",
    "    contenu = fichier.read()\n",
    "    print(contenu)\n",
    "```\n",
    "\n",
    "- `'r'` = mode lecture\n",
    "- `with` = gère automatiquement la fermeture du fichier\n",
    "- `.read()` = lit tout le contenu\n",
    "\n",
    "💡 Comparaison avec Java : pas besoin de try-catch, Python gère ça avec `with`"
   ]
  },
  {
   "cell_type": "markdown",
   "id": "51667b5e",
   "metadata": {
    "slideshow": {
     "slide_type": "slide"
    }
   },
   "source": [
    "## 🔹 Écrire dans un fichier\n",
    "\n",
    "```python\n",
    "with open('sortie.txt', 'w') as fichier:\n",
    "    fichier.write('Première ligne\\\\n')\n",
    "    fichier.write('Deuxième ligne\\\\n')\n",
    "```\n",
    "\n",
    "- `'w'` = mode écriture (remplace le contenu existant)\n",
    "- Utilisez `'a'` pour ajouter sans effacer (`append`)\n",
    "- `\\n` = caractère de saut de ligne"
   ]
  },
  {
   "cell_type": "markdown",
   "id": "7590252f",
   "metadata": {
    "slideshow": {
     "slide_type": "slide"
    }
   },
   "source": [
    "## 🔹 Lire ligne par ligne\n",
    "\n",
    "```python\n",
    "with open('donnees.csv', 'r') as fichier:\n",
    "    for ligne in fichier:\n",
    "        print(ligne.strip())\n",
    "```\n",
    "\n",
    "- Utile pour traiter des fichiers volumineux\n",
    "- `strip()` supprime les espaces inutiles et les sauts de ligne"
   ]
  },
  {
   "cell_type": "markdown",
   "id": "cca386a5",
   "metadata": {
    "slideshow": {
     "slide_type": "slide"
    }
   },
   "source": [
    "## 🔹 Mini-projet : Compteur de mots\n",
    "\n",
    "Écrivez un programme qui :\n",
    "1. Lit un fichier texte\n",
    "2. Compte combien de mots contient ce fichier\n",
    "\n",
    "```python\n",
    "with open('texte.txt', 'r') as f:\n",
    "    contenu = f.read()\n",
    "    mots = contenu.split()\n",
    "    print(f\"Nombre de mots : {len(mots)}\")\n",
    "```\n",
    "\n",
    "👉 Idéal pour pratiquer :\n",
    "- Lecture de fichiers\n",
    "- Manipulation de listes\n",
    "- Fonctions simples"
   ]
  },
  {
   "cell_type": "markdown",
   "id": "24113f06",
   "metadata": {
    "slideshow": {
     "slide_type": "slide"
    }
   },
   "source": [
    "## 🔹 4 – Bonnes pratiques\n",
    "\n",
    "✅ Utilisez des fonctions pour :\n",
    "- Regrouper du code réutilisable\n",
    "- Améliorer la lisibilité\n",
    "\n",
    "✅ Organisez votre code en modules quand :\n",
    "- Le projet devient gros\n",
    "- Vous voulez partager des outils\n",
    "\n",
    "✅ Travaillez avec `with` pour les fichiers :\n",
    "- Plus sûr\n",
    "- Plus propre"
   ]
  },
  {
   "cell_type": "markdown",
   "id": "e3f8f817",
   "metadata": {
    "slideshow": {
     "slide_type": "slide"
    }
   },
   "source": [
    "## 🔹 5 – Conclusion\n",
    "\n",
    "Ce que vous avez appris aujourd’hui :\n",
    "- Définir et utiliser des fonctions\n",
    "- Importer et créer des modules\n",
    "- Lire et écrire des fichiers texte\n",
    "\n",
    "❓ Prochaines étapes :\n",
    "- Programmation orientée objet"
   ]
  },
  {
   "cell_type": "markdown",
   "id": "27d2773a",
   "metadata": {
    "slideshow": {
     "slide_type": "slide"
    }
   },
   "source": []
  }
 ],
 "metadata": {
  "kernelspec": {
   "display_name": "game",
   "language": "python",
   "name": "game"
  },
  "language_info": {
   "codemirror_mode": {
    "name": "ipython",
    "version": 3
   },
   "file_extension": ".py",
   "mimetype": "text/x-python",
   "name": "python",
   "nbconvert_exporter": "python",
   "pygments_lexer": "ipython3",
   "version": "3.13.2"
  }
 },
 "nbformat": 4,
 "nbformat_minor": 5
}
