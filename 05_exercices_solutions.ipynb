{
  "cells": [
    {
      "cell_type": "markdown",
      "metadata": {},
      "source": [
        "# Exercices avancés : Fonctions, modules et fichiers\n"
      ]
    },
    {
      "cell_type": "markdown",
      "metadata": {},
      "source": [
        "## Exercice 1 : Générateur de mots de passe sécurisé"
      ]
    },
    {
      "cell_type": "code",
      "execution_count": 6,
      "metadata": {},
      "outputs": [
        {
          "name": "stdout",
          "output_type": "stream",
          "text": [
            "None\n"
          ]
        }
      ],
      "source": [
        "from random import choice, choices, shuffle\n",
        "from string import ascii_uppercase, ascii_lowercase, digits\n",
        "def generer_mot_de_passe(longueur=12):\n",
        "    # Écris ton code ici\n",
        "    pass\n",
        "\n",
        "# Test\n",
        "print(generer_mot_de_passe())"
      ]
    },
    {
      "cell_type": "markdown",
      "metadata": {},
      "source": [
        "### ✅ Correction"
      ]
    },
    {
      "cell_type": "code",
      "execution_count": 8,
      "metadata": {},
      "outputs": [
        {
          "name": "stdout",
          "output_type": "stream",
          "text": [
            "itD@n2Ftw3J6\n"
          ]
        }
      ],
      "source": [
        "def generer_mot_de_passe(longueur=12):\n",
        "    majuscule = choice(ascii_uppercase)\n",
        "    minuscule = choice(ascii_lowercase)\n",
        "    chiffre = choice(digits)\n",
        "    special = choice('!@#$%&')\n",
        "\n",
        "    restant = longueur - 4\n",
        "    autres = choices(ascii_uppercase + ascii_lowercase + digits + '!@#$%&', k=restant)\n",
        "\n",
        "    mot_de_passe = [majuscule, minuscule, chiffre, special] + autres\n",
        "    shuffle(mot_de_passe)\n",
        "    return ''.join(mot_de_passe)\n",
        "\n",
        "# Test\n",
        "print(generer_mot_de_passe())"
      ]
    },
    {
      "cell_type": "markdown",
      "metadata": {},
      "source": [
        "## Exercice 2 : Analyse d’un fichier texte"
      ]
    },
    {
      "cell_type": "code",
      "execution_count": 33,
      "metadata": {},
      "outputs": [],
      "source": [
        "import string\n",
        "from collections import Counter\n",
        "\n",
        "# Lis le fichier 'texte.txt' et affiche :\n",
        "# - Nombre total de mots\n",
        "# - Mot le plus fréquent\n",
        "# - Longueur moyenne des mots\n",
        "# - Lignes contenant un mot clé donné"
      ]
    },
    {
      "cell_type": "code",
      "execution_count": 34,
      "id": "0189d562",
      "metadata": {},
      "outputs": [
        {
          "name": "stdout",
          "output_type": "stream",
          "text": [
            "Dévorant les azurs verts ; où,flottaison blême\n",
            "Et ravie, un noyé pensif parfois descend ;\n"
          ]
        }
      ],
      "source": [
        "# Nettoyer une chaîne de caractères\n",
        "chaîne = 'Dévorant les azurs verts ; où,flottaison blême\\nEt ravie, un noyé pensif parfois descend ;'\n",
        "print(chaîne)"
      ]
    },
    {
      "cell_type": "markdown",
      "id": "12f0f6f5",
      "metadata": {},
      "source": [
        "### str.translate(map)"
      ]
    },
    {
      "cell_type": "code",
      "execution_count": 35,
      "id": "d480842f",
      "metadata": {},
      "outputs": [
        {
          "data": {
            "text/plain": [
              "{33: None,\n",
              " 34: None,\n",
              " 35: None,\n",
              " 36: None,\n",
              " 37: None,\n",
              " 38: None,\n",
              " 39: None,\n",
              " 40: None,\n",
              " 41: None,\n",
              " 42: None,\n",
              " 43: None,\n",
              " 44: None,\n",
              " 45: None,\n",
              " 46: None,\n",
              " 47: None,\n",
              " 58: None,\n",
              " 59: None,\n",
              " 60: None,\n",
              " 61: None,\n",
              " 62: None,\n",
              " 63: None,\n",
              " 64: None,\n",
              " 91: None,\n",
              " 92: None,\n",
              " 93: None,\n",
              " 94: None,\n",
              " 95: None,\n",
              " 96: None,\n",
              " 123: None,\n",
              " 124: None,\n",
              " 125: None,\n",
              " 126: None}"
            ]
          },
          "execution_count": 35,
          "metadata": {},
          "output_type": "execute_result"
        }
      ],
      "source": [
        "# Enlever la ponctuation avec str.translate\n",
        "\n",
        "# str.translate(map)\n",
        "#     Return a copy of the s where all characters have been mapped through the map which must be a dictionary of Unicode ordinals (integers) to Unicode ordinals, strings or None. \n",
        "#     Unmapped characters are left untouched.\n",
        "#     Characters mapped to None are deleted.\n",
        "#     You can use str.maketrans() to create a translation map from character-to-character mappings in different formats.\n",
        "\n",
        "\n",
        "# static str.maketrans(x[, y[, z]])\n",
        "#     This static method returns a translation table usable for str.translate().\n",
        "#     If there is only one argument, it must be a dictionary mapping Unicode ordinals (integers) or characters (strings of length 1) to Unicode ordinals, strings (of arbitrary lengths) or None. Character keys will then be converted to ordinals.\n",
        "#     If there are two arguments, they must be strings of equal length, and in the resulting dictionary, each character in x will be mapped to the character at the same position in y.\n",
        "#     If there is a third argument, it must be a string, whose characters will be mapped to None in the result.\n",
        "\n",
        "translation_table = str.maketrans('', '', string.punctuation)\n",
        "translation_table"
      ]
    },
    {
      "cell_type": "code",
      "execution_count": 36,
      "id": "536696e5",
      "metadata": {},
      "outputs": [
        {
          "data": {
            "text/plain": [
              "'Dévorant les azurs verts  oùflottaison blême\\nEt ravie un noyé pensif parfois descend '"
            ]
          },
          "execution_count": 36,
          "metadata": {},
          "output_type": "execute_result"
        }
      ],
      "source": [
        "chaîne.translate(translation_table)"
      ]
    },
    {
      "cell_type": "code",
      "execution_count": 13,
      "id": "f5ecf098",
      "metadata": {},
      "outputs": [
        {
          "data": {
            "text/plain": [
              "32"
            ]
          },
          "execution_count": 13,
          "metadata": {},
          "output_type": "execute_result"
        }
      ],
      "source": [
        "len(string.punctuation)"
      ]
    },
    {
      "cell_type": "code",
      "execution_count": 37,
      "id": "0e32cb24",
      "metadata": {},
      "outputs": [
        {
          "data": {
            "text/plain": [
              "{33: 32,\n",
              " 34: 32,\n",
              " 35: 32,\n",
              " 36: 32,\n",
              " 37: 32,\n",
              " 38: 32,\n",
              " 39: 32,\n",
              " 40: 32,\n",
              " 41: 32,\n",
              " 42: 32,\n",
              " 43: 32,\n",
              " 44: 32,\n",
              " 45: 32,\n",
              " 46: 32,\n",
              " 47: 32,\n",
              " 58: 32,\n",
              " 59: 32,\n",
              " 60: 32,\n",
              " 61: 32,\n",
              " 62: 32,\n",
              " 63: 32,\n",
              " 64: 32,\n",
              " 91: 32,\n",
              " 92: 32,\n",
              " 93: 32,\n",
              " 94: 32,\n",
              " 95: 32,\n",
              " 96: 32,\n",
              " 123: 32,\n",
              " 124: 32,\n",
              " 125: 32,\n",
              " 126: 32}"
            ]
          },
          "execution_count": 37,
          "metadata": {},
          "output_type": "execute_result"
        }
      ],
      "source": [
        "translation_table = str.maketrans(string.punctuation, ' '*len(string.punctuation))\n",
        "translation_table\n"
      ]
    },
    {
      "cell_type": "code",
      "execution_count": 38,
      "id": "a890dbd8",
      "metadata": {},
      "outputs": [
        {
          "data": {
            "text/plain": [
              "'Dévorant les azurs verts   où flottaison blême\\nEt ravie  un noyé pensif parfois descend  '"
            ]
          },
          "execution_count": 38,
          "metadata": {},
          "output_type": "execute_result"
        }
      ],
      "source": [
        "chaîne.translate(translation_table)"
      ]
    },
    {
      "cell_type": "code",
      "execution_count": 40,
      "id": "7421b130",
      "metadata": {},
      "outputs": [],
      "source": [
        "translation_table = {ord(character): ord(' ') for character in string.punctuation}\n",
        "translation_table[ord('\\n')] = ord(' ')"
      ]
    },
    {
      "cell_type": "code",
      "execution_count": 41,
      "id": "8fe86236",
      "metadata": {},
      "outputs": [
        {
          "data": {
            "text/plain": [
              "'Dévorant les azurs verts   où flottaison blême Et ravie  un noyé pensif parfois descend  '"
            ]
          },
          "execution_count": 41,
          "metadata": {},
          "output_type": "execute_result"
        }
      ],
      "source": [
        "chaîne.translate(translation_table)"
      ]
    },
    {
      "cell_type": "markdown",
      "id": "9cff23c8",
      "metadata": {},
      "source": [
        "### defaultdict\n",
        "\n",
        "defaultdict est une sous-classe du dictionnaire intégré de Python, qui est définie dans le module collections. \n",
        "defaultdict vous permet de spécifier une valeur par défaut pour les clés qui n'existent pas encore."
      ]
    },
    {
      "cell_type": "code",
      "execution_count": 43,
      "id": "cb0a900f",
      "metadata": {},
      "outputs": [
        {
          "name": "stdout",
          "output_type": "stream",
          "text": [
            "defaultdict(<class 'list'>, {'fruits': ['pomme', 'banane'], 'légumes': []})\n"
          ]
        }
      ],
      "source": [
        "from collections import defaultdict\n",
        "\n",
        "# Créer un defaultdict avec une liste comme valeur par défaut\n",
        "dictionnaire = defaultdict(list)\n",
        "\n",
        "# Ajouter des éléments au dictionnaire\n",
        "dictionnaire['fruits'].append('pomme')\n",
        "dictionnaire['fruits'].append('banane')\n",
        "dictionnaire['légumes']\n",
        "\n",
        "# Afficher le dictionnaire\n",
        "print(dictionnaire)\n"
      ]
    },
    {
      "cell_type": "markdown",
      "id": "32143278",
      "metadata": {},
      "source": [
        "```python\n",
        "# Sans defaultdict\n",
        "dictionnaire = {}\n",
        "\n",
        "# Ajouter des éléments au dictionnaire\n",
        "dictionnaire['fruits'].append('pomme')\n",
        "```\n",
        "\n",
        "```bash\n",
        "---------------------------------------------------------------------------\n",
        "KeyError                                  Traceback (most recent call last)\n",
        "Cell In[25], line 5\n",
        "      2 dictionnaire = {}\n",
        "      4 # Ajouter des éléments au dictionnaire\n",
        "----> 5 dictionnaire['fruits'].append('pomme')\n",
        "\n",
        "KeyError: 'fruits'\n",
        "```"
      ]
    },
    {
      "cell_type": "markdown",
      "id": "bc12a51e",
      "metadata": {},
      "source": [
        "### la méthode get() sur un dictionnaire\n",
        "\n",
        "La méthode get() d'un dictionnaire vous permet de spécifier une valeur par défaut à retourner si la clé n'existe pas.\n"
      ]
    },
    {
      "cell_type": "code",
      "execution_count": 46,
      "id": "68177b4e",
      "metadata": {},
      "outputs": [
        {
          "name": "stdout",
          "output_type": "stream",
          "text": [
            "Woof\n",
            "Inconnu\n"
          ]
        }
      ],
      "source": [
        "# Dictionnaire des sons d'animaux\n",
        "sons_animaux = {\n",
        "    'chien': 'Woof',\n",
        "    'chat': 'Miaou',\n",
        "    'vache': 'Meuh',\n",
        "    'coq': 'Cocorico'\n",
        "}\n",
        "\n",
        "# Exemples d'utilisation\n",
        "print(sons_animaux.get('chien', 'Inconnu' ))\n",
        "print(sons_animaux.get('lion', 'Inconnu' ))\n"
      ]
    },
    {
      "cell_type": "markdown",
      "id": "51343a91",
      "metadata": {},
      "source": [
        "```python\n",
        "sons_animaux['lion']\n",
        "```\n",
        "```bash\n",
        "---------------------------------------------------------------------------\n",
        "KeyError                                  Traceback (most recent call last)\n",
        "Cell In[30], line 1\n",
        "----> 1 sons_animaux['lion']\n",
        "\n",
        "KeyError: 'lion'\n",
        "```"
      ]
    },
    {
      "cell_type": "markdown",
      "id": "6af3c540",
      "metadata": {},
      "source": [
        "### Counter \n",
        "Counter est une sous-classe de dictionnaire dans le module collections de Python. \n",
        "Il est utilisé pour compter les occurrences de chaque élément dans une collection."
      ]
    },
    {
      "cell_type": "code",
      "execution_count": 31,
      "id": "9f981d5f",
      "metadata": {},
      "outputs": [
        {
          "data": {
            "text/plain": [
              "Counter({'e': 27,\n",
              "         't': 17,\n",
              "         'a': 16,\n",
              "         'n': 15,\n",
              "         's': 15,\n",
              "         'r': 13,\n",
              "         'u': 11,\n",
              "         'i': 11,\n",
              "         'd': 10,\n",
              "         'l': 8,\n",
              "         'o': 7,\n",
              "         'f': 4,\n",
              "         'c': 4,\n",
              "         'p': 3,\n",
              "         'b': 3,\n",
              "         'v': 2,\n",
              "         'm': 2,\n",
              "         'g': 1,\n",
              "         'ç': 1,\n",
              "         'h': 1,\n",
              "         'é': 1,\n",
              "         'j': 1,\n",
              "         'q': 1})"
            ]
          },
          "execution_count": 31,
          "metadata": {},
          "output_type": "execute_result"
        }
      ],
      "source": [
        "from collections import Counter\n",
        "\n",
        "# Texte d'exemple\n",
        "texte = \"\"\"\n",
        "Dans un petit village français, les habitants aiment se retrouver au café du coin pour discuter de tout et de rien. Les enfants jouent dans la rue, tandis que les adultes profitent de l'ombre des arbres centenaires.\n",
        "\"\"\"\n",
        "\n",
        "# Compter la fréquence des lettres\n",
        "frequence_lettres = Counter(caractere.lower() for caractere in texte if caractere.isalpha())\n",
        "frequence_lettres\n"
      ]
    },
    {
      "cell_type": "code",
      "execution_count": 32,
      "id": "f55c3156",
      "metadata": {},
      "outputs": [
        {
          "data": {
            "text/plain": [
              "[('e', 27), ('t', 17), ('a', 16), ('n', 15), ('s', 15)]"
            ]
          },
          "execution_count": 32,
          "metadata": {},
          "output_type": "execute_result"
        }
      ],
      "source": [
        "# Afficher les lettres les plus fréquentes\n",
        "frequence_lettres.most_common(5)  # Obtenir les 5 lettres les plus fréquentes\n"
      ]
    },
    {
      "cell_type": "code",
      "execution_count": 51,
      "id": "73afa8e3",
      "metadata": {},
      "outputs": [
        {
          "data": {
            "text/plain": [
              "0"
            ]
          },
          "execution_count": 51,
          "metadata": {},
          "output_type": "execute_result"
        }
      ],
      "source": [
        "from statistics import mean\n",
        "#  mots = ['Bonjour', 'le', 'monde', 'Python', 'est', 'génial']\n",
        "mots = []\n",
        "sum(len(m) for m in mots) / len(mots) if len(mots) else 0"
      ]
    },
    {
      "cell_type": "markdown",
      "metadata": {},
      "source": [
        "### ✅ Correction"
      ]
    },
    {
      "cell_type": "code",
      "execution_count": 52,
      "metadata": {},
      "outputs": [
        {
          "name": "stdout",
          "output_type": "stream",
          "text": [
            "Nombre total de mots : 785\n",
            "Mot le plus fréquent : 'des'\n",
            "Longueur moyenne des mots : 4.92\n",
            "Lignes contenant 'flots' :\n",
            "> Plus léger qu’un bouchon j’ai dansé sur les flots\n",
            "> Les flots roulant au loin leurs frissons de volets !\n",
            "> Glaciers, soleils d’argent, flots nacreux, cieux de braises !\n"
          ]
        }
      ],
      "source": [
        "def analyser_texte(fichier='texte.txt', mot_cle=None):\n",
        "    with open(fichier, 'r') as f:\n",
        "        lignes = f.readlines()\n",
        "\n",
        "    mots = []\n",
        "    lignes_avec_mot = []\n",
        "    \n",
        "    translation_table = {ord(character): ord(' ') for character in string.punctuation}\n",
        "    translation_table[ord('\\n')] = ord(' ')\n",
        "\n",
        "    for ligne in lignes:\n",
        "        ligne_nettoyee = ligne.translate(translation_table).strip()\n",
        "        mots_ligne = ligne_nettoyee.split()\n",
        "        mots += mots_ligne\n",
        "        if mot_cle and mot_cle.lower() in [m.lower() for m in mots_ligne]:\n",
        "            lignes_avec_mot.append(ligne.strip())\n",
        "\n",
        "    nb_mots = len(mots)\n",
        "    compteur = Counter([m.lower() for m in mots])\n",
        "    mot_plus_frequent = compteur.most_common(1)[0][0]\n",
        "    longueur_moyenne = sum(len(m) for m in mots) / nb_mots if nb_mots else 0\n",
        "\n",
        "    print(f\"Nombre total de mots : {nb_mots}\")\n",
        "    print(f\"Mot le plus fréquent : '{mot_plus_frequent}'\")\n",
        "    print(f\"Longueur moyenne des mots : {longueur_moyenne:.2f}\")\n",
        "    if mot_cle:\n",
        "        print(f\"Lignes contenant '{mot_cle}' :\")\n",
        "        for l in lignes_avec_mot:\n",
        "            print(\">\", l)\n",
        "\n",
        "# Test\n",
        "analyser_texte('Le_bateau_ivre.txt', 'flots')"
      ]
    },
    {
      "cell_type": "markdown",
      "metadata": {},
      "source": [
        "## Exercice 3 : Renommeur de fichiers en masse"
      ]
    },
    {
      "cell_type": "code",
      "execution_count": 15,
      "metadata": {},
      "outputs": [],
      "source": [
        "import os\n",
        "import sys\n",
        "\n",
        "# Écris un script qui renomme tous les fichiers d’un dossier selon un motif donné :\n",
        "# python renommer.py dossier/ prefixe"
      ]
    },
    {
      "cell_type": "markdown",
      "metadata": {},
      "source": [
        "### ✅ Correction"
      ]
    },
    {
      "cell_type": "code",
      "execution_count": null,
      "metadata": {},
      "outputs": [],
      "source": [
        "def renommer_fichiers(dossier, prefixe):\n",
        "    if not os.path.exists(dossier):\n",
        "        print(f\"Le dossier '{dossier}' n'existe pas.\")\n",
        "        return\n",
        "\n",
        "    fichiers = []\n",
        "    for f in os.listdir(dossier):\n",
        "        chemin = os.path.join(dossier, f)\n",
        "        if os.path.isfile(chemin) and not f.startswith('.'):\n",
        "            fichiers.append(f)\n",
        "    \n",
        "    fichiers.sort()\n",
        "\n",
        "    for i, fichier in enumerate(fichiers, start=1):\n",
        "        _, ext = os.path.splitext(fichier)\n",
        "        nouveau_nom = f\"{prefixe}_{i:03}{ext}\"\n",
        "        chemin_old = os.path.join(dossier, fichier)\n",
        "        chemin_new = os.path.join(dossier, nouveau_nom)\n",
        "        os.rename(chemin_old, chemin_new)\n",
        "        print(f\"{fichier} → {nouveau_nom}\")\n",
        "\n",
        "if __name__ == \"__main__\":\n",
        "    if len(sys.argv) != 3:\n",
        "        print(\"Usage : python renommer.py dossier/ prefixe\")\n",
        "    else:\n",
        "        renommer_fichiers(sys.argv[1], sys.argv[2])"
      ]
    },
    {
      "cell_type": "markdown",
      "metadata": {},
      "source": [
        "## Exercice 4 : Calculateur d’âge précis"
      ]
    },
    {
      "cell_type": "code",
      "execution_count": null,
      "metadata": {},
      "outputs": [],
      "source": [
        "from datetime import datetime\n",
        "\n",
        "def calculer_age(date_naissance_str):\n",
        "    # date_naissance_str = 'YYYY-MM-DD'\n",
        "    pass"
      ]
    },
    {
      "cell_type": "markdown",
      "metadata": {},
      "source": [
        "### ✅ Correction"
      ]
    },
    {
      "cell_type": "code",
      "execution_count": null,
      "metadata": {},
      "outputs": [],
      "source": [
        "def calculer_age(date_naissance_str):\n",
        "    naissance = datetime.strptime(date_naissance_str, '%Y-%m-%d')\n",
        "    aujourd_hui = datetime.today()\n",
        "    delta = aujourd_hui - naissance\n",
        "\n",
        "    jours_total = delta.days\n",
        "    annees = jours_total // 365\n",
        "    mois = (jours_total % 365) // 30\n",
        "    jours = (jours_total % 365) % 30\n",
        "\n",
        "    return {'années': annees, 'mois': mois, 'jours': jours}\n",
        "\n",
        "# Test\n",
        "print(calculer_age('1995-06-15'))"
      ]
    },
    {
      "cell_type": "markdown",
      "metadata": {},
      "source": [
        "## Exercice 5 : Mini-script CLI avec `sys.argv`"
      ]
    },
    {
      "cell_type": "code",
      "execution_count": 16,
      "metadata": {},
      "outputs": [],
      "source": [
        "import sys\n",
        "\n",
        "# Écris un outil CLI avec les options :\n",
        "# --help, --upper, --lower, --count"
      ]
    },
    {
      "cell_type": "markdown",
      "metadata": {},
      "source": [
        "### ✅ Correction\n",
        "\n",
        "A enregistrer dans un fichier .py, et à lancer en ligne de commande."
      ]
    },
    {
      "cell_type": "code",
      "execution_count": null,
      "metadata": {},
      "outputs": [
        {
          "name": "stdout",
          "output_type": "stream",
          "text": [
            "Option inconnue : -f\n"
          ]
        }
      ],
      "source": [
        "import sys\n",
        "\n",
        "def main():\n",
        "    if len(sys.argv) < 2 or sys.argv[1] == '--help':\n",
        "        print(\"Usage : python outils.py [--upper | --lower | --count] [texte]\")\n",
        "        return\n",
        "\n",
        "    option = sys.argv[1]\n",
        "    texte = ' '.join(sys.argv[2:]) if len(sys.argv) > 2 else ''\n",
        "\n",
        "    if option == '--upper':\n",
        "        print(texte.upper())\n",
        "    elif option == '--lower':\n",
        "        print(texte.lower())\n",
        "    elif option == '--count':\n",
        "        print(f\"Il y a {len(texte.split())} mot(s) dans : '{texte}'\")\n",
        "    else:\n",
        "        print(f\"Option inconnue : {option}\")\n",
        "\n",
        "if __name__ == '__main__':\n",
        "    main()"
      ]
    },
    {
      "cell_type": "markdown",
      "metadata": {},
      "source": [
        "## Exercice 6 : Horloge de bureau améliorée"
      ]
    },
    {
      "cell_type": "code",
      "execution_count": null,
      "metadata": {},
      "outputs": [],
      "source": [
        "import datetime\n",
        "import time\n",
        "import calendar\n",
        "\n",
        "# Affiche l'heure mise à jour toutes les secondes\n",
        "# Indique si c’est le week-end"
      ]
    },
    {
      "cell_type": "markdown",
      "metadata": {},
      "source": [
        "### ✅ Correction"
      ]
    },
    {
      "cell_type": "code",
      "execution_count": null,
      "metadata": {},
      "outputs": [],
      "source": [
        "def horloge_en_direct():\n",
        "    try:\n",
        "        while True:\n",
        "            maintenant = datetime.datetime.now()\n",
        "            jour_semaine = calendar.day_name[maintenant.weekday()]\n",
        "            fuseau = maintenant.astimezone().tzname()\n",
        "\n",
        "            est_weekend = maintenant.weekday() >= 5\n",
        "            statut_jour = \"Week-end 🎉\" if est_weekend else \"Semaine 😴\"\n",
        "\n",
        "            print(f\"\\r{maintenant.strftime('%Y-%m-%d %H:%M:%S')} | {jour_semaine} | {fuseau} | {statut_jour}\", end='')\n",
        "            time.sleep(1)\n",
        "    except KeyboardInterrupt:\n",
        "        print(\"\\nHorloge arrêtée.\")\n",
        "\n",
        "# Lancer l'horloge\n",
        "# horloge_en_direct()"
      ]
    },
    {
      "cell_type": "markdown",
      "metadata": {},
      "source": [
        "## Exercice 7 : Nettoyeur de dossier temporaire"
      ]
    },
    {
      "cell_type": "code",
      "execution_count": null,
      "metadata": {},
      "outputs": [],
      "source": [
        "import os\n",
        "import sys\n",
        "import time\n",
        "\n",
        "# Supprime les fichiers créés il y a plus de X jours\n",
        "# python cleaner.py dossier/ age_en_jours"
      ]
    },
    {
      "cell_type": "markdown",
      "metadata": {},
      "source": [
        "### ✅ Correction\n",
        "\n",
        "A enregistrer dans un fichier .py, et à lancer en ligne de commande."
      ]
    },
    {
      "cell_type": "code",
      "execution_count": null,
      "metadata": {},
      "outputs": [],
      "source": [
        "import os\n",
        "import sys\n",
        "import time\n",
        "\n",
        "def nettoyer_dossier(dossier, age_jours):\n",
        "    seuil = time.time() - age_jours * 86400  # 86400 secondes par jour\n",
        "\n",
        "    if not os.path.isdir(dossier):\n",
        "        print(f\"Erreur : '{dossier}' n'est pas un dossier valide.\")\n",
        "        return\n",
        "\n",
        "    for fichier in os.listdir(dossier):\n",
        "        chemin = os.path.join(dossier, fichier)\n",
        "        if os.path.isfile(chemin) and os.path.getmtime(chemin) < seuil:\n",
        "            os.remove(chemin)\n",
        "            print(f\"Fichier supprimé : {fichier}\")\n",
        "\n",
        "if __name__ == '__main__':\n",
        "    if len(sys.argv) != 3:\n",
        "        print(\"Usage : python cleaner.py dossier/ age_en_jours\")\n",
        "    else:\n",
        "        nettoyer_dossier(sys.argv[1], int(sys.argv[2]))"
      ]
    },
    {
      "cell_type": "markdown",
      "metadata": {},
      "source": [
        "🎉 Bravo ! Tu as terminé ces exercices avancés sur les fonctions, modules et fichiers !\n"
      ]
    }
  ],
  "metadata": {
    "kernelspec": {
      "display_name": "game",
      "language": "python",
      "name": "game"
    },
    "language_info": {
      "codemirror_mode": {
        "name": "ipython",
        "version": 3
      },
      "file_extension": ".py",
      "mimetype": "text/x-python",
      "name": "python",
      "nbconvert_exporter": "python",
      "pygments_lexer": "ipython3",
      "version": "3.13.2"
    }
  },
  "nbformat": 4,
  "nbformat_minor": 5
}
