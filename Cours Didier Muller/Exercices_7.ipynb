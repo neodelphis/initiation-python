{
 "cells": [
  {
   "cell_type": "markdown",
   "metadata": {},
   "source": [
    "# Exercices du Chapitre 7: Jeux de lettres\n",
    "\n",
    "- fichiers\n",
    "- chaînes de caractères (string)\n",
    "- ensembles (set)\n",
    "\n",
    "Cours de Didier Muller [Python 3 par les jeux](https://www.apprendre-en-ligne.net/pj/index.html)\n",
    "\n",
    "Gestion de l'ouverture de fichiers sous python: https://realpython.com/read-write-files-python/"
   ]
  },
  {
   "cell_type": "markdown",
   "metadata": {},
   "source": [
    "## Exercice 7.1\n",
    "Imaginons que la fonction choice n'existe pas. Comment choisir un mot au hasard dans la liste\n",
    "liste_mots ?"
   ]
  },
  {
   "cell_type": "code",
   "execution_count": 10,
   "metadata": {},
   "outputs": [
    {
     "name": "stdout",
     "output_type": "stream",
     "text": [
      "['GERANIUM\\n', 'URANUS\\n']\n"
     ]
    }
   ],
   "source": [
    "with open(\"Exercices_7/liste_mots.txt\", \"r\") as fichier:\n",
    "    liste_mots = fichier.readlines()\n",
    "    print(liste_mots[:2])"
   ]
  },
  {
   "cell_type": "code",
   "execution_count": 11,
   "metadata": {},
   "outputs": [
    {
     "name": "stdout",
     "output_type": "stream",
     "text": [
      "GERANIUM URANUS ORDINATEUR CLAVIER POMME WAHHABITE HORLOGE PSCHENT DICTIONNAIRE ECRAN WHISKY ARMOIRE GAG UNIVERSEL HUMOUR VINAIGRE FENETRE IMPRIMANTE CALENDRIER PYTHON\n"
     ]
    }
   ],
   "source": [
    "with open(\"Exercices_7/liste_mots.txt\", \"r\") as fichier:\n",
    "    liste_mots = fichier.readlines()\n",
    "    liste_mots = [mot.rstrip() for mot in liste_mots]\n",
    "    print(*liste_mots)"
   ]
  },
  {
   "cell_type": "code",
   "execution_count": 12,
   "metadata": {},
   "outputs": [
    {
     "name": "stdout",
     "output_type": "stream",
     "text": [
      "POMME\n"
     ]
    }
   ],
   "source": [
    "from random import randint\n",
    "\n",
    "# Initialisation pour les traitements ultérieurs\n",
    "liste_mots = []\n",
    "\n",
    "# Lecture du fichier\n",
    "with open(\"Exercices_7/liste_mots.txt\", \"r\") as fichier:\n",
    "    liste_mots = fichier.readlines()\n",
    "    liste_mots = [mot.rstrip() for mot in liste_mots]\n",
    "\n",
    "# Sélection sans random.choice()\n",
    "indice_au_hasard = randint(0, len(liste_mots)-1)\n",
    "print(liste_mots[indice_au_hasard])"
   ]
  },
  {
   "cell_type": "markdown",
   "metadata": {},
   "source": [
    "## Exercice 7.2\n",
    "Réutilisez le fichier liste_mots.txt pour un autre jeu qui consistera à retrouver un mot,\n",
    "l'ordinateur ayant écrit ses lettres par ordre alphabétique. Par exemple :\n",
    "```\n",
    "AEIIMMNPRT\n",
    "Entrez l'anagramme : imprimante Bravo !\n",
    "```"
   ]
  },
  {
   "cell_type": "code",
   "execution_count": 13,
   "metadata": {},
   "outputs": [
    {
     "data": {
      "text/plain": [
       "['A', 'C', 'E', 'N', 'R']"
      ]
     },
     "execution_count": 13,
     "metadata": {},
     "output_type": "execute_result"
    }
   ],
   "source": [
    "sorted('ECRAN')"
   ]
  },
  {
   "cell_type": "code",
   "execution_count": 14,
   "metadata": {},
   "outputs": [
    {
     "data": {
      "text/plain": [
       "'ACENR'"
      ]
     },
     "execution_count": 14,
     "metadata": {},
     "output_type": "execute_result"
    }
   ],
   "source": [
    "lettres_triees = ''\n",
    "for lettre in sorted('ECRAN'):\n",
    "    lettres_triees = lettres_triees + lettre\n",
    "lettres_triees"
   ]
  },
  {
   "cell_type": "code",
   "execution_count": 15,
   "metadata": {},
   "outputs": [
    {
     "data": {
      "text/plain": [
       "'ACENR'"
      ]
     },
     "execution_count": 15,
     "metadata": {},
     "output_type": "execute_result"
    }
   ],
   "source": [
    "mot_trié_liste = ['A', 'C', 'E', 'N', 'R']\n",
    "''.join(mot_trié_liste)"
   ]
  },
  {
   "cell_type": "markdown",
   "metadata": {},
   "source": [
    "SOLUTION : cf `devine_mot.py`"
   ]
  },
  {
   "cell_type": "code",
   "execution_count": 16,
   "metadata": {},
   "outputs": [
    {
     "name": "stdout",
     "output_type": "stream",
     "text": [
      "ADEINORRTU\n"
     ]
    },
    {
     "name": "stdin",
     "output_type": "stream",
     "text": [
      "Quel est le mot correspondant?  ordinateur\n"
     ]
    },
    {
     "name": "stdout",
     "output_type": "stream",
     "text": [
      "Gagné\n"
     ]
    }
   ],
   "source": [
    "from random import choice\n",
    "\n",
    "# Récupération des mots\n",
    "with open(\"Exercices_7/liste_mots.txt\", \"r\") as fichier:\n",
    "    liste_mots = fichier.readlines()\n",
    "    liste_mots = [mot.rstrip() for mot in liste_mots]\n",
    "\n",
    "mot_a_deviner = choice(liste_mots)\n",
    "# mot_a_deviner = 'TEST'\n",
    "\n",
    "print(''.join(sorted(mot_a_deviner)))\n",
    "\n",
    "mot_propose = ''\n",
    "while mot_propose.upper() != mot_a_deviner:\n",
    "    mot_propose = input(\"Quel est le mot correspondant? \")\n",
    "\n",
    "print(\"Gagné\")"
   ]
  },
  {
   "cell_type": "markdown",
   "metadata": {
    "tags": []
   },
   "source": [
    "## Exercice 7.3\n",
    "Écrivez un programme qui remplace les voyelles d'un texte (éventuellement accentuées) par une\n",
    "étoile. Par exemple « Il était une fois » deviendra « *l *t**t *n* f**s ».\n"
   ]
  },
  {
   "cell_type": "code",
   "execution_count": 17,
   "metadata": {},
   "outputs": [
    {
     "name": "stdout",
     "output_type": "stream",
     "text": [
      "*l *t**t *n* f**s\n"
     ]
    }
   ],
   "source": [
    "texte = \"Il était une fois\"\n",
    "texte_etoile = ''\n",
    "voyelles = 'aeiouyàéèêîûùAEIOUY'\n",
    "\n",
    "for caractere in texte:\n",
    "    if caractere in voyelles:\n",
    "        texte_etoile = texte_etoile + '*'\n",
    "    else:\n",
    "        texte_etoile = texte_etoile + caractere\n",
    "\n",
    "print(texte_etoile)"
   ]
  },
  {
   "cell_type": "markdown",
   "metadata": {
    "tags": []
   },
   "source": [
    "## Exercice 7.4\n",
    "Pour toutes les questions ci-dessous, utilisez le fichier dico.txt.  \n",
    "a) Calculez le pourcentage de mots français où la seule voyelle est le « e » (il peut y en avoir plusieurs dans le mot).  \n",
    "Par exemple : exemple, telle, égrener.  \n",
    "b) Calculez le pourcentage de mots français où deux lettres identiques se suivent. Par exemple : femme, panne, créer.  \n",
    "c) Affichez les mots de moins de 10 lettres ayant comme lettre centrale un « w ». Le mot doit avoir un nombre impair de lettres.  \n",
    "Par exemple : edelweiss, kiwis.  \n",
    "d) Affichez la liste des mots contenant la suite de lettres « dile ». Par exemple : crocodile, prédilection.  \n",
    "e) Affichez les mots de moins de 5 lettres qui commencent et finissent par la même lettre. Par exemple : aura, croc, dard.  \n",
    "f) Affichez tous les mots palindromes. Par exemple : serres, kayak, ressasser.  \n",
    "g) Affichez tous les mots anacycliques : un mot lu de droite à gauche donne un autre mot. Par exemple : les – sel, bons – snob.  Limitation aux mots de maximum 5 lettres dans le dico (sinon le traitement est un peu long)  \n",
    "h) Affichez tous les mots composés de deux séquences de lettres qui se répètent. Par exemple : papa, chercher.  "
   ]
  },
  {
   "cell_type": "code",
   "execution_count": 21,
   "metadata": {},
   "outputs": [],
   "source": [
    "# Lecture et nettoyage du fichier\n",
    "with open(\"Exercices_7/dico.txt\", \"r\") as fichier:\n",
    "    dico = fichier.readlines()\n",
    "    dico = [mot.rstrip() for mot in dico]"
   ]
  },
  {
   "cell_type": "code",
   "execution_count": 22,
   "metadata": {},
   "outputs": [
    {
     "name": "stdout",
     "output_type": "stream",
     "text": [
      "ca ou ile he\n"
     ]
    }
   ],
   "source": [
    "# Création d'un dictionnaire sans diacritiques\n",
    "# Info car il n'y en a pas dans le dictionnaire proposé\n",
    "# dico_sans_diacritique.txt\n",
    "\n",
    "import unicodedata\n",
    "\n",
    "\n",
    "def remove_diacritics(input_str):\n",
    "    nfkd_form = unicodedata.normalize('NFKD', input_str)\n",
    "    return u\"\".join([c for c in nfkd_form if not unicodedata.combining(c)])\n",
    "\n",
    "\n",
    "print(remove_diacritics(\"ça où île hé\"))\n",
    "\n",
    "\n",
    "with open(\"Exercices_7/dico_sans_diacritique.txt\", \"w\") as fichier:\n",
    "    for mot in dico:\n",
    "        fichier.write(remove_diacritics(mot))\n",
    "        fichier.write('\\n')"
   ]
  },
  {
   "cell_type": "code",
   "execution_count": 23,
   "metadata": {},
   "outputs": [
    {
     "data": {
      "text/plain": [
       "'\\nwith open(\"Exercices_7/dico_sans_diacritique.txt\", \"r\") as fichier:\\n    dico = fichier.readlines()\\n    dico = [mot.rstrip() for mot in dico]\\nprint(\\' dico[0] : \\' + dico[0])\\nprint(\\' dico[-1] : \\' + dico[-1])\\nlen(dico)\\n'"
      ]
     },
     "execution_count": 23,
     "metadata": {},
     "output_type": "execute_result"
    }
   ],
   "source": [
    "# Lecture du fichier dico_sans_diacritique.txt\n",
    "\"\"\"\n",
    "with open(\"Exercices_7/dico_sans_diacritique.txt\", \"r\") as fichier:\n",
    "    dico = fichier.readlines()\n",
    "    dico = [mot.rstrip() for mot in dico]\n",
    "print(' dico[0] : ' + dico[0])\n",
    "print(' dico[-1] : ' + dico[-1])\n",
    "len(dico)\n",
    "\"\"\""
   ]
  },
  {
   "cell_type": "markdown",
   "metadata": {},
   "source": [
    "### 7.4.a la seule voyelle est le e"
   ]
  },
  {
   "cell_type": "code",
   "execution_count": 7,
   "metadata": {},
   "outputs": [
    {
     "name": "stdout",
     "output_type": "stream",
     "text": [
      "4a : 1.44 % de mots français où la seule voyelle est le « e »\n"
     ]
    }
   ],
   "source": [
    "# a) Calculez le pourcentage de mots français où la seule voyelle est le « e » (il peut y en avoir plusieurs dans le mot).\n",
    "\n",
    "contient_seulement_e = 0\n",
    "for mot in dico:\n",
    "    lettres = set(mot)\n",
    "    if 'e' in lettres and \\\n",
    "            'a' not in lettres and 'i' not in lettres and 'o' not in lettres and 'u' not in lettres and 'y' not in lettres:\n",
    "        contient_seulement_e += 1\n",
    "\n",
    "pourcentage = contient_seulement_e/len(dico)*100\n",
    "print(f'4a : {pourcentage:.2f} % de mots français où la seule voyelle est le « e »')"
   ]
  },
  {
   "cell_type": "code",
   "execution_count": 8,
   "metadata": {},
   "outputs": [
    {
     "name": "stdout",
     "output_type": "stream",
     "text": [
      "4a : 1.44 % de mots français où la seule voyelle est le « e »\n"
     ]
    }
   ],
   "source": [
    "# a) Calculez le pourcentage de mots français où la seule voyelle est le « e » (il peut y en avoir plusieurs dans le mot).\n",
    "\n",
    "voyelles  = set('aeiouy')\n",
    "contient_seulement_e = 0\n",
    "for mot in dico:\n",
    "    lettres = set(mot)\n",
    "    if (lettres & voyelles) == {'e'}:\n",
    "        contient_seulement_e += 1\n",
    "\n",
    "pourcentage = contient_seulement_e/len(dico)*100\n",
    "print(f'4a : {pourcentage:.2f} % de mots français où la seule voyelle est le « e »')"
   ]
  },
  {
   "cell_type": "markdown",
   "metadata": {},
   "source": [
    "### 7.4.b lettres identiques consécutives"
   ]
  },
  {
   "cell_type": "code",
   "execution_count": 24,
   "metadata": {},
   "outputs": [
    {
     "data": {
      "text/plain": [
       "3"
      ]
     },
     "execution_count": 24,
     "metadata": {},
     "output_type": "execute_result"
    }
   ],
   "source": [
    "# b) Calculez le pourcentage de mots français où deux lettres identiques se suivent. Par exemple : femme, panne, créer.\n",
    "mots = ['femme', 'pommee', 'creer', 'arbre', 'talent']\n",
    "lettres_identiques_consecutives = 0\n",
    "for mot in mots:\n",
    "    lettre_precedente = ''\n",
    "    for lettre in mot:\n",
    "        if lettre == lettre_precedente:\n",
    "            lettres_identiques_consecutives += 1\n",
    "            break\n",
    "        else:\n",
    "            lettre_precedente = lettre\n",
    "lettres_identiques_consecutives"
   ]
  },
  {
   "cell_type": "code",
   "execution_count": 9,
   "metadata": {},
   "outputs": [
    {
     "data": {
      "text/plain": [
       "3"
      ]
     },
     "execution_count": 9,
     "metadata": {},
     "output_type": "execute_result"
    }
   ],
   "source": [
    "# b) Calculez le pourcentage de mots français où deux lettres identiques se suivent. Par exemple : femme, panne, créer.\n",
    "mots = ['femme', 'pommee', 'creer', 'arbre', 'talent']\n",
    "lettres_identiques_consecutives = 0\n",
    "for mot in mots:\n",
    "    lettre_precedente = ''\n",
    "    for i in range(len(mot)-1):\n",
    "        if mot[i] == mot[i+1]:\n",
    "            lettres_identiques_consecutives += 1\n",
    "            break\n",
    "lettres_identiques_consecutives"
   ]
  },
  {
   "cell_type": "code",
   "execution_count": 25,
   "metadata": {
    "tags": []
   },
   "outputs": [
    {
     "name": "stdout",
     "output_type": "stream",
     "text": [
      "4b : 36.14 % de mots français où deux lettres identiques se suivent\n"
     ]
    }
   ],
   "source": [
    "lettres_identiques_consecutives = 0\n",
    "for mot in dico:\n",
    "    lettre_precedente = ''\n",
    "    for lettre in mot:\n",
    "        if lettre == lettre_precedente:\n",
    "            lettres_identiques_consecutives += 1\n",
    "            break\n",
    "        else:\n",
    "            lettre_precedente = lettre\n",
    "pourcentage = lettres_identiques_consecutives/len(dico)*100\n",
    "print(f'4b : {pourcentage:.2f} % de mots français où deux lettres identiques se suivent')"
   ]
  },
  {
   "cell_type": "markdown",
   "metadata": {},
   "source": [
    "### 7.4.c lettre centrale w"
   ]
  },
  {
   "cell_type": "code",
   "execution_count": 26,
   "metadata": {},
   "outputs": [
    {
     "name": "stdout",
     "output_type": "stream",
     "text": [
      "4c : \n",
      "crawlai crawlas crawlat crawlee crawler crawles crawlez edelweiss feldwebel kawas kilowatts kiwis maxwell sandwicha sandwiche sandwichs softwares stawugs steward talwegs wigwams\n"
     ]
    }
   ],
   "source": [
    "# c) Affichez les mots de moins de 10 lettres ayant comme lettre centrale un « w ». Le mot doit avoir un nombre impair de lettres.\n",
    "# Par exemple : edelweiss, kiwis\n",
    "# mots =  ['edelweiss', 'kiwis', 'test']\n",
    "mots_avec_w_central = []\n",
    "for mot in dico:\n",
    "    if len(mot) < 10 and len(mot) % 2 != 0 and mot[len(mot)//2] == 'w':\n",
    "        mots_avec_w_central.append(mot)\n",
    "print('4c : ')\n",
    "print(*mots_avec_w_central)"
   ]
  },
  {
   "cell_type": "markdown",
   "metadata": {},
   "source": [
    "### 7.4 suite de lettres dile"
   ]
  },
  {
   "cell_type": "code",
   "execution_count": 27,
   "metadata": {},
   "outputs": [
    {
     "name": "stdout",
     "output_type": "stream",
     "text": [
      "4d : \n",
      "crocodile crocodiles dilection dilections dilemme dilemmes dilettante dilettantes dilettantisme dilettantismes edile ediles predilection predilections\n"
     ]
    }
   ],
   "source": [
    "# d) Affichez la liste des mots contenant la suite de lettres « dile ». Par exemple : crocodile, prédilection.\n",
    "mots_avec_dile = [mot for mot in dico if 'dile' in mot]\n",
    "print('4d : ')\n",
    "print(*mots_avec_dile)"
   ]
  },
  {
   "cell_type": "markdown",
   "metadata": {},
   "source": [
    "### 7.4.e commencent et finissent par la même lettre"
   ]
  },
  {
   "cell_type": "code",
   "execution_count": 28,
   "metadata": {},
   "outputs": [
    {
     "name": "stdout",
     "output_type": "stream",
     "text": [
      "4e : \n",
      "a acta aera agha aida aima aira alea alfa alla ana ara aria arma aura axa bob cc chic choc clic crac cric croc dard eche elfe elle elue eme emie emue ente epee epie ere erre esse ete etre eue fief gag gang gong grog ici inti irai kick krak nain neon non ordo pep pop reer ruer sacs sais sans sas secs sels sens seps sers ses sets sils sirs sis skis socs sois sols sons sors sots sous suas sucs sues suis surs sus tact tait tant test tilt tint toit tort tot tout trot tuat tut unau y\n"
     ]
    }
   ],
   "source": [
    "# e) Affichez les mots de moins de 5 lettres qui commencent et finissent par la même lettre. Par exemple : aura, croc, dard.\n",
    "mots_debut_fin_egales = []\n",
    "for mot in dico:\n",
    "    if len(mot) < 5 and mot[0] == mot[-1]:\n",
    "        mots_debut_fin_egales.append(mot)\n",
    "print('4e : ')\n",
    "print(*mots_debut_fin_egales)"
   ]
  },
  {
   "cell_type": "code",
   "execution_count": 29,
   "metadata": {},
   "outputs": [
    {
     "name": "stdout",
     "output_type": "stream",
     "text": [
      "CPU times: user 52 µs, sys: 2 µs, total: 54 µs\n",
      "Wall time: 58.9 µs\n"
     ]
    },
    {
     "data": {
      "text/plain": [
       "'uocuoc'"
      ]
     },
     "execution_count": 29,
     "metadata": {},
     "output_type": "execute_result"
    }
   ],
   "source": [
    "%%time\n",
    "mot = \"coucou\"\n",
    "mot[::-1]"
   ]
  },
  {
   "cell_type": "markdown",
   "metadata": {},
   "source": [
    "### 7.4.f palindromes"
   ]
  },
  {
   "cell_type": "code",
   "execution_count": 31,
   "metadata": {},
   "outputs": [
    {
     "name": "stdout",
     "output_type": "stream",
     "text": [
      "4f : \n",
      "a alla ana ara aviva axa bob cc elle eme ere erre essayasse esse ete etete eue gag ici kayak lebel nanan non pep pop radar reer reifier ressasser retater rever rotor sagas salas sanas sapas sas sassas selles semames semes senes sennes serres ses seves sexes shahs sis snobons solos sonos sus talat tallat tannat tapat tarat tassat tatat taxat tot tut y\n"
     ]
    }
   ],
   "source": [
    "# f) Affichez tous les mots palindromes. Par exemple : serres, kayak, ressasser.\n",
    "palindromes = []\n",
    "for mot in dico:\n",
    "    if mot == mot[::-1]:\n",
    "        palindromes.append(mot)\n",
    "\n",
    "# palindromes = [mot for mot in dico if mot == mot[::-1]]\n",
    "\n",
    "print('4f : ')\n",
    "print(*palindromes)"
   ]
  },
  {
   "cell_type": "markdown",
   "metadata": {},
   "source": [
    "### 7.4.g anacycliques\n",
    "\n",
    "Affichez tous les mots anacycliques : un mot lu de droite à gauche donne un autre mot.\n",
    "\n",
    "Par exemple : les – sel, bons – snob."
   ]
  },
  {
   "cell_type": "markdown",
   "metadata": {},
   "source": [
    "#### Version simple"
   ]
  },
  {
   "cell_type": "code",
   "execution_count": 32,
   "metadata": {},
   "outputs": [
    {
     "name": "stdout",
     "output_type": "stream",
     "text": [
      "4g : \n",
      "adore ados adule ah ail ailla aimat aime air aira aires allat alles allia ames amis an angor ares aria arret arum as assit aval axat bac bol bons but cab cal calf camus cas ces cor cote crut dus ecart ecus edile eh eider elide elles eluda elues emia emies emir en epar epate erg eroda eros erres es essor et etape etat etoc etres euh eus eut fer fi fin fit flac fol fut gre ha he ho hue if il in iras ives ivres lac lais lava les let li lia limat lis lob lof lues mer mets mon mura mures na nait ne nes nez ni nias niat nier nies nif no nom nopat nos notes novas noyas nu oh on pelas pools port pot pots rabat rape rats rebus rebut recus redie ref rein rem repas repus ria rime ripat ris rit rives robat roc rogna rosse ruas rus sa sac sain salat salep sapat saper sari saur saut savon sayon scat se sec seime sein sel sella selle sema sen sera seria serre sert serte serum servi set seton seul seule sevi sevir sial sil sima sir sloop smart snob soda son sore spot spots star stem stop stops su suber suce sucer sud sue sumac super sur sut tabar tabor tacs tain talas talla tamia tamil tapas tapir tapon tarit tate taxa te tel terra tes tian tif tir tirat tissa top tops tort trace trams tres trop trot tu tuas tub tuber tue tuf turc tus un us ut zen\n"
     ]
    }
   ],
   "source": [
    "# g) Affichez tous les mots anacycliques : un mot lu de droite à gauche donne un autre mot.\n",
    "# Par exemple : les – sel, bons – snob.\n",
    "\n",
    "# Version simple de l'algorithme avec boucles imbriquées : trop long\n",
    "# Limitation aux mots de maximum 6 lettres dans le dico (sinon le traitement est un peu long)\n",
    "\n",
    "with open(\"Exercices_7/dico_sans_diacritique.txt\", \"r\") as fichier:\n",
    "    dico_allege = fichier.readlines()\n",
    "    dico_allege = [mot.rstrip() for mot in dico_allege if len(mot) < 7]\n",
    "\n",
    "anacycliques = []\n",
    "for mot in dico_allege:\n",
    "    if mot[::-1] in dico_allege and mot[::-1] != mot:\n",
    "        anacycliques.append(mot)\n",
    "# anacycliques = [mot for mot in dico_allege if mot[::-1] in dico_allege  and mot[::-1] != mot ]\n",
    "print('4g : ')\n",
    "print(*anacycliques)"
   ]
  },
  {
   "cell_type": "markdown",
   "metadata": {},
   "source": [
    "#### Version optimisée 1"
   ]
  },
  {
   "cell_type": "code",
   "execution_count": 33,
   "metadata": {},
   "outputs": [
    {
     "name": "stdout",
     "output_type": "stream",
     "text": [
      "4g : \n",
      "adore ados adule affins ah ail ailla aimat aime air aira aires alevin allat alles allia alliace alliat ames amis amuser an angor animal aniser annotas annotat annote ares aria arret arum as asilaires assit aval avaler axat bac bol bons but cab cal calf camus cas casser cernat ces cor cote crut dus ecaffe ecailla ecalas ecart ecarter ecreter ecus edicule edile efface egalas egarat egayasse eh eider elevat elever elide elles elucide eluda elues emia emiasse emies emir en engager epar epate epater erg eroda eroder eros erres es essaime essanger essayage essor et etager etaler etape etat etetez etoc etonna etres euh eus eut eviter fer fi fin fit flac fol fut gre ha he ho hue if il in iras ives ivres lac lais lamina lava les let li lia limat lis lob lof lues mer mets mon mura mures na nait narres ne nes nez ni nias niat nier nies nif nivela no nom nopat nos notes novas noyas nu oh on pelas pools port pot pots rabat rape rats rebus rebut recus redie redore ref regagne regagner regate regnasse rein relate relava relevat relever rem rengager repas repus resina resinat ressac ressert resuma retape reterce reterces retive retrace revele reveler ria rime ripat ris rit rives robat roc rogna rosse ruas rus sa sac sacret sain salace salage salages salat salep salles sapat saper sari sassat satonna saur saut savon sayon scares scat se sec secret secreter segalas seime sein sel sella sellas sellat selle sema sen sera seracs serait seria serialisa serran serre sert serte sertit serum serves servi set seton seul seule sevi sevir sevres sial sil sima sir sloop smart sniffa snob soda son sore spot spots star stem sterat stop stops su suber suce sucer sud sue sumac super sur sut tabar tabor tacs tailla tain talas talla talles tamia tamil taniser tanrec tapas tapir tapon tarage tarets tarit tartit tassas tate tatonna tavele taveler taxa te tel tercas terces terra tes tian tiares tif tir tirat tissa titrat titres top tops tort trace trams tres tresser trop trot tu tuas tub tuber tue tuf turc tus un us ut zen zetete\n",
      "CPU times: user 2min 30s, sys: 545 ms, total: 2min 31s\n",
      "Wall time: 2min 31s\n"
     ]
    }
   ],
   "source": [
    "%%time\n",
    "\n",
    "# Version optimisée.\n",
    "# Il ne sert à rien de parcourir l'ensemble des mots à chaque fois\n",
    "# Il faut juste parcourir la liste des mots de même taille\n",
    "\n",
    "# Lecture du fichier\n",
    "with open(\"Exercices_7/dico.txt\", \"r\") as fichier:\n",
    "    dico = fichier.readlines()\n",
    "    dico = [mot.rstrip() for mot in dico]\n",
    "\n",
    "# Etape 1: On va créer un dictionnaire de type:\n",
    "# {longeur: liste des mots de cette longueur}\n",
    "# l'objet defaultdict permet de faciliter la création de type de dictionnaire\n",
    "from collections import defaultdict\n",
    "mots_de_longeur_n = defaultdict(list)\n",
    "for mot in dico:\n",
    "    mots_de_longeur_n[len(mot)].append(mot)\n",
    "\n",
    "# Etape 2: On parcourt l'ensemble des mots\n",
    "# mais on les compare juste aux mots de même taille\n",
    "# pour un mot de longeur 2, ce sera la liste renvoyé par notre dicionnaire avec la clé 2\n",
    "# mots_de_longeur_n[2]\n",
    "anacycliques = []\n",
    "for mot in dico:\n",
    "    if mot[::-1] in mots_de_longeur_n[len(mot)] and mot[::-1] != mot:\n",
    "        anacycliques.append(mot)\n",
    "\n",
    "print('4g : ')\n",
    "print(*anacycliques)"
   ]
  },
  {
   "cell_type": "code",
   "execution_count": 34,
   "metadata": {},
   "outputs": [],
   "source": [
    "# Version encore plus optimisée."
   ]
  },
  {
   "cell_type": "code",
   "execution_count": 35,
   "metadata": {},
   "outputs": [
    {
     "data": {
      "text/plain": [
       "True"
      ]
     },
     "execution_count": 35,
     "metadata": {},
     "output_type": "execute_result"
    }
   ],
   "source": [
    "tuple(sorted(list(set('baobab')))) == tuple(sorted(list(set('babbboa'))))"
   ]
  },
  {
   "cell_type": "markdown",
   "metadata": {},
   "source": [
    "#### Version optimisée 2"
   ]
  },
  {
   "cell_type": "code",
   "execution_count": 3,
   "metadata": {},
   "outputs": [
    {
     "name": "stdout",
     "output_type": "stream",
     "text": [
      "4g : 362 mots anacycliques\n",
      "adore ados adule affins ah ail ailla aimat aime air aira aires alevin allat alles allia alliace alliat ames amis amuser an angor animal aniser annotas annotat annote ares aria arret arum as asilaires assit aval avaler axat bac bol bons but cab cal calf camus cas casser cernat ces cor cote crut dus ecaffe ecailla ecalas ecart ecarter ecreter ecus edicule edile efface egalas egarat egayasse eh eider elevat elever elide elles elucide eluda elues emia emiasse emies emir en engager epar epate epater erg eroda eroder eros erres es essaime essanger essayage essor et etager etaler etape etat etetez etoc etonna etres euh eus eut eviter fer fi fin fit flac fol fut gre ha he ho hue if il in iras ives ivres lac lais lamina lava les let li lia limat lis lob lof lues mer mets mon mura mures na nait narres ne nes nez ni nias niat nier nies nif nivela no nom nopat nos notes novas noyas nu oh on pelas pools port pot pots rabat rape rats rebus rebut recus redie redore ref regagne regagner regate regnasse rein relate relava relevat relever rem rengager repas repus resina resinat ressac ressert resuma retape reterce reterces retive retrace revele reveler ria rime ripat ris rit rives robat roc rogna rosse ruas rus sa sac sacret sain salace salage salages salat salep salles sapat saper sari sassat satonna saur saut savon sayon scares scat se sec secret secreter segalas seime sein sel sella sellas sellat selle sema sen sera seracs serait seria serialisa serran serre sert serte sertit serum serves servi set seton seul seule sevi sevir sevres sial sil sima sir sloop smart sniffa snob soda son sore spot spots star stem sterat stop stops su suber suce sucer sud sue sumac super sur sut tabar tabor tacs tailla tain talas talla talles tamia tamil taniser tanrec tapas tapir tapon tarage tarets tarit tartit tassas tate tatonna tavele taveler taxa te tel tercas terces terra tes tian tiares tif tir tirat tissa titrat titres top tops tort trace trams tres tresser trop trot tu tuas tub tuber tue tuf turc tus un us ut zen zetete\n",
      "CPU times: user 730 ms, sys: 17.9 ms, total: 748 ms\n",
      "Wall time: 768 ms\n"
     ]
    }
   ],
   "source": [
    "%%time\n",
    "\n",
    "# Version encore plus optimisée.\n",
    "# Il ne sert à rien de parcourir l'ensemble des mots à chaque fois\n",
    "# Il faut juste parcourir la liste des mots de même ensemble de lettres\n",
    "\n",
    "# Lecture du fichier\n",
    "with open(\"Exercices_7/dico.txt\", \"r\") as fichier:\n",
    "    dico = fichier.readlines()\n",
    "    dico = [mot.rstrip() for mot in dico]\n",
    "\n",
    "# Etape 1: On va créer un dictionnaire de type:\n",
    "# {ensemble de lettres ordonnées: liste des mots de cette longueur}\n",
    "# l'objet defaultdict permet de faciliter la création de type de dictionnaire\n",
    "from collections import defaultdict\n",
    "mots_de_lettres = defaultdict(list)\n",
    "for mot in dico:\n",
    "    clef = tuple(sorted(list(set(mot))))  # immuable (non mutable)\n",
    "    mots_de_lettres[clef].append(mot)\n",
    "\n",
    "# Etape 2: On parcourt l'ensemble des mots\n",
    "\n",
    "anacycliques = []\n",
    "for mot in dico:\n",
    "    clef = tuple(sorted(list(set(mot))))\n",
    "    if mot[::-1] in mots_de_lettres[clef] and mot[::-1] != mot:\n",
    "        anacycliques.append(mot)\n",
    "\n",
    "print(f'4g : {len(anacycliques)} mots anacycliques')\n",
    "print(*anacycliques)"
   ]
  },
  {
   "cell_type": "code",
   "execution_count": null,
   "metadata": {},
   "outputs": [],
   "source": []
  },
  {
   "cell_type": "code",
   "execution_count": 5,
   "metadata": {},
   "outputs": [
    {
     "name": "stdout",
     "output_type": "stream",
     "text": [
      "4g : 362 mots anacycliques\n",
      "adore ados adule affins ah ail ailla aimat aime air aira aires alevin allat alles allia alliace alliat ames amis amuser an angor animal aniser annotas annotat annote ares aria arret arum as asilaires assit aval avaler axat bac bol bons but cab cal calf camus cas casser cernat ces cor cote crut dus ecaffe ecailla ecalas ecart ecarter ecreter ecus edicule edile efface egalas egarat egayasse eh eider elevat elever elide elles elucide eluda elues emia emiasse emies emir en engager epar epate epater erg eroda eroder eros erres es essaime essanger essayage essor et etager etaler etape etat etetez etoc etonna etres euh eus eut eviter fer fi fin fit flac fol fut gre ha he ho hue if il in iras ives ivres lac lais lamina lava les let li lia limat lis lob lof lues mer mets mon mura mures na nait narres ne nes nez ni nias niat nier nies nif nivela no nom nopat nos notes novas noyas nu oh on pelas pools port pot pots rabat rape rats rebus rebut recus redie redore ref regagne regagner regate regnasse rein relate relava relevat relever rem rengager repas repus resina resinat ressac ressert resuma retape reterce reterces retive retrace revele reveler ria rime ripat ris rit rives robat roc rogna rosse ruas rus sa sac sacret sain salace salage salages salat salep salles sapat saper sari sassat satonna saur saut savon sayon scares scat se sec secret secreter segalas seime sein sel sella sellas sellat selle sema sen sera seracs serait seria serialisa serran serre sert serte sertit serum serves servi set seton seul seule sevi sevir sevres sial sil sima sir sloop smart sniffa snob soda son sore spot spots star stem sterat stop stops su suber suce sucer sud sue sumac super sur sut tabar tabor tacs tailla tain talas talla talles tamia tamil taniser tanrec tapas tapir tapon tarage tarets tarit tartit tassas tate tatonna tavele taveler taxa te tel tercas terces terra tes tian tiares tif tir tirat tissa titrat titres top tops tort trace trams tres tresser trop trot tu tuas tub tuber tue tuf turc tus un us ut zen zetete\n",
      "CPU times: user 782 ms, sys: 16 ms, total: 798 ms\n",
      "Wall time: 803 ms\n"
     ]
    }
   ],
   "source": [
    "%%time\n",
    "\n",
    "# Si on combine les deux approches précédentes on perd un peu en efficacité\n",
    "\n",
    "# Lecture du fichier\n",
    "with open(\"Exercices_7/dico.txt\", \"r\") as fichier:\n",
    "    dico = fichier.readlines()\n",
    "    dico = [mot.rstrip() for mot in dico]\n",
    "\n",
    "# Etape 1: On va créer un dictionnaire de type:\n",
    "# {(longueur du mot, ensemble de lettres ordonnées): liste des mots de cette longueur}\n",
    "from collections import defaultdict\n",
    "mots_de_lettres = defaultdict(list)\n",
    "for mot in dico:\n",
    "    clef = len(mot), tuple(sorted(list(set(mot))))  # immuable (non mutable)\n",
    "    mots_de_lettres[clef].append(mot)\n",
    "\n",
    "# Etape 2: On parcourt l'ensemble des mots\n",
    "anacycliques = []\n",
    "for mot in dico:\n",
    "    clef = len(mot), tuple(sorted(list(set(mot))))\n",
    "    if mot[::-1] in mots_de_lettres[clef] and mot[::-1] != mot:\n",
    "        anacycliques.append(mot)\n",
    "\n",
    "print(f'4g : {len(anacycliques)} mots anacycliques')\n",
    "print(*anacycliques)"
   ]
  },
  {
   "cell_type": "markdown",
   "metadata": {},
   "source": [
    "### Exercice 7.4.h"
   ]
  },
  {
   "cell_type": "code",
   "execution_count": 42,
   "metadata": {},
   "outputs": [
    {
     "name": "stdout",
     "output_type": "stream",
     "text": [
      "4h : 67 mots composés de deux séquences de lettres qui se répètent.\n",
      "baba bebe beriberi bibi blabla bobo bonbon boubou caca cancan cc cheche chercher chichi chouchou coco coucou couscous cracra cricri dada deradera dodo dondon entent eraierai flonflon foufou froufrou gaga galgal glouglou gnangnan gogo grigri joujou kiki lolo loulou lulu meme mimi nana nene nounou papa pepe pioupiou pipi rentrent ronron sassas tata testes tete tintin titi tonton toto toutou traintrain trantran tutu youyou zinzin zizi zozo\n"
     ]
    }
   ],
   "source": [
    "# h) Affichez tous les mots composés de deux séquences de lettres qui se répètent.\n",
    "# Par exemple : papa, chercher.\n",
    "\n",
    "deux_sequences = []\n",
    "for mot in dico:\n",
    "    if len(mot) % 2 == 0:  # mot de longueur paire uniquement\n",
    "        moitie = len(mot) // 2\n",
    "        if mot[:moitie] == mot[moitie:]:\n",
    "            deux_sequences.append(mot)\n",
    "\n",
    "print(f'4h : {len(deux_sequences)} mots composés de deux séquences de lettres qui se répètent.')\n",
    "print(*deux_sequences)"
   ]
  },
  {
   "cell_type": "markdown",
   "metadata": {},
   "source": [
    "## Exercice 7.5\n",
    "Dans le jeu du pendu, les mots les plus difficiles à trouver sont ceux qui ont peu de voyelles et des consonnes rares. Voici les lettres de la plus fréquente à la moins fréquente, en français :  \n",
    "Lettres courantes : E A I S T N R U L O D M P  \n",
    "Lettres rares : C V Q G B F J H Z X Y K W  \n",
    "a) Affichez la liste des mots n'ayant que des voyelles et des lettres rares.  \n",
    "b) Affichez la liste des mots de plus de 15 lettres n'ayant que des lettres courantes.  \n",
    "c) Affichez la liste des mots n'ayant aucune des lettres E A I S T N R U.  \n",
    "d) Affichez la liste des mots ayant exactement deux voyelles et plus de 9 caractères (tiret compris). Par exemple : transports, check-list.  \n",
    "e) Affichez la liste des mots commençant par au moins 4 consonnes consécutives (tiret nonautorisé)."
   ]
  },
  {
   "cell_type": "code",
   "execution_count": 43,
   "metadata": {},
   "outputs": [],
   "source": [
    "# Ensembles\n",
    "courantes = set('EAISTNRULODMP'.lower())\n",
    "rares = set('CVQGBFJHZXYKW'.lower())"
   ]
  },
  {
   "cell_type": "code",
   "execution_count": 44,
   "metadata": {},
   "outputs": [],
   "source": [
    "# Lecture du fichier\n",
    "with open(\"Exercices_7/dico_sans_diacritique.txt\", \"r\") as fichier:\n",
    "    dico = fichier.readlines()\n",
    "    dico = [mot.rstrip() for mot in dico]"
   ]
  },
  {
   "cell_type": "markdown",
   "metadata": {},
   "source": [
    "### 7.5.a voyelles et lettres rares"
   ]
  },
  {
   "cell_type": "code",
   "execution_count": 45,
   "metadata": {},
   "outputs": [
    {
     "name": "stdout",
     "output_type": "stream",
     "text": [
      "5a :  1202\n",
      "a abajoue abaque abbaye abbe aboi aboie aboucha abouchai abouche abouchee abouchez abouchiez aboya aboyai aboye aboyez aboyiez acacia acajou accoua accouai accoucha accouchai accouche accouchee accouchez accouchiez accoue accouee accouez accouiez accouvage accu ace acheva achevai acheve achevee achevez acheviez aequo affeage affeagea affeageai affeagee affeagez affeagiez afficha affichage affichai affiche affichee affichez affichiez affixaux affixe affouage affouagea affouageai affouagee affouagez affouagiez afocaux agaca agacai agace agacee agacez agaciez agave age agee agha agi agio agui aguicha aguichai aguiche aguichee aguichez aguichiez ah ai aiche aie aieux aigu aigue aqueux au aube aucuba auge aux avachi avachie ave avec aveu aveux avez aviez aviva avivage avivai avive avivee avivez aviviez avoua avouai avoue avouee avouez avouiez axa axai axe axee axez axiez ayez azoique baba babouche baby bac bacha bachage bachai bache bachee bachez bachiez bachique baffa baffai baffe baffee baffez baffiez bafoua bafouai bafoue bafouee bafouez bafouiez bagage bagou bagua baguage baguai bague baguee baguez baguiez bah bai baie bajoue bakchich baobab bauge baugea baugeai baugee baugez baugiez baux bava bavai bave baveux bavez baviez bavocha bavochai bavoche bavochez bavochiez baya bayai baye bayez bayiez bayou bazooka bea beai beau beauf beaux bebe bec becfigue becha bechage bechai beche bechee bechez bechiez bechique becqua becquai becque becquee becquez becquiez bee beez begaie begaya begayai begaye begayee begayez begayiez begu begue beiez beige beke bequa bequai beque bequee bequez bequiez bevue bey bibi bic bicha bichai biche bichez bichiez bichof bicoque bief biface biffa biffage biffai biffe biffee biffez biffiez bifocaux bigue bijou bijoux bique biveau biveaux bivouac bivouaqua bivouaquai bivouaque bivouaquez bivouaquiez boa bob bobeche bobo bocage bocaux boche bock boeuf bof boghei bogie bogue boive boubou bouc boucau boucha bouchage bouchai bouche bouchee bouchez bouchiez boue bouee boueux bouffa bouffai bouffe bouffee bouffez bouffi bouffie bouffiez bouge bougea bougeai bougee bougez bougie bougiez bouif box boxa boxai boxe boxee boxez boxiez boy boyau boyaux bu buccaux bucha buchai buche buchee buchez buchiez bue buee buggy buvee buvez buviez bye ca cab cabiai caboche caca cacaba cacabai cacabe cacabez cacabiez cacao cacha cachai cache cachee cachexie cachez cachiez cachou cachucha cacique caecaux cafe cage cagibi caieu caieux caique cajou cake caoua caqua caquai caque caquee caquez caquiez cava cavai cave caveau caveaux cavee cavez caviez cc ce ceci ceux cf cg ch chabichou chah chai chaouch chaque chauffa chauffage chauffai chauffe chauffee chauffez chauffiez chauve chauvi chaux chebec cheche chechia chef cheffe cheik cheikh cheque chevaucha chevauchai chevauche chevauchee chevauchez chevauchiez chevaux cheveche cheveu cheveux chez chia chiai chibouque chic chiche chichi chie chiee chiez chiffe chiiez chiqua chiquai chique chiquee chiquez chiquiez choc choie choix choqua choquai choque choquee choquez choquiez chou chouchou choux choya choyai choye choyee choyez choyiez chu chue ci ciao cibiche cieux cigue civique coach coaxiaux cobaye cobea coca coccyx cocha cochai coche cochee cochez cochiez coco cocu cocuage cocufia cocufiai cocufie cocufiee cocufiez cocufiiez cohue coi coiffa coiffai coiffe coiffee coiffez coiffiez coke cokefia cokefiai cokefie cokefiee cokefiez cokefiiez coq coqua coquai coque coquee coquez coquiez cou couac coucha couchage couchai couche couchee couchez couchiez coucou coufique couic couva couvai couve couvee couvez couviez coxaux coyau cuba cubage cubai cube cubee cubez cubiez cubique cuva cuvage cuvai cuve cuveau cuveaux cuvee cuvez cuviez eau eaux ebahi ebahie ebaubi ebaubie ebaucha ebauchage ebauchai ebauche ebauchee ebauchez ebauchiez eboua ebouai eboue ebouee ebouez ebouiez ecacha ecachai ecache ecachee ecachez ecachiez ecaffa ecaffai ecaffe ecaffee ecaffez ecaffiez echauffa echauffai echauffe echauffee echauffez echauffiez eche echec echeveau echeveaux echo echoie echoua echouage echouai echoue echouee echouez echouiez echu echue ecobua ecobuage ecobuai ecobue ecobuee ecobuez ecobuiez ecu effaca effacai efface effacee effacez effaciez efficace effigie egaie egaux egaya egayai egaye egayee egayez egayiez ego eh equivaux equivoqua equivoquai equivoque equivoquez equivoquiez eu eue euh eux evacua evacuai evacue evacuee evacuez evacuiez eveche eveque evohe evoqua evoquai evoque evoquee evoquez evoquiez ex exauca exaucai exauce exaucee exaucez exauciez excava excavai excave excavee excavez excaviez exhiba exhibai exhibe exhibee exhibez exhibiez exige exigea exigeai exigee exigez exigiez exigu exigue fa face facha fachai fache fachee facheu facheux fachez fachiez facho faciaux faucha fauchage fauchai fauche fauchee faucheux fauchez fauchiez fauve faux fax faxa faxai faxe faxee faxez faxiez feaux fecaux feciaux fee feu feue feux feve fez fi fia fiai fic ficha fichage fichai fiche fichee fichez fichiez fichu fichue fie fiee fief fieffa fieffai fieffe fieffee fieffez fieffiez fieu fieux fiez fig fige figea figeai figee figez figiez figue fiiez fixa fixage fixai fixe fixee fixez fixiez foc focaux foi foie fou fouace fouage fouee foufou fouge fougea fougeai fougez fougiez fougue fougueux foui fouie fovea fox foxe foxee fugace fugua fuguai fugue fuguez fuguiez fui fuie fuyez fuyiez gabegie gacha gachage gachai gache gachee gachez gachiez gaffa gaffai gaffe gaffee gaffez gaffiez gag gaga gage gagea gageai gagee gagez gagiez gai gaiac gaie gauche gauchi gauchie gaucho gava gavache gavage gavai gave gavee gavez gaviez gay gaz gaza gazage gazai gaze gazee gazeifia gazeifiai gazeifie gazeifiee gazeifiez gazeifiiez gazeux gazez gaziez geai gecko gibbeux giboie giboya giboyai giboye giboyee giboyeux giboyez giboyiez gigue go goba gobai gobe gobee gobez gobie gobiez gogo goi gouacha gouachai gouache gouachee gouachez gouachiez gouge goy goyave guai gue guea gueai guee gueee gueez gueiez gueux gui guiche ha hacha hachage hachai hache hachee hachez hachiez hai haie haik haikai haiku hava havage havai have havee havez havi havie haviez he heu hevea hi hibou hiboux hic hie ho hobby hocco hocha hochai hoche hochee hochequeue hochez hochiez hockey hou houa houache houai houaiche houe houee houez houiez houka houque houx hoyau hoyaux hua huai hucha huchai huche huchee huchez huchiez hue huee huez hui huiez icaque ici if igue ive ixia jacee jack jacobee jacque jacquee jauge jaugea jaugeage jaugeai jaugee jaugez jaugiez java javeau javeaux jazz je jeu jeux job jockey joie joua jouai joue jouee jouez joug joui jouiez joujou joujoux joviaux joyau joyaux joyeux jube jucha juchai juche juchee juchez juchiez jugaux juge jugea jugeai jugee jugez jugiez juif juive jujube kabuki kacha kache kaki kava kawa kayac kayak keffieh kg kick kief kif kiki kiwi koubba kufique obei obvia obviai obvie obviee obviez obviiez oc oeuf oeuve oeuvee off office officia officiai officiaux officie officieux officiez officiiez ogivaux ogive oh ohe oie ou ouche ouf oui ouie ouzbek ove quai que queue queux qui quiche quichua quoi quoique ubac uvaux uvee va vache vacive vagi vagua vaguai vague vaguez vaguiez vaqua vaquai vaque vaquez vaquiez vaux veau veaux vecu vecue veuf veuvage veuve veux vexa vexai vexe vexee vexez vexiez via vice vichy vicia viciai vicie viciee vicieux viciez viciiez vie vieux vif vigie vioc vioque vioqui vivace vive vivez viviez vivifia vivifiai vivifie vivifiee vivifiez vivifiiez vocaux voeu voeux vogua voguai vogue voguez voguiez voici voie voix voua vouai voue vouee vouez vouge vouiez vouvoie vouvoya vouvoyai vouvoye vouvoyee vouvoyez vouvoyiez voyage voyagea voyageai voyagez voyagiez voyez voyiez voyou vu vue wagage whig xi y yack yak yeux yoga yogi youyou yucca zaouia zazou zebu zee zezaie zezaya zezayai zezaye zezayee zezayez zezayiez ziba zibai zibe zibee zibez zibiez zig zigua ziguai zigue ziguee ziguez ziguiez zigzag zigzagua zigzaguai zigzague zigzaguez zigzaguiez zizi zoo zou zouave zozo\n"
     ]
    }
   ],
   "source": [
    "# a) Affichez la liste des mots n'ayant que des voyelles et des lettres rares.\n",
    "rares = set('CVQGBFJHZXYKW'.lower())\n",
    "voyelles = set('aeiouy')\n",
    "\n",
    "mots_specifiques = []\n",
    "for mot in dico:\n",
    "    lettres = set(mot)\n",
    "    # ensemble des voyelles et lettres rares\n",
    "    # autre écriture voyelles.union(rares)\n",
    "    voyelles_et_rares = voyelles | rares\n",
    "    # On veut vérifier l'inclusion de notre ensemble `lettres` dans `voyelles_et_rares`\n",
    "    if lettres.issubset(voyelles_et_rares):\n",
    "        mots_specifiques.append(mot)\n",
    "\n",
    "print('5a : ', len(mots_specifiques))\n",
    "print(*mots_specifiques)"
   ]
  },
  {
   "cell_type": "markdown",
   "metadata": {},
   "source": [
    "### 7.5.b lettres courantes"
   ]
  },
  {
   "cell_type": "code",
   "execution_count": 48,
   "metadata": {},
   "outputs": [
    {
     "name": "stdout",
     "output_type": "stream",
     "text": [
      "5b :  1215\n",
      "additionnassions additionneraient administrassions administreraient amoindrissements anastomosassions antimilitarismes antimilitaristes antiparlementaire antiparlementaires antiparlementarisme antiparlementarismes antipatriotismes appareillassions appareilleraient appartiendraient appesantissaient appesantissement appesantissements applaudissements ...\n"
     ]
    }
   ],
   "source": [
    "# b) Affichez la liste des mots de plus de 15 lettres n'ayant que des lettres courantes.\n",
    "liste = [mot for mot in dico if len(mot) > 15 and set(mot).issubset(courantes)]\n",
    "print('5b : ', len(liste))\n",
    "print(*liste[:20], '...')"
   ]
  },
  {
   "cell_type": "markdown",
   "metadata": {},
   "source": [
    "### Exercice 7.5.c aucune des lettres EAISTNRU"
   ]
  },
  {
   "cell_type": "code",
   "execution_count": 49,
   "metadata": {},
   "outputs": [
    {
     "name": "stdout",
     "output_type": "stream",
     "text": [
      "5c :  93\n",
      "bloc bob bobo bock bof bol boldo bombyx boom bop box boy cc cf cg ch choc chow-chow cl clodo cm cobol coccyx coco col cool coq dg dl dm do dock dodo dol dom floc flood flop foc fol folk fox glycol go gogo golf gombo goy gym ho hobby hocco homo hop job kg khol km kobold kolkhoz lob lobby loch lof logo lolo looch look mg moco mol mollo moloch moly oc off oh ohm ph phlox ploc plomb podzol polo pool pop vol volvox y yo-yo zoo zoom zozo\n"
     ]
    }
   ],
   "source": [
    "# c) Affichez la liste des mots n'ayant aucune des lettres E A I S T N R U.\n",
    "# intersection des ensembles vide : `len(ens1 & ens2) == 0`\n",
    "courantes_8_premieres = set('EAISTNRU'.lower())\n",
    "\n",
    "mots_specifiques = []\n",
    "for mot in dico:\n",
    "    lettres = set(mot)\n",
    "    if len(lettres & courantes_8_premieres) == 0:\n",
    "        mots_specifiques.append(mot)\n",
    "\n",
    "print('5c : ', len(mots_specifiques))\n",
    "print(*mots_specifiques)"
   ]
  },
  {
   "cell_type": "markdown",
   "metadata": {},
   "source": [
    "### Exercice 7.5.d"
   ]
  },
  {
   "cell_type": "markdown",
   "metadata": {},
   "source": [
    "Affichez la liste des mots ayant exactement deux voyelles et plus de 9 caractères (tiret compris).\n",
    "> Par exemple : transports, check-list.\n",
    "\n",
    "2 options:\n",
    "- 7.5.d voyelles identiques autorisées\n",
    "- 7.5.d voyelles identiques non autorisées"
   ]
  },
  {
   "cell_type": "code",
   "execution_count": 50,
   "metadata": {},
   "outputs": [
    {
     "name": "stdout",
     "output_type": "stream",
     "text": [
      "5d :  54 (voyelles identiques autorisées)\n",
      "ball-traps blancs-becs call-girls cash-flows check-list check-lists chows-chows chris-craft feldspaths fers-blancs flash-back franc-bord francs-bords frustrants grands-ducs half-track half-tracks haschischs knock-down landsturms mont-blanc monts-blancs patchworks ping-pongs schlittant schlittent schlittons schnorchel schnorchels schnorkels scratchant scratchent scratchons script-girl script-girls shrapnells snack-bars sphincters stock-cars stockfisch stockfischs stressants strippings tcharchafs tchin-tchin tranchants transcrits transferts transplant transplants transports tremblants vingt-cinq vingt-sept\n"
     ]
    }
   ],
   "source": [
    "# 7.5.d voyelles identiques autorisées\n",
    "# Affichez la liste des mots ayant exactement deux voyelles et plus de 9 caractères\n",
    "# (tiret compris). Par exemple : transports, check-list.\n",
    "mots_specifiques = []\n",
    "for mot in dico:\n",
    "    if len(mot) > 9:\n",
    "        liste_des_voyelles = [lettre for lettre in mot if lettre in voyelles]\n",
    "        if len(liste_des_voyelles) == 2:  # longueur de la liste des voyelles\n",
    "            mots_specifiques.append(mot)\n",
    "\n",
    "print('5d : ', len(mots_specifiques), '(voyelles identiques autorisées)')\n",
    "print(*mots_specifiques)"
   ]
  },
  {
   "cell_type": "code",
   "execution_count": 51,
   "metadata": {},
   "outputs": [
    {
     "name": "stdout",
     "output_type": "stream",
     "text": [
      "5d :  37 (voyelles identiques non autorisées)\n",
      "blancs-becs call-girls cash-flows check-list check-lists chris-craft feldspaths fers-blancs franc-bord francs-bords frustrants grands-ducs haschischs landsturms mont-blanc monts-blancs patchworks ping-pongs schlittant schlittent schlittons schnorchel schnorchels schnorkels scratchent scratchons shrapnells sphincters stock-cars stockfisch stockfischs stressants transcrits transferts transports tremblants vingt-sept\n"
     ]
    }
   ],
   "source": [
    "# 7.5.d voyelles identiques non autorisées\n",
    "# Affichez la liste des mots ayant exactement deux voyelles et plus de 9 caractères\n",
    "# (tiret compris). Par exemple : transports, check-list.\n",
    "\n",
    "mots_specifiques = []\n",
    "for mot in dico:\n",
    "    if len(mot) > 9:\n",
    "        liste_des_voyelles = [lettre for lettre in mot if lettre in voyelles]\n",
    "        if len(liste_des_voyelles) == 2 and len(set(liste_des_voyelles)) == 2:\n",
    "            mots_specifiques.append(mot)\n",
    "\n",
    "print('5d : ', len(mots_specifiques), '(voyelles identiques non autorisées)')\n",
    "print(*mots_specifiques)"
   ]
  },
  {
   "cell_type": "markdown",
   "metadata": {},
   "source": [
    "### 7.5.e 4 consonnes consécutives"
   ]
  },
  {
   "cell_type": "code",
   "execution_count": 53,
   "metadata": {},
   "outputs": [
    {
     "name": "stdout",
     "output_type": "stream",
     "text": [
      "5e :  71\n",
      "brrr chthonien chthonienne chthoniennes chthoniens pfft pschent pschents schlague schlagues schlamm schlamms schlass schleu schleus schlich schlichs schlitta schlittage schlittages schlittai schlittaient schlittais schlittait schlittames schlittant schlittas schlittasse schlittassent schlittasses schlittassiez schlittassions schlittat schlittates schlitte schlittee schlittees schlittent schlitter schlittera schlitterai schlitteraient schlitterais schlitterait schlitteras schlitterent schlitterez schlitteriez schlitterions schlitterons schlitteront schlittes schlitteur schlitteurs schlittez schlittiez schlittions schlittons schnaps schnauzer schnauzers schnock schnocks schnoque schnoques schnorchel schnorchels schnorkel schnorkels schnouff schnouffs\n"
     ]
    }
   ],
   "source": [
    "# e) Affichez la liste des mots commençant par au moins 4 consonnes consécutives (tiret non autorisé).\n",
    "consonnes = set(\"bcdfghjklmnpqrstvwxz\")\n",
    "mots_specifiques = [mot for mot in dico if len(\n",
    "    mot) >= 4 and set(mot[:4]).issubset(consonnes)]\n",
    "\n",
    "print('5e : ', len(mots_specifiques))\n",
    "print(*mots_specifiques)"
   ]
  },
  {
   "cell_type": "markdown",
   "metadata": {},
   "source": [
    "## Exercice 7.6\n",
    "L'argot javanais, apparu en France dans la dernière moitié du 19ème siècle, consiste à intercaler dans les mots la syllabe « av » entre une consonne et une voyelle. Nous n'utiliserons ici que les règles simplifiées (*) :\n",
    "- On rajoute « av » après chaque consonne (ou groupe de consonnes comme par exemple ch, cl, ph, tr,...) d'un mot.\n",
    "- Si le mot commence par une voyelle, on ajoute « av » devant cette voyelle.\n",
    "- On ne rajoute jamais « av » après la consonne finale d'un mot.\n",
    "- On ne prend pas en compte les diacritiques\n",
    "\n",
    "Écrivez un programme qui traduit un texte français en javanais. Par exemple,  \n",
    "```Je vais acheter des allumettes au supermarche.```  \n",
    "deviendra  \n",
    "```Jave vavais avachavetaver daves avallavumavettaves avau savupavermavarchave.```  \n",
    "(*) Pour les règles complètes, voir https://fr.wikipedia.org/wiki/Javanais_(argot)\n"
   ]
  },
  {
   "cell_type": "code",
   "execution_count": 54,
   "metadata": {},
   "outputs": [
    {
     "name": "stdout",
     "output_type": "stream",
     "text": [
      "Jave vavais avachavetaver daves avallavumavettaves avau savupavermavarchave.\n",
      "True\n"
     ]
    }
   ],
   "source": [
    "texte = \"Je vais acheter des allumettes au supermarche.\"\n",
    "\n",
    "consonnes = 'bcdfghjklmnpqrstvwxz'\n",
    "voyelles = 'aeiouy'\n",
    "\n",
    "texte_javanais = []\n",
    "mots = texte.split(' ')\n",
    "\n",
    "for mot in mots:\n",
    "    mot_javanais = ''\n",
    "    # Si le mot commence par une voyelle, on ajoute « av » devant cette voyelle.\n",
    "    premiere_lettre = mot[0]\n",
    "    if premiere_lettre in voyelles:\n",
    "        mot_javanais = 'av' + premiere_lettre\n",
    "        lettre_precedente_consonne = False\n",
    "    else:\n",
    "        mot_javanais += premiere_lettre\n",
    "        lettre_precedente_consonne = True\n",
    "\n",
    "    # On rajoute « av » après chaque consonne (ou groupe de consonnes comme par exemple ch, cl, ph, tr,...) d'un mot\n",
    "    # On ne rajoute jamais « av » après la consonne finale d'un mot.\n",
    "    for lettre in mot[1:]:\n",
    "\n",
    "        if lettre in consonnes:\n",
    "            lettre_precedente_consonne = True\n",
    "            mot_javanais += lettre\n",
    "        else:\n",
    "            if lettre_precedente_consonne:\n",
    "                mot_javanais += 'av' + lettre  # pour les groupes de consonnes\n",
    "            else:\n",
    "                mot_javanais += lettre\n",
    "            lettre_precedente_consonne = False\n",
    "\n",
    "    texte_javanais.append(mot_javanais)\n",
    "\n",
    "javanais = ' '.join(texte_javanais)\n",
    "print(javanais)\n",
    "objectif = \"Jave vavais avachavetaver daves avallavumavettaves avau savupavermavarchave.\"\n",
    "print(javanais == objectif)"
   ]
  },
  {
   "cell_type": "markdown",
   "metadata": {},
   "source": [
    "## Exercice 7.7\n",
    "Utilisez « dico.txt » pour faire un dictionnaire (au sens Python du terme, voir chapitre 6), où la clé sera la longueur du mot, et où la valeur sera la liste alphabétique des mots de cette longueur. Si des mots contiennent un ou des tirets, il faudra supprimer les tirets ! Ainsi, le mot « porte-avions » deviendra « porteavions ». Idem avec les apostrophes."
   ]
  },
  {
   "cell_type": "code",
   "execution_count": 59,
   "metadata": {},
   "outputs": [],
   "source": [
    "# Lecture du fichier\n",
    "with open(\"Exercices_7/dico.txt\", \"r\") as fichier:\n",
    "    dico = fichier.readlines()\n",
    "    # dico = [mot.rstrip() for mot in dico]\n",
    "    dico = [mot.rstrip().replace('-', '').replace('\\'', '') for mot in dico]"
   ]
  },
  {
   "cell_type": "code",
   "execution_count": 60,
   "metadata": {},
   "outputs": [
    {
     "name": "stdout",
     "output_type": "stream",
     "text": [
      "\n"
     ]
    }
   ],
   "source": [
    "# Quels sont les mots avec des caractères non alphabétiques\n",
    "import string\n",
    "alphabet = set(string.ascii_lowercase)  # alphabet sous forme d'ensemble\n",
    "non_alpha = []\n",
    "for mot in dico:\n",
    "    if not set(mot).issubset(alphabet):\n",
    "        non_alpha.append(mot)\n",
    "print(*non_alpha)"
   ]
  },
  {
   "cell_type": "code",
   "execution_count": 61,
   "metadata": {},
   "outputs": [],
   "source": [
    "mots_de_longeur_n = {}\n",
    "for mot in dico:\n",
    "    if len(mot) in mots_de_longeur_n:  # On teste si la clé est déjà dans le dictionnaire\n",
    "        mots_de_longeur_n[len(mot)].append(mot)\n",
    "    else:\n",
    "        mots_de_longeur_n[len(mot)] = [mot]"
   ]
  },
  {
   "cell_type": "code",
   "execution_count": 62,
   "metadata": {},
   "outputs": [
    {
     "data": {
      "text/plain": [
       "['constitutionnalisassions', 'constitutionnaliseraient']"
      ]
     },
     "execution_count": 62,
     "metadata": {},
     "output_type": "execute_result"
    }
   ],
   "source": [
    "mots_de_longeur_n[24]"
   ]
  },
  {
   "cell_type": "code",
   "execution_count": 63,
   "metadata": {},
   "outputs": [
    {
     "data": {
      "text/plain": [
       "['constitutionnalisassions', 'constitutionnaliseraient']"
      ]
     },
     "execution_count": 63,
     "metadata": {},
     "output_type": "execute_result"
    }
   ],
   "source": [
    "from collections import defaultdict\n",
    "mots_de_longeur_n = defaultdict(list)\n",
    "\n",
    "for mot in dico:\n",
    "    mots_de_longeur_n[len(mot)].append(mot)\n",
    "\n",
    "mots_de_longeur_n[24]"
   ]
  },
  {
   "cell_type": "markdown",
   "metadata": {},
   "source": [
    "## Exercice 7.8\n",
    "\n",
    "Le mot le plus long – règles du jeu  \n",
    "Les règles sont élémentaires : on entre une série de lettres et l'ordinateur essaie de trouver le plus long mot possible avec ces lettres. Il peut y avoir plusieurs fois la même lettre dans la série.\n",
    "Exemple de partie:  \n",
    "```\n",
    "entrez votre tirage : urtefaaijg\n",
    "10 lettres\n",
    "Le script a mis 0.184 s pour trouver des mots de 9 lettres ['fatiguera', 'jaugerait']\n",
    "```\n",
    "\n",
    "Est-il possible de se passer des ensembles dans le programme du § 7.9 ? Essayez de supprimer du\n",
    "programme la ligne :\n",
    "```python\n",
    "if set(mot).issubset(set_tirage)\n",
    "```\n",
    "ainsi que les lignes ayant un rapport avec ce prétraitement.\n",
    "Votre programme est-il plus rapide ? Pour le savoir, testez-le avec la fonction time()."
   ]
  },
  {
   "cell_type": "code",
   "execution_count": 64,
   "metadata": {},
   "outputs": [
    {
     "name": "stdin",
     "output_type": "stream",
     "text": [
      "Entrez votre tirage :  urtefaaijg\n"
     ]
    },
    {
     "name": "stdout",
     "output_type": "stream",
     "text": [
      "10 lettres\n",
      "Le script a mis 0.066 s pour trouver des mots de 9 lettres\n",
      "['fatiguera', 'jaugerait']\n"
     ]
    },
    {
     "name": "stdin",
     "output_type": "stream",
     "text": [
      "Rejouer ? (o/n) :  n\n"
     ]
    }
   ],
   "source": [
    "# Le mot le plus long\n",
    "\n",
    "from time import time\n",
    "\n",
    "\n",
    "def dictionnaire_ordonne():\n",
    "    # on lit le fichier et on range les mots alphabétiquement selon leur longueur\n",
    "    fichier = open(\"Exercices_7/dico.txt\", \"r\")\n",
    "    dict_ord = {}\n",
    "    for longueur in range(25):\n",
    "        dict_ord[longueur+1] = []\n",
    "    mot = fichier.readline()\n",
    "    while mot != '':\n",
    "        mot = mot.strip('\\n')\n",
    "        if '-' in mot:\n",
    "            mot = mot.replace('-', '')\n",
    "        dict_ord[len(mot)].append(mot)\n",
    "        mot = fichier.readline()\n",
    "    fichier.close()\n",
    "    return dict_ord\n",
    "\n",
    "\n",
    "def lettres_multiples_ok(mot, tirage):\n",
    "    # teste si chaque lettre figure suffisamment de fois dans le tirage\n",
    "    for lettre in mot:\n",
    "        if lettre in tirage:\n",
    "            tirage.remove(lettre)\n",
    "        else:\n",
    "            return False\n",
    "    return True\n",
    "\n",
    "\n",
    "def trouver_plus_long_mot(dico, tirage):\n",
    "    longueur_mot = len(tirage)\n",
    "    solution = []\n",
    "    set_tirage = set(tirage)\n",
    "    while longueur_mot > 0:\n",
    "        for mot in dico[longueur_mot]:\n",
    "            if set(mot).issubset(set_tirage):\n",
    "                # les lettres du mot sont un sous-ensemble du tirage\n",
    "                tirage_test = list(tirage)\n",
    "                if lettres_multiples_ok(mot, tirage_test):\n",
    "                    solution.append(mot)\n",
    "        if solution != [] or longueur_mot == 1:\n",
    "            return solution, longueur_mot\n",
    "        longueur_mot -= 1\n",
    "\n",
    "\n",
    "dico = dictionnaire_ordonne()\n",
    "jouer = True\n",
    "while jouer:\n",
    "    tirage = input('Entrez votre tirage : ').lower()\n",
    "    print(len(tirage), 'lettres')\n",
    "    t0 = time()\n",
    "    solution, longueur = trouver_plus_long_mot(dico, tirage)\n",
    "    if solution == []:\n",
    "        print('Pas de mot trouvé !')\n",
    "    else:\n",
    "        t1 = time()-t0\n",
    "        print('Le script a mis', '{0:.3f}'.format(\n",
    "            t1), 's pour trouver des mots de', longueur, 'lettres')\n",
    "        print(solution)\n",
    "    rejouer = input('Rejouer ? (o/n) : ')\n",
    "    jouer = (rejouer == \"o\")"
   ]
  },
  {
   "cell_type": "code",
   "execution_count": 65,
   "metadata": {},
   "outputs": [
    {
     "name": "stdin",
     "output_type": "stream",
     "text": [
      "Entrez votre tirage :  urtefaaijg\n"
     ]
    },
    {
     "name": "stdout",
     "output_type": "stream",
     "text": [
      "10 lettres\n",
      "Le script a mis 0.080 s pour trouver des mots de 9 lettres\n",
      "['fatiguera', 'jaugerait']\n"
     ]
    },
    {
     "name": "stdin",
     "output_type": "stream",
     "text": [
      "Rejouer ? (o/n) :  n\n"
     ]
    }
   ],
   "source": [
    "# Le mot le plus long\n",
    "# Sans la conversion en set\n",
    "\n",
    "from time import time\n",
    "\n",
    "\n",
    "def dictionnaire_ordonne():\n",
    "    # on lit le fichier et on range les mots alphabétiquement selon leur longueur\n",
    "    fichier = open(\"Exercices_7/dico.txt\", \"r\")\n",
    "    dict_ord = {}\n",
    "    for longueur in range(25):\n",
    "        dict_ord[longueur+1] = []\n",
    "    mot = fichier.readline()\n",
    "    while mot != '':\n",
    "        mot = mot.strip('\\n')\n",
    "        if '-' in mot:\n",
    "            mot = mot.replace('-', '')\n",
    "        dict_ord[len(mot)].append(mot)\n",
    "        mot = fichier.readline()\n",
    "    fichier.close()\n",
    "    return dict_ord\n",
    "\n",
    "\n",
    "def lettres_multiples_ok(mot, tirage):\n",
    "    # teste si chaque lettre figure suffisamment de fois dans le tirage\n",
    "    for lettre in mot:\n",
    "        if lettre in tirage:\n",
    "            tirage.remove(lettre)\n",
    "        else:\n",
    "            return False\n",
    "    return True\n",
    "\n",
    "\n",
    "def trouver_plus_long_mot(dico, tirage):\n",
    "    longueur_mot = len(tirage)\n",
    "    solution = []\n",
    "    # set_tirage = set(tirage)\n",
    "    while longueur_mot > 0:\n",
    "        for mot in dico[longueur_mot]:\n",
    "            # DEL >>> if set(mot).issubset(set_tirage):  <<<\n",
    "            # DEL >>> les lettres du mot sont un sous-ensemble du tirage  <<<\n",
    "            tirage_test = list(tirage)\n",
    "            if lettres_multiples_ok(mot, tirage_test):\n",
    "                solution.append(mot)\n",
    "        if solution != [] or longueur_mot == 1:\n",
    "            return solution, longueur_mot\n",
    "        longueur_mot -= 1\n",
    "\n",
    "\n",
    "dico = dictionnaire_ordonne()\n",
    "jouer = True\n",
    "while jouer:\n",
    "    tirage = input('Entrez votre tirage : ').lower()\n",
    "    print(len(tirage), 'lettres')\n",
    "    t0 = time()\n",
    "    solution, longueur = trouver_plus_long_mot(dico, tirage)\n",
    "    if solution == []:\n",
    "        print('Pas de mot trouvé !')\n",
    "    else:\n",
    "        t1 = time()-t0\n",
    "        print('Le script a mis', '{0:.3f}'.format(\n",
    "            t1), 's pour trouver des mots de', longueur, 'lettres')\n",
    "        print(solution)\n",
    "    rejouer = input('Rejouer ? (o/n) : ')\n",
    "    jouer = (rejouer == \"o\")"
   ]
  },
  {
   "cell_type": "markdown",
   "metadata": {},
   "source": [
    "Le programme est moins efficace"
   ]
  },
  {
   "cell_type": "markdown",
   "metadata": {},
   "source": [
    "## Exercice 7.9\n",
    "Modifiez le programme du § 7.9 pour qu'il écrive toutes les anagrammes des mots d'une longueur donnée par l'utilisateur.\n",
    "\n",
    "Par exemple :\n",
    "```\n",
    "Longueur des mots : 5 \n",
    "abats : ['basat', 'batas'] \n",
    "abeti : ['batie', 'beait']\n",
    "abime : ['amibe', 'iambe'] ...\n",
    "zoner : ['ornez']\n",
    "```"
   ]
  },
  {
   "cell_type": "code",
   "execution_count": 67,
   "metadata": {},
   "outputs": [
    {
     "name": "stdin",
     "output_type": "stream",
     "text": [
      "Longueur des mots :  7\n"
     ]
    },
    {
     "name": "stdout",
     "output_type": "stream",
     "text": [
      "abattes  :  ['batates']\n",
      "abattis  :  ['battais']\n",
      "abattit  :  ['battait']\n",
      "abattra  :  ['baratta']\n",
      "abattre  :  ['baratte', 'baretat', 'rabatte']\n",
      "abeille  :  ['baillee']\n",
      "aberrai  :  ['braiera']\n",
      "aberras  :  ['abraser', 'brasera', 'sabrera']\n",
      "aberres  :  ['barrees', 'ebraser']\n",
      "aberrez  :  ['zebrera']\n",
      "abetira  :  ['baretai', 'baterai']\n",
      "abimant  :  ['ambiant']\n",
      "ablette  :  ['batelet']\n",
      "abolira  :  ['bariola']\n",
      "abonder  :  ['bondera']\n",
      "abonnat  :  ['batonna']\n",
      "abonner  :  ['baronne']\n",
      "abonnir  :  ['rabonni']\n",
      "abordas  :  ['saborda']\n",
      "aborder  :  ['bordera', 'brodera', 'reborda', 'rebroda']\n",
      "abordes  :  ['derobas', 'desorba', 'saborde']\n",
      "abordez  :  ['bezoard']\n",
      "aboulas  :  ['saboula']\n",
      "abouler  :  ['boulera', 'laboure']\n",
      "aboules  :  ['absolue', 'eboulas', 'saboule']\n",
      "aboulie  :  ['boulaie', 'eboulai']\n",
      "abouter  :  ['boutera', 'raboute', 'rebouta']\n",
      "aboutes  :  ['absoute', 'eboutas', 'taboues']\n",
      "...\n",
      "Le script a mis 4.720s pour trouver les anagrammes des mots de 7 lettes\n"
     ]
    }
   ],
   "source": [
    "# Le mot le plus long\n",
    "\n",
    "from time import time\n",
    "from collections import defaultdict\n",
    "\n",
    "\n",
    "def dictionnaire_ordonne():\n",
    "    # Lecture du fichier\n",
    "    with open(\"Exercices_7/dico.txt\", \"r\") as fichier:\n",
    "        dico = fichier.readlines()\n",
    "        dico = [mot.rstrip().replace('-', '').replace('\\'', '')\n",
    "                for mot in dico]\n",
    "\n",
    "    # on lit le fichier et on range les mots alphabétiquement selon leur longueur\n",
    "    dict_ord = defaultdict(list)\n",
    "    for mot in dico:\n",
    "        dict_ord[len(mot)].append(mot)\n",
    "    return dict_ord\n",
    "\n",
    "\n",
    "def lettres_multiples_ok(mot, tirage):\n",
    "    # mot : st\n",
    "    # tirage : list\n",
    "    # teste si chaque lettre figure suffisamment de fois dans le tirage\n",
    "    for lettre in mot:\n",
    "        if lettre in tirage:\n",
    "            tirage.remove(lettre)\n",
    "        else:\n",
    "            return False\n",
    "    return True\n",
    "\n",
    "\n",
    "def trouver_anagrammes(dico, mot):\n",
    "\n",
    "    anagrammes = []\n",
    "    set_mot = set(mot)  # Différentes lettres de mon mot\n",
    "\n",
    "    # On parcourt tous les mots du dictionnaire, mots de taille donnée par la longueur du mot passé en argument\n",
    "    for anagramme in dico[len(mot)]:\n",
    "        if set(anagramme) == set_mot:\n",
    "            # les lettres de l'anagramme potentiel sont les mêmes que celle du mot\n",
    "            if lettres_multiples_ok(anagramme, list(mot)):\n",
    "                anagrammes.append(anagramme)\n",
    "    anagrammes.remove(mot)\n",
    "    if anagrammes != []:\n",
    "        return anagrammes\n",
    "    # retourne None par défaut\n",
    "\n",
    "\n",
    "start = time()\n",
    "\n",
    "dico = dictionnaire_ordonne()\n",
    "\n",
    "longeur = int(input('Longueur des mots : '))\n",
    "\n",
    "for i, mot in enumerate(dico[longeur]):\n",
    "    if i > 100:  # On se limite à n mots\n",
    "        print('...')\n",
    "        break\n",
    "    anagrammes = trouver_anagrammes(dico, mot)\n",
    "    if anagrammes is not None:\n",
    "        print(mot, ' : ',  anagrammes)\n",
    "\n",
    "elapsed = time()-start\n",
    "print('Le script a mis',\n",
    "      '{:.3f}s pour trouver les anagrammes des mots de {} lettes'.format(elapsed, longeur))"
   ]
  },
  {
   "cell_type": "markdown",
   "metadata": {
    "tags": []
   },
   "source": [
    "## Exercice 7.10\n",
    "Au Scrabble (version française), les valeurs des lettres sont les suivantes :\n",
    "- 1 point:  A, E, I, L, N, O, R, S, T, U\n",
    "- 2 points: D, G, M\n",
    "- 3 points: B, C, P\n",
    "- 4 points: F, H, V\n",
    "- 8 points: J, Q\n",
    "- 10 points: K, W, X, Y, Z\n",
    "\n",
    "Modifiez le programme du § 7.9 pour qu'il écrive les mots qui rapporteraient le plus de points au Scrabble, en utilisant les lettres données par l'utilisateur.\n",
    "Par exemple :\n",
    "    \n",
    "```\n",
    "Entrez votre tirage : deefirrsv\n",
    "['feviers', 'fevrier', 'fievres'] : 13 points au Scrabble\n",
    "```"
   ]
  },
  {
   "cell_type": "code",
   "execution_count": 74,
   "metadata": {},
   "outputs": [],
   "source": [
    "# Aggrégation de dictionnaires\n",
    "# points = dict { lettre : nombre de points}\n",
    "points = {lettre: 1 for lettre in 'aeilnorstu'}\n",
    "points.update({lettre: 2 for lettre in 'dgm'})\n",
    "points.update({lettre: 3 for lettre in 'bcp'})\n",
    "points.update({lettre: 4 for lettre in 'fhv'})\n",
    "points.update({lettre: 8 for lettre in 'jq'})\n",
    "points.update({lettre: 10 for lettre in 'kwxyz'})\n",
    "# points"
   ]
  },
  {
   "cell_type": "code",
   "execution_count": 75,
   "metadata": {},
   "outputs": [
    {
     "name": "stdin",
     "output_type": "stream",
     "text": [
      "Entrez votre tirage :  lirontk\n"
     ]
    },
    {
     "name": "stdout",
     "output_type": "stream",
     "text": [
      "7 lettres\n",
      "Le script a mis 0.037s pour trouver des mots de 13 points\n",
      "['kilo', 'kilt']\n"
     ]
    }
   ],
   "source": [
    "# 7.10 Scrabble\n",
    "\n",
    "from time import time\n",
    "\n",
    "\n",
    "def dictionnaire_ordonne():\n",
    "    # renvoie un dictionnaire de type:\n",
    "    # {longeur: liste des mots de cette longueur}\n",
    "\n",
    "    dico = []\n",
    "    with open(\"Exercices_7/dico.txt\", \"r\") as fichier:\n",
    "        dico = fichier.readlines()\n",
    "        dico = [mot.rstrip().replace('-', '').replace('\\'', '')\n",
    "                for mot in dico]\n",
    "\n",
    "    # on lit le fichier et on range les mots alphabétiquement selon leur longueur\n",
    "    dict_ord = defaultdict(list)\n",
    "    for mot in dico:\n",
    "        dict_ord[len(mot)].append(mot)\n",
    "    return dict_ord\n",
    "\n",
    "\n",
    "def lettres_multiples_ok(mot, tirage):\n",
    "    # teste si chaque lettre figure suffisamment de fois dans le tirage\n",
    "    # mot : st\n",
    "    # tirage : list\n",
    "    for lettre in mot:\n",
    "        if lettre in tirage:\n",
    "            tirage.remove(lettre)\n",
    "        else:\n",
    "            return False\n",
    "    return True\n",
    "\n",
    "\n",
    "def meilleurs_mots_en_points(dico, tirage, points):\n",
    "    # Trouve le meilleur mot de la longueur max de la longueur du tirage\n",
    "    # On va évaluer tous les mots de longueur inférieure à len(tirage)\n",
    "    # en parcourant le dictionnaire défini au préalable\n",
    "\n",
    "    solution = []\n",
    "    set_tirage = set(tirage)\n",
    "\n",
    "    maximum_de_points = 0\n",
    "\n",
    "    for l in range(1, len(tirage)+1):\n",
    "        for mot in dico[l]:\n",
    "            # Si les lettres du mot sont un sous-ensemble du tirage\n",
    "            if set(mot).issubset(set_tirage):\n",
    "                # Et si on a exactement les mêmes multiples de lettre identiques\n",
    "                if lettres_multiples_ok(mot, list(tirage)):\n",
    "                    # On compte les points\n",
    "                    x = compter_les_points(mot, points)\n",
    "\n",
    "                    # Si les points sont = à maximum_de_points on ajoute aux mots possibles\n",
    "                    # Si les points sont > à maximum_de_points on redéfinit la liste des solutions\n",
    "                    if x > maximum_de_points:\n",
    "                        solution = [mot]\n",
    "                        maximum_de_points = x\n",
    "                    elif x == maximum_de_points:\n",
    "                        solution.append(mot)\n",
    "\n",
    "    return list(set(solution)), maximum_de_points\n",
    "\n",
    "\n",
    "def compter_les_points(mot, points):\n",
    "    valeur = 0\n",
    "    for lettre in mot:\n",
    "        valeur += points[lettre]\n",
    "    return valeur\n",
    "\n",
    "# ####################\n",
    "# Programme principal\n",
    "# ####################\n",
    "\n",
    "\n",
    "# points = dict { lettre : nombre de points}\n",
    "points = {lettre: 1 for lettre in 'aeilnorstu'}\n",
    "points.update({lettre: 2 for lettre in 'dgm'})\n",
    "points.update({lettre: 3 for lettre in 'bcp'})\n",
    "points.update({lettre: 4 for lettre in 'fhv'})\n",
    "points.update({lettre: 8 for lettre in 'jq'})\n",
    "points.update({lettre: 10 for lettre in 'kwxyz'})\n",
    "\n",
    "dico = dictionnaire_ordonne()\n",
    "\n",
    "\n",
    "tirage = input('Entrez votre tirage : ').lower()\n",
    "print(len(tirage), 'lettres')\n",
    "\n",
    "start = time()\n",
    "solution, longueur = meilleurs_mots_en_points(dico, tirage, points)\n",
    "if solution == []:\n",
    "    print('Pas de mot trouvé !')\n",
    "else:\n",
    "    elapsed = time()-start\n",
    "    print('Le script a mis {:.3f}s pour trouver des mots de {} points'.format(\n",
    "        elapsed, longueur))\n",
    "    print(solution)\n",
    "\n",
    "# Vérifier le cas où un plus petit mot a plus de valeur\n",
    "# kilt\n",
    "# liront\n",
    "# lettres : lirontk"
   ]
  },
  {
   "cell_type": "markdown",
   "metadata": {},
   "source": [
    "## Exercice 7.11\n",
    "La saisie intuitive est une technologie conçue afin de simplifier la saisie de texte sur les claviers téléphoniques.\n",
    "\n",
    "Là où une combinaison de touches correspond, dans le système traditionnel, à un et un seul mot, le système de saisie intuitive doit faire face à un problème : la pluralité des combinaisons de lettres correspondant à une même saisie. Par exemple, le nombre 7243 correspond à 4 × 3 × 3 × 3 = 108 combinaisons de lettres possibles. Mais seules quelques-unes correspondront (peut-être) à un mot français.\n",
    "\n",
    "Écrivez un programme permettant de trouver tous les mots correspondant à un nombre donné.\n",
    "```\n",
    "   Entrez le code votre mot (p. ex. 665587783) : 7243\n",
    "   Le script a mis 0.015 s pour trouver :\n",
    "   ['page', 'paie', 'rage', 'raid', 'raie', 'sage', 'scie']\n",
    "  ```"
   ]
  },
  {
   "cell_type": "code",
   "execution_count": 77,
   "metadata": {},
   "outputs": [
    {
     "name": "stdout",
     "output_type": "stream",
     "text": [
      "Le script a mis 0.001s pour trouver ['page', 'paie', 'rage', 'raid', 'raie', 'sage', 'scie']\n"
     ]
    }
   ],
   "source": [
    "from time import time\n",
    "intuitif = {'2': 'abc', '3': 'def', '4': 'ghi', '5': 'jkl',\n",
    "            '6': 'nmo', '7': 'pqrs', '8': 'tvu', '9': 'wxyz'}\n",
    "\n",
    "\n",
    "# 7.11 Saisie intuitive\n",
    "\n",
    "\n",
    "def dictionnaire_ordonne():\n",
    "    # renvoie un dictionnaire de type:\n",
    "    # {longeur: liste des mots de cette longueur}\n",
    "\n",
    "    dico = []\n",
    "    with open(\"Exercices_7/dico.txt\", \"r\") as fichier:\n",
    "        dico = fichier.readlines()\n",
    "        dico = [mot.rstrip().replace('-', '').replace('\\'', '')\n",
    "                for mot in dico]\n",
    "\n",
    "    # on lit le fichier et on range les mots alphabétiquement selon leur longueur\n",
    "    dict_ord = defaultdict(list)\n",
    "    for mot in dico:\n",
    "        dict_ord[len(mot)].append(mot)\n",
    "    return dict_ord\n",
    "\n",
    "\n",
    "dict_ord = dictionnaire_ordonne()\n",
    "\n",
    "# combinaison de chiffres entrée au clavier\n",
    "combinaison = '7243'\n",
    "\n",
    "start = time()\n",
    "\n",
    "mots_possibles = []\n",
    "mots_accessibles = dict_ord[len(combinaison)]\n",
    "for mot in mots_accessibles:\n",
    "    possible = True\n",
    "    # On s'assure que chacune des lettres du mot considéré corresponde au chiffre entré\n",
    "    for position, lettre in enumerate(mot):\n",
    "        chiffre_entré = combinaison[position]\n",
    "        if lettre not in intuitif[chiffre_entré]:\n",
    "            possible = False\n",
    "            break\n",
    "    if possible:\n",
    "        mots_possibles.append(mot)\n",
    "\n",
    "\n",
    "elapsed = time()-start\n",
    "print('Le script a mis', '{:.3f}s pour trouver {}'.format(\n",
    "    elapsed, mots_possibles))"
   ]
  },
  {
   "cell_type": "markdown",
   "metadata": {},
   "source": [
    "Code à améliorer avec création d'une fonction et interface utilisateur pour entrer les chiffres"
   ]
  },
  {
   "cell_type": "markdown",
   "metadata": {
    "jp-MarkdownHeadingCollapsed": true,
    "tags": []
   },
   "source": [
    "## Exercice 7.12\n",
    "\n",
    "Le jeu « Motus » repose sur la recherche de mots d'un nombre fixé de lettres (entre 7 et 10). Un candidat propose un mot qui doit contenir le bon nombre de lettres et être correctement orthographié, sinon il est refusé. Le mot apparaît alors sur une grille : les lettres bien placées sont colorées en rouge, les lettres présentes mais mal placées sont en jaune.\n",
    "\n",
    "Votre programme devra :\n",
    "- prendre un mot au hasard dans le fichier « dico.txt ». Ce mot devra avoir entre 7 et 10 lettres. Contrairement aux règles originales, on permettra les formes conjuguées ;\n",
    "- indiquer le nombre de lettres du mot à trouver et donner la première lettre ;\n",
    "- écrire le numéro de l'essai ;\n",
    "- écrire sous la proposition du joueur :\n",
    "- une lettre majuscule si elle est bien placée ;\n",
    "- une lettre minuscule si elle est mal placée ;\n",
    "- un point si la lettre n'est pas dans le mot, ou si elle a moins d'occurrences ;\n",
    "- un message d'erreur si le mot est non valide.\n"
   ]
  },
  {
   "cell_type": "code",
   "execution_count": 78,
   "metadata": {},
   "outputs": [],
   "source": [
    "import os\n",
    "from collections import defaultdict\n",
    "\n",
    "# Lecture du fichier\n",
    "dico = []\n",
    "with open(os.path.join('Exercices_7', 'dico.txt'), 'r') as fichier:\n",
    "    dico = fichier.readlines()\n",
    "    dico = [mot.rstrip().replace('-', '').replace('\\'', '')\n",
    "            for mot in dico]\n",
    "\n",
    "# Création d'un dictionnaire de type:\n",
    "# {longeur: liste des mots de cette longueur}\n",
    "dict_ord = defaultdict(list)\n",
    "for mot in dico:\n",
    "    dict_ord[len(mot)].append(mot)\n",
    "\n",
    "liste_des_mots_possibles = dict_ord[7] + \\\n",
    "    dict_ord[8] + dict_ord[9] + dict_ord[10]"
   ]
  },
  {
   "cell_type": "code",
   "execution_count": 79,
   "metadata": {},
   "outputs": [],
   "source": [
    "from random import choice\n",
    "mot = choice(liste_des_mots_possibles)"
   ]
  },
  {
   "cell_type": "code",
   "execution_count": 80,
   "metadata": {},
   "outputs": [
    {
     "name": "stdout",
     "output_type": "stream",
     "text": [
      "\u001b[32m A\u001b[0m B\u001b[31m C\u001b[0m"
     ]
    }
   ],
   "source": [
    "# Exercice 7.12 Motus\n",
    "# Vert : bien placée\n",
    "# Rouge : lettre existante mais mal placée\n",
    "# noir : lettre inexistante\n",
    "\n",
    "from termcolor import cprint  # couleurs pour l'affichage\n",
    "cprint(' A', 'green', end='')\n",
    "print(' B', end='')\n",
    "cprint(' C', 'red', end='')"
   ]
  },
  {
   "cell_type": "code",
   "execution_count": 81,
   "metadata": {},
   "outputs": [
    {
     "data": {
      "text/plain": [
       "[0, 4]"
      ]
     },
     "execution_count": 81,
     "metadata": {},
     "output_type": "execute_result"
    }
   ],
   "source": [
    "mot = 'tests'\n",
    "proposition = 'tttos'\n",
    "\n",
    "# Lettres bien placées\n",
    "bien_placées = []  # Liste des indices des lettres bien placées\n",
    "for position, lettre in enumerate(proposition):\n",
    "    if lettre == mot[position]:\n",
    "        bien_placées.append(position)\n",
    "bien_placées"
   ]
  },
  {
   "cell_type": "code",
   "execution_count": 82,
   "metadata": {},
   "outputs": [
    {
     "data": {
      "text/plain": [
       "{1, 2, 3}"
      ]
     },
     "execution_count": 82,
     "metadata": {},
     "output_type": "execute_result"
    }
   ],
   "source": [
    "indices_possibles = set(range(len(mot))) - set(bien_placées)\n",
    "indices_possibles"
   ]
  },
  {
   "cell_type": "code",
   "execution_count": 83,
   "metadata": {},
   "outputs": [
    {
     "name": "stdout",
     "output_type": "stream",
     "text": [
      "t\n",
      "t\n",
      "o\n",
      "['e', 's', 't']\n"
     ]
    }
   ],
   "source": [
    "# Lettres mal placées\n",
    "# On parcourt les lettres restantes du mot proposé\n",
    "indices_restants = set(range(len(mot))) - set(bien_placées)\n",
    "\n",
    "for i in indices_restants:\n",
    "    print(proposition[i])\n",
    "\n",
    "# lettres disponibles dans le mot recherché\n",
    "indices_disponibles = indices_restants.copy()\n",
    "lettres_disponibles = [mot[i] for i in indices_disponibles]\n",
    "print(lettres_disponibles)"
   ]
  },
  {
   "cell_type": "code",
   "execution_count": 84,
   "metadata": {},
   "outputs": [
    {
     "data": {
      "text/plain": [
       "[1]"
      ]
     },
     "execution_count": 84,
     "metadata": {},
     "output_type": "execute_result"
    }
   ],
   "source": [
    "# Lettres mal placées\n",
    "# Lettres restantes du mot proposé\n",
    "indices_restants = set(range(len(mot))) - set(bien_placées)\n",
    "\n",
    "# lettres disponibles dans le mot recherché\n",
    "indices_disponibles = indices_restants.copy()\n",
    "\n",
    "mal_placées = []  # Liste des indices des lettres mal placées\n",
    "\n",
    "lettres_disponibles = [mot[i] for i in indices_disponibles]\n",
    "for i in indices_restants:\n",
    "    if proposition[i] in lettres_disponibles:\n",
    "        lettres_disponibles.remove(proposition[i])\n",
    "        mal_placées.append(i)\n",
    "mal_placées"
   ]
  },
  {
   "cell_type": "code",
   "execution_count": 85,
   "metadata": {},
   "outputs": [
    {
     "name": "stdout",
     "output_type": "stream",
     "text": [
      "\u001b[32m t\u001b[0m\u001b[31m t\u001b[0m t o\u001b[32m s\u001b[0m"
     ]
    }
   ],
   "source": [
    "for i, lettre in enumerate(proposition):\n",
    "    if i in bien_placées:\n",
    "        cprint(' {}'.format(lettre), 'green', end='')\n",
    "    elif i in mal_placées:\n",
    "        cprint(' {}'.format(lettre), 'red', end='')\n",
    "    else:\n",
    "        print(' {}'.format(lettre), end='')"
   ]
  },
  {
   "cell_type": "markdown",
   "metadata": {},
   "source": [
    "On a tous les éléments, il ne reste plus qu'à finaliser le programme"
   ]
  },
  {
   "cell_type": "code",
   "execution_count": 88,
   "metadata": {},
   "outputs": [
    {
     "name": "stdout",
     "output_type": "stream",
     "text": [
      "Vous devez trouver un mot de 7 lettres\n",
      "\u001b[32m p\u001b[0m _ _ _ _ _ _\n"
     ]
    },
    {
     "name": "stdin",
     "output_type": "stream",
     "text": [
      "Votre proposition propose\n"
     ]
    },
    {
     "name": "stdout",
     "output_type": "stream",
     "text": [
      "\u001b[32m p\u001b[0m _ _ _ _ _ _\n",
      "\u001b[32m p\u001b[0m r o p o s\u001b[31m e\u001b[0m\n"
     ]
    },
    {
     "name": "stdin",
     "output_type": "stream",
     "text": [
      "Votre proposition pareils\n"
     ]
    },
    {
     "name": "stdout",
     "output_type": "stream",
     "text": [
      "\u001b[32m p\u001b[0m _ _ _ _ _ _\n",
      "\u001b[32m p\u001b[0m r o p o s\u001b[31m e\u001b[0m\n",
      "\u001b[32m p\u001b[0m\u001b[31m a\u001b[0m r\u001b[31m e\u001b[0m i\u001b[31m l\u001b[0m s\n"
     ]
    },
    {
     "name": "stdin",
     "output_type": "stream",
     "text": [
      "Votre proposition placide\n"
     ]
    },
    {
     "name": "stdout",
     "output_type": "stream",
     "text": [
      "\u001b[32m p\u001b[0m _ _ _ _ _ _\n",
      "\u001b[32m p\u001b[0m r o p o s\u001b[31m e\u001b[0m\n",
      "\u001b[32m p\u001b[0m\u001b[31m a\u001b[0m r\u001b[31m e\u001b[0m i\u001b[31m l\u001b[0m s\n",
      "\u001b[32m p\u001b[0m\u001b[31m l\u001b[0m\u001b[31m a\u001b[0m c i d\u001b[31m e\u001b[0m\n"
     ]
    },
    {
     "name": "stdin",
     "output_type": "stream",
     "text": [
      "Votre proposition puante\n"
     ]
    },
    {
     "name": "stdout",
     "output_type": "stream",
     "text": [
      "Vous devez entrer un mot du dictionnaire\n"
     ]
    },
    {
     "name": "stdin",
     "output_type": "stream",
     "text": [
      "Votre proposition puantes\n"
     ]
    },
    {
     "name": "stdout",
     "output_type": "stream",
     "text": [
      "\u001b[32m p\u001b[0m _ _ _ _ _ _\n",
      "\u001b[32m p\u001b[0m r o p o s\u001b[31m e\u001b[0m\n",
      "\u001b[32m p\u001b[0m\u001b[31m a\u001b[0m r\u001b[31m e\u001b[0m i\u001b[31m l\u001b[0m s\n",
      "\u001b[32m p\u001b[0m\u001b[31m l\u001b[0m\u001b[31m a\u001b[0m c i d\u001b[31m e\u001b[0m\n",
      "\u001b[32m p\u001b[0m u\u001b[31m a\u001b[0m\u001b[31m n\u001b[0m\u001b[31m t\u001b[0m\u001b[31m e\u001b[0m s\n"
     ]
    },
    {
     "name": "stdin",
     "output_type": "stream",
     "text": [
      "Votre proposition penates\n"
     ]
    },
    {
     "name": "stdout",
     "output_type": "stream",
     "text": [
      "\u001b[32m p\u001b[0m _ _ _ _ _ _\n",
      "\u001b[32m p\u001b[0m r o p o s\u001b[31m e\u001b[0m\n",
      "\u001b[32m p\u001b[0m\u001b[31m a\u001b[0m r\u001b[31m e\u001b[0m i\u001b[31m l\u001b[0m s\n",
      "\u001b[32m p\u001b[0m\u001b[31m l\u001b[0m\u001b[31m a\u001b[0m c i d\u001b[31m e\u001b[0m\n",
      "\u001b[32m p\u001b[0m u\u001b[31m a\u001b[0m\u001b[31m n\u001b[0m\u001b[31m t\u001b[0m\u001b[31m e\u001b[0m s\n",
      "\u001b[32m p\u001b[0m\u001b[32m e\u001b[0m\u001b[32m n\u001b[0m\u001b[32m a\u001b[0m\u001b[31m t\u001b[0m e s\n"
     ]
    },
    {
     "name": "stdin",
     "output_type": "stream",
     "text": [
      "Votre proposition penants\n"
     ]
    },
    {
     "name": "stdout",
     "output_type": "stream",
     "text": [
      "Vous devez entrer un mot du dictionnaire\n"
     ]
    },
    {
     "name": "stdin",
     "output_type": "stream",
     "text": [
      "Votre proposition peinant\n"
     ]
    },
    {
     "name": "stdout",
     "output_type": "stream",
     "text": [
      "\u001b[32m p\u001b[0m _ _ _ _ _ _\n",
      "\u001b[32m p\u001b[0m r o p o s\u001b[31m e\u001b[0m\n",
      "\u001b[32m p\u001b[0m\u001b[31m a\u001b[0m r\u001b[31m e\u001b[0m i\u001b[31m l\u001b[0m s\n",
      "\u001b[32m p\u001b[0m\u001b[31m l\u001b[0m\u001b[31m a\u001b[0m c i d\u001b[31m e\u001b[0m\n",
      "\u001b[32m p\u001b[0m u\u001b[31m a\u001b[0m\u001b[31m n\u001b[0m\u001b[31m t\u001b[0m\u001b[31m e\u001b[0m s\n",
      "\u001b[32m p\u001b[0m\u001b[32m e\u001b[0m\u001b[32m n\u001b[0m\u001b[32m a\u001b[0m\u001b[31m t\u001b[0m e s\n",
      "\u001b[32m p\u001b[0m\u001b[32m e\u001b[0m i\u001b[31m n\u001b[0m\u001b[31m a\u001b[0m n\u001b[31m t\u001b[0m\n"
     ]
    },
    {
     "name": "stdin",
     "output_type": "stream",
     "text": [
      "Votre proposition penarde\n"
     ]
    },
    {
     "name": "stdout",
     "output_type": "stream",
     "text": [
      "\u001b[32m p\u001b[0m _ _ _ _ _ _\n",
      "\u001b[32m p\u001b[0m r o p o s\u001b[31m e\u001b[0m\n",
      "\u001b[32m p\u001b[0m\u001b[31m a\u001b[0m r\u001b[31m e\u001b[0m i\u001b[31m l\u001b[0m s\n",
      "\u001b[32m p\u001b[0m\u001b[31m l\u001b[0m\u001b[31m a\u001b[0m c i d\u001b[31m e\u001b[0m\n",
      "\u001b[32m p\u001b[0m u\u001b[31m a\u001b[0m\u001b[31m n\u001b[0m\u001b[31m t\u001b[0m\u001b[31m e\u001b[0m s\n",
      "\u001b[32m p\u001b[0m\u001b[32m e\u001b[0m\u001b[32m n\u001b[0m\u001b[32m a\u001b[0m\u001b[31m t\u001b[0m e s\n",
      "\u001b[32m p\u001b[0m\u001b[32m e\u001b[0m i\u001b[31m n\u001b[0m\u001b[31m a\u001b[0m n\u001b[31m t\u001b[0m\n",
      "\u001b[32m p\u001b[0m\u001b[32m e\u001b[0m\u001b[32m n\u001b[0m\u001b[32m a\u001b[0m r d e\n"
     ]
    },
    {
     "name": "stdin",
     "output_type": "stream",
     "text": [
      "Votre proposition penaude\n"
     ]
    },
    {
     "name": "stdout",
     "output_type": "stream",
     "text": [
      "\u001b[32m p\u001b[0m _ _ _ _ _ _\n",
      "\u001b[32m p\u001b[0m r o p o s\u001b[31m e\u001b[0m\n",
      "\u001b[32m p\u001b[0m\u001b[31m a\u001b[0m r\u001b[31m e\u001b[0m i\u001b[31m l\u001b[0m s\n",
      "\u001b[32m p\u001b[0m\u001b[31m l\u001b[0m\u001b[31m a\u001b[0m c i d\u001b[31m e\u001b[0m\n",
      "\u001b[32m p\u001b[0m u\u001b[31m a\u001b[0m\u001b[31m n\u001b[0m\u001b[31m t\u001b[0m\u001b[31m e\u001b[0m s\n",
      "\u001b[32m p\u001b[0m\u001b[32m e\u001b[0m\u001b[32m n\u001b[0m\u001b[32m a\u001b[0m\u001b[31m t\u001b[0m e s\n",
      "\u001b[32m p\u001b[0m\u001b[32m e\u001b[0m i\u001b[31m n\u001b[0m\u001b[31m a\u001b[0m n\u001b[31m t\u001b[0m\n",
      "\u001b[32m p\u001b[0m\u001b[32m e\u001b[0m\u001b[32m n\u001b[0m\u001b[32m a\u001b[0m r d e\n",
      "\u001b[32m p\u001b[0m\u001b[32m e\u001b[0m\u001b[32m n\u001b[0m\u001b[32m a\u001b[0m u d e\n"
     ]
    },
    {
     "name": "stdin",
     "output_type": "stream",
     "text": [
      "Votre proposition penales\n"
     ]
    },
    {
     "name": "stdout",
     "output_type": "stream",
     "text": [
      "\u001b[32m p\u001b[0m _ _ _ _ _ _\n",
      "\u001b[32m p\u001b[0m r o p o s\u001b[31m e\u001b[0m\n",
      "\u001b[32m p\u001b[0m\u001b[31m a\u001b[0m r\u001b[31m e\u001b[0m i\u001b[31m l\u001b[0m s\n",
      "\u001b[32m p\u001b[0m\u001b[31m l\u001b[0m\u001b[31m a\u001b[0m c i d\u001b[31m e\u001b[0m\n",
      "\u001b[32m p\u001b[0m u\u001b[31m a\u001b[0m\u001b[31m n\u001b[0m\u001b[31m t\u001b[0m\u001b[31m e\u001b[0m s\n",
      "\u001b[32m p\u001b[0m\u001b[32m e\u001b[0m\u001b[32m n\u001b[0m\u001b[32m a\u001b[0m\u001b[31m t\u001b[0m e s\n",
      "\u001b[32m p\u001b[0m\u001b[32m e\u001b[0m i\u001b[31m n\u001b[0m\u001b[31m a\u001b[0m n\u001b[31m t\u001b[0m\n",
      "\u001b[32m p\u001b[0m\u001b[32m e\u001b[0m\u001b[32m n\u001b[0m\u001b[32m a\u001b[0m r d e\n",
      "\u001b[32m p\u001b[0m\u001b[32m e\u001b[0m\u001b[32m n\u001b[0m\u001b[32m a\u001b[0m u d e\n",
      "\u001b[32m p\u001b[0m\u001b[32m e\u001b[0m\u001b[32m n\u001b[0m\u001b[32m a\u001b[0m\u001b[32m l\u001b[0m e s\n"
     ]
    },
    {
     "name": "stdin",
     "output_type": "stream",
     "text": [
      "Votre proposition penalles\n"
     ]
    },
    {
     "name": "stdout",
     "output_type": "stream",
     "text": [
      "Vous devez entrer un mot du dictionnaire\n"
     ]
    },
    {
     "name": "stdin",
     "output_type": "stream",
     "text": [
      "Votre proposition penalle\n"
     ]
    },
    {
     "name": "stdout",
     "output_type": "stream",
     "text": [
      "Vous devez entrer un mot du dictionnaire\n"
     ]
    },
    {
     "name": "stdin",
     "output_type": "stream",
     "text": [
      "Votre proposition penalat\n"
     ]
    },
    {
     "name": "stdout",
     "output_type": "stream",
     "text": [
      "Vous devez entrer un mot du dictionnaire\n"
     ]
    },
    {
     "name": "stdin",
     "output_type": "stream",
     "text": [
      "Votre proposition penalty\n"
     ]
    },
    {
     "name": "stdout",
     "output_type": "stream",
     "text": [
      "\u001b[32m p\u001b[0m _ _ _ _ _ _\n",
      "\u001b[32m p\u001b[0m r o p o s\u001b[31m e\u001b[0m\n",
      "\u001b[32m p\u001b[0m\u001b[31m a\u001b[0m r\u001b[31m e\u001b[0m i\u001b[31m l\u001b[0m s\n",
      "\u001b[32m p\u001b[0m\u001b[31m l\u001b[0m\u001b[31m a\u001b[0m c i d\u001b[31m e\u001b[0m\n",
      "\u001b[32m p\u001b[0m u\u001b[31m a\u001b[0m\u001b[31m n\u001b[0m\u001b[31m t\u001b[0m\u001b[31m e\u001b[0m s\n",
      "\u001b[32m p\u001b[0m\u001b[32m e\u001b[0m\u001b[32m n\u001b[0m\u001b[32m a\u001b[0m\u001b[31m t\u001b[0m e s\n",
      "\u001b[32m p\u001b[0m\u001b[32m e\u001b[0m i\u001b[31m n\u001b[0m\u001b[31m a\u001b[0m n\u001b[31m t\u001b[0m\n",
      "\u001b[32m p\u001b[0m\u001b[32m e\u001b[0m\u001b[32m n\u001b[0m\u001b[32m a\u001b[0m r d e\n",
      "\u001b[32m p\u001b[0m\u001b[32m e\u001b[0m\u001b[32m n\u001b[0m\u001b[32m a\u001b[0m u d e\n",
      "\u001b[32m p\u001b[0m\u001b[32m e\u001b[0m\u001b[32m n\u001b[0m\u001b[32m a\u001b[0m\u001b[32m l\u001b[0m e s\n",
      "\u001b[32m p\u001b[0m\u001b[32m e\u001b[0m\u001b[32m n\u001b[0m\u001b[32m a\u001b[0m\u001b[32m l\u001b[0m\u001b[32m t\u001b[0m\u001b[32m y\u001b[0m\n",
      "Bravo, vous avez trouvé en 10 essais\n"
     ]
    },
    {
     "name": "stdin",
     "output_type": "stream",
     "text": [
      "Rejouer ? (o/n) :  n\n"
     ]
    }
   ],
   "source": [
    "# ####################\n",
    "# Imports\n",
    "# ####################\n",
    "\n",
    "import os\n",
    "from collections import defaultdict\n",
    "from random import choice\n",
    "\n",
    "# ####################\n",
    "# Fonctions\n",
    "# ####################\n",
    "\n",
    "\n",
    "def affiche(proposition, bien_placées, mal_placées):\n",
    "    for i, lettre in enumerate(proposition):\n",
    "        if i in bien_placées:\n",
    "            cprint(' {}'.format(lettre), 'green', end='')\n",
    "        elif i in mal_placées:\n",
    "            cprint(' {}'.format(lettre), 'red', end='')\n",
    "        else:\n",
    "            print(' {}'.format(lettre), end='')\n",
    "    print('')\n",
    "\n",
    "\n",
    "def placement(mot, proposition):\n",
    "    # Lettres bien placées\n",
    "    bien_placées = []  # Liste des indices des lettres bien placées\n",
    "    for position, lettre in enumerate(proposition):\n",
    "        if lettre == mot[position]:\n",
    "            bien_placées.append(position)\n",
    "\n",
    "    # Lettres mal placées\n",
    "    # Lettres restantes du mot proposé\n",
    "    indices_restants = set(range(len(mot))) - set(bien_placées)\n",
    "\n",
    "    # lettres disponibles dans le mot recherché\n",
    "    indices_disponibles = indices_restants.copy()\n",
    "\n",
    "    mal_placées = []  # Liste des indices des lettres mal placées\n",
    "\n",
    "    lettres_disponibles = [mot[i] for i in indices_disponibles]\n",
    "    for i in indices_restants:\n",
    "        if proposition[i] in lettres_disponibles:\n",
    "            lettres_disponibles.remove(proposition[i])\n",
    "            mal_placées.append(i)\n",
    "\n",
    "    return bien_placées, mal_placées\n",
    "\n",
    "# ####################\n",
    "# Programme principal\n",
    "# ####################\n",
    "\n",
    "\n",
    "# Lecture du fichier\n",
    "dico = []\n",
    "with open(os.path.join('Exercices_7', 'dico.txt'), 'r') as fichier:\n",
    "    dico = fichier.readlines()\n",
    "    dico = [mot.rstrip().replace('-', '').replace('\\'', '')\n",
    "            for mot in dico]\n",
    "\n",
    "# Création d'un dictionnaire de type:\n",
    "# {longeur: liste des mots de cette longueur}\n",
    "dict_ord = defaultdict(list)\n",
    "for mot in dico:\n",
    "    dict_ord[len(mot)].append(mot)\n",
    "\n",
    "liste_des_mots_possibles = dict_ord[7]\n",
    "#liste_des_mots_possibles = dict_ord[7] + dict_ord[8] + dict_ord[9] + dict_ord[10]\n",
    "\n",
    "mot = choice(liste_des_mots_possibles)\n",
    "\n",
    "\n",
    "jouer = True\n",
    "while jouer:\n",
    "\n",
    "    mot = choice(liste_des_mots_possibles)\n",
    "    print('Vous devez trouver un mot de {} lettres'.format(len(mot)))\n",
    "\n",
    "    historique = []\n",
    "    initial = mot[0] + '_' * (len(mot) - 1)\n",
    "    affiche(initial, [0], [])\n",
    "    historique.append((initial, [0], []))\n",
    "\n",
    "    trouvé = False\n",
    "    while not trouvé:\n",
    "        proposition = ''\n",
    "        test = True\n",
    "        while test:\n",
    "            proposition = input('Votre proposition')\n",
    "            test = proposition not in liste_des_mots_possibles\n",
    "            if test:\n",
    "                print(\"Vous devez entrer un mot du dictionnaire\")\n",
    "\n",
    "        bien_placées, mal_placées = placement(mot, proposition)\n",
    "\n",
    "        historique.append((proposition, bien_placées, mal_placées))\n",
    "\n",
    "        for valitation in historique:\n",
    "            affiche(*valitation)\n",
    "\n",
    "        trouvé = (len(bien_placées) == len(mot))\n",
    "\n",
    "    print(f'Bravo, vous avez trouvé en {len(historique)-1} essais')\n",
    "    rejouer = input('Rejouer ? (o/n) : ')\n",
    "    jouer = (rejouer == \"o\")"
   ]
  },
  {
   "cell_type": "code",
   "execution_count": 87,
   "metadata": {},
   "outputs": [
    {
     "data": {
      "text/plain": [
       "'optique'"
      ]
     },
     "execution_count": 87,
     "metadata": {},
     "output_type": "execute_result"
    }
   ],
   "source": [
    "mot  # chorege, ghettos, mousmes, haliple"
   ]
  },
  {
   "cell_type": "markdown",
   "metadata": {
    "tags": []
   },
   "source": [
    "## Exercice 7.13\n",
    "Deux joueurs vont s'affronter en lançant plusieurs fois de suite une pièce de monnaie. Avant la partie, chacun des joueurs choisit une séquence de trois résultats (chaque résultat étant Pile ou Face). Puis, on lance la pièce de monnaie autant de fois qu'il le faut (en notant à chaque fois le résultat) jusqu'à ce qu'une des deux séquences apparaisse.\n",
    "\n",
    "Par exemple, avant de commencer à lancer la pièce, le joueur 1 choisit la séquence PFP (Pile- Face-Pile) et le joueur 2 choisit la séquence FPP. On lance ensuite la pièce plusieurs fois de suite et voici les issues obtenues successivement :\n",
    "```\n",
    "F P F F P F F F P P\n",
    "```\n",
    "\n",
    "Cette partie a duré 10 lancers et la première des deux séquences sortie est celle du joueur 2, qui est alors déclaré vainqueur.\n",
    "A priori, les deux joueurs devraient avoir la même chance de gagner... en tout cas, c'est ce que l'intuition nous laisse penser. Ce n'est pourtant pas le cas. Si vous connaissez la séquence choisie par l'adversaire, vous pourrez définir la vôtre et gagner plus souvent que votre adversaire.\n",
    "\n",
    "En simulant des milliers de parties, trouvez la meilleure séquence du joueur 2 à opposer à chacune des 8 séquences possibles du joueur 1.\n",
    "\n",
    "Déterminez ensuite la stratégie gagnante."
   ]
  },
  {
   "cell_type": "code",
   "execution_count": 89,
   "metadata": {},
   "outputs": [
    {
     "name": "stdout",
     "output_type": "stream",
     "text": [
      "joueur gagne\n"
     ]
    }
   ],
   "source": [
    "\n",
    "from random import choice\n",
    "joueur = 'PFP'\n",
    "adversaire = 'FPP'\n",
    "\n",
    "# 3 derniers lancers\n",
    "lancers = choice(['P', 'F']) + choice(['P', 'F'])  # + le prochain\n",
    "\n",
    "jouer = True\n",
    "while jouer:\n",
    "    lancers = lancers[-2:] + choice(['P', 'F'])\n",
    "    if lancers == joueur:\n",
    "        print(\"joueur gagne\")\n",
    "        jouer = False\n",
    "    elif lancers == adversaire:\n",
    "        print(\"adversaire gagne\")\n",
    "        jouer = False"
   ]
  },
  {
   "cell_type": "code",
   "execution_count": 91,
   "metadata": {},
   "outputs": [
    {
     "name": "stdout",
     "output_type": "stream",
     "text": [
      "0\n"
     ]
    }
   ],
   "source": [
    "def une_partie(joueur, adversaire):\n",
    "    # Suppose que les propositions du joueur et de l'adversaire\n",
    "    # soient différentes\n",
    "\n",
    "    # 3 derniers lancers\n",
    "    lancers = choice(['P', 'F']) + choice(['P', 'F'])  # + le prochain\n",
    "\n",
    "    jouer = True\n",
    "    gagnant = None\n",
    "    while jouer:\n",
    "        lancers = lancers[-2:] + choice(['P', 'F'])\n",
    "        if lancers == joueur:\n",
    "            gagnant = 1\n",
    "            jouer = False\n",
    "        elif lancers == adversaire:\n",
    "            gagnant = 0\n",
    "            jouer = False\n",
    "    return gagnant\n",
    "\n",
    "\n",
    "print(une_partie('PFP', 'FPP'))"
   ]
  },
  {
   "cell_type": "markdown",
   "metadata": {},
   "source": [
    "Meilleure combinaison pour une combinaison de l'adversaire\n",
    "\n",
    "Meilleure combinaison dans tous les cas de figure"
   ]
  },
  {
   "cell_type": "code",
   "execution_count": 106,
   "metadata": {},
   "outputs": [
    {
     "data": {
      "text/plain": [
       "0.500487"
      ]
     },
     "execution_count": 106,
     "metadata": {},
     "output_type": "execute_result"
    }
   ],
   "source": [
    "def monteCarlo(joueur, adversaire, n=1000000):\n",
    "    gain = 0\n",
    "    for i in range(n):\n",
    "        gain += une_partie(joueur, adversaire)\n",
    "\n",
    "    return gain/n\n",
    "\n",
    "\n",
    "monteCarlo('PFP', 'FPP')"
   ]
  },
  {
   "cell_type": "code",
   "execution_count": 111,
   "metadata": {},
   "outputs": [
    {
     "name": "stdout",
     "output_type": "stream",
     "text": [
      "adversaire, joueur, meilleur_score\n",
      "[('PPP', 'FPP', 0.8717),\n",
      " ('PPF', 'FPP', 0.7497),\n",
      " ('PFP', 'PPF', 0.6715),\n",
      " ('PFF', 'PPF', 0.6771),\n",
      " ('FPP', 'PFF', 0.5065),\n",
      " ('FPF', 'PPF', 0.6259),\n",
      " ('FFF', 'PFF', 0.8724),\n",
      " ('FPP', 'FPF', 0.5066)]\n"
     ]
    }
   ],
   "source": [
    "from pprint import pprint\n",
    "combinaisons = ['PPP', 'PPF', 'PFP', 'PFF', 'FPP', 'FPF', 'FFF', 'FPP']\n",
    "meilleures_options = []\n",
    "# Simulations exhaustives\n",
    "for adversaire in combinaisons:\n",
    "    meilleur_score = 0\n",
    "    for joueur in combinaisons:\n",
    "        if joueur != adversaire:\n",
    "            score = monteCarlo(joueur, adversaire, 10000)\n",
    "            if score > meilleur_score:\n",
    "                meilleur_score = score\n",
    "                meilleure_option = adversaire, joueur, meilleur_score\n",
    "\n",
    "    meilleures_options.append(meilleure_option)\n",
    "print('adversaire, joueur, meilleur_score')\n",
    "pprint(meilleures_options)"
   ]
  },
  {
   "cell_type": "markdown",
   "metadata": {},
   "source": [
    "Stratégie gagnante si on ne connait pas le choix de l'adversaire semble être 'FPP'"
   ]
  },
  {
   "cell_type": "code",
   "execution_count": 112,
   "metadata": {},
   "outputs": [
    {
     "name": "stdout",
     "output_type": "stream",
     "text": [
      "Fréquence moyenne de gain: 0.55\n"
     ]
    }
   ],
   "source": [
    "from random import choice\n",
    "# moyenne des résultats\n",
    "joueur = 'PFF'\n",
    "n = 10000\n",
    "gain = 0\n",
    "égalité = 0\n",
    "\n",
    "for i in range(n):\n",
    "    adversaire = choice(combinaisons)\n",
    "    if joueur != adversaire:\n",
    "\n",
    "        gain += une_partie(joueur, adversaire)\n",
    "    else:\n",
    "        égalité += 1\n",
    "\n",
    "print('Fréquence moyenne de gain: {:.2f}'.format(gain/(n-égalité)))"
   ]
  },
  {
   "cell_type": "code",
   "execution_count": 117,
   "metadata": {},
   "outputs": [
    {
     "name": "stdout",
     "output_type": "stream",
     "text": [
      "meilleure stratégie :  PFF , score moyen :  0.5436485714285715\n"
     ]
    }
   ],
   "source": [
    "# Vérification de la meilleure stratégie si on ne connait pas celle de l'adversaire:\n",
    "\n",
    "combinaisons = ['PPP', 'PPF', 'PFP', 'PFF', 'FPP', 'FPF', 'FFF', 'FPP']\n",
    "meilleure_stratégie = ''\n",
    "meilleur_score = 0\n",
    "# Simulations exhaustives\n",
    "for joueur in combinaisons:\n",
    "    score = 0\n",
    "    for adversaire in combinaisons:\n",
    "        if joueur != adversaire:\n",
    "            # scores cumulés pour les 7 options\n",
    "            score += monteCarlo(joueur, adversaire, 100000)\n",
    "    score = score/7\n",
    "    if score > meilleur_score:\n",
    "        meilleur_score = score\n",
    "        meilleure_stratégie = joueur\n",
    "\n",
    "print('meilleure stratégie : ', meilleure_stratégie, ', score moyen : ', meilleur_score)"
   ]
  },
  {
   "cell_type": "code",
   "execution_count": null,
   "metadata": {},
   "outputs": [],
   "source": []
  }
 ],
 "metadata": {
  "kernelspec": {
   "display_name": "Python 3 (ipykernel)",
   "language": "python",
   "name": "python3"
  },
  "language_info": {
   "codemirror_mode": {
    "name": "ipython",
    "version": 3
   },
   "file_extension": ".py",
   "mimetype": "text/x-python",
   "name": "python",
   "nbconvert_exporter": "python",
   "pygments_lexer": "ipython3",
   "version": "3.9.7"
  }
 },
 "nbformat": 4,
 "nbformat_minor": 4
}
