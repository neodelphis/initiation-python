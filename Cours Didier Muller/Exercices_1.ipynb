{
 "cells": [
  {
   "cell_type": "markdown",
   "id": "eea33189-8c72-494e-964c-ae381febc022",
   "metadata": {},
   "source": [
    "# Exercices du Chapitre 1: Le hasard\n",
    "Cours de Didier Muller [Python 3 par les jeux](https://www.apprendre-en-ligne.net/pj/index.html)"
   ]
  },
  {
   "cell_type": "markdown",
   "id": "db8093dd-1d6c-49b6-9359-fa91087c5404",
   "metadata": {},
   "source": [
    "Documentation officielle du [module random](https://docs.python.org/3/library/random.html)"
   ]
  },
  {
   "cell_type": "code",
   "execution_count": 2,
   "id": "9c633bd5-c027-4a1e-b50b-35e8d6ff9b0b",
   "metadata": {},
   "outputs": [
    {
     "name": "stdout",
     "output_type": "stream",
     "text": [
      "0.6722928613420555\n"
     ]
    }
   ],
   "source": [
    "from random import random\n",
    "print(random())"
   ]
  },
  {
   "cell_type": "code",
   "execution_count": 6,
   "id": "0b1e0b3e-8b2a-45b7-adaf-db70c305a7f7",
   "metadata": {},
   "outputs": [
    {
     "name": "stdout",
     "output_type": "stream",
     "text": [
      "0.45611964897696833\n"
     ]
    }
   ],
   "source": [
    "from random import random, seed\n",
    "seed(666, 3)\n",
    "print(random())"
   ]
  },
  {
   "cell_type": "code",
   "execution_count": 7,
   "id": "baaa1a95-6863-459e-b32c-ea9f8eb331fd",
   "metadata": {},
   "outputs": [
    {
     "name": "stdout",
     "output_type": "stream",
     "text": [
      "4 4 3 5 1 5 5 6 3 1 1 2 4 6 4 5 2 1 1 3 1 3 6 2 2 3 6 5 5 4 3 6 3 5 1 3 2 5 1 2 6 1 5 1 1 6 1 2 1 3 2 3 4 4 2 4 1 4 4 3 5 3 4 1 6 4 5 3 4 4 2 1 4 6 6 5 2 4 4 4 4 3 5 4 4 6 4 3 2 3 2 5 3 1 5 6 2 5 5 3 "
     ]
    }
   ],
   "source": [
    "from random import randint\n",
    "for x in range(100):\n",
    "    print(randint(1,6), end=\" \")"
   ]
  },
  {
   "cell_type": "markdown",
   "id": "848a731b-b939-45d2-a0dd-6d58863dee84",
   "metadata": {},
   "source": [
    "## Exercice 1.1"
   ]
  },
  {
   "cell_type": "code",
   "execution_count": 13,
   "id": "09a3fd61-f199-44ea-a47a-ee3ade96df9d",
   "metadata": {},
   "outputs": [
    {
     "name": "stdout",
     "output_type": "stream",
     "text": [
      "15\n"
     ]
    }
   ],
   "source": [
    "# Écrivez un programme qui simule le jet de trois dés à six faces \n",
    "# (on additionne le résultat des trois dés)\n",
    "from random import randint\n",
    "print(randint(1,6) + randint(1,6) + randint(1,6))"
   ]
  },
  {
   "cell_type": "code",
   "execution_count": 14,
   "id": "06826eaf-dbda-483a-9389-ca2d2380de6a",
   "metadata": {},
   "outputs": [
    {
     "name": "stdout",
     "output_type": "stream",
     "text": [
      "11 7 8 11 7 8 9 12 13 10 11 5 11 15 15 15 14 8 11 5 9 8 12 9 13 14 11 5 11 9 6 9 14 5 7 6 10 12 9 14 11 10 12 9 10 8 13 10 9 7 "
     ]
    }
   ],
   "source": [
    "# Écrivez un programme qui simule 50 jets de trois dés à six faces.\n",
    "from random import randint\n",
    "for x in range(50):\n",
    "    print(randint(1,6) + randint(1,6) + randint(1,6), end=\" \")"
   ]
  },
  {
   "cell_type": "code",
   "execution_count": 15,
   "id": "3864404e-6cc9-4311-a100-4166774efad2",
   "metadata": {},
   "outputs": [
    {
     "name": "stdout",
     "output_type": "stream",
     "text": [
      "11 8 12 14 12 5 5 10 11 14 8 11 11 7 9 10 14 11 6 13 8 8 9 12 13 6 8 9 9 9 3 6 4 7 3 8 11 6 6 15 13 7 9 10 11 10 9 9 7 6 4 7 10 14 9 6 7 9 9 10 13 13 4 8 9 6 10 12 7 14 10 9 10 7 15 5 9 6 7 7 13 8 8 3 11 9 9 13 6 10 7 11 5 14 11 10 13 9 4 2 8 13 13 9 13 5 9 9 8 10 9 15 6 14 14 15 10 6 13 12 10 8 14 5 9 10 6 8 6 8 11 11 10 11 9 2 7 13 7 7 7 13 15 11 11 10 10 14 14 10 9 10 8 10 6 5 5 6 10 10 9 15 7 14 7 7 13 8 10 12 10 5 7 12 5 7 11 13 3 13 8 6 6 14 7 5 8 8 8 3 9 8 15 6 13 3 8 4 11 3 "
     ]
    }
   ],
   "source": [
    "# Écrivez un programme qui simule 200 jets de deux dés à huit faces.\n",
    "from random import randint\n",
    "for x in range(200):\n",
    "    print(randint(1,8) + randint(1,8), end=\" \")"
   ]
  },
  {
   "cell_type": "markdown",
   "id": "09e02331-55f5-4fa5-990c-be431e676a6d",
   "metadata": {},
   "source": [
    "## Exercice 1.2"
   ]
  },
  {
   "cell_type": "code",
   "execution_count": 45,
   "id": "4ecff369-ca66-4008-b229-f9c0c4f7d688",
   "metadata": {},
   "outputs": [
    {
     "name": "stdout",
     "output_type": "stream",
     "text": [
      "20\n",
      "0.1 0.15 0.3\n",
      "4\n"
     ]
    }
   ],
   "source": [
    "# Trouvez un moyen de simuler un dé pipé à six faces :\n",
    "# • 1 apparaît dans 10 % des cas,\n",
    "# • 2, 3, 4 et 5 dans 15 % des cas\n",
    "# • 6 dans 30 % des cas.\n",
    "\n",
    "from random import choice\n",
    "dé_pipé = [1, 1, 2, 2, 2, 3, 3, 3, 4, 4, 4, 5, 5, 5, 6, 6, 6, 6, 6, 6]\n",
    "print(len(dé_pipé))\n",
    "print(2/len(dé_pipé), 3/len(dé_pipé), 6/len(dé_pipé))\n",
    "print(choice(dé_pipé))"
   ]
  },
  {
   "cell_type": "code",
   "execution_count": 46,
   "id": "6138b5c5-1bad-485e-b885-769f0708e1ac",
   "metadata": {},
   "outputs": [
    {
     "name": "stdout",
     "output_type": "stream",
     "text": [
      "3 3 3 2 4 4 5 5 6 5 4 1 2 1 1 1 3 6 6 4 3 2 6 2 2 3 3 1 5 4 6 6 6 1 2 4 3 4 6 6 2 4 3 1 4 2 3 6 4 6 6 4 3 5 5 1 5 2 4 1 3 5 6 4 1 5 6 6 6 1 6 4 5 3 3 3 3 6 5 6 6 4 4 6 3 5 6 1 5 5 5 3 1 1 6 6 4 2 6 1 "
     ]
    }
   ],
   "source": [
    "# Écrivez un programme qui simule 100 jets de ce dé.\n",
    "for x in range(100):\n",
    "    print(choice(dé_pipé), end=\" \")"
   ]
  },
  {
   "cell_type": "code",
   "execution_count": 48,
   "id": "618babf9-712b-4d7a-aa19-af74df98c5fe",
   "metadata": {},
   "outputs": [
    {
     "data": {
      "text/plain": [
       "Counter({6: 311, 4: 155, 3: 143, 5: 151, 2: 146, 1: 94})"
      ]
     },
     "execution_count": 48,
     "metadata": {},
     "output_type": "execute_result"
    }
   ],
   "source": [
    "# Écrivez un programme qui simule 100 jets de ce dé.\n",
    "from collections import Counter\n",
    "test = []\n",
    "for x in range(1000):\n",
    "    test.append(choice(dé_pipé))\n",
    "Counter(test)"
   ]
  },
  {
   "cell_type": "markdown",
   "id": "50ead89b-10ea-4310-92f3-9f1b0ac2ff2a",
   "metadata": {},
   "source": [
    "## Exercice 1.3"
   ]
  },
  {
   "cell_type": "code",
   "execution_count": 50,
   "id": "4b0eef86-7050-4a6d-af01-a277217a584e",
   "metadata": {
    "collapsed": true,
    "jupyter": {
     "outputs_hidden": true
    },
    "tags": []
   },
   "outputs": [
    {
     "data": {
      "text/plain": [
       "['a',\n",
       " 'b',\n",
       " 'c',\n",
       " 'd',\n",
       " 'e',\n",
       " 'f',\n",
       " 'g',\n",
       " 'h',\n",
       " 'i',\n",
       " 'j',\n",
       " 'k',\n",
       " 'l',\n",
       " 'm',\n",
       " 'n',\n",
       " 'o',\n",
       " 'p',\n",
       " 'q',\n",
       " 'r',\n",
       " 's',\n",
       " 't',\n",
       " 'u',\n",
       " 'v',\n",
       " 'w',\n",
       " 'x',\n",
       " 'y',\n",
       " 'z']"
      ]
     },
     "execution_count": 50,
     "metadata": {},
     "output_type": "execute_result"
    }
   ],
   "source": [
    "# Écrivez un programme que génère un mot de passe de 8 caractères aléatoires\n",
    "# choisis parmi les 26 lettres minuscules et les 10 chiffres.\n",
    "import string\n",
    "#string.ascii_lowercase\n",
    "list(string.ascii_lowercase)"
   ]
  },
  {
   "cell_type": "code",
   "execution_count": 51,
   "id": "cfa59a22-1293-4960-8cda-e932abed15ea",
   "metadata": {},
   "outputs": [
    {
     "data": {
      "text/plain": [
       "36"
      ]
     },
     "execution_count": 51,
     "metadata": {},
     "output_type": "execute_result"
    }
   ],
   "source": [
    "from random import choices\n",
    "\n",
    "liste_caractères_autorisés = ['a', 'b', 'c', 'd', 'e', 'f', 'g', 'h', 'i', 'j', 'k', 'l', 'm',\\\n",
    "                              'n', 'o', 'p', 'q', 'r', 's', 't', 'u', 'v', 'w', 'x', 'y', 'z',\\\n",
    "                              '0', '1', '2', '3', '4', '5', '6', '7', '8', '9']\n",
    "len(liste_caractères_autorisés)"
   ]
  },
  {
   "cell_type": "code",
   "execution_count": 55,
   "id": "828e971a-44d4-41d2-9f2d-bbe04cbdeb60",
   "metadata": {},
   "outputs": [
    {
     "name": "stdout",
     "output_type": "stream",
     "text": [
      "d6bmcimn\n"
     ]
    }
   ],
   "source": [
    "mot_de_passe = ''\n",
    "for i in range(8):\n",
    "    mot_de_passe = mot_de_passe + choice(liste_caractères_autorisés)\n",
    "print(mot_de_passe)"
   ]
  },
  {
   "cell_type": "markdown",
   "id": "7a1a025d-acb6-4516-8cc9-6c32aeb093d3",
   "metadata": {},
   "source": [
    "https://docs.python.org/3/library/random.html\n",
    "\n",
    "`random.choices(population, weights=None, *, cum_weights=None, k=1)`\n",
    "\n",
    "    Return a k sized list of elements chosen from the population with replacement. If the population is empty, raises IndexError."
   ]
  },
  {
   "cell_type": "code",
   "execution_count": 59,
   "id": "f481c068-a3fa-4760-8523-9fbdd921ac8f",
   "metadata": {},
   "outputs": [
    {
     "data": {
      "text/plain": [
       "'p35kdh84'"
      ]
     },
     "execution_count": 59,
     "metadata": {},
     "output_type": "execute_result"
    }
   ],
   "source": [
    "from random import choices\n",
    "mot_de_passe = choices(liste_caractères_autorisés, k=8)\n",
    "''.join(mot_de_passe)"
   ]
  },
  {
   "cell_type": "markdown",
   "id": "15097005-3cdb-4b42-8a19-ab235311a417",
   "metadata": {},
   "source": [
    "## Exercice 1.4"
   ]
  },
  {
   "cell_type": "code",
   "execution_count": 64,
   "id": "85b7083c-a336-4522-bf3c-a354f69ea390",
   "metadata": {},
   "outputs": [
    {
     "name": "stdout",
     "output_type": "stream",
     "text": [
      "Kofi Kingston - Kane - Randy Orton - Dolph Ziggler - Ryback - Heath Slater - Titus O'Neil - Cody Rhodes - Drew McIntyre - Daniel Bryan - Tensai - Brodus Clay - Darren Young - John Cena - Bo Dallas - Sheamus - Wade Barrett - Santino Marella - Antonio Cesaro - The Miz - Goldust - Sin Cara - Damien Sandow - David Otunga - Zack Ryder - Rey Mysterio - The Great Khali - Chris Jericho - Jinder Mahal - The Godfather\n"
     ]
    }
   ],
   "source": [
    "from random import shuffle\n",
    "catcheurs = ['Wade Barrett', 'Daniel Bryan', 'Sin Cara', 'John Cena', 'Antonio Cesaro', 'Brodus Clay',\\\n",
    "             'Bo Dallas', 'The Godfather', 'Goldust', 'Kane', 'The Great Khali', 'Chris Jericho', 'Kofi Kingston',\\\n",
    "             'Jinder Mahal', 'Santino Marella', 'Drew McIntyre', 'The Miz', 'Rey Mysterio',\\\n",
    "             'Titus O\\'Neil', 'Randy Orton', 'David Otunga', 'Cody Rhodes', 'Ryback', 'Zack Ryder',\\\n",
    "             'Damien Sandow', 'Heath Slater', 'Sheamus', 'Tensai', 'Darren Young', 'Dolph Ziggler']\n",
    "shuffle(catcheurs)\n",
    "print(' - '.join(catcheurs))"
   ]
  },
  {
   "cell_type": "markdown",
   "id": "23668c85-dba3-4f78-a16d-d05afbc0efb5",
   "metadata": {},
   "source": [
    "## Exercice 1.5"
   ]
  },
  {
   "cell_type": "code",
   "execution_count": 115,
   "id": "7237dec8-1d18-44d7-978c-4528f0d9cb8b",
   "metadata": {},
   "outputs": [
    {
     "data": {
      "text/plain": [
       "[1, 2, 3, 4, 5, 6, 7, 8, 9, 10, 11, 12]"
      ]
     },
     "execution_count": 115,
     "metadata": {},
     "output_type": "execute_result"
    }
   ],
   "source": [
    "# Écrivez un programme qui simule un tirage Euro Millions :\n",
    "# cinq numéros tirés au sort entre 1 et 50, suivi de deux étoiles numérotées de 1 à 12.\n",
    "numéros = list(range(1, 51))\n",
    "étoiles = list(range(1, 13))\n",
    "étoiles"
   ]
  },
  {
   "cell_type": "code",
   "execution_count": 116,
   "id": "da10bd58-207b-4ef6-a1e3-c4bf9030d5b8",
   "metadata": {},
   "outputs": [
    {
     "name": "stdout",
     "output_type": "stream",
     "text": [
      "numéros :  [6, 36, 3, 33, 21]\n",
      "étoiles :  [8, 6]\n"
     ]
    }
   ],
   "source": [
    "from random import sample\n",
    "# La fonction sample(liste,k) tire au sort k éléments d'une liste.\n",
    "print('numéros : ', sample(numéros, 5))\n",
    "print('étoiles : ', sample(étoiles, 2))"
   ]
  },
  {
   "cell_type": "markdown",
   "id": "abf2c0b7-0ad1-4b09-9764-6bf0d7cd2c3b",
   "metadata": {},
   "source": [
    "## Exercice 1.6"
   ]
  },
  {
   "cell_type": "code",
   "execution_count": 81,
   "id": "0b09c1a3-0d14-40a7-90dc-efcdeb357f6e",
   "metadata": {},
   "outputs": [
    {
     "name": "stdout",
     "output_type": "stream",
     "text": [
      "[54, 22, 14, 24, 48, 43, 13, 46, 49, 88, 28, 10, 16, 90, 85, 58, 21, 87, 79, 72, 76, 17, 7, 19, 47, 86, 29, 1, 77, 64, 32, 73, 55, 44, 75, 30, 53, 18, 38, 23, 59, 89, 12, 27, 51, 39, 69, 15, 35, 3, 67, 82, 40, 42, 36, 50, 33, 5, 56, 6, 74, 61, 70, 26, 65, 4, 84, 78, 9, 68, 60, 11, 41, 45, 25, 81, 2, 57, 52, 66, 20, 34, 63, 37, 8, 83, 62, 71, 31, 80]\n"
     ]
    }
   ],
   "source": [
    "# Le bingo est un jeu de société où les nombres tirés au sort sont annoncés les uns \n",
    "# à la suite des autres, dans un ordre aléatoire.\n",
    "# Supposons que les boules soient numérotées de 1 à 90.\n",
    "# Simulez une partie de bingo. Autrement dit, il faut mélanger les boules.\n",
    "from random import shuffle\n",
    "\n",
    "bingo = list(range(1,91))\n",
    "shuffle(bingo)\n",
    "print(bingo)"
   ]
  },
  {
   "cell_type": "markdown",
   "id": "3836b152-2737-46b4-be79-75509dc42ebb",
   "metadata": {},
   "source": [
    "## Exercice 1.7"
   ]
  },
  {
   "cell_type": "code",
   "execution_count": 87,
   "id": "e6afc3b4-2400-4131-8e10-740d5eab4993",
   "metadata": {},
   "outputs": [
    {
     "name": "stdout",
     "output_type": "stream",
     "text": [
      "F F F F F F F F F F F F F P F F F F F F P F F F F F F F F P P P P P F P F F F F F F P F F F F F F F F F F F F F P F P F F F P F F F F F F P F P F F F F F F P F F F F P F F F F F F F F F F F F F F F F "
     ]
    }
   ],
   "source": [
    "# Simulez 100 jets d'une pièce truquée qui, en moyenne, montre face dans 83.57 % des cas.\n",
    "from random import random\n",
    "\n",
    "for i in range(100):\n",
    "    jet = random()\n",
    "    if jet < 0.8357:\n",
    "        print('F', end=\" \")\n",
    "    else:\n",
    "        print('P', end=\" \")"
   ]
  },
  {
   "cell_type": "markdown",
   "id": "609ec500-a13a-4fe4-b881-dfd2742211e3",
   "metadata": {},
   "source": [
    "## Exercice 1.8"
   ]
  },
  {
   "cell_type": "code",
   "execution_count": 120,
   "id": "c7ddb7a3-eea2-4aa1-9fe5-913fc187ea41",
   "metadata": {},
   "outputs": [
    {
     "name": "stdout",
     "output_type": "stream",
     "text": [
      "CCRCCC\n"
     ]
    }
   ],
   "source": [
    "# Dans le jeu de cartes Hearthstone, il y a quatre types de rareté des cartes :\n",
    "# il y a environ 1 % de cartes légendaires, 4 % d'épiques, 23 % de rares et 72 % de communes.\n",
    "# Sachant que chaque paquet doit contenir au moins une carte rare ou supérieure,\n",
    "# générez un paquet de 5 cartes tirées au sort en respectant ces proportions.\n",
    "# Un paquet sera simplement écrit sous la forme : L C R E C\n",
    "# Si un paquet ne contient que des communes, on indiquera que ce paquet n'est pas valide.\n",
    "\n",
    "# Tirage carte\n",
    "from random import random\n",
    "\n",
    "paquet = ''\n",
    "\n",
    "for i in range(6):\n",
    "    carte = random()\n",
    "    if carte < 0.01:\n",
    "        paquet = paquet + 'L'\n",
    "    elif carte < 0.05:\n",
    "        paquet = paquet + 'E'\n",
    "    elif carte < 0.28:\n",
    "        paquet = paquet + 'R'\n",
    "    else:\n",
    "        paquet = paquet + 'C'\n",
    "\n",
    "if paquet == 'CCCCCC':\n",
    "    print(\"Le paquet n'est pas valide.\")\n",
    "else:\n",
    "    print(paquet)"
   ]
  },
  {
   "cell_type": "markdown",
   "id": "9a727224-7ad4-4acc-9b02-0c6a4f21c07a",
   "metadata": {},
   "source": [
    "## Exercice 1.9"
   ]
  },
  {
   "cell_type": "code",
   "execution_count": 122,
   "id": "6208365f-5be9-4869-ac7e-376c47d760a0",
   "metadata": {},
   "outputs": [
    {
     "name": "stdout",
     "output_type": "stream",
     "text": [
      "10 5 2 12 3 7 3 14 15 5 17 16 12 3 8 7 11 6 3 6 8 1 7 17 3 4 3 14 13 8 1 2 17 1 5 5 11 5 4 5 1 5 3 2 15 5 6 10 6 2 11 3 4 16 1 1 11 6 8 10 10 3 9 2 1 5 12 4 3 2 1 2 12 3 9 12 2 9 8 4 6 5 4 6 7 18 5 15 16 3 1 5 1 1 5 2 5 1 6 6 "
     ]
    }
   ],
   "source": [
    "# Les cinq solides platoniciens peuvent être utilisés comme dés réguliers,\n",
    "# car toutes leurs faces sont identiques.\n",
    "# On veut générer un nombre aléatoire de la manière suivante :\n",
    "# 1. on lance le tétraèdre pour choisir lequel des quatre autres dés on va utiliser ;\n",
    "# 2. on lance ce dé et on écrit le résultat.\n",
    "# Générez 100 nombres aléatoires en suivant ce protocole.\n",
    "\n",
    "from random import choice\n",
    "solides_platoniciens = [6, 8, 12, 20]\n",
    "for _ in range(100):\n",
    "    lancer_tétraèdre = choice(solides_platoniciens)\n",
    "    print(randint(1, lancer_tétraèdre), end=' ')"
   ]
  },
  {
   "cell_type": "code",
   "execution_count": 126,
   "id": "367fc6af-d6ac-46d0-adac-935045b3a38c",
   "metadata": {},
   "outputs": [
    {
     "name": "stdout",
     "output_type": "stream",
     "text": [
      "Lancer du dé à 20 faces :  4\n",
      "Lancer du dé à  8 faces :  5\n",
      "Lancer du dé à 20 faces :  11\n",
      "Lancer du dé à 12 faces :  2\n",
      "Lancer du dé à 12 faces :  12\n"
     ]
    }
   ],
   "source": [
    "from random import choice\n",
    "solides_platoniciens = [6, 8, 12, 20]\n",
    "for _ in range(5):\n",
    "    lancer_tétraèdre = choice(solides_platoniciens)\n",
    "    print(\"Lancer du dé à {:2d} faces : \".format(lancer_tétraèdre), end=' ')\n",
    "    print(randint(1, lancer_tétraèdre))"
   ]
  },
  {
   "cell_type": "code",
   "execution_count": null,
   "id": "ce454fa4-5596-4794-9707-74b02a65ab33",
   "metadata": {},
   "outputs": [],
   "source": []
  }
 ],
 "metadata": {
  "kernelspec": {
   "display_name": "Python 3 (ipykernel)",
   "language": "python",
   "name": "python3"
  },
  "language_info": {
   "codemirror_mode": {
    "name": "ipython",
    "version": 3
   },
   "file_extension": ".py",
   "mimetype": "text/x-python",
   "name": "python",
   "nbconvert_exporter": "python",
   "pygments_lexer": "ipython3",
   "version": "3.9.7"
  }
 },
 "nbformat": 4,
 "nbformat_minor": 5
}
