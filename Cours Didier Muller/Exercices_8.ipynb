{
 "cells": [
  {
   "cell_type": "markdown",
   "id": "00031bf4",
   "metadata": {},
   "source": [
    "# Exercices du Chapitre 8\n",
    "\n",
    "> Sans la partie graphique\n",
    "\n",
    "Cours de Didier Muller [Python 3 par les jeux](https://www.apprendre-en-ligne.net/pj/index.html)\n",
    "\n"
   ]
  },
  {
   "cell_type": "markdown",
   "id": "e8ab1c5d",
   "metadata": {},
   "source": [
    "## Exercice 8.1\n",
    "Écrivez une fonction qui construit un dictionnaire ayant comme clé un symbole (lettre, chiffres,\n",
    "etc.) et comme valeur son code ASCII."
   ]
  },
  {
   "cell_type": "code",
   "execution_count": 2,
   "id": "356c0dae",
   "metadata": {},
   "outputs": [
    {
     "data": {
      "text/plain": [
       "{'\\x00': 0,\n",
       " '\\x01': 1,\n",
       " '\\x02': 2,\n",
       " '\\x03': 3,\n",
       " '\\x04': 4,\n",
       " '\\x05': 5,\n",
       " '\\x06': 6,\n",
       " '\\x07': 7,\n",
       " '\\x08': 8,\n",
       " '\\t': 9,\n",
       " '\\n': 10,\n",
       " '\\x0b': 11,\n",
       " '\\x0c': 12,\n",
       " '\\r': 13,\n",
       " '\\x0e': 14,\n",
       " '\\x0f': 15,\n",
       " '\\x10': 16,\n",
       " '\\x11': 17,\n",
       " '\\x12': 18,\n",
       " '\\x13': 19,\n",
       " '\\x14': 20,\n",
       " '\\x15': 21,\n",
       " '\\x16': 22,\n",
       " '\\x17': 23,\n",
       " '\\x18': 24,\n",
       " '\\x19': 25,\n",
       " '\\x1a': 26,\n",
       " '\\x1b': 27,\n",
       " '\\x1c': 28,\n",
       " '\\x1d': 29,\n",
       " '\\x1e': 30,\n",
       " '\\x1f': 31,\n",
       " ' ': 32,\n",
       " '!': 33,\n",
       " '\"': 34,\n",
       " '#': 35,\n",
       " '$': 36,\n",
       " '%': 37,\n",
       " '&': 38,\n",
       " \"'\": 39,\n",
       " '(': 40,\n",
       " ')': 41,\n",
       " '*': 42,\n",
       " '+': 43,\n",
       " ',': 44,\n",
       " '-': 45,\n",
       " '.': 46,\n",
       " '/': 47,\n",
       " '0': 48,\n",
       " '1': 49,\n",
       " '2': 50,\n",
       " '3': 51,\n",
       " '4': 52,\n",
       " '5': 53,\n",
       " '6': 54,\n",
       " '7': 55,\n",
       " '8': 56,\n",
       " '9': 57,\n",
       " ':': 58,\n",
       " ';': 59,\n",
       " '<': 60,\n",
       " '=': 61,\n",
       " '>': 62,\n",
       " '?': 63,\n",
       " '@': 64,\n",
       " 'A': 65,\n",
       " 'B': 66,\n",
       " 'C': 67,\n",
       " 'D': 68,\n",
       " 'E': 69,\n",
       " 'F': 70,\n",
       " 'G': 71,\n",
       " 'H': 72,\n",
       " 'I': 73,\n",
       " 'J': 74,\n",
       " 'K': 75,\n",
       " 'L': 76,\n",
       " 'M': 77,\n",
       " 'N': 78,\n",
       " 'O': 79,\n",
       " 'P': 80,\n",
       " 'Q': 81,\n",
       " 'R': 82,\n",
       " 'S': 83,\n",
       " 'T': 84,\n",
       " 'U': 85,\n",
       " 'V': 86,\n",
       " 'W': 87,\n",
       " 'X': 88,\n",
       " 'Y': 89,\n",
       " 'Z': 90,\n",
       " '[': 91,\n",
       " '\\\\': 92,\n",
       " ']': 93,\n",
       " '^': 94,\n",
       " '_': 95,\n",
       " '`': 96,\n",
       " 'a': 97,\n",
       " 'b': 98,\n",
       " 'c': 99,\n",
       " 'd': 100,\n",
       " 'e': 101,\n",
       " 'f': 102,\n",
       " 'g': 103,\n",
       " 'h': 104,\n",
       " 'i': 105,\n",
       " 'j': 106,\n",
       " 'k': 107,\n",
       " 'l': 108,\n",
       " 'm': 109,\n",
       " 'n': 110,\n",
       " 'o': 111,\n",
       " 'p': 112,\n",
       " 'q': 113,\n",
       " 'r': 114,\n",
       " 's': 115,\n",
       " 't': 116,\n",
       " 'u': 117,\n",
       " 'v': 118,\n",
       " 'w': 119,\n",
       " 'x': 120,\n",
       " 'y': 121,\n",
       " 'z': 122,\n",
       " '{': 123,\n",
       " '|': 124,\n",
       " '}': 125,\n",
       " '~': 126,\n",
       " '\\x7f': 127}"
      ]
     },
     "execution_count": 2,
     "metadata": {},
     "output_type": "execute_result"
    }
   ],
   "source": [
    "dico = {chr(i): i for i in range(128)}\n",
    "dico"
   ]
  },
  {
   "cell_type": "markdown",
   "id": "50f57309",
   "metadata": {},
   "source": [
    "## Exercice 8.2\n",
    "La fonction upper() permet d'écrire une phrase avec uniquement des majuscules. Programmez cette fonction, que vous nommerez majuscules(texte), après avoir remarqué que chaque lettre majuscule est éloignée de 32 rangs de sa correspondante minuscule. Les autres caractères (espace, caractères de ponctuation, ...) resteront inchangés. On supposera que le texte est en anglais, et donc non accentué."
   ]
  },
  {
   "cell_type": "code",
   "execution_count": 34,
   "id": "f0c34d30",
   "metadata": {},
   "outputs": [
    {
     "data": {
      "text/plain": [
       "'AZ = AZ ?'"
      ]
     },
     "execution_count": 34,
     "metadata": {},
     "output_type": "execute_result"
    }
   ],
   "source": [
    "def majuscules(texte):\n",
    "    maj = ''\n",
    "    for c in texte:  # On parcourt l'ensemble des caractères\n",
    "        if 97 <= ord(c) <= 122:\n",
    "            c = chr(ord(c)-32)\n",
    "        maj += c\n",
    "    return maj\n",
    "\n",
    "majuscules('az = AZ ?')"
   ]
  },
  {
   "cell_type": "markdown",
   "id": "918d2406",
   "metadata": {},
   "source": [
    "## Exercice 8.3 : le chiffre de César\n",
    "\n",
    "Le chiffre de César est une méthode de chiffrement consistant à décaler les lettres de l'alphabet de quelques crans vers la gauche. Par exemple, si on décale les lettres de 3 rangs (comme le faisait Jules César), on obtient la table de chiffrement suivante :\n",
    "- A => D\n",
    "- B => E\n",
    "- C => F\n",
    "- ...\n",
    "\n",
    "En utilisant cette table, le message Ave Caesar morituri te salutant devient DYH FDHVDU PRULWXUL WH VDOXWDQW.\n",
    "Écrivez un programme Python qui implémente le chiffre de César. Utilisez pour cela les fonctions ord() et chr(). On doit pouvoir choisir le décalage des lettres entre 1 et 25. L'entrée sera un stexte quelconque sans accents et sans ponctuation ; par contre, le texte d'entrée sera composé de majuscules et de minuscules. Le texte de sortie sera écrit tout en majuscules. Les espaces du texte d'entrée se retrouveront aux mêmes endroits dans le texte chiffré.\n",
    "Faites en sorte que l'on puisse crypter, mais aussi décrypter un message."
   ]
  },
  {
   "cell_type": "code",
   "execution_count": 35,
   "id": "e7c5df01",
   "metadata": {},
   "outputs": [
    {
     "data": {
      "text/plain": [
       "'BWF DBFTBS NPSJUVSJ UF TBMVUBOU'"
      ]
     },
     "execution_count": 35,
     "metadata": {},
     "output_type": "execute_result"
    }
   ],
   "source": [
    "# Version sans modulo\n",
    "décalage = 1\n",
    "\n",
    "\n",
    "def crypter(message, décalage):\n",
    "    chiffré = ''\n",
    "    for c in message.upper():\n",
    "        if 65 <= ord(c) <= 90:\n",
    "            position = ord(c) - 65  # appartient à [0, 25]\n",
    "            \n",
    "            if (position + décalage) < 26:\n",
    "                nouvelle_position = position + décalage\n",
    "            else:\n",
    "                nouvelle_position = position - 26 + décalage\n",
    "            c = chr(65 + nouvelle_position)\n",
    "        chiffré += c\n",
    "    return chiffré\n",
    "\n",
    "def décrypter(chiffré, décalage):\n",
    "    message = ''\n",
    "    for c in chiffré:\n",
    "        if 65 <= ord(c) <= 90:\n",
    "            position = ord(c) - 65\n",
    "            \n",
    "            if (position - décalage) >= 0:\n",
    "                nouvelle_position = position - décalage\n",
    "            else:\n",
    "                nouvelle_position = 26 + position - décalage            \n",
    "            \n",
    "            c = chr(65 + nouvelle_position)\n",
    "        message += c\n",
    "    return message\n",
    "\n",
    "message = 'Ave Caesar morituri te salutant'\n",
    "crypter(message, décalage)"
   ]
  },
  {
   "cell_type": "code",
   "execution_count": 36,
   "id": "c4c40d7a",
   "metadata": {},
   "outputs": [
    {
     "data": {
      "text/plain": [
       "'AVE CAESAR MORITURI TE SALUTANT'"
      ]
     },
     "execution_count": 36,
     "metadata": {},
     "output_type": "execute_result"
    }
   ],
   "source": [
    "décrypter('BWF DBFTBS NPSJUVSJ UF TBMVUBOU', décalage)"
   ]
  },
  {
   "cell_type": "code",
   "execution_count": 39,
   "id": "e5954ef3",
   "metadata": {},
   "outputs": [
    {
     "data": {
      "text/plain": [
       "'CD AB'"
      ]
     },
     "execution_count": 39,
     "metadata": {},
     "output_type": "execute_result"
    }
   ],
   "source": [
    "crypter('AB YZ', 2)"
   ]
  },
  {
   "cell_type": "code",
   "execution_count": 40,
   "id": "8242ba8d",
   "metadata": {},
   "outputs": [
    {
     "data": {
      "text/plain": [
       "'AB YZ'"
      ]
     },
     "execution_count": 40,
     "metadata": {},
     "output_type": "execute_result"
    }
   ],
   "source": [
    "décrypter(crypter('AB YZ', 2), 2)"
   ]
  },
  {
   "cell_type": "code",
   "execution_count": 41,
   "id": "8a56a9fb",
   "metadata": {},
   "outputs": [
    {
     "data": {
      "text/plain": [
       "'BWF DBFTBS NPSJUVSJ UF TBMVUBOU'"
      ]
     },
     "execution_count": 41,
     "metadata": {},
     "output_type": "execute_result"
    }
   ],
   "source": [
    "décalage = 1\n",
    "\n",
    "\n",
    "def crypter(message, décalage):\n",
    "    chiffré = ''\n",
    "    for c in message.upper():\n",
    "        if 65 <= ord(c) <= 90:\n",
    "            position = ord(c) - 65  # appartient à [0, 25]\n",
    "            nouvelle_position = (position + décalage) % 26\n",
    "            c = chr(65 + nouvelle_position)\n",
    "        chiffré += c\n",
    "    return chiffré\n",
    "\n",
    "def décrypter(chiffré, décalage):\n",
    "    message = ''\n",
    "    for c in chiffré:\n",
    "        if 65 <= ord(c) <= 90:\n",
    "            position = ord(c) - 65\n",
    "            nouvelle_position =  (26 + position - décalage)%26\n",
    "            c = chr(65 + nouvelle_position)\n",
    "        message += c\n",
    "    return message\n",
    "\n",
    "message = 'Ave Caesar morituri te salutant'\n",
    "crypter(message, décalage)"
   ]
  },
  {
   "cell_type": "code",
   "execution_count": 42,
   "id": "e88cde4e",
   "metadata": {},
   "outputs": [
    {
     "data": {
      "text/plain": [
       "'AVE CAESAR MORITURI TE SALUTANTZ'"
      ]
     },
     "execution_count": 42,
     "metadata": {},
     "output_type": "execute_result"
    }
   ],
   "source": [
    "décrypter('BWF DBFTBS NPSJUVSJ UF TBMVUBOUA', décalage)"
   ]
  },
  {
   "cell_type": "code",
   "execution_count": 43,
   "id": "1aab7f2e",
   "metadata": {},
   "outputs": [
    {
     "data": {
      "text/plain": [
       "'CD AB'"
      ]
     },
     "execution_count": 43,
     "metadata": {},
     "output_type": "execute_result"
    }
   ],
   "source": [
    "crypter('AB YZ', 2)\n"
   ]
  },
  {
   "cell_type": "code",
   "execution_count": 45,
   "id": "af802596",
   "metadata": {},
   "outputs": [
    {
     "data": {
      "text/plain": [
       "'AB YZ'"
      ]
     },
     "execution_count": 45,
     "metadata": {},
     "output_type": "execute_result"
    }
   ],
   "source": [
    "décrypter(crypter('AB YZ', 2), 2)"
   ]
  },
  {
   "cell_type": "markdown",
   "id": "3eb5af06",
   "metadata": {},
   "source": [
    "## Exercice 8.4 : chiffre de Vigenère"
   ]
  },
  {
   "cell_type": "markdown",
   "id": "4aacf540",
   "metadata": {},
   "source": [
    "Le chiffre de Vigenère est une amélioration décisive du chiffre de César. Sa force réside dans l'utilisation non pas d'un, mais de 26 alphabets décalés pour chiffrer un message. Ce chiffre utilise une clé qui définit le décalage pour chaque lettre du message (A : décalage de 0 cran, B : 1 cran, C : 2 crans, ..., Z : 25 crans).\n",
    "\n",
    "\n",
    "Le [code de César](http://fr.wikipedia.org/wiki/Chiffrement_par_d%C3%A9calage) est une permutation de lettre ou un décalage. Toutes les lettres du message sont décalées d'un nombre fixe :\n",
    "\n",
    "- ``JENESUISPASCODE``\n",
    "- ``MHQHVXLVSDVFRGH``\n",
    "\n",
    "Le [code de Vigenère](http://fr.wikipedia.org/wiki/Chiffre_de_Vigen%C3%A8re) introduit un décalage qui dépend de la position de la lettre dans le message à coder. On choisit d'abord un mot qui servira de code (par exemple ``DOP``) puis on le traduit en décalages : ``[3, 14, 15]`` en servant de la position des lettres dans l'alphabet. \n",
    "\n",
    "Pour coder, on décale la première lettre de 3, la seconde de 14, la troisième 15, la quatrième de 3 à nouveau... L'objectif de cette partie est d'écrire une fonction qui crypte le message précédent et une autre qui décrypte."
   ]
  },
  {
   "cell_type": "code",
   "execution_count": 5,
   "id": "d6016641",
   "metadata": {},
   "outputs": [
    {
     "name": "stdout",
     "output_type": "stream",
     "text": [
      "message :  abc z\n",
      "clé  :  ab\n",
      "message codé :  ['a', 'c', 'c', ' ', 'a']\n",
      "message initial  :  abc z\n"
     ]
    }
   ],
   "source": [
    "def code_vigenere(message, cle) :\n",
    "    # on va définir le code pour l'encodage\n",
    "    décalages = []\n",
    "    alphabet = 'abcdefghijklmnopqrstuvwxyz'\n",
    "    for lettre in cle:\n",
    "        décalages.append(alphabet.find(lettre))\n",
    "    \n",
    "    # cryptage\n",
    "    i = 0\n",
    "    message_code = []\n",
    "    for caractère in message:\n",
    "        if caractère in alphabet:\n",
    "            décalage = décalages[i]\n",
    "            position = alphabet.find(caractère)  # position de la lettre dans l'alphabet\n",
    "            # utilisation du modulo pour boucler quand on est à la fin de l'alphabet\n",
    "            caractère = alphabet[(position + décalage)%26]\n",
    "\n",
    "            # On prend le décalage suivant\n",
    "            # utilisation du modulo pour boucler quand on est à la fin du code\n",
    "            i = (i+1) % len(décalages)\n",
    "        message_code += caractère\n",
    "\n",
    "    \n",
    "    return message_code\n",
    "    \n",
    "def decode_vigenere(message_code, cle) :\n",
    "    # on va définir le code pour le décodage\n",
    "    décalages = []\n",
    "    alphabet = 'abcdefghijklmnopqrstuvwxyz'\n",
    "    # return message_code\n",
    "    for lettre in cle:\n",
    "        décalages.append(alphabet.find(lettre))\n",
    "    \n",
    "    # décryptage\n",
    "    i = 0\n",
    "    message = ''\n",
    "    for caractère in message_code:\n",
    "        if caractère in alphabet:\n",
    "            décalage = décalages[i]\n",
    "            position = alphabet.find(caractère)  # position de la lettre dans l'alphabet\n",
    "            # utilisation du modulo pour boucler quand on est à la fin de l'alphabet\n",
    "            caractère = alphabet[(position + 26 - décalage)%26]\n",
    "            # On prend le décalage suivant\n",
    "            # utilisation du modulo pour boucler quand on est à la fin du code\n",
    "            i = (i+1) % len(décalages)\n",
    "        message += caractère\n",
    "    return message\n",
    "\n",
    "message = 'abc z'\n",
    "cle = 'ab'\n",
    "\n",
    "print ('message : ', message)\n",
    "print('clé  : ', cle)\n",
    "\n",
    "message_code = code_vigenere(message, cle)\n",
    "message_initial = decode_vigenere(message_code, cle)\n",
    "\n",
    "print ('message codé : ', message_code)\n",
    "print('message initial  : ', message_initial)\n"
   ]
  },
  {
   "cell_type": "code",
   "execution_count": 7,
   "id": "106193f5",
   "metadata": {},
   "outputs": [
    {
     "name": "stdout",
     "output_type": "stream",
     "text": [
      "message :  def z\n",
      "clé  :  ab\n",
      "message codé :  dff a\n",
      "message initial  :  def z\n"
     ]
    }
   ],
   "source": [
    "# Code détaillé avec ord et chr\n",
    "def code_vigenere(message, cle) :\n",
    "    # on va définir la liste des décalages pour l'encodage\n",
    "    # par exemple cle = DOP donne décalages = [3, 14, 15]\n",
    "    # ord('a') = 97\n",
    "    décalages = [ord(lettre)-97 for lettre in cle]\n",
    "    \n",
    "    # cryptage\n",
    "    i = 0  # Indice qui va parcourir la liste des décalages\n",
    "    message_code = ''\n",
    "    for c in message:\n",
    "        if 97 <= ord(c) <= 122:  # lettre minuscule\n",
    "            # décalage de la lettre considérée\n",
    "            décalage = décalages[i]\n",
    "            # On crypte le caractère\n",
    "            # utilisation du modulo pour boucler quand on est à la fin de l'alphabet\n",
    "            # On veut des chiffres de 0 à 25 pour que le modulo soit efficace\n",
    "            c = chr(97 + (ord(c) - 97  + décalage) % 26)\n",
    "\n",
    "            # On prend le décalage suivant\n",
    "            # utilisation du modulo pour boucler quand on est à la fin la liste des décalages\n",
    "            i = (i+1) % len(décalages)\n",
    "        # On ajoute le caractère dans tous les cas\n",
    "        message_code += c\n",
    "    \n",
    "    return message_code\n",
    "    \n",
    "def decode_vigenere(message_code, cle) :\n",
    "    # on va définir la liste des décalages pour le décodage\n",
    "    décalages = [ord(lettre)-97 for lettre in cle]\n",
    "    \n",
    "    # décryptage\n",
    "    i = 0\n",
    "    message = ''\n",
    "    for c in message_code:\n",
    "        if 97 <= ord(c) <= 122:  # lettre minuscule\n",
    "            # décalage de la lettre considérée\n",
    "            décalage = décalages[i]\n",
    "            # On décrypte le caractère\n",
    "            c = chr(97 + (ord(c) - 97  + 26 - décalage)%26)\n",
    "            \n",
    "            # On prend le décalage suivant\n",
    "            i = (i+1) % len(décalages)\n",
    "\n",
    "        # On ajoute le caractère dans tous les cas\n",
    "        message += c\n",
    "    \n",
    "    return message\n",
    "\n",
    "message = 'def z'\n",
    "cle = 'ab'\n",
    "# message = 'bravo, bien joue, expert en cryptographie niveau un'\n",
    "# cle = 'simplon'\n",
    "\n",
    "print ('message : ', message)\n",
    "print('clé  : ', cle)\n",
    "\n",
    "message_code = code_vigenere(message, cle)\n",
    "message_initial = decode_vigenere(message_code, cle)\n",
    "\n",
    "print ('message codé : ', message_code)\n",
    "print('message initial  : ', message_initial)"
   ]
  },
  {
   "cell_type": "code",
   "execution_count": 10,
   "id": "e559ea32-95af-4635-bed3-8c70ca33061b",
   "metadata": {},
   "outputs": [
    {
     "name": "stdout",
     "output_type": "stream",
     "text": [
      "message :  def z\n",
      "clé  :  ab\n",
      "message codé :  dff a\n",
      "message initial  :  def z\n"
     ]
    }
   ],
   "source": [
    "# Code détaillé avec ord et chr et une seule fonction\n",
    "def tranforme(message, cle, chiffre=True):\n",
    "    # on va définir la liste des décalages pour l'encodage\n",
    "    # par exemple cle = DOP donne décalages = [3, 14, 15]\n",
    "    # ord('a') = 97\n",
    "    décalages = [ord(lettre)-97 for lettre in cle]\n",
    "            \n",
    "    i = 0  # Indice qui va parcourir la liste des décalages\n",
    "    message_cible = ''\n",
    "    for c in message:\n",
    "        if 97 <= ord(c) <= 122:  # lettre minuscule\n",
    "            # décalage de la lettre considérée\n",
    "            if chiffre :  # chiffre le message\n",
    "                décalage = décalages[i]\n",
    "            else:  # déchiffre le message\n",
    "                décalage = 26 - décalages[i]\n",
    "\n",
    "            # On crypte le caractère\n",
    "            # utilisation du modulo pour boucler quand on est à la fin de l'alphabet\n",
    "            # On veut des chiffres de 0 à 25 pour que le modulo soit efficace\n",
    "            c = chr(97 + (ord(c) - 97  + décalage) % 26)\n",
    "\n",
    "            # On prend le décalage suivant\n",
    "            # utilisation du modulo pour boucler quand on est à la fin la liste des décalages\n",
    "            i = (i+1) % len(décalages)\n",
    "        # On ajoute le caractère dans tous les cas\n",
    "        message_cible += c\n",
    "    \n",
    "    return message_cible\n",
    "\n",
    "\n",
    "def code_vigenere(message, cle) :\n",
    "    return tranforme(message, cle, chiffre=True)\n",
    "    \n",
    "def decode_vigenere(message_code, cle) :\n",
    "    return tranforme(message_code, cle, chiffre=False)\n",
    "\n",
    "\n",
    "message = 'def z'\n",
    "cle = 'ab'\n",
    "# message = 'bravo, bien joue, expert en cryptographie niveau un'\n",
    "# cle = 'simplon'\n",
    "\n",
    "print ('message : ', message)\n",
    "print('clé  : ', cle)\n",
    "\n",
    "message_code = code_vigenere(message, cle)\n",
    "message_initial = decode_vigenere(message_code, cle)\n",
    "\n",
    "print ('message codé : ', message_code)\n",
    "print('message initial  : ', message_initial)"
   ]
  },
  {
   "cell_type": "code",
   "execution_count": null,
   "id": "024bedc3",
   "metadata": {},
   "outputs": [],
   "source": []
  }
 ],
 "metadata": {
  "kernelspec": {
   "display_name": "Python 3 (ipykernel)",
   "language": "python",
   "name": "python3"
  },
  "language_info": {
   "codemirror_mode": {
    "name": "ipython",
    "version": 3
   },
   "file_extension": ".py",
   "mimetype": "text/x-python",
   "name": "python",
   "nbconvert_exporter": "python",
   "pygments_lexer": "ipython3",
   "version": "3.9.7"
  }
 },
 "nbformat": 4,
 "nbformat_minor": 5
}
