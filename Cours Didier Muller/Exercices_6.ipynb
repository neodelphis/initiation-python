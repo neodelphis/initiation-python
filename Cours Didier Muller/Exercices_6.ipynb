{
 "cells": [
  {
   "cell_type": "markdown",
   "metadata": {},
   "source": [
    "# Exercices du Chapitre 6: Le dilemme du prisonnier\n",
    "Dictionnaires et fonction lambda\n",
    "\n",
    "Cours de Didier Muller [Python 3 par les jeux](https://www.apprendre-en-ligne.net/pj/index.html)"
   ]
  },
  {
   "cell_type": "markdown",
   "metadata": {},
   "source": [
    "## Exercice 6.1\n",
    "\n",
    "Construisez puis affichez le dictionnaire des douze mois de l'année avec comme valeurs le nombre de jours respectif.\n"
   ]
  },
  {
   "cell_type": "code",
   "execution_count": 2,
   "metadata": {},
   "outputs": [
    {
     "data": {
      "text/plain": [
       "{'janvier': 31,\n",
       " 'février': 28,\n",
       " 'mars': 31,\n",
       " 'avril': 30,\n",
       " 'mai': 31,\n",
       " 'juin': 30,\n",
       " 'juillet': 31,\n",
       " 'aout': 31,\n",
       " 'septembre': 30,\n",
       " 'octobre': 31,\n",
       " 'novembre': 30,\n",
       " 'décembre': 31}"
      ]
     },
     "execution_count": 2,
     "metadata": {},
     "output_type": "execute_result"
    }
   ],
   "source": [
    "# Exercice 6.1\n",
    "annee = {'janvier': 31, 'février': 28, 'mars': 31, 'avril': 30, 'mai': 31, 'juin': 30, 'juillet': 31, 'aout': 31, 'septembre': 30, 'octobre': 31, 'novembre': 30, 'décembre': 31}\n",
    "annee"
   ]
  },
  {
   "cell_type": "code",
   "execution_count": 5,
   "metadata": {},
   "outputs": [
    {
     "name": "stdout",
     "output_type": "stream",
     "text": [
      "janvier\n",
      "février\n",
      "mars\n",
      "avril\n",
      "mai\n",
      "juin\n",
      "juillet\n",
      "aout\n",
      "septembre\n",
      "octobre\n",
      "novembre\n",
      "décembre\n"
     ]
    }
   ],
   "source": [
    "for key in annee:\n",
    "    print(key)"
   ]
  },
  {
   "cell_type": "code",
   "execution_count": 8,
   "metadata": {},
   "outputs": [
    {
     "data": {
      "text/plain": [
       "30"
      ]
     },
     "execution_count": 8,
     "metadata": {},
     "output_type": "execute_result"
    }
   ],
   "source": [
    "annee['septembre']"
   ]
  },
  {
   "cell_type": "code",
   "execution_count": 10,
   "metadata": {},
   "outputs": [],
   "source": [
    "annee['mois inventé'] = 55"
   ]
  },
  {
   "cell_type": "code",
   "execution_count": 11,
   "metadata": {},
   "outputs": [
    {
     "data": {
      "text/plain": [
       "{'janvier': 31,\n",
       " 'février': 28,\n",
       " 'mars': 31,\n",
       " 'avril': 30,\n",
       " 'mai': 31,\n",
       " 'juin': 30,\n",
       " 'juillet': 31,\n",
       " 'aout': 31,\n",
       " 'septembre': 30,\n",
       " 'octobre': 31,\n",
       " 'novembre': 30,\n",
       " 'décembre': 31,\n",
       " 'mois inventé': 55}"
      ]
     },
     "execution_count": 11,
     "metadata": {},
     "output_type": "execute_result"
    }
   ],
   "source": [
    "annee"
   ]
  },
  {
   "cell_type": "code",
   "execution_count": 6,
   "metadata": {},
   "outputs": [
    {
     "name": "stdout",
     "output_type": "stream",
     "text": [
      "31\n",
      "28\n",
      "31\n",
      "30\n",
      "31\n",
      "30\n",
      "31\n",
      "31\n",
      "30\n",
      "31\n",
      "30\n",
      "31\n"
     ]
    }
   ],
   "source": [
    "for value in annee.values():\n",
    "    print(value)"
   ]
  },
  {
   "cell_type": "code",
   "execution_count": 12,
   "metadata": {},
   "outputs": [
    {
     "name": "stdout",
     "output_type": "stream",
     "text": [
      "janvier 31\n",
      "février 28\n",
      "mars 31\n",
      "avril 30\n",
      "mai 31\n",
      "juin 30\n",
      "juillet 31\n",
      "aout 31\n",
      "septembre 30\n",
      "octobre 31\n",
      "novembre 30\n",
      "décembre 31\n",
      "mois inventé 55\n"
     ]
    },
    {
     "data": {
      "text/plain": [
       "{31: 'décembre', 28: 'février', 30: 'novembre', 55: 'mois inventé'}"
      ]
     },
     "execution_count": 12,
     "metadata": {},
     "output_type": "execute_result"
    }
   ],
   "source": [
    "new_dico = {}\n",
    "for key, value in annee.items():\n",
    "    print(key, value)\n",
    "    new_dico[value] = key\n",
    "new_dico"
   ]
  },
  {
   "cell_type": "markdown",
   "metadata": {},
   "source": [
    "## Exercice 6.1 bis\n",
    "\n",
    "Construisez puis affichez le dictionnaire des douze mois de l'année avec comme valeurs le nombre de lettre dans le mois\n",
    "respectif (construit automatiquement pour s'adapter à tout type de langue)."
   ]
  },
  {
   "cell_type": "code",
   "execution_count": 18,
   "metadata": {},
   "outputs": [
    {
     "data": {
      "text/plain": [
       "{'janvier': 7,\n",
       " 'février': 7,\n",
       " 'mars': 4,\n",
       " 'avril': 5,\n",
       " 'mai': 3,\n",
       " 'juin': 4,\n",
       " 'juillet': 7,\n",
       " 'août': 4,\n",
       " 'septembre': 9,\n",
       " 'octobre': 7,\n",
       " 'décembre': 8}"
      ]
     },
     "execution_count": 18,
     "metadata": {},
     "output_type": "execute_result"
    }
   ],
   "source": [
    "année = ['janvier', 'février', 'mars', 'avril', 'mai', 'juin', 'juillet', 'août', 'septembre', 'octobre', 'décembre']\n",
    "dico = {}\n",
    "for mois in année:\n",
    "    dico[mois] =  len(mois)\n",
    "\n",
    "dico"
   ]
  },
  {
   "cell_type": "markdown",
   "metadata": {},
   "source": [
    "## Exercice 6.2"
   ]
  },
  {
   "cell_type": "markdown",
   "metadata": {},
   "source": [
    "Écrivez une fonction qui échange les clés et les valeurs d'un dictionnaire (ce qui permettra par exemple   de   transformer   un   dictionnaire   anglais/français   en   un   dictionnaire   français/anglais).   On suppose que le dictionnaire ne contient pas plusieurs valeurs identiques."
   ]
  },
  {
   "cell_type": "code",
   "execution_count": 13,
   "metadata": {},
   "outputs": [
    {
     "data": {
      "text/plain": [
       "{'red': 'rouge',\n",
       " 'yellow': 'jaune',\n",
       " 'blue': 'bleu',\n",
       " 'green': 'vert',\n",
       " 'pink': 'rose',\n",
       " 'white': 'blanc'}"
      ]
     },
     "execution_count": 13,
     "metadata": {},
     "output_type": "execute_result"
    }
   ],
   "source": [
    "# Exercice 6.2\n",
    "dico_En_Fr = {'red': 'rouge', 'yellow': 'jaune', 'blue': 'bleu', 'green': 'vert', 'pink': 'rose'}\n",
    "\n",
    "\n",
    "clef = 'white'\n",
    "valeur = 'blanc'\n",
    "dico_En_Fr[clef] = valeur\n",
    "dico_En_Fr"
   ]
  },
  {
   "cell_type": "code",
   "execution_count": 14,
   "metadata": {},
   "outputs": [
    {
     "data": {
      "text/plain": [
       "{'rouge': 'red',\n",
       " 'jaune': 'yellow',\n",
       " 'bleu': 'blue',\n",
       " 'vert': 'green',\n",
       " 'rose': 'pink',\n",
       " 'blanc': 'white'}"
      ]
     },
     "execution_count": 14,
     "metadata": {},
     "output_type": "execute_result"
    }
   ],
   "source": [
    "def inverse_dictionnaire(dico):\n",
    "    inverse = {}\n",
    "    for clef, valeur in dico.items():\n",
    "        inverse[valeur] = clef\n",
    "    return inverse\n",
    "\n",
    "dico_Fr_En = inverse_dictionnaire(dico_En_Fr)\n",
    "dico_Fr_En"
   ]
  },
  {
   "cell_type": "markdown",
   "metadata": {},
   "source": [
    "## Exercice 6.3"
   ]
  },
  {
   "cell_type": "markdown",
   "metadata": {},
   "source": [
    "En cryptographie, un chiffre de substitution simple consiste à remplacer chaque lettre d'un texte par une autre lettre (toujours la même). On utilise pour cela une table chiffrante. Par exemple :\n",
    "```\n",
    "Clair   ABCDEFGHIJKLMNOPQRSTUVWXYZ  \n",
    "Chiffré WBHAYPODQZXNTSFLRUVMCEKJGI\n",
    "```\n",
    "Ainsi, le mot «RENARD» sera chiffré « UYSWUA ».\n",
    "1. Écrivez un programme qui permet de (dé)chiffrer un texte avec la table ci-dessus en créant un dictionnaire\n",
    "2. Utilisez votre programme pour déchiffrer le message suivant :\n",
    "NYVYNYEYVAYNWSSQFSVFSMNYVTYQNNYCUV\n",
    "\n",
    "P. S.: On peut parcourir une chaîne de caractères en récupérant la position et la lettre: `for indice, lettre in enumerate(chaine:)`"
   ]
  },
  {
   "cell_type": "code",
   "execution_count": 2,
   "metadata": {},
   "outputs": [
    {
     "name": "stdout",
     "output_type": "stream",
     "text": [
      "En position  0  on a la lettre  b\n",
      "En position  1  on a la lettre  l\n",
      "En position  2  on a la lettre  e\n",
      "En position  3  on a la lettre  u\n"
     ]
    }
   ],
   "source": [
    "# Exemple\n",
    "for position, lettre in enumerate(\"bleu\"):\n",
    "    print('En position ', position, ' on a la lettre ', lettre)"
   ]
  },
  {
   "cell_type": "code",
   "execution_count": 3,
   "metadata": {},
   "outputs": [
    {
     "data": {
      "text/plain": [
       "'b'"
      ]
     },
     "execution_count": 3,
     "metadata": {},
     "output_type": "execute_result"
    }
   ],
   "source": [
    "s = \"bleu\"\n",
    "s[0]"
   ]
  },
  {
   "cell_type": "code",
   "execution_count": 4,
   "metadata": {},
   "outputs": [
    {
     "data": {
      "text/plain": [
       "'LESELEVESDEBIGDATASONTLESMEILLEURS'"
      ]
     },
     "execution_count": 4,
     "metadata": {},
     "output_type": "execute_result"
    }
   ],
   "source": [
    "clair    = \"ABCDEFGHIJKLMNOPQRSTUVWXYZ\"\n",
    "chiffré  = \"WBHAYPODQZXNTSFLRUVMCEKJGI\"\n",
    "\n",
    "message_chiffré = \"NYVYNYEYVAYBQOAWMWVFSMNYVTYQNNYCUV\"\n",
    "déchiffrer = {}\n",
    "for indice, lettre in enumerate(chiffré):\n",
    "    déchiffrer[lettre] = clair[indice]\n",
    "\n",
    "message = ''\n",
    "for lettre in message_chiffré:\n",
    "    message += déchiffrer[lettre]\n",
    "\n",
    "message"
   ]
  },
  {
   "cell_type": "code",
   "execution_count": 5,
   "metadata": {},
   "outputs": [
    {
     "data": {
      "text/plain": [
       "'UWSAFNPQVMDYBYVM'"
      ]
     },
     "execution_count": 5,
     "metadata": {},
     "output_type": "execute_result"
    }
   ],
   "source": [
    "# Chiffrer un message\n",
    "message = 'LESELEVESDEBIGDATASONTLESMEILLEURS'\n",
    "message = 'RANDOLFISTHEBEST'\n",
    "chiffrer = {}\n",
    "for indice, lettre in enumerate(clair):\n",
    "    chiffrer[lettre] = chiffré[indice]\n",
    "message_chiffré = ''\n",
    "for lettre in message:\n",
    "    message_chiffré += chiffrer[lettre]\n",
    "\n",
    "message_chiffré"
   ]
  },
  {
   "cell_type": "markdown",
   "metadata": {},
   "source": [
    "## Exercice 6.4"
   ]
  },
  {
   "cell_type": "markdown",
   "metadata": {},
   "source": [
    "Vous avez à votre disposition un texte non accentué et non ponctué. Écrivez un programme qui compte les occurrences de chacune des lettres de l'alphabet dans ce texte, et qui en fait un histogramme comme l'exemple fictif ci-dessous :\n",
    "```\n",
    "      : ||||||||||||||||||||\n",
    "   a  : |||||||||||||\n",
    "   d  : ||||\n",
    "   e  : ||||||||||||||||||||||||||||\n",
    "   i  : |||||||||\n",
    "   l  : |||||||||\n",
    "   n  : ||||||||||\n",
    "   o  : |||||||\n",
    "   p  : ||\n",
    "   r  : ||||||||\n",
    "   s  : ||||||||\n",
    "   t  : |||||||||||||\n",
    "   u  : ||||||\n",
    "  ```\n"
   ]
  },
  {
   "cell_type": "code",
   "execution_count": 2,
   "metadata": {},
   "outputs": [
    {
     "data": {
      "text/plain": [
       "'c etait a megara faubourg de carthage dans les jardins d hamilcar les soldats qu il avait commandes en sicile se donnaient un grand festin pour celebrerle jour anniversaire de la bataille d eryx et comme le maitre etait absent et qu ilsse trouvaient nombreux ils mangeaient et ils buvaient en pleine liberte'"
      ]
     },
     "execution_count": 2,
     "metadata": {},
     "output_type": "execute_result"
    }
   ],
   "source": [
    "texte = \"c etait a megara faubourg de carthage dans les jardins d hamilcar les \\\n",
    "soldats qu il avait commandes en sicile se donnaient un grand festin pour celebrer\\\n",
    "le jour anniversaire de la bataille d eryx et comme le maitre etait absent et qu ils\\\n",
    "se trouvaient nombreux ils mangeaient et ils buvaient en pleine liberte\"\n",
    "texte"
   ]
  },
  {
   "cell_type": "code",
   "execution_count": 4,
   "metadata": {},
   "outputs": [
    {
     "name": "stdout",
     "output_type": "stream",
     "text": [
      "c  :  |||||||\n",
      "   :  ||||||||||||||||||||||||||||||||||||||||||||||||||||\n",
      "e  :  ||||||||||||||||||||||||||||||||||||||||\n",
      "t  :  ||||||||||||||||||||\n",
      "a  :  |||||||||||||||||||||||||||||\n",
      "i  :  ||||||||||||||||||||||\n",
      "m  :  |||||||||\n",
      "g  :  |||||\n",
      "r  :  |||||||||||||||||\n",
      "f  :  ||\n",
      "u  :  ||||||||||\n",
      "b  :  |||||||\n",
      "o  :  |||||||||\n",
      "d  :  ||||||||||\n",
      "h  :  ||\n",
      "n  :  ||||||||||||||||||||\n",
      "s  :  ||||||||||||||||\n",
      "l  :  |||||||||||||||||\n",
      "j  :  ||\n",
      "q  :  ||\n",
      "v  :  ||||\n",
      "p  :  ||\n",
      "y  :  |\n",
      "x  :  ||\n"
     ]
    }
   ],
   "source": [
    "compteur = {}\n",
    "for lettre in texte:\n",
    "    if lettre in compteur:\n",
    "        compteur[lettre] += 1\n",
    "    else:\n",
    "        compteur[lettre] = 1\n",
    "\n",
    "for lettre, décompte in compteur.items():\n",
    "    histogramme = '|' * décompte\n",
    "    print(lettre, ' : ', histogramme)"
   ]
  },
  {
   "cell_type": "markdown",
   "metadata": {},
   "source": [
    "En utilisant les `Counter` de la bibliothèque de Python\n",
    "https://docs.python.org/3/library/collections.html#collections.Counter"
   ]
  },
  {
   "cell_type": "code",
   "execution_count": 19,
   "metadata": {},
   "outputs": [
    {
     "data": {
      "text/plain": [
       "Counter({'c': 7,\n",
       "         ' ': 52,\n",
       "         'e': 40,\n",
       "         't': 20,\n",
       "         'a': 29,\n",
       "         'i': 22,\n",
       "         'm': 9,\n",
       "         'g': 5,\n",
       "         'r': 17,\n",
       "         'f': 2,\n",
       "         'u': 10,\n",
       "         'b': 7,\n",
       "         'o': 9,\n",
       "         'd': 10,\n",
       "         'h': 2,\n",
       "         'n': 20,\n",
       "         's': 16,\n",
       "         'l': 17,\n",
       "         'j': 2,\n",
       "         'q': 2,\n",
       "         'v': 4,\n",
       "         'p': 2,\n",
       "         'y': 1,\n",
       "         'x': 2})"
      ]
     },
     "execution_count": 19,
     "metadata": {},
     "output_type": "execute_result"
    }
   ],
   "source": [
    "from collections import Counter\n",
    "Counter(texte)"
   ]
  },
  {
   "cell_type": "code",
   "execution_count": 18,
   "metadata": {},
   "outputs": [
    {
     "name": "stdout",
     "output_type": "stream",
     "text": [
      "c  :  |||||||\n",
      "   :  ||||||||||||||||||||||||||||||||||||||||||||||||||||\n",
      "e  :  ||||||||||||||||||||||||||||||||||||||||\n",
      "t  :  ||||||||||||||||||||\n",
      "a  :  |||||||||||||||||||||||||||||\n",
      "i  :  ||||||||||||||||||||||\n",
      "m  :  |||||||||\n",
      "g  :  |||||\n",
      "r  :  |||||||||||||||||\n",
      "f  :  ||\n",
      "u  :  ||||||||||\n",
      "b  :  |||||||\n",
      "o  :  |||||||||\n",
      "d  :  ||||||||||\n",
      "h  :  ||\n",
      "n  :  ||||||||||||||||||||\n",
      "s  :  ||||||||||||||||\n",
      "l  :  |||||||||||||||||\n",
      "j  :  ||\n",
      "q  :  ||\n",
      "v  :  ||||\n",
      "p  :  ||\n",
      "y  :  |\n",
      "x  :  ||\n"
     ]
    }
   ],
   "source": [
    "from collections import Counter\n",
    "for lettre, décompte in Counter(texte).items():\n",
    "    histogramme = '|' * décompte\n",
    "    print(lettre, ' : ', histogramme)"
   ]
  },
  {
   "cell_type": "markdown",
   "metadata": {},
   "source": [
    "## Exercice 6.5 – Tournoi"
   ]
  },
  {
   "cell_type": "markdown",
   "metadata": {},
   "source": [
    "cf `/Exercices_6/65_dilemne.py` et `/Exercices_6/65_tournoi.py`"
   ]
  },
  {
   "cell_type": "markdown",
   "metadata": {},
   "source": [
    "Pour le tournoi `Exercice 6.5 – Tournoi`, voici la structure du code pour vos stratégies à envoyer en MP sous discord\n",
    "\n",
    "```python\n",
    "def prenom(liste_lui, liste_moi):\n",
    "    # Explications de ma super stratégie:\n",
    "    # Je coopère toujours\n",
    "    return 'C'\n",
    "\n",
    "liste['prenom'] = []\n",
    "strategie['prenom'] = lambda lui, moi: prenom(lui, moi)\n",
    "```"
   ]
  },
  {
   "cell_type": "markdown",
   "metadata": {},
   "source": [
    "## Exercice 6.6 – Le dilemme du renvoi d'ascenseur"
   ]
  },
  {
   "cell_type": "markdown",
   "metadata": {},
   "source": [
    "cf `/Exercices_6/66_renvoi_d_ascenseur.py`"
   ]
  },
  {
   "cell_type": "markdown",
   "metadata": {
    "tags": []
   },
   "source": [
    "## Exercice 6.7\n",
    "Représentez la position du jeu d'échecs ci-contre en utilisant un dictionnaire.\n",
    "La clé sera la position d'une case (un tuple, par exemple ('A', 7), la valeur sera la pièce qui s'y trouve (par exemple « dame noire »).\n",
    "Ne mettez dans le dictionnaire que les cases occupées."
   ]
  },
  {
   "cell_type": "code",
   "execution_count": 1,
   "metadata": {},
   "outputs": [
    {
     "data": {
      "text/plain": [
       "{'roi noir': ('E', 8),\n",
       " 'dame noire': ('A', 7),\n",
       " 'cheval noir': ('F', 5),\n",
       " 'cheval blanc': ('B', 4),\n",
       " 'dame blanche': ('B', 2),\n",
       " 'pion blanc': ('G', 2),\n",
       " 'tour blanche': ('H', 2),\n",
       " 'roi blanc': ('H', 1)}"
      ]
     },
     "execution_count": 1,
     "metadata": {},
     "output_type": "execute_result"
    }
   ],
   "source": [
    "position = {}\n",
    "\n",
    "position['roi noir'] = 'E', 8\n",
    "position['dame noire'] = 'A', 7\n",
    "position['cheval noir'] = 'F', 5\n",
    "position['cheval blanc'] = 'B', 4\n",
    "position['dame blanche'] = 'B', 2\n",
    "position['pion blanc'] = 'G', 2\n",
    "position['tour blanche'] = 'H', 2\n",
    "position['roi blanc'] = 'H', 1\n",
    "\n",
    "position"
   ]
  },
  {
   "cell_type": "code",
   "execution_count": 16,
   "metadata": {},
   "outputs": [
    {
     "ename": "NameError",
     "evalue": "name 'x' is not defined",
     "output_type": "error",
     "traceback": [
      "\u001b[0;31m---------------------------------------------------------------------------\u001b[0m",
      "\u001b[0;31mNameError\u001b[0m                                 Traceback (most recent call last)",
      "\u001b[0;32m<ipython-input-16-846d2515d005>\u001b[0m in \u001b[0;36m<module>\u001b[0;34m\u001b[0m\n\u001b[1;32m      8\u001b[0m \u001b[0;34m\u001b[0m\u001b[0m\n\u001b[1;32m      9\u001b[0m \u001b[0md\u001b[0m \u001b[0;34m=\u001b[0m \u001b[0;34m{\u001b[0m\u001b[0;34m}\u001b[0m\u001b[0;34m\u001b[0m\u001b[0;34m\u001b[0m\u001b[0m\n\u001b[0;32m---> 10\u001b[0;31m \u001b[0md\u001b[0m\u001b[0;34m[\u001b[0m\u001b[0;34m'a'\u001b[0m\u001b[0;34m]\u001b[0m \u001b[0;34m=\u001b[0m  \u001b[0ma\u001b[0m\u001b[0;34m(\u001b[0m\u001b[0mx\u001b[0m\u001b[0;34m,\u001b[0m \u001b[0my\u001b[0m\u001b[0;34m)\u001b[0m\u001b[0;34m\u001b[0m\u001b[0;34m\u001b[0m\u001b[0m\n\u001b[0m",
      "\u001b[0;31mNameError\u001b[0m: name 'x' is not defined"
     ]
    }
   ],
   "source": [
    "# Utilité des fonctions lambda\n",
    "\n",
    "def a(x, y):\n",
    "    return x+y\n",
    "\n",
    "def b(x, y):\n",
    "    return x-y\n",
    "\n",
    "d = {}\n",
    "d['a'] =  a(x, y)"
   ]
  },
  {
   "cell_type": "code",
   "execution_count": 17,
   "metadata": {},
   "outputs": [],
   "source": [
    "d['a'] = lambda x, y : a(x, y)\n",
    "d['b'] = lambda x, y : b(x, y)"
   ]
  },
  {
   "cell_type": "code",
   "execution_count": 18,
   "metadata": {},
   "outputs": [
    {
     "data": {
      "text/plain": [
       "3"
      ]
     },
     "execution_count": 18,
     "metadata": {},
     "output_type": "execute_result"
    }
   ],
   "source": [
    "d['a'](1,2)"
   ]
  },
  {
   "cell_type": "code",
   "execution_count": 19,
   "metadata": {},
   "outputs": [
    {
     "data": {
      "text/plain": [
       "-1"
      ]
     },
     "execution_count": 19,
     "metadata": {},
     "output_type": "execute_result"
    }
   ],
   "source": [
    "d['b'](1,2)"
   ]
  },
  {
   "cell_type": "code",
   "execution_count": null,
   "metadata": {},
   "outputs": [],
   "source": []
  }
 ],
 "metadata": {
  "kernelspec": {
   "display_name": "Python 3 (ipykernel)",
   "language": "python",
   "name": "python3"
  },
  "language_info": {
   "codemirror_mode": {
    "name": "ipython",
    "version": 3
   },
   "file_extension": ".py",
   "mimetype": "text/x-python",
   "name": "python",
   "nbconvert_exporter": "python",
   "pygments_lexer": "ipython3",
   "version": "3.9.7"
  }
 },
 "nbformat": 4,
 "nbformat_minor": 4
}
