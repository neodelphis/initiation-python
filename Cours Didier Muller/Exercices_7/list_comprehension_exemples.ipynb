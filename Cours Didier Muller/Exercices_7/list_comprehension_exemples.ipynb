{
 "cells": [
  {
   "cell_type": "code",
   "execution_count": 4,
   "id": "94be4552-a6c3-4abd-9cb8-12f0af2f6baf",
   "metadata": {},
   "outputs": [
    {
     "name": "stdout",
     "output_type": "stream",
     "text": [
      "[1, 4, 25]\n",
      "[4, 25]\n"
     ]
    }
   ],
   "source": [
    "# List comprehension\n",
    "# Contruction compacte de listes\n",
    "\n",
    "nombres = [1, 2, 5]\n",
    "\n",
    "# Liste des carrés\n",
    "carres = []\n",
    "for nombre in nombres:\n",
    "    carres.append(nombre * nombre)\n",
    "print(carres)\n",
    "\n",
    "# Définition compacte\n",
    "carres = [nombre ** 2 for nombre in nombres]\n",
    "\n",
    "# Définition compacte avec condition\n",
    "carres = [nombre ** 2 for nombre in nombres if nombre > 1]\n",
    "print(carres)\n"
   ]
  },
  {
   "cell_type": "code",
   "execution_count": 11,
   "id": "374f0cec-cce5-4c47-a7f0-6bd9802d014a",
   "metadata": {},
   "outputs": [
    {
     "data": {
      "text/plain": [
       "{2: 4, 3: 9, 4: 16}"
      ]
     },
     "execution_count": 11,
     "metadata": {},
     "output_type": "execute_result"
    }
   ],
   "source": [
    "# Fonctionne aussi pour la création de dictionnaires\n",
    "mon_dic = {nombre: nombre**2 for nombre in range(5) if nombre > 1}\n",
    "mon_dic"
   ]
  },
  {
   "cell_type": "code",
   "execution_count": 9,
   "id": "50da13ed-f9d0-4650-8f75-57d51c0b360a",
   "metadata": {},
   "outputs": [
    {
     "name": "stdout",
     "output_type": "stream",
     "text": [
      "8\n",
      "0\n",
      "9\n",
      "1\n"
     ]
    }
   ],
   "source": [
    "for j in range(8,10):\n",
    "    print(j)\n",
    "    i = j - 8\n",
    "    print(i)"
   ]
  },
  {
   "cell_type": "code",
   "execution_count": 10,
   "id": "833965b2-789c-4ec8-8d9b-47308da0440a",
   "metadata": {},
   "outputs": [
    {
     "name": "stdout",
     "output_type": "stream",
     "text": [
      "0 t\n",
      "1 e\n",
      "2 s\n",
      "3 t\n"
     ]
    }
   ],
   "source": [
    "for i, j in enumerate('test'):\n",
    "    print(i, j)"
   ]
  },
  {
   "cell_type": "code",
   "execution_count": null,
   "id": "eecae45a-ba77-492b-8ac1-2e8ae1e25b40",
   "metadata": {},
   "outputs": [],
   "source": []
  }
 ],
 "metadata": {
  "kernelspec": {
   "display_name": "Python 3 (ipykernel)",
   "language": "python",
   "name": "python3"
  },
  "language_info": {
   "codemirror_mode": {
    "name": "ipython",
    "version": 3
   },
   "file_extension": ".py",
   "mimetype": "text/x-python",
   "name": "python",
   "nbconvert_exporter": "python",
   "pygments_lexer": "ipython3",
   "version": "3.9.7"
  }
 },
 "nbformat": 4,
 "nbformat_minor": 5
}
