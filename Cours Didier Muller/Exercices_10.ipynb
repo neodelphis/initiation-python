{
 "cells": [
  {
   "cell_type": "markdown",
   "id": "f51b3fb2-b627-4eb3-9142-19d13633b0f8",
   "metadata": {},
   "source": [
    "# Exercices du Chapitre 10\n",
    "\n",
    "Programmation orientée objet\n",
    "\n",
    "Cours de Didier Muller [Python 3 par les jeux](https://www.apprendre-en-ligne.net/pj/index.html)\n"
   ]
  },
  {
   "cell_type": "markdown",
   "id": "b02ca9d6-6d11-4c37-98b4-e5476a4d7a97",
   "metadata": {},
   "source": [
    "## Exercice 10.1\n",
    "Écrivez une classe Cercle(). Les attributs seront son centre et son rayon. Les méthodes seront perimetre qui renverra le périmètre du cercle, aire qui donnera son aire et contient qui indiquera si oui un non un point est sur le disque.\n",
    "Par défaut, ce sera un cercle centré à l'origine de rayon 1.\n",
    "\n",
    "Exemple d'utilisation de cette classe :\n",
    "```\n",
    "   c = Cercle((0,0),5)\n",
    "   p = (2,5)\n",
    "   print(c.perimetre())\n",
    "   31.41592653589793\n",
    "   print(c.aire())\n",
    "   78.53981633974483\n",
    "   print(c.contient(p))\n",
    "   False\n",
    "```"
   ]
  },
  {
   "cell_type": "code",
   "execution_count": 12,
   "id": "7641894a-adfe-470b-bfcd-255941e438f6",
   "metadata": {},
   "outputs": [],
   "source": [
    "import math\n",
    "\n",
    "class Cercle:\n",
    "    \n",
    "    def __init__(self, centre=(0,0), rayon=1):\n",
    "        self.centre = centre\n",
    "        self.rayon = rayon\n",
    "        \n",
    "    def perimetre(self):\n",
    "        return 2 * math.pi * self.rayon\n",
    "\n",
    "    def aire(self):\n",
    "        return math.pi * self.rayon**2\n",
    "    \n",
    "    def contient(self, point):\n",
    "        # coordonnées du point par rapport au centre\n",
    "        coord = (point[0]-self.centre[0], point[1]-self.centre[1])\n",
    "        \n",
    "        # Point contenu si distance du centre au point est inférieure au rayon\n",
    "        distance = math.sqrt(coord[0]**2 + coord[1]**2)\n",
    "        \n",
    "        if distance <= self.rayon:\n",
    "            return True\n",
    "        else:\n",
    "            return False"
   ]
  },
  {
   "cell_type": "code",
   "execution_count": 13,
   "id": "166646ac-6b59-4b14-8a0a-698873732733",
   "metadata": {},
   "outputs": [
    {
     "name": "stdout",
     "output_type": "stream",
     "text": [
      "31.41592653589793\n",
      "78.53981633974483\n",
      "False\n"
     ]
    }
   ],
   "source": [
    "c = Cercle((0,0),5)\n",
    "p = (2,5)\n",
    "print(c.perimetre())\n",
    "print(c.aire())\n",
    "print(c.contient(p))"
   ]
  },
  {
   "cell_type": "markdown",
   "id": "95793c3b-2261-4060-8261-4be396301ac7",
   "metadata": {},
   "source": [
    "## Exercice 10.2\n",
    "Définissez une classe Piece() qui permette d'instancier des pièces de monnaie truquées. On donnera en paramètre la probabilité d'obtenir pile (un nombre réel entre 0 et 1). La valeur par défaut est 0.5.\n",
    "Une méthode lancer() simulera le jet de la pièce et renverra le résultat (pile ou face). Exemple d'utilisation de cette classe :\n",
    "```\n",
    "    p1 = Piece(0.1)\n",
    "    print(p1.lancer())\n",
    "    p2 = Piece()\n",
    "    print(p2.lancer())\n",
    "    face\n",
    "    face\n",
    "```\n"
   ]
  },
  {
   "cell_type": "code",
   "execution_count": 27,
   "id": "6e9fa064-e506-46d9-bf32-7cfdc4549302",
   "metadata": {},
   "outputs": [
    {
     "name": "stdout",
     "output_type": "stream",
     "text": [
      "PFPFFFFFFF"
     ]
    }
   ],
   "source": [
    "from random import random\n",
    "\n",
    "class Piece:\n",
    "    def __init__(self, proba = 0.5):\n",
    "        self.proba = proba\n",
    "    \n",
    "    def lancer(self):\n",
    "        if random() < self.proba:\n",
    "            return 'P'\n",
    "        else:\n",
    "            return 'F'\n",
    "\n",
    "p = Piece(0.2)\n",
    "for _ in range(10):\n",
    "    print(p.lancer(), end='')\n"
   ]
  },
  {
   "cell_type": "markdown",
   "id": "d1a7e52b-5414-4b18-9289-b0f417c604c0",
   "metadata": {},
   "source": [
    "## Exercice 10.3\n",
    "Définissez une classe De() qui permette d'instancier des objets simulant des dés. Un dé pourra pourra avoir un nombre de faces quelconque, avec un nombre quelconque écrit dessus. Une méthode lancer() simulera le jet du dé et renverra le résultat d'une face au hasard.\n",
    "\n",
    "Par défaut, on définira un dé standard : 6 faces numérotées de 1 à 6."
   ]
  },
  {
   "cell_type": "code",
   "execution_count": 25,
   "id": "00d6cdb1-1c53-4cff-9c11-10c357e1916e",
   "metadata": {},
   "outputs": [
    {
     "name": "stdout",
     "output_type": "stream",
     "text": [
      "5\n",
      "2\n"
     ]
    }
   ],
   "source": [
    "from random import choice\n",
    "\n",
    "class De:\n",
    "    \n",
    "    def __init__(self, faces = (1, 2, 3, 4, 5, 6)):\n",
    "        self.faces = faces\n",
    "        \n",
    "    def lancer(self):\n",
    "        return choice(list(self.faces))\n",
    "\n",
    "d6 = De()\n",
    "print(d6.lancer())\n",
    "\n",
    "d3 = De((10, 15, 2))\n",
    "print(d3.lancer())"
   ]
  },
  {
   "cell_type": "code",
   "execution_count": 26,
   "id": "048eedd9-a994-4ed6-80ec-cc12890c0412",
   "metadata": {},
   "outputs": [
    {
     "name": "stdout",
     "output_type": "stream",
     "text": [
      "10\n"
     ]
    }
   ],
   "source": [
    "d4 = De((10, 15, 2, 10))\n",
    "print(d4.lancer())"
   ]
  },
  {
   "cell_type": "code",
   "execution_count": null,
   "id": "8069cc1c-20ce-4d8a-84c5-59bef4b99a04",
   "metadata": {},
   "outputs": [],
   "source": []
  }
 ],
 "metadata": {
  "kernelspec": {
   "display_name": "Python 3 (ipykernel)",
   "language": "python",
   "name": "python3"
  },
  "language_info": {
   "codemirror_mode": {
    "name": "ipython",
    "version": 3
   },
   "file_extension": ".py",
   "mimetype": "text/x-python",
   "name": "python",
   "nbconvert_exporter": "python",
   "pygments_lexer": "ipython3",
   "version": "3.9.7"
  }
 },
 "nbformat": 4,
 "nbformat_minor": 5
}
