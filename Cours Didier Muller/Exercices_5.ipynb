{
 "cells": [
  {
   "cell_type": "markdown",
   "id": "44a54124-762b-4e2d-89d8-7ea9c686b565",
   "metadata": {},
   "source": [
    "# Exercices du Chapitre 5: Le jeu de Juniper Green\n",
    "Cours de Didier Muller [Python 3 par les jeux](https://www.apprendre-en-ligne.net/pj/index.html)"
   ]
  },
  {
   "cell_type": "code",
   "execution_count": 3,
   "id": "0c332803-5336-4437-a587-4a3e75049b5b",
   "metadata": {},
   "outputs": [
    {
     "name": "stdout",
     "output_type": "stream",
     "text": [
      "<class 'list'>\n"
     ]
    }
   ],
   "source": [
    "spam = []\n",
    "print(type(spam))"
   ]
  },
  {
   "cell_type": "markdown",
   "id": "ab47bbf9-4f1c-45fc-abc8-61d05ce52520",
   "metadata": {},
   "source": [
    "## Exercice 5.1\n",
    "Créez une liste de 15 nombres entiers générés au hasard entre 1 et 10. Certains nombres pourront y figurer à plusieurs exemplaires. Écrivez un programme qui recopie cette liste dans une autre, en omettant les doublons. La liste finale devra être triée."
   ]
  },
  {
   "cell_type": "code",
   "execution_count": 4,
   "id": "394f4882-47dc-4b9f-9493-58e2a3e27360",
   "metadata": {},
   "outputs": [],
   "source": [
    "# Exercice 5.1\n",
    "# Créez une liste de 15 nombres entiers générés au hasard entre 1 et 10.\n",
    "# Certains nombres pourront y figurer à plusieurs exemplaires.\n",
    "# Écrivez un programme qui recopie cette liste dans une autre, en omettant les doublons.\n",
    "# La liste finale devra être triée."
   ]
  },
  {
   "cell_type": "code",
   "execution_count": 11,
   "id": "4e20d42a-fe63-4fa8-be49-2f16078a6d0a",
   "metadata": {},
   "outputs": [
    {
     "name": "stdout",
     "output_type": "stream",
     "text": [
      "liste initiale :  [6, 1, 4, 9, 7, 10, 3, 5, 4, 9, 8, 3, 2, 8, 5]\n",
      "liste cible    :  [1, 2, 3, 4, 5, 6, 7, 8, 9, 10]\n"
     ]
    }
   ],
   "source": [
    "from random import randint\n",
    "\n",
    "liste_initiale = []\n",
    "\n",
    "for _ in range(15):\n",
    "    liste_initiale.append(randint(1, 10))\n",
    "\n",
    "liste_cible = []\n",
    "for nombre in liste_initiale:\n",
    "    if nombre not in liste_cible:\n",
    "        liste_cible.append(nombre)\n",
    "\n",
    "liste_cible.sort()\n",
    "\n",
    "print('liste initiale : ', liste_initiale)\n",
    "print('liste cible    : ', liste_cible)"
   ]
  },
  {
   "cell_type": "code",
   "execution_count": 12,
   "id": "4eddd46d-c29f-4c90-ae8d-8a3b05bc4729",
   "metadata": {},
   "outputs": [
    {
     "name": "stdout",
     "output_type": "stream",
     "text": [
      "liste initiale :  [5, 5, 8, 8, 2, 9, 8, 9, 10, 9, 9, 10, 8, 1, 4]\n",
      "liste cible    :  [1, 2, 4, 5, 8, 9, 10]\n"
     ]
    }
   ],
   "source": [
    "# Version avancée\n",
    "from random import randint\n",
    "\n",
    "liste_initiale = [randint(1, 10) for _ in range(15)]\n",
    "liste_cible = sorted(list(set(liste_initiale)))\n",
    "\n",
    "print('liste initiale : ', liste_initiale)\n",
    "print('liste cible    : ', liste_cible)"
   ]
  },
  {
   "cell_type": "markdown",
   "id": "4f182792-45fb-4b12-82fa-adb5069869b9",
   "metadata": {},
   "source": [
    "## Exercice 5.2\n",
    "Soient les listes suivantes :  \n",
    "   `liste1 = [31,28,31,30,31,30,31,31,30,31,30,31]`  \n",
    "   `liste2 = ['Janvier','Février','Mars','Avril','Mai','Juin','Juillet','Août',\n",
    "             'Septembre','Octobre','Novembre','Décembre']`\n",
    "             \n",
    "Écrivez un programme qui insère dans la seconde liste tous les éléments de la première, de telle sorte que chaque nom de mois soit suivi du nombre de jours correspondant :  \n",
    "   `liste2 = ['Janvier',31,'Février',28,'Mars',31, ...]`  \n",
    "Insérez ensuite le nombre 29 entre 28 et 'Mars'.  \n",
    "   `liste2 = ['Janvier',31,'Février',28,29,'Mars',31, ...]`  \n"
   ]
  },
  {
   "cell_type": "code",
   "execution_count": 29,
   "id": "31f62232-fa42-4b96-9abf-b85b99f1957b",
   "metadata": {},
   "outputs": [
    {
     "name": "stdout",
     "output_type": "stream",
     "text": [
      "liste1[0:1] =  [31]\n",
      "liste2      =  ['Janvier', 31, 'Février']\n",
      "liste1[1:2] =  [28]\n",
      "liste2      =  ['Janvier', 31, 'Février', 28]\n"
     ]
    }
   ],
   "source": [
    "liste1 = [31, 28]\n",
    "liste2 = ['Janvier', 'Février']\n",
    "\n",
    "print('liste1[0:1] = ', liste1[0:1])\n",
    "liste2[1:1] = liste1[0:1]\n",
    "print('liste2      = ', liste2)\n",
    "\n",
    "print('liste1[1:2] = ', liste1[1:2])\n",
    "liste2[3:3] = liste1[1:2]\n",
    "print('liste2      = ', liste2)"
   ]
  },
  {
   "cell_type": "code",
   "execution_count": 12,
   "id": "c96a18b2-c79c-4834-b87d-926703ef6472",
   "metadata": {},
   "outputs": [
    {
     "data": {
      "text/plain": [
       "['Janvier',\n",
       " 31,\n",
       " 'Février',\n",
       " 28,\n",
       " 29,\n",
       " 'Mars',\n",
       " 31,\n",
       " 'Avril',\n",
       " 30,\n",
       " 'Mai',\n",
       " 31,\n",
       " 'Juin',\n",
       " 30,\n",
       " 'Juillet',\n",
       " 31,\n",
       " 'Août',\n",
       " 31,\n",
       " 'Septembre',\n",
       " 30,\n",
       " 'Octobre',\n",
       " 31,\n",
       " 'Novembre',\n",
       " 30,\n",
       " 'Décembre',\n",
       " 31]"
      ]
     },
     "execution_count": 12,
     "metadata": {},
     "output_type": "execute_result"
    }
   ],
   "source": [
    "# Exercice 5.2\n",
    "# Écrivez un programme qui insère dans la seconde liste tous les éléments de la première,\n",
    "# de telle sorte que chaque nom de mois soit suivi du nombre de jours correspondant\n",
    "\n",
    "liste1 = [31, 28, 31, 30, 31, 30, 31, 31, 30, 31, 30, 31]\n",
    "liste2 = ['Janvier', 'Février', 'Mars', 'Avril', 'Mai', 'Juin', 'Juillet', 'Août',\n",
    "          'Septembre', 'Octobre', 'Novembre', 'Décembre']\n",
    "\n",
    "for i in range(len(liste1)):\n",
    "    liste2[2*i+1:2*i+1] = liste1[i:i+1]\n",
    "\n",
    "liste2[4:4] = [29]\n",
    "\n",
    "liste2"
   ]
  },
  {
   "cell_type": "code",
   "execution_count": 13,
   "id": "3c3161e4-5f1a-4a30-b5cf-cb266ce2db9e",
   "metadata": {},
   "outputs": [
    {
     "data": {
      "text/plain": [
       "['Janvier',\n",
       " 31,\n",
       " 'Février',\n",
       " 28,\n",
       " 'Mars',\n",
       " 31,\n",
       " 'Avril',\n",
       " 30,\n",
       " 'Mai',\n",
       " 31,\n",
       " 'Juin',\n",
       " 30,\n",
       " 'Juillet',\n",
       " 31,\n",
       " 'Août',\n",
       " 31,\n",
       " 'Septembre',\n",
       " 30,\n",
       " 'Octobre',\n",
       " 31,\n",
       " 'Novembre',\n",
       " 30,\n",
       " 'Décembre',\n",
       " 31]"
      ]
     },
     "execution_count": 13,
     "metadata": {},
     "output_type": "execute_result"
    }
   ],
   "source": [
    "# Méthode avec parcours des listes\n",
    "\n",
    "# Exercice 5.2\n",
    "# Écrivez un programme qui insère dans la seconde liste tous les éléments de la première,\n",
    "# de telle sorte que chaque nom de mois soit suivi du nombre de jours correspondant\n",
    "\n",
    "liste1 = [31, 28, 31, 30, 31, 30, 31, 31, 30, 31, 30, 31]\n",
    "liste2 = ['Janvier', 'Février', 'Mars', 'Avril', 'Mai', 'Juin', 'Juillet', 'Août',\n",
    "          'Septembre', 'Octobre', 'Novembre', 'Décembre']\n",
    "\n",
    "assert len(liste1) == len(liste2)\n",
    "\n",
    "liste = []\n",
    "for i in range(len(liste1)):\n",
    "    liste.append(liste2[i])\n",
    "    liste.append(liste1[i])\n",
    "\n",
    "liste"
   ]
  },
  {
   "cell_type": "markdown",
   "id": "f02886e4-eb41-4dd4-a89b-74914618c4fb",
   "metadata": {
    "tags": []
   },
   "source": [
    "## Exercice 5.3\n",
    "Réécrivez le code de l'exercice 2.11 (calcul des probabilités au jeu « Risk ») en utilisant des\n",
    "boucles for et des listes."
   ]
  },
  {
   "cell_type": "code",
   "execution_count": 3,
   "id": "c25574b9-2240-44c8-9983-62bb0ced39fa",
   "metadata": {},
   "outputs": [
    {
     "name": "stdout",
     "output_type": "stream",
     "text": [
      "--------------------------------------------------------------------------------\n",
      "Nombre de dés lancés par l'assaillant : 3\n",
      "Nombre de dés lancés par le défenseur : 2\n",
      "L'assaillant perd 2 armées : 28.10%\n",
      "Le défenseur perd 2 armées : 36.70%\n",
      "Chaque joueur perd 1 armée : 35.20%\n",
      "--------------------------------------------------------------------------------\n",
      "Nombre de dés lancés par l'assaillant : 3\n",
      "Nombre de dés lancés par le défenseur : 1\n",
      "L'assaillant seul perd 1 armée : 34.70%\n",
      "Le défenseur seul perd 1 armée : 65.30%\n",
      "--------------------------------------------------------------------------------\n",
      "Nombre de dés lancés par l'assaillant : 2\n",
      "Nombre de dés lancés par le défenseur : 2\n",
      "L'assaillant perd 2 armées : 45.40%\n",
      "Le défenseur perd 2 armées : 22.30%\n",
      "Chaque joueur perd 1 armée : 32.30%\n",
      "--------------------------------------------------------------------------------\n",
      "Nombre de dés lancés par l'assaillant : 2\n",
      "Nombre de dés lancés par le défenseur : 1\n",
      "L'assaillant seul perd 1 armée : 43.00%\n",
      "Le défenseur seul perd 1 armée : 57.00%\n",
      "--------------------------------------------------------------------------------\n",
      "Nombre de dés lancés par l'assaillant : 1\n",
      "Nombre de dés lancés par le défenseur : 2\n",
      "L'assaillant seul perd 1 armée : 75.60%\n",
      "Le défenseur seul perd 1 armée : 24.40%\n",
      "--------------------------------------------------------------------------------\n",
      "Nombre de dés lancés par l'assaillant : 1\n",
      "Nombre de dés lancés par le défenseur : 1\n",
      "L'assaillant seul perd 1 armée : 59.10%\n",
      "Le défenseur seul perd 1 armée : 40.90%\n"
     ]
    }
   ],
   "source": [
    "# Exercice 5.3\n",
    "# Réécrivez le code de l'exercice 2.11 (calcul des probabilités au jeu « Risk »)\n",
    "# en utilisant des boucles for et des listes.\n",
    "\n",
    "n_test = 1000\n",
    "\n",
    "for nb_dés_a in range(3, 0, -1):\n",
    "    for nb_dés_d in range(2, 0, -1):\n",
    "\n",
    "        a_perd_2_armées = 0\n",
    "        d_perd_2_armées = 0\n",
    "        a_et_d_perdent_1_armée = 0\n",
    "        a_perd_1_armée = 0\n",
    "        d_perd_1_armée = 0\n",
    "\n",
    "        for _ in range(n_test):\n",
    "\n",
    "            dés_a = [randint(1, 6) for _ in range(nb_dés_a)]\n",
    "            dés_d = [randint(1, 6) for _ in range(nb_dés_d)]\n",
    "            dés_a.sort(reverse=True)\n",
    "            dés_d.sort(reverse=True)\n",
    "\n",
    "            # pertes\n",
    "            d = 0\n",
    "            a = 0\n",
    "\n",
    "            # Comparaison des valeurs\n",
    "            for i in range(min(len(dés_a), len(dés_d))):\n",
    "                if dés_a[i] > dés_d[i]:\n",
    "                    d += 1\n",
    "                else:\n",
    "                    a += 1\n",
    "\n",
    "            # Alimentation des statistiques\n",
    "            if min(len(dés_a), len(dés_d)) == 2:\n",
    "                if a == 2:\n",
    "                    a_perd_2_armées += 1\n",
    "                elif d == 2:\n",
    "                    d_perd_2_armées += 1\n",
    "                else:  # a==1 and d ==1\n",
    "                    a_et_d_perdent_1_armée += 1\n",
    "            else:  # min de dés = 1\n",
    "                if a == 1:\n",
    "                    a_perd_1_armée += 1\n",
    "                else:  # d == 1:\n",
    "                    d_perd_1_armée += 1\n",
    "\n",
    "        # Affichage des statistiques estimée par Monte-Carlo\n",
    "        print('-'*80)\n",
    "        print('Nombre de dés lancés par l\\'assaillant : {}'.format(nb_dés_a))\n",
    "        print('Nombre de dés lancés par le défenseur : {}'.format(nb_dés_d))\n",
    "        if min(len(dés_a), len(dés_d)) == 2:\n",
    "            print('L\\'assaillant perd 2 armées : {:.2f}%'.format(\n",
    "                a_perd_2_armées / n_test * 100))\n",
    "            print('Le défenseur perd 2 armées : {:.2f}%'.format(\n",
    "                d_perd_2_armées / n_test * 100))\n",
    "            print('Chaque joueur perd 1 armée : {:.2f}%'.format(\n",
    "                a_et_d_perdent_1_armée / n_test * 100))\n",
    "        else:  # min de dés = 1\n",
    "            print('L\\'assaillant seul perd 1 armée : {:.2f}%'.format(\n",
    "                a_perd_1_armée / n_test * 100))\n",
    "            print('Le défenseur seul perd 1 armée : {:.2f}%'.format(\n",
    "                d_perd_1_armée / n_test * 100))"
   ]
  },
  {
   "cell_type": "markdown",
   "id": "15781480-f8f7-421d-b8ad-228a071cb218",
   "metadata": {},
   "source": [
    "## Le jeu de Juniper Green "
   ]
  },
  {
   "cell_type": "code",
   "execution_count": 4,
   "id": "0040b7ad-8561-4bdf-b978-ccf6f6d0fc80",
   "metadata": {},
   "outputs": [
    {
     "name": "stdout",
     "output_type": "stream",
     "text": [
      "Jouons avec des nombres entre 1 et 20\n",
      "Je choisis comme nombre de départ 6\n",
      "Nombres valides : [1, 2, 3, 12, 18]\n"
     ]
    },
    {
     "name": "stdin",
     "output_type": "stream",
     "text": [
      "Que jouez-vous ?  18\n"
     ]
    },
    {
     "name": "stdout",
     "output_type": "stream",
     "text": [
      "Nombres valides : [1, 2, 3, 9]\n",
      "Je joue 9\n",
      "Nombres valides : [1, 3]\n"
     ]
    },
    {
     "name": "stdin",
     "output_type": "stream",
     "text": [
      "Que jouez-vous ?  9\n",
      "Incorrect. Que jouez-vous ?  3\n"
     ]
    },
    {
     "name": "stdout",
     "output_type": "stream",
     "text": [
      "Nombres valides : [1, 12, 15]\n",
      "Je joue 1\n",
      "Nombres valides : [2, 4, 5, 7, 8, 10, 11, 12, 13, 14, 15, 16, 17, 19, 20]\n"
     ]
    },
    {
     "name": "stdin",
     "output_type": "stream",
     "text": [
      "Que jouez-vous ?  19\n"
     ]
    },
    {
     "name": "stdout",
     "output_type": "stream",
     "text": [
      "Bravo!\n"
     ]
    }
   ],
   "source": [
    "# Le jeu possède 4 règles :\n",
    "\n",
    "# 1. Le Joueur 1 choisit un nombre entre 1 et Nmax\n",
    "# 2. A tour de rôle, chaque joueur doit choisir un nombre parmi les multiples\n",
    "#    ou les diviseurs du nombre choisi précédemment par son adversaire\n",
    "#    et inférieur à Nmax.\n",
    "# 3. Un nombre ne peut être joué qu'une seule fois.\n",
    "# 4. Le premier nombre choisi doit être pair.\n",
    "\n",
    "# Le perdant est le joueur qui ne trouve plus de multiples ou de diviseurs\n",
    "# communs au nombre précédemment choisi.\n",
    "\n",
    "from random import randint\n",
    "\n",
    "\n",
    "def multiples(n):\n",
    "    # renvoie la liste des multiples de n <= Nmax\n",
    "    mult = []\n",
    "    i = 2\n",
    "    while i*n <= Nmax:\n",
    "        if i*n in possibles:    # on l'ajoute seulement s'il n'a pas été joué\n",
    "            mult.append(i*n)\n",
    "        i += 1\n",
    "    return mult\n",
    "\n",
    "\n",
    "def diviseurs(n):\n",
    "    # renvoie la liste des diviseurs de n\n",
    "    div = []\n",
    "    i = n\n",
    "    while i >= 1:\n",
    "        if n % i == 0 and n//i in possibles:    # on l'ajoute s'il n'a pas été joué\n",
    "            div.append(n//i)\n",
    "        i -= 1\n",
    "    return div\n",
    "\n",
    "\n",
    "Nmax = 20\n",
    "possibles = list(range(1, Nmax+1))   # liste des nombres pas encore utilisés\n",
    "mon_nombre = 2*randint(1, Nmax/2)      # l'ordinateur choisit un nombre pair\n",
    "# on enlèvera de la liste \"possibles\" tous les nombres joués\n",
    "possibles.remove(mon_nombre)\n",
    "\n",
    "# Début du jeu\n",
    "\n",
    "print(\"Jouons avec des nombres entre 1 et\", Nmax)\n",
    "print(\"Je choisis comme nombre de départ\", mon_nombre)\n",
    "valides = diviseurs(mon_nombre) + multiples(mon_nombre)\n",
    "while valides != []:\n",
    "    print(\"Nombres valides :\", valides)\n",
    "    ton_nombre = int(input(\"Que jouez-vous ? \"))\n",
    "    while ton_nombre not in valides:\n",
    "        ton_nombre = int(input(\"Incorrect. Que jouez-vous ? \"))\n",
    "    possibles.remove(ton_nombre)\n",
    "    valides = diviseurs(ton_nombre) + multiples(ton_nombre)\n",
    "    if valides == []:\n",
    "        print(\"Bravo!\")\n",
    "    else:\n",
    "        mon_nombre = valides[randint(0, len(valides)-1)]\n",
    "        print(\"Nombres valides :\", valides)\n",
    "        print(\"Je joue\", mon_nombre)\n",
    "        possibles.remove(mon_nombre)\n",
    "        valides = diviseurs(mon_nombre) + multiples(mon_nombre)\n",
    "        if valides == []:\n",
    "            print(\"Vous avez perdu!\")"
   ]
  },
  {
   "cell_type": "markdown",
   "id": "42516752-da6c-484b-a535-2f36f6e5b4e2",
   "metadata": {},
   "source": [
    "## Exercice 5.4\n",
    "\n",
    "Modifiez le code du § 5.5.\n",
    "\n",
    "Avant de commencer le jeu, le programme demandera au joueur d'entrer la valeur de Nmax. Il demandera aussi si le joueur veut jouer en premier ; il faudra évidemment adapter le programme en conséquence."
   ]
  },
  {
   "cell_type": "code",
   "execution_count": 15,
   "id": "6f3c7468-0773-4a3f-bcbe-cd40225e6436",
   "metadata": {},
   "outputs": [
    {
     "data": {
      "text/plain": [
       "[1, 2]"
      ]
     },
     "execution_count": 15,
     "metadata": {},
     "output_type": "execute_result"
    }
   ],
   "source": [
    "list(range(1, 3))"
   ]
  },
  {
   "cell_type": "code",
   "execution_count": 16,
   "id": "1df42f23-c224-4c1d-90e4-b761bee3b8b2",
   "metadata": {},
   "outputs": [
    {
     "name": "stdin",
     "output_type": "stream",
     "text": [
      "Entrer la valeur de Nmax :  20\n"
     ]
    },
    {
     "name": "stdout",
     "output_type": "stream",
     "text": [
      "Jouons avec des nombres entre 1 et 20\n"
     ]
    },
    {
     "name": "stdin",
     "output_type": "stream",
     "text": [
      "Voulez-vous jouer en premier? [o/n]  o\n"
     ]
    },
    {
     "name": "stdout",
     "output_type": "stream",
     "text": [
      "Nombres valides : [1, 2, 3, 4, 5, 6, 7, 8, 9, 10, 11, 12, 13, 14, 15, 16, 17, 18, 19, 20]\n"
     ]
    },
    {
     "name": "stdin",
     "output_type": "stream",
     "text": [
      "Que jouez-vous ?  11\n"
     ]
    },
    {
     "name": "stdout",
     "output_type": "stream",
     "text": [
      "Nombres valides : [1]\n",
      "Je joue 1\n",
      "Nombres valides : [2, 3, 4, 5, 6, 7, 8, 9, 10, 12, 13, 14, 15, 16, 17, 18, 19, 20]\n"
     ]
    },
    {
     "name": "stdin",
     "output_type": "stream",
     "text": [
      "Que jouez-vous ?  13\n"
     ]
    },
    {
     "name": "stdout",
     "output_type": "stream",
     "text": [
      "Bravo!\n"
     ]
    }
   ],
   "source": [
    "# Exercice 5.4\n",
    "# Modifiez le code du § 5.5.\n",
    "# Avant de commencer le jeu, le programme demandera au joueur d'entrer la valeur de Nmax.\n",
    "# Il demandera aussi si le joueur veut jouer en premier ;\n",
    "# il faudra évidemment adapter le programme en conséquence.\n",
    "\n",
    "# Le jeu possède 4 règles :\n",
    "\n",
    "# 1. Le Joueur 1 choisit un nombre entre 1 et Nmax\n",
    "# 2. A tour de rôle, chaque joueur doit choisir un nombre parmi les multiples\n",
    "#    ou les diviseurs du nombre choisi précédemment par son adversaire\n",
    "#    et inférieur à Nmax.\n",
    "# 3. Un nombre ne peut être joué qu'une seule fois.\n",
    "# 4. Le premier nombre choisi doit être pair.\n",
    "\n",
    "# Le perdant est le joueur qui ne trouve plus de multiples ou de diviseurs\n",
    "# communs au nombre précédemment choisi.\n",
    "\n",
    "from random import randint\n",
    "\n",
    "\n",
    "def multiples(n):\n",
    "    # renvoie la liste des multiples de n <= Nmax\n",
    "    mult = []\n",
    "    i = 2\n",
    "    while i*n <= Nmax:\n",
    "        if i*n in possibles:    # on l'ajoute seulement s'il n'a pas été joué\n",
    "            mult.append(i*n)\n",
    "        i += 1\n",
    "    return mult\n",
    "\n",
    "\n",
    "def diviseurs(n):\n",
    "    # renvoie la liste des diviseurs de n\n",
    "    div = []\n",
    "    i = n\n",
    "    while i >= 1:\n",
    "        if n % i == 0 and n//i in possibles:    # on l'ajoute s'il n'a pas été joué\n",
    "            div.append(n//i)\n",
    "        i -= 1\n",
    "    return div\n",
    "\n",
    "\n",
    "# mon_nombre = 2*randint(1, Nmax/2)      # l'ordinateur choisit un nombre pair\n",
    "# on enlèvera de la liste \"possibles\" tous les nombres joués\n",
    "\n",
    "\n",
    "# Début du jeu\n",
    "\n",
    "# >>>\n",
    "# Valeur de Nmax entrée au clavier par l'utilisateur\n",
    "while True:\n",
    "    try:\n",
    "        Nmax = int(input(\"Entrer la valeur de Nmax : \"))\n",
    "        break\n",
    "    except ValueError:\n",
    "        print(\"Nmax doit être un entier !\")\n",
    "\n",
    "print(\"Jouons avec des nombres entre 1 et\", Nmax)\n",
    "possibles = list(range(1, Nmax+1))   # liste des nombres pas encore utilisés\n",
    "\n",
    "premier = input(\"Voulez-vous jouer en premier? [o/n] \")\n",
    "if premier == 'o':\n",
    "    valides = list(range(1, Nmax+1))\n",
    "else:\n",
    "    # l'ordinateur choisit un nombre pair\n",
    "    mon_nombre = 2*randint(1, Nmax/2)\n",
    "    # on enlèvera de la liste \"possibles\" tous les nombres joués\n",
    "    possibles.remove(mon_nombre)\n",
    "    print(\"Je choisis comme nombre de départ\", mon_nombre)\n",
    "    valides = diviseurs(mon_nombre) + multiples(mon_nombre)\n",
    "\n",
    "# <<<\n",
    "\n",
    "\n",
    "while valides != []:\n",
    "    print(\"Nombres valides :\", valides)\n",
    "    ton_nombre = int(input(\"Que jouez-vous ? \"))\n",
    "    while ton_nombre not in valides:\n",
    "        ton_nombre = int(input(\"Incorrect. Que jouez-vous ? \"))\n",
    "    possibles.remove(ton_nombre)\n",
    "    valides = diviseurs(ton_nombre) + multiples(ton_nombre)\n",
    "    if valides == []:\n",
    "        print(\"Bravo!\")\n",
    "    else:\n",
    "        mon_nombre = valides[randint(0, len(valides)-1)]\n",
    "        print(\"Nombres valides :\", valides)\n",
    "        print(\"Je joue\", mon_nombre)\n",
    "        possibles.remove(mon_nombre)\n",
    "        valides = diviseurs(mon_nombre) + multiples(mon_nombre)\n",
    "        if valides == []:\n",
    "            print(\"Vous avez perdu!\")"
   ]
  },
  {
   "cell_type": "markdown",
   "id": "bcb7012d-87e5-49e3-84b3-f9c56c052023",
   "metadata": {},
   "source": [
    "## Exercice 5.5\n",
    "Modifiez le code de l'exercice 5.4.\n",
    "Dans la version de l'exercice 5.4, l'ordinateur tire simplement au hasard un nombre parmi ceux qui sont valides. Trouvez une meilleure stratégie et programmez-la !"
   ]
  },
  {
   "cell_type": "code",
   "execution_count": 10,
   "id": "5312e250-d656-4db0-822d-50cd3804efcb",
   "metadata": {},
   "outputs": [
    {
     "name": "stdin",
     "output_type": "stream",
     "text": [
      "Entrer la valeur de Nmax :  20\n"
     ]
    },
    {
     "name": "stdout",
     "output_type": "stream",
     "text": [
      "Jouons avec des nombres entre 1 et 20\n"
     ]
    },
    {
     "name": "stdin",
     "output_type": "stream",
     "text": [
      "Voulez-vous jouer en premier? [o/n]  o\n"
     ]
    },
    {
     "name": "stdout",
     "output_type": "stream",
     "text": [
      "Nombres valides : [1, 2, 3, 4, 5, 6, 7, 8, 9, 10, 11, 12, 13, 14, 15, 16, 17, 18, 19, 20]\n"
     ]
    },
    {
     "name": "stdin",
     "output_type": "stream",
     "text": [
      "Que jouez-vous ?  1\n"
     ]
    },
    {
     "name": "stdout",
     "output_type": "stream",
     "text": [
      "Nombres valides : [2, 3, 4, 5, 6, 7, 8, 9, 10, 11, 12, 13, 14, 15, 16, 17, 18, 19, 20]\n",
      "Je joue 19\n",
      "Vous avez perdu!\n"
     ]
    }
   ],
   "source": [
    "# Exercice 5.5\n",
    "# Modifiez le code de l'exercice 5.4.\n",
    "# Dans la version de l'exercice 5.4, l'ordinateur tire simplement au hasard un nombre\n",
    "# parmi ceux qui sont valides. Trouvez une meilleure stratégie et programmez-la !\n",
    "\n",
    "# Exercice 5.4\n",
    "# Modifiez le code du § 5.5.\n",
    "# Avant de commencer le jeu, le programme demandera au joueur d'entrer la valeur de Nmax.\n",
    "# Il demandera aussi si le joueur veut jouer en premier ;\n",
    "# il faudra évidemment adapter le programme en conséquence.\n",
    "\n",
    "# Le jeu possède 4 règles :\n",
    "\n",
    "# 1. Le Joueur 1 choisit un nombre entre 1 et Nmax\n",
    "# 2. A tour de rôle, chaque joueur doit choisir un nombre parmi les multiples\n",
    "#    ou les diviseurs du nombre choisi précédemment par son adversaire\n",
    "#    et inférieur à Nmax.\n",
    "# 3. Un nombre ne peut être joué qu'une seule fois.\n",
    "# 4. Le premier nombre choisi doit être pair.\n",
    "\n",
    "# Le perdant est le joueur qui ne trouve plus de multiples ou de diviseurs\n",
    "# communs au nombre précédemment choisi.\n",
    "\n",
    "from random import randint\n",
    "from sympy import isprime\n",
    "\n",
    "\n",
    "def multiples(n):\n",
    "    # renvoie la liste des multiples de n <= Nmax\n",
    "    mult = []\n",
    "    i = 2\n",
    "    while i*n <= Nmax:\n",
    "        if i*n in possibles:    # on l'ajoute seulement s'il n'a pas été joué\n",
    "            mult.append(i*n)\n",
    "        i += 1\n",
    "    return mult\n",
    "\n",
    "\n",
    "def diviseurs(n):\n",
    "    # renvoie la liste des diviseurs de n\n",
    "    div = []\n",
    "    i = n\n",
    "    while i >= 1:\n",
    "        if n % i == 0 and n//i in possibles:    # on l'ajoute s'il n'a pas été joué\n",
    "            div.append(n//i)\n",
    "        i -= 1\n",
    "    return div\n",
    "\n",
    "\n",
    "# Début du jeu\n",
    "\n",
    "# Valeur de Nmax entrée au clavier par l'utilisateur\n",
    "while True:\n",
    "    try:\n",
    "        Nmax = int(input(\"Entrer la valeur de Nmax : \"))\n",
    "        break\n",
    "    except ValueError:\n",
    "        print(\"Nmax doit être un entier !\")\n",
    "\n",
    "print(\"Jouons avec des nombres entre 1 et\", Nmax)\n",
    "possibles = list(range(1, Nmax+1))   # liste des nombres pas encore utilisés\n",
    "\n",
    "premier = input(\"Voulez-vous jouer en premier? [o/n] \")\n",
    "if premier == 'o':\n",
    "    valides = list(range(1, Nmax+1))\n",
    "else:\n",
    "    # l'ordinateur choisit un nombre pair\n",
    "    mon_nombre = 2*randint(1, Nmax/2)\n",
    "    # on enlèvera de la liste \"possibles\" tous les nombres joués\n",
    "    possibles.remove(mon_nombre)\n",
    "    print(\"Je choisis comme nombre de départ\", mon_nombre)\n",
    "    valides = diviseurs(mon_nombre) + multiples(mon_nombre)\n",
    "\n",
    "\n",
    "while valides != []:\n",
    "    print(\"Nombres valides :\", valides)\n",
    "    ton_nombre = int(input(\"Que jouez-vous ? \"))\n",
    "    while ton_nombre not in valides:\n",
    "        ton_nombre = int(input(\"Incorrect. Que jouez-vous ? \"))\n",
    "    possibles.remove(ton_nombre)\n",
    "    valides = diviseurs(ton_nombre) + multiples(ton_nombre)\n",
    "    if valides == []:\n",
    "        print(\"Bravo!\")\n",
    "    else:\n",
    "        # >>> Nouvelle stratégie\n",
    "        # S'il existe un nombre premier plus grand que Nmax/2, je le choisis\n",
    "        # sinon je prends le plus grand nombre de la liste des valides\n",
    "        premier = 0\n",
    "        for nombre in valides[Nmax//2:]:\n",
    "            if isprime(nombre):\n",
    "                premier = nombre\n",
    "        if premier:\n",
    "            mon_nombre = premier\n",
    "        else:\n",
    "            mon_nombre = valides[-1]  # nombre valide le plus grand possible\n",
    "        # <<<\n",
    "        print(\"Nombres valides :\", valides)\n",
    "        print(\"Je joue\", mon_nombre)\n",
    "        possibles.remove(mon_nombre)\n",
    "        valides = diviseurs(mon_nombre) + multiples(mon_nombre)\n",
    "        if valides == []:\n",
    "            print(\"Vous avez perdu!\")"
   ]
  },
  {
   "cell_type": "markdown",
   "id": "33d2152c-25c1-4287-b29b-4d28ed01373a",
   "metadata": {},
   "source": [
    "## Exercice 5.6\n",
    "Une variante pour jouer seul au jeu de Juniper Green consiste à trouver la plus longue partie possible pour un Nmax donné.\n",
    "Programmez une méthode probabiliste : faites des milliers de parties en jouant des coups (légaux) au hasard et gardez en mémoire la partie la plus longue, que vous afficherez à la fin.\n"
   ]
  },
  {
   "cell_type": "code",
   "execution_count": 18,
   "id": "2b60184b-c176-40d3-8ccb-c0e17c10f39e",
   "metadata": {},
   "outputs": [
    {
     "name": "stdout",
     "output_type": "stream",
     "text": [
      "Jeu le plus long:  36\n",
      "41 31 1 11 44 22 2 26 13 39 3 21 7 28 14 42 6 24 48 12 36 18 9 45 15 30 10 20 4 16 32 8 40 5 50 25\n"
     ]
    }
   ],
   "source": [
    "# Exercice 5.6\n",
    "# Une variante pour jouer seul au jeu de Juniper Green consiste à trouver\n",
    "# la plus longue partie possible pour un Nmax donné.\n",
    "# Programmez une méthode probabiliste :\n",
    "# faites des milliers de parties en jouant des coups (légaux) au hasard et gardez en mémoire\n",
    "# la partie la plus longue, que vous afficherez à la fin.\n",
    "\n",
    "from random import randint, choice\n",
    "\n",
    "\n",
    "def multiples(n):\n",
    "    # renvoie la liste des multiples de n <= Nmax\n",
    "    mult = []\n",
    "    i = 2\n",
    "    while i*n <= Nmax:\n",
    "        if i*n in possibles:    # on l'ajoute seulement s'il n'a pas été joué\n",
    "            mult.append(i*n)\n",
    "        i += 1\n",
    "    return mult\n",
    "\n",
    "\n",
    "def diviseurs(n):\n",
    "    # renvoie la liste des diviseurs de n\n",
    "    div = []\n",
    "    i = n\n",
    "    while i >= 1:\n",
    "        if n % i == 0 and n//i in possibles:    # on l'ajoute s'il n'a pas été joué\n",
    "            div.append(n//i)\n",
    "        i -= 1\n",
    "    return div\n",
    "\n",
    "\n",
    "Nmax = 50\n",
    "liste_max = []\n",
    "\n",
    "for _ in range(100000):\n",
    "    liste_des_coups = []\n",
    "\n",
    "    # Début du jeu\n",
    "    possibles = list(range(1, Nmax+1))  # liste des nombres pas encore utilisés\n",
    "    nombre = choice(possibles)  # l'ordinateur choisit un nombre au hasard\n",
    "    liste_des_coups.append(nombre)\n",
    "    possibles.remove(nombre)\n",
    "    valides = diviseurs(mon_nombre) + multiples(mon_nombre)\n",
    "\n",
    "    while valides != []:\n",
    "        nombre = valides[randint(0, len(valides)-1)]\n",
    "        liste_des_coups.append(nombre)\n",
    "        possibles.remove(nombre)\n",
    "        valides = diviseurs(nombre) + multiples(nombre)\n",
    "        if valides == []:\n",
    "            if len(liste_des_coups) > len(liste_max):\n",
    "                liste_max = liste_des_coups\n",
    "\n",
    "print('Jeu le plus long: ', len(liste_max))\n",
    "print(*liste_max)"
   ]
  },
  {
   "cell_type": "markdown",
   "id": "5e7d5009-4b6e-47d0-8456-e6a49b6a9092",
   "metadata": {},
   "source": [
    "## Exercice 5.7: les vignettes Panini\n",
    "Collectionner les vignettes autocollantes vendues à l'occasion de la coupe du monde de football : voici une activité (onéreuse) à laquelle s'adonnent avec joie de nombreux enfants (et leurs parents).\n",
    "\n",
    "Imaginons que l'on commence un nouvel album. Il faudra coller 700 vignettes. Supposons que l'on achète les vignettes à l'unité. Évidemment, on ne sait pas quelle vignette on achète : elle est scellée dans une pochette. Si on ne fait pas d'échanges, combien de vignettes faudra-t-il acheter pour remplir l'album ?\n",
    "Répondez à cette question à l'aide d'un programme Python.\n"
   ]
  },
  {
   "cell_type": "code",
   "execution_count": 21,
   "id": "9334d3f1-eff8-4cb4-b451-735899c86321",
   "metadata": {},
   "outputs": [
    {
     "name": "stdout",
     "output_type": "stream",
     "text": [
      "Nombre d'achats :  4202\n"
     ]
    }
   ],
   "source": [
    "# Exercice 5.7: les vignettes Panini\n",
    "# Collectionner les vignettes autocollantes vendues à l'occasion de la coupe du monde de football :\n",
    "# voici une activité (onéreuse) à laquelle s'adonnent avec joie de nombreux enfants (et leurs parents).\n",
    "\n",
    "# Imaginons que l'on commence un nouvel album. Il faudra coller 700 vignettes.\n",
    "# Supposons que l'on achète les vignettes à l'unité. Évidemment, on ne sait pas quelle vignette on achète :\n",
    "# elle est scellée dans une pochette. Si on ne fait pas d'échanges, combien de vignettes faudra-t-il acheter\n",
    "# pour remplir l'album ?\n",
    "# Répondez à cette question à l'aide d'un programme Python.\n",
    "\n",
    "# Nombre de vignettes pour remplir l'album\n",
    "\n",
    "album = []\n",
    "achat = 0\n",
    "\n",
    "while len(album) != 700:\n",
    "    achat += 1\n",
    "    vignette = randint(1, 700)\n",
    "\n",
    "    if vignette not in album:\n",
    "        album.append(vignette)\n",
    "\n",
    "print('Nombre d\\'achats : ', achat)"
   ]
  },
  {
   "cell_type": "code",
   "execution_count": 30,
   "id": "ff2a9c08-fe7b-4fa8-a440-ca67acbe7497",
   "metadata": {},
   "outputs": [
    {
     "name": "stdout",
     "output_type": "stream",
     "text": [
      "Nombre d'achats moyens: 5020.65\n"
     ]
    }
   ],
   "source": [
    "NB_ALBUMS = 1000\n",
    "\n",
    "# Nombre moyens d'achats\n",
    "\n",
    "\n",
    "def remplissage_album():\n",
    "    album = []\n",
    "    achat = 0\n",
    "    while len(album) != 700:\n",
    "        achat += 1\n",
    "        vignette = randint(1, 700)\n",
    "        if vignette not in album:\n",
    "            album.append(vignette)\n",
    "    return achat\n",
    "\n",
    "\n",
    "cumul_des_achats = 0\n",
    "for _ in range(NB_ALBUMS):\n",
    "    cumul_des_achats += remplissage_album()\n",
    "print('Nombre d\\'achats moyens: {:.2f}'.format(cumul_des_achats/NB_ALBUMS))"
   ]
  },
  {
   "cell_type": "markdown",
   "id": "2c634961-b1c7-4bad-9922-f8b66b259fdf",
   "metadata": {},
   "source": [
    "## Exercice 5.8: Le Verger"
   ]
  },
  {
   "cell_type": "code",
   "execution_count": 1,
   "id": "3124d3b5-25bb-43bc-b5d8-f3d56cf511fd",
   "metadata": {},
   "outputs": [
    {
     "name": "stdout",
     "output_type": "stream",
     "text": [
      "perdu\n",
      "2 5 9 4\n"
     ]
    }
   ],
   "source": [
    "#  Ce dé a 6 faces :\n",
    "# jaune pour la poire\n",
    "# vert pour la pomme\n",
    "# bleu pour la prune\n",
    "# rouge pour la cerise\n",
    "# panier\n",
    "# corbeau\n",
    "\n",
    "from random import choice\n",
    "\n",
    "poire = 10\n",
    "pomme = 10\n",
    "prune = 10\n",
    "cerise = 10\n",
    "\n",
    "puzzle = 0\n",
    "\n",
    "jouer = True\n",
    "\n",
    "while jouer:\n",
    "    dé = ['jaune', 'vert', 'bleu', 'rouge', 'panier', 'corbeau']\n",
    "    lancer = choice(dé)\n",
    "\n",
    "    if lancer in ['jaune', 'vert', 'bleu', 'rouge']:\n",
    "        # Cueillette sur l'arbre correspondant si c'est possible\n",
    "        if lancer == 'jaune' and poire:\n",
    "            poire -= 1\n",
    "        elif lancer == 'vert' and pomme:\n",
    "            pomme -= 1\n",
    "        elif lancer == 'bleu' and prune:\n",
    "            prune -= 1\n",
    "        elif lancer == 'rouge' and cerise:\n",
    "            cerise -= 1\n",
    "    elif lancer == 'panier':\n",
    "        # doit récupérer deux fruits\n",
    "        # Version basique:\n",
    "        # Cueille des fruits de manière séquentielle\n",
    "        fruit = 0\n",
    "        while fruit < 2 and (poire or pomme or prune or cerise):\n",
    "            if poire:\n",
    "                poire -= 1\n",
    "                fruit += 1\n",
    "            elif pomme:\n",
    "                pomme -= 1\n",
    "                fruit += 1\n",
    "            elif prune:\n",
    "                prune -= 1\n",
    "                fruit += 1\n",
    "            elif cerise:\n",
    "                cerise -= 1\n",
    "                fruit += 1\n",
    "    elif lancer == 'corbeau':\n",
    "        puzzle += 1\n",
    "\n",
    "    # conditions de fin de partie\n",
    "    if puzzle == 9 or (not poire and not pomme and not prune and not cerise):\n",
    "        jouer = False\n",
    "\n",
    "\n",
    "if poire or pomme or prune or cerise:  # autre option : puzzle == 9\n",
    "    print('perdu')\n",
    "\n",
    "else:\n",
    "    print('gagné')\n",
    "\n",
    "print(poire, pomme, prune, cerise)"
   ]
  },
  {
   "cell_type": "code",
   "execution_count": 2,
   "id": "f3d466e1-d754-47ca-8d4d-9f0c8d1af0f2",
   "metadata": {},
   "outputs": [
    {
     "name": "stdout",
     "output_type": "stream",
     "text": [
      "Pourcentage de victoires des joueurs : 56.91\n",
      "Nombre moyen de coups dans une partie : 43.46\n"
     ]
    }
   ],
   "source": [
    "# Écrivez un programme qui simulera 100'000 parties de ce jeu.\n",
    "# Vous indiquerez comme résultat le pourcentage de victoires des joueurs,\n",
    "# ainsi que le nombre moyen de coups dans une partie.\n",
    "\n",
    "from random import choice\n",
    "\n",
    "\n",
    "def jeu_du_verger():\n",
    "    poire = 10\n",
    "    pomme = 10\n",
    "    prune = 10\n",
    "    cerise = 10\n",
    "\n",
    "    puzzle = 0\n",
    "\n",
    "    jouer = True\n",
    "    nombre_de_lancers = 0\n",
    "    victoire = False\n",
    "\n",
    "    while jouer:\n",
    "        dé = ['jaune', 'vert', 'bleu', 'rouge', 'panier', 'corbeau']\n",
    "        lancer = choice(dé)\n",
    "        nombre_de_lancers += 1\n",
    "\n",
    "        if lancer in ['jaune', 'vert', 'bleu', 'rouge']:\n",
    "            # Cueillette sur l'arbre correspondant si c'est possible\n",
    "            if lancer == 'jaune' and poire:\n",
    "                poire -= 1\n",
    "            elif lancer == 'vert' and pomme:\n",
    "                pomme -= 1\n",
    "            elif lancer == 'bleu' and prune:\n",
    "                prune -= 1\n",
    "            elif lancer == 'rouge' and cerise:\n",
    "                cerise -= 1\n",
    "        elif lancer == 'panier':\n",
    "            # doit récupérer deux fruits\n",
    "            # Version basique:\n",
    "            # Cueille des fruits de manière séquentielle\n",
    "            fruit = 0\n",
    "            while fruit < 2 and (poire or pomme or prune or cerise):\n",
    "                if poire:\n",
    "                    poire -= 1\n",
    "                    fruit += 1\n",
    "                elif pomme:\n",
    "                    pomme -= 1\n",
    "                    fruit += 1\n",
    "                elif prune:\n",
    "                    prune -= 1\n",
    "                    fruit += 1\n",
    "                elif cerise:\n",
    "                    cerise -= 1\n",
    "                    fruit += 1\n",
    "        elif lancer == 'corbeau':\n",
    "            puzzle += 1\n",
    "\n",
    "        # conditions de fin de partie\n",
    "        if puzzle == 9 or (not poire and not pomme and not prune and not cerise):\n",
    "            jouer = False\n",
    "\n",
    "    if poire or pomme or prune or cerise:  # autre option : puzzle == 9\n",
    "        victoire = False\n",
    "    else:\n",
    "        victoire = True\n",
    "\n",
    "    return victoire, nombre_de_lancers\n",
    "\n",
    "\n",
    "# Simulations de parties\n",
    "gagné = 0\n",
    "perdu = 0\n",
    "nombre_de_lancers_total = 0\n",
    "n_simulations = 100000\n",
    "for _ in range(n_simulations):\n",
    "    victoire, nombre_de_lancers = jeu_du_verger()\n",
    "    nombre_de_lancers_total += nombre_de_lancers\n",
    "    if victoire:\n",
    "        gagné += 1\n",
    "    else:\n",
    "        perdu += 1\n",
    "print('Pourcentage de victoires des joueurs : {:.2f}'.format(\n",
    "    gagné/(gagné+perdu)*100))\n",
    "print('Nombre moyen de coups dans une partie : {:.2f}'.format(\n",
    "    nombre_de_lancers_total/n_simulations))"
   ]
  },
  {
   "cell_type": "code",
   "execution_count": null,
   "id": "e5d3300b-47ae-4edb-9293-248da0f8bbef",
   "metadata": {},
   "outputs": [],
   "source": []
  },
  {
   "cell_type": "code",
   "execution_count": 9,
   "id": "2186553c-ef61-4185-9983-9767bcb8476d",
   "metadata": {},
   "outputs": [
    {
     "data": {
      "text/plain": [
       "2"
      ]
     },
     "execution_count": 9,
     "metadata": {},
     "output_type": "execute_result"
    }
   ],
   "source": [
    "# Gestion plus optimisée du cas du panier\n",
    "import numpy as np\n",
    "np.argmax([1, 2, 3])"
   ]
  },
  {
   "cell_type": "code",
   "execution_count": 10,
   "id": "6a3362fa-8e2b-4128-aaaa-3ddf0a1616da",
   "metadata": {},
   "outputs": [
    {
     "data": {
      "text/plain": [
       "2"
      ]
     },
     "execution_count": 10,
     "metadata": {},
     "output_type": "execute_result"
    }
   ],
   "source": [
    "liste =[1, 2, 3]\n",
    "liste.index(max(liste))"
   ]
  },
  {
   "cell_type": "code",
   "execution_count": null,
   "id": "e3f93425-2c8f-48c7-afde-a6865c4c1b09",
   "metadata": {},
   "outputs": [],
   "source": []
  },
  {
   "cell_type": "code",
   "execution_count": 4,
   "id": "584375f1-6d08-4bcc-9bef-cdbd06d2efe2",
   "metadata": {},
   "outputs": [
    {
     "name": "stdout",
     "output_type": "stream",
     "text": [
      "Pourcentage de victoires des joueurs : 67.65\n",
      "Nombre moyen de coups dans une partie : 40.32\n"
     ]
    }
   ],
   "source": [
    "# Écrivez un programme qui simulera 100'000 parties de ce jeu.\n",
    "# Vous indiquerez comme résultat le pourcentage de victoires des joueurs,\n",
    "# ainsi que le nombre moyen de coups dans une partie.\n",
    "\n",
    "from random import choice\n",
    "import numpy as np\n",
    "\n",
    "\n",
    "def jeu_du_verger():\n",
    "\n",
    "    fruits = [10, 10, 10, 10]\n",
    "    # indices:\n",
    "    # poirier = 0\n",
    "    # pommier = 1\n",
    "    # prunier = 2\n",
    "    # cerisier = 3\n",
    "\n",
    "    puzzle = 0\n",
    "\n",
    "    jouer = True\n",
    "    nombre_de_lancers = 0\n",
    "    victoire = False\n",
    "\n",
    "    while jouer:\n",
    "        dé = [0, 1, 2, 3, 'panier', 'corbeau']\n",
    "        lancer = choice(dé)\n",
    "        nombre_de_lancers += 1\n",
    "\n",
    "        if lancer in [0, 1, 2, 3]:\n",
    "            arbre = lancer\n",
    "            # Cueillette sur l'arbre correspondant si c'est possible\n",
    "            if fruits[arbre] != 0:\n",
    "                fruits[arbre] = fruits[arbre] - 1\n",
    "\n",
    "        elif lancer == 'panier':\n",
    "            # pass\n",
    "            # \"\"\"\n",
    "            # doit récupérer deux fruits\n",
    "            # Version avancée:\n",
    "            # Cueille des fruits là où il y en a le plus\n",
    "            arbre_max = np.argmax(fruits)\n",
    "            if fruits[arbre_max] >= 2:\n",
    "                fruits[arbre_max] = fruits[arbre_max] - 2\n",
    "            elif fruits[arbre_max] == 1:\n",
    "                fruits[arbre_max] = fruits[arbre_max] - 1\n",
    "                # On en prend un deuxième s'il y a encore des fruits\n",
    "                arbre_max = np.argmax(fruits)\n",
    "                if fruits[arbre_max] == 1:\n",
    "                    fruits[arbre_max] = fruits[arbre_max] - 1\n",
    "            # \"\"\"\n",
    "\n",
    "        elif lancer == 'corbeau':\n",
    "            puzzle += 1\n",
    "\n",
    "        # conditions de fin de partie\n",
    "        if puzzle == 9 or sum(fruits) == 0:\n",
    "            jouer = False\n",
    "\n",
    "    if puzzle == 9:\n",
    "        victoire = False\n",
    "    else:\n",
    "        victoire = True\n",
    "\n",
    "    return victoire, nombre_de_lancers\n",
    "\n",
    "\n",
    "# Simulations de parties\n",
    "gagné = 0\n",
    "perdu = 0\n",
    "nombre_de_lancers_total = 0\n",
    "n_simulations = 100000\n",
    "for _ in range(n_simulations):\n",
    "    victoire, nombre_de_lancers = jeu_du_verger()\n",
    "    nombre_de_lancers_total += nombre_de_lancers\n",
    "    if victoire:\n",
    "        gagné += 1\n",
    "    else:\n",
    "        perdu += 1\n",
    "print('Pourcentage de victoires des joueurs : {:.2f}'.format(\n",
    "    gagné/(gagné+perdu)*100))\n",
    "print('Nombre moyen de coups dans une partie : {:.2f}'.format(\n",
    "    nombre_de_lancers_total/n_simulations))"
   ]
  },
  {
   "cell_type": "markdown",
   "id": "9164e6a5-e868-4d59-b0a9-96244661f1fd",
   "metadata": {},
   "source": [
    "## Exercice 5.9 : Les cartes de loto\n",
    " Écrivez un programme produisant une carte de loto (voir l'exemple ci-dessus, avec en rouge les numéros des colonnes). Il faudra tout d'abord trouver un algorithme permettant de créer une carte en respectant ces contraintes :\n",
    "- Une carte contient 9 colonnes et 3 lignes.\n",
    "- Il y a sur la carte 15 numéros différents choisis parmi les nombres de 1 à 90.\n",
    "- Chaque ligne contient 5 numéros (et donc 4 espaces vides).\n",
    "- Il y a toujours au moins un numéro par colonne.\n",
    "- Il peut y avoir 3 numéros dans une colonne, mais seulement dans la colonne 8.\n",
    "- La colonne 0 contient les numéros de 1 à 9.\n",
    "- La colonne 1 contient les numéros de 10 à 19.\n",
    "- La colonne 2 contient les numéros de 20 à 29. •...\n",
    "- La colonne 7 contient les numéros de 70 à 79.\n",
    "- La colonne 8 contient les numéros de 80 à 90."
   ]
  },
  {
   "cell_type": "code",
   "execution_count": 12,
   "id": "384d25c9-8ab6-4a1b-9ae8-aaa7b3a25a75",
   "metadata": {},
   "outputs": [],
   "source": [
    "# Exercice 5.9 : Les cartes de loto\n",
    "# sans contraintes"
   ]
  },
  {
   "cell_type": "code",
   "execution_count": 13,
   "id": "48c6f3b9-4030-4c3d-9ecf-955d2a4075ed",
   "metadata": {},
   "outputs": [
    {
     "data": {
      "text/plain": [
       "[0, 1, 2, 3, 4, 5, 6, 7, 8]"
      ]
     },
     "execution_count": 13,
     "metadata": {},
     "output_type": "execute_result"
    }
   ],
   "source": [
    "list(range(9))  # 9 colonnes"
   ]
  },
  {
   "cell_type": "code",
   "execution_count": 14,
   "id": "32aa76d3-ed2d-483b-86a7-d2443183dd97",
   "metadata": {},
   "outputs": [
    {
     "data": {
      "text/plain": [
       "[1, 0, 3, 2]"
      ]
     },
     "execution_count": 14,
     "metadata": {},
     "output_type": "execute_result"
    }
   ],
   "source": [
    "from random import sample\n",
    "sample([0, 1, 2, 3, 4, 5, 6, 7, 8, 9], 4)  # les indices des 4 vides"
   ]
  },
  {
   "cell_type": "code",
   "execution_count": 15,
   "id": "0f836d12-dcc0-4c6e-8225-cc9d0d6fc010",
   "metadata": {},
   "outputs": [
    {
     "name": "stdout",
     "output_type": "stream",
     "text": [
      "[3, 4, 6, 8]\n"
     ]
    }
   ],
   "source": [
    "l = sorted(sample([0, 1, 2, 3, 4, 5, 6, 7, 8, 9], 4))\n",
    "print(l)"
   ]
  },
  {
   "cell_type": "code",
   "execution_count": 16,
   "id": "af448b67-a7fc-46bf-9de6-30c449180bba",
   "metadata": {},
   "outputs": [
    {
     "data": {
      "text/plain": [
       "[[2, 6, 9],\n",
       " [10, 13, 15],\n",
       " [22, 26, 27],\n",
       " [31, 32, 38],\n",
       " [40, 43, 49],\n",
       " [50, 57, 58],\n",
       " [63, 65, 69],\n",
       " [70, 73, 78],\n",
       " [82, 86, 88]]"
      ]
     },
     "execution_count": 16,
     "metadata": {},
     "output_type": "execute_result"
    }
   ],
   "source": [
    "carte = []\n",
    "for colonne in range(9):\n",
    "    carte.append(sorted(sample(list(range(colonne*10, (colonne+1)*10)), 3)))\n",
    "carte"
   ]
  },
  {
   "cell_type": "code",
   "execution_count": 17,
   "id": "8d4ae4c8-22e9-4639-8453-d098be495d5a",
   "metadata": {},
   "outputs": [
    {
     "data": {
      "text/plain": [
       "9"
      ]
     },
     "execution_count": 17,
     "metadata": {},
     "output_type": "execute_result"
    }
   ],
   "source": [
    "len(carte)"
   ]
  },
  {
   "cell_type": "code",
   "execution_count": 32,
   "id": "519641be-ce29-4229-b9fd-d23242322b99",
   "metadata": {},
   "outputs": [
    {
     "name": "stdout",
     "output_type": "stream",
     "text": [
      "\u001b[35m  0  1  2  3  4  5  6  7  8\u001b[0m\n",
      "  0 12 20 32 41 50 64 71 80\n",
      "  1 13 21 33 42 53 67 75 82\n",
      "  8 17 28 36 48 58 69 79 88\n"
     ]
    }
   ],
   "source": [
    "def générer_carte():\n",
    "    carte = []\n",
    "    for colonne in range(9):\n",
    "        carte.append(\n",
    "            sorted(sample(list(range(colonne*10, (colonne+1)*10)), 3)))\n",
    "    return carte\n",
    "\n",
    "# Affichage de la carte du loto\n",
    "from termcolor import cprint  # couleurs pour les indices\n",
    "\n",
    "def affiche(carte, debug=False):\n",
    "    if debug == True:\n",
    "        # Affichage des numéros de colonne\n",
    "        indices = ''\n",
    "        for i in range(9):\n",
    "            indices += '{:3d}'.format(i)\n",
    "        cprint(indices, 'magenta')\n",
    "        \n",
    "    for ligne in range(3):\n",
    "        for colonne in range(len(carte)):\n",
    "            valeur = carte[colonne][ligne]\n",
    "            if valeur == None:\n",
    "                print('   '.format(valeur), end='')\n",
    "            else:\n",
    "                print('{:3d}'.format(valeur), end='')\n",
    "        print('')\n",
    "\n",
    "\n",
    "carte = générer_carte()\n",
    "affiche(carte, debug=True)"
   ]
  },
  {
   "cell_type": "code",
   "execution_count": 35,
   "id": "db293be8-f951-461e-8851-79346f06be1b",
   "metadata": {},
   "outputs": [
    {
     "name": "stdout",
     "output_type": "stream",
     "text": [
      "\u001b[35m  0  1  2  3  4  5  6  7  8\u001b[0m\n",
      "  1    23 32       62 74   \n",
      "  7    26    46    64 75   \n",
      "  8 16 29 36 48 59 67 76 89\n",
      "colonnes_avec_numéro_obligatoire :  [8, 5, 1]\n",
      "colonnes_avec_vide_obligatoire :  [0, 2, 6, 7]\n"
     ]
    }
   ],
   "source": [
    "# code des contraintes\n",
    "# Chaque ligne contient 5 numéros (et donc 4 espaces vides).\n",
    "# Il y a toujours au moins un numéro par colonne.\n",
    "# Il peut y avoir 3 numéros dans une colonne, mais seulement dans la colonne 8.\n",
    "\n",
    "carte = générer_carte()\n",
    "\n",
    "# liste des indices des espaces vides pour la première ligne:\n",
    "vides_ligne_1 = sample(list(range(9)), 4)\n",
    "for colonne in vides_ligne_1:\n",
    "    carte[colonne][0] = None\n",
    "\n",
    "# liste des indices des espaces vides pour la deuxième ligne:\n",
    "vides_ligne_2 = sample(list(range(9)), 4)\n",
    "for colonne in vides_ligne_2:\n",
    "    carte[colonne][1] = None\n",
    "\n",
    "# ligne 3: Il y a toujours au moins un numéro par colonne\n",
    "# Si deux espaces vides au dessus\n",
    "# numéro_obligatoire\n",
    "colonnes_avec_numéro_obligatoire = []\n",
    "for c in vides_ligne_1:\n",
    "    if c in vides_ligne_2:\n",
    "        colonnes_avec_numéro_obligatoire.append(c)\n",
    "affiche(carte, debug=True)\n",
    "print('colonnes_avec_numéro_obligatoire : ', colonnes_avec_numéro_obligatoire)\n",
    "\n",
    "# Vides obligatoires\n",
    "colonnes_avec_vide_obligatoire = []\n",
    "# Il peut y avoir 3 numéros dans une colonne, mais seulement dans la colonne 8.\n",
    "for c in range(8):  # sauf la dernière colonne\n",
    "    if (carte[c][0] != None) and (carte[c][1] != None):\n",
    "        colonnes_avec_vide_obligatoire.append(c)\n",
    "print('colonnes_avec_vide_obligatoire : ', colonnes_avec_vide_obligatoire)"
   ]
  },
  {
   "cell_type": "code",
   "execution_count": 36,
   "id": "263ed01b-ddea-48fc-a115-8babee8c9aad",
   "metadata": {},
   "outputs": [
    {
     "name": "stdout",
     "output_type": "stream",
     "text": [
      "  1    23 32       62 74   \n",
      "  7    26    46    64 75   \n",
      "    16    36 48 59       89\n"
     ]
    }
   ],
   "source": [
    "# On place tous les vides obligatoires\n",
    "for c in colonnes_avec_vide_obligatoire:\n",
    "    carte[c][2] = None\n",
    "\n",
    "# nombre de choix disponibles pour les vides\n",
    "nb_vides_ligne_3 = 4 - len(colonnes_avec_vide_obligatoire)    \n",
    "\n",
    "# listes des indices de colonnes possibles pour les vides restants à placer:\n",
    "colonnes_possibles = list(range(9))\n",
    "for c in colonnes_avec_numéro_obligatoire:\n",
    "    colonnes_possibles.remove(c)\n",
    "\n",
    "# On place tous les vides restants\n",
    "vides_restants_ligne_3 = sample(colonnes_possibles, nb_vides_ligne_3)\n",
    "for c in vides_restants_ligne_3:\n",
    "    carte[c][2] = None\n",
    "affiche(carte)"
   ]
  },
  {
   "cell_type": "code",
   "execution_count": 41,
   "id": "eedb9793-3f42-4421-8b49-3941ab6e525e",
   "metadata": {},
   "outputs": [
    {
     "name": "stdout",
     "output_type": "stream",
     "text": [
      "\u001b[35m  0  1  2  3  4  5  6  7  8\u001b[0m\n",
      "  2 10    30       62    80\n",
      "  7 14             67 72 85\n",
      "       26 36 46 58    79 88\n"
     ]
    }
   ],
   "source": [
    "# Exercice 5.9 : Les cartes de loto\n",
    "# Le code complet\n",
    "\n",
    "def générer_carte():\n",
    "    carte_transposée = []\n",
    "    for colonne in range(9):\n",
    "        carte_transposée.append(\n",
    "            sorted(sample(list(range(colonne*10, (colonne+1)*10)), 3)))\n",
    "    \n",
    "    # On transforme la représentation de la carte pour avoir le classique carte[ligne][colonne]\n",
    "    carte= [[], [], []]  # liste des 3 lignes (contenant chacune 9 colonnes)\n",
    "    for ligne in range(3):\n",
    "        for colonne in range(9):\n",
    "            carte[ligne].append(carte_transposée[colonne][ligne])\n",
    "    return carte\n",
    "\n",
    "# Affichage de la carte du loto\n",
    "from termcolor import cprint  # couleurs pour les indices\n",
    "\n",
    "def affiche(carte, debug=False):\n",
    "    if debug == True:\n",
    "        # Affichage des numéros de colonne\n",
    "        indices = ''\n",
    "        for j in range(9):\n",
    "            indices += '{:3d}'.format(j)\n",
    "        cprint(indices, 'magenta')\n",
    "        \n",
    "    for i in range(3):\n",
    "        for j in range(9):\n",
    "            valeur = carte[i][j]\n",
    "            if valeur == None:\n",
    "                print('   '.format(valeur), end='')\n",
    "            else:\n",
    "                print('{:3d}'.format(valeur), end='')\n",
    "        print('')\n",
    "\n",
    "\n",
    "def placement_des_vides(carte):\n",
    "    # liste des indices des espaces vides pour la première ligne:\n",
    "    vides_ligne_1 = sample(list(range(9)), 4)\n",
    "    for colonne in vides_ligne_1:\n",
    "        carte[0][colonne] = None\n",
    "\n",
    "    # liste des indices des espaces vides pour la deuxième ligne:\n",
    "    vides_ligne_2 = sample(list(range(9)), 4)\n",
    "    for colonne in vides_ligne_2:\n",
    "        carte[1][colonne] = None\n",
    "\n",
    "    # ligne 3: Il y a toujours au moins un numéro par colonne\n",
    "    # Si deux espaces vides au dessus\n",
    "    # numéro_obligatoire\n",
    "    colonnes_avec_numéro_obligatoire = []\n",
    "    for c in vides_ligne_1:\n",
    "        if c in vides_ligne_2:\n",
    "            colonnes_avec_numéro_obligatoire.append(c)\n",
    "\n",
    "    # Vides obligatoires\n",
    "    colonnes_avec_vide_obligatoire = []\n",
    "    # Il peut y avoir 3 numéros dans une colonne, mais seulement dans la colonne 8.\n",
    "    for c in range(8):  # sauf la dernière colonne\n",
    "        if (carte[0][c] != None) and (carte[1][c] != None):\n",
    "            colonnes_avec_vide_obligatoire.append(c)\n",
    "\n",
    "    # On place tous les vides obligatoires\n",
    "    for c in colonnes_avec_vide_obligatoire:\n",
    "        carte[2][c] = None\n",
    "        \n",
    "    # nombre de choix disponibles pour les vides\n",
    "    nb_vides_ligne_3 = 4 - len(colonnes_avec_vide_obligatoire)    \n",
    "\n",
    "    # listes des indices de colonnes possibles pour les vides restants à placer:\n",
    "    colonnes_possibles = list(range(9))\n",
    "    for c in colonnes_avec_numéro_obligatoire:\n",
    "        colonnes_possibles.remove(c)\n",
    "\n",
    "    # On place tous les vides restants\n",
    "    vides_restants_ligne_3 = sample(colonnes_possibles, nb_vides_ligne_3)\n",
    "    for c in vides_restants_ligne_3:\n",
    "        carte[2][c] = None\n",
    "\n",
    "\n",
    "# Programme principal\n",
    "carte = générer_carte()\n",
    "\n",
    "placement_des_vides(carte)\n",
    "\n",
    "affiche(carte, debug=True)\n"
   ]
  },
  {
   "cell_type": "code",
   "execution_count": null,
   "id": "afb06206-f06c-4c0c-aaff-905725647107",
   "metadata": {},
   "outputs": [],
   "source": []
  },
  {
   "cell_type": "code",
   "execution_count": null,
   "id": "caf93d5a-6010-47ad-93dc-17fa6b48cc29",
   "metadata": {},
   "outputs": [],
   "source": []
  }
 ],
 "metadata": {
  "kernelspec": {
   "display_name": "Python 3 (ipykernel)",
   "language": "python",
   "name": "python3"
  },
  "language_info": {
   "codemirror_mode": {
    "name": "ipython",
    "version": 3
   },
   "file_extension": ".py",
   "mimetype": "text/x-python",
   "name": "python",
   "nbconvert_exporter": "python",
   "pygments_lexer": "ipython3",
   "version": "3.9.7"
  }
 },
 "nbformat": 4,
 "nbformat_minor": 5
}
