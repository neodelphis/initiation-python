{
 "cells": [
  {
   "cell_type": "markdown",
   "id": "facdbb56-1f16-4353-ab88-20b7d284ef10",
   "metadata": {
    "tags": []
   },
   "source": [
    "# Exercices du Chapitre 3: Pierre, papier, ciseaux\n",
    "Cours de Didier Muller [Python 3 par les jeux](https://www.apprendre-en-ligne.net/pj/index.html)"
   ]
  },
  {
   "cell_type": "markdown",
   "id": "347fbadb-09a2-469c-9b5d-0495738153b1",
   "metadata": {},
   "source": [
    "## Exercice 2.10\n",
    "Que vont écrire les programmes suivants ?\n",
    "\n",
    "Programme 1: NOT `5, 20` -- ERROR MESSAGE\n",
    "\n",
    "Programme 2: `5, 21`\n",
    "\n",
    "Programme 3: `10, 21`\n",
    "\n",
    "Programme 4: `5, 20`\n",
    "\n",
    "Programme 5: NOT `5, 21` -- ERROR MESSAGE\n",
    "\n",
    "Programme 6: `10, 20`\n",
    "\n",
    "Programme 7: `5, 21`"
   ]
  },
  {
   "cell_type": "code",
   "execution_count": 10,
   "id": "deda1607-b921-4872-b7f6-1f9fe7b3d998",
   "metadata": {
    "collapsed": true,
    "jupyter": {
     "outputs_hidden": true
    },
    "tags": []
   },
   "outputs": [
    {
     "ename": "UnboundLocalError",
     "evalue": "local variable 'p' referenced before assignment",
     "output_type": "error",
     "traceback": [
      "\u001b[0;31m---------------------------------------------------------------------------\u001b[0m",
      "\u001b[0;31mUnboundLocalError\u001b[0m                         Traceback (most recent call last)",
      "\u001b[0;32m/var/folders/gh/r2m1snfd6sx2kx_rdn26nx000000gn/T/ipykernel_23857/3437934547.py\u001b[0m in \u001b[0;36m<module>\u001b[0;34m\u001b[0m\n\u001b[1;32m      5\u001b[0m     \u001b[0mp\u001b[0m\u001b[0;34m=\u001b[0m\u001b[0mp\u001b[0m\u001b[0;34m+\u001b[0m\u001b[0;36m1\u001b[0m\u001b[0;34m\u001b[0m\u001b[0;34m\u001b[0m\u001b[0m\n\u001b[1;32m      6\u001b[0m \u001b[0mn\u001b[0m\u001b[0;34m,\u001b[0m \u001b[0mp\u001b[0m \u001b[0;34m=\u001b[0m \u001b[0;36m5\u001b[0m\u001b[0;34m,\u001b[0m \u001b[0;36m20\u001b[0m\u001b[0;34m\u001b[0m\u001b[0;34m\u001b[0m\u001b[0m\n\u001b[0;32m----> 7\u001b[0;31m \u001b[0mtruc\u001b[0m\u001b[0;34m(\u001b[0m\u001b[0;34m)\u001b[0m\u001b[0;34m\u001b[0m\u001b[0;34m\u001b[0m\u001b[0m\n\u001b[0m\u001b[1;32m      8\u001b[0m \u001b[0mprint\u001b[0m\u001b[0;34m(\u001b[0m\u001b[0mn\u001b[0m\u001b[0;34m,\u001b[0m\u001b[0mp\u001b[0m\u001b[0;34m)\u001b[0m\u001b[0;34m\u001b[0m\u001b[0;34m\u001b[0m\u001b[0m\n",
      "\u001b[0;32m/var/folders/gh/r2m1snfd6sx2kx_rdn26nx000000gn/T/ipykernel_23857/3437934547.py\u001b[0m in \u001b[0;36mtruc\u001b[0;34m()\u001b[0m\n\u001b[1;32m      3\u001b[0m \u001b[0;32mdef\u001b[0m \u001b[0mtruc\u001b[0m\u001b[0;34m(\u001b[0m\u001b[0;34m)\u001b[0m\u001b[0;34m:\u001b[0m\u001b[0;34m\u001b[0m\u001b[0;34m\u001b[0m\u001b[0m\n\u001b[1;32m      4\u001b[0m     \u001b[0mn\u001b[0m\u001b[0;34m=\u001b[0m\u001b[0;36m10\u001b[0m\u001b[0;34m\u001b[0m\u001b[0;34m\u001b[0m\u001b[0m\n\u001b[0;32m----> 5\u001b[0;31m     \u001b[0mp\u001b[0m\u001b[0;34m=\u001b[0m\u001b[0mp\u001b[0m\u001b[0;34m+\u001b[0m\u001b[0;36m1\u001b[0m\u001b[0;34m\u001b[0m\u001b[0;34m\u001b[0m\u001b[0m\n\u001b[0m\u001b[1;32m      6\u001b[0m \u001b[0mn\u001b[0m\u001b[0;34m,\u001b[0m \u001b[0mp\u001b[0m \u001b[0;34m=\u001b[0m \u001b[0;36m5\u001b[0m\u001b[0;34m,\u001b[0m \u001b[0;36m20\u001b[0m\u001b[0;34m\u001b[0m\u001b[0;34m\u001b[0m\u001b[0m\n\u001b[1;32m      7\u001b[0m \u001b[0mtruc\u001b[0m\u001b[0;34m(\u001b[0m\u001b[0;34m)\u001b[0m\u001b[0;34m\u001b[0m\u001b[0;34m\u001b[0m\u001b[0m\n",
      "\u001b[0;31mUnboundLocalError\u001b[0m: local variable 'p' referenced before assignment"
     ]
    }
   ],
   "source": [
    "# Vérifications:\n",
    "# 1\n",
    "def truc():\n",
    "    n = 10\n",
    "    p = p+1\n",
    "\n",
    "\n",
    "n, p = 5, 20\n",
    "truc()\n",
    "print(n, p)"
   ]
  },
  {
   "cell_type": "code",
   "execution_count": 11,
   "id": "f90247ae-18e9-4bd7-935f-bee5f5ffcb72",
   "metadata": {},
   "outputs": [
    {
     "name": "stdout",
     "output_type": "stream",
     "text": [
      "5 21\n"
     ]
    }
   ],
   "source": [
    "# 2\n",
    "def truc():\n",
    "    global p\n",
    "    n = 10\n",
    "    p = p+1\n",
    "\n",
    "\n",
    "n, p = 5, 20\n",
    "truc()\n",
    "print(n, p)"
   ]
  },
  {
   "cell_type": "code",
   "execution_count": 12,
   "id": "6f967c64-8303-4dc3-9cef-054e8134c735",
   "metadata": {},
   "outputs": [
    {
     "name": "stdout",
     "output_type": "stream",
     "text": [
      "10 21\n"
     ]
    }
   ],
   "source": [
    "# 3\n",
    "def truc():\n",
    "    global n, p\n",
    "    n = 10\n",
    "    p = p+1\n",
    "\n",
    "\n",
    "n, p = 5, 20\n",
    "truc()\n",
    "print(n, p)"
   ]
  },
  {
   "cell_type": "code",
   "execution_count": 13,
   "id": "2fea05d0-4edf-42ef-8c5f-b0de73eb7d60",
   "metadata": {},
   "outputs": [
    {
     "name": "stdout",
     "output_type": "stream",
     "text": [
      "5 20\n"
     ]
    }
   ],
   "source": [
    "# 4\n",
    "def truc(p):\n",
    "    n = 10\n",
    "    p = p+1\n",
    "\n",
    "\n",
    "n, p = 5, 20\n",
    "truc(p)\n",
    "print(n, p)"
   ]
  },
  {
   "cell_type": "code",
   "execution_count": 14,
   "id": "cf2c0bb8-8d7d-4153-9014-aa72c609f812",
   "metadata": {
    "collapsed": true,
    "jupyter": {
     "outputs_hidden": true
    },
    "tags": []
   },
   "outputs": [
    {
     "ename": "SyntaxError",
     "evalue": "name 'p' is parameter and global (1982604943.py, line 3)",
     "output_type": "error",
     "traceback": [
      "\u001b[0;36m  File \u001b[0;32m\"/var/folders/gh/r2m1snfd6sx2kx_rdn26nx000000gn/T/ipykernel_23857/1982604943.py\"\u001b[0;36m, line \u001b[0;32m3\u001b[0m\n\u001b[0;31m    global p\u001b[0m\n\u001b[0m    ^\u001b[0m\n\u001b[0;31mSyntaxError\u001b[0m\u001b[0;31m:\u001b[0m name 'p' is parameter and global\n"
     ]
    }
   ],
   "source": [
    "# 5\n",
    "def truc(p):\n",
    "    global p\n",
    "    n = 10\n",
    "    p = p+1\n",
    "\n",
    "\n",
    "n, p = 5, 20\n",
    "truc(p)\n",
    "print(n, p)"
   ]
  },
  {
   "cell_type": "code",
   "execution_count": 15,
   "id": "e07b3c19-34a7-4211-8893-1d1f5f434014",
   "metadata": {},
   "outputs": [
    {
     "name": "stdout",
     "output_type": "stream",
     "text": [
      "10 20\n"
     ]
    }
   ],
   "source": [
    "# 6\n",
    "def truc(p):\n",
    "    global n\n",
    "    n = 10\n",
    "    p = p+1\n",
    "\n",
    "\n",
    "n, p = 5, 20\n",
    "truc(p)\n",
    "print(n, p)"
   ]
  },
  {
   "cell_type": "code",
   "execution_count": 16,
   "id": "ac5a9401-1efd-4b84-92c3-62312c558caf",
   "metadata": {},
   "outputs": [
    {
     "name": "stdout",
     "output_type": "stream",
     "text": [
      "5 21\n"
     ]
    }
   ],
   "source": [
    "# 7\n",
    "def truc(n):\n",
    "    global p\n",
    "    n = 10\n",
    "    p = p+1\n",
    "\n",
    "\n",
    "n, p = 5, 20\n",
    "truc(p)\n",
    "print(n, p)"
   ]
  },
  {
   "cell_type": "markdown",
   "id": "9bda453a-079e-4ad1-86dd-eb2ae6cf12e8",
   "metadata": {},
   "source": [
    "## Exercice 3.2\n",
    "Réécrivez le programme de l'exercice 2.3 (partie 2), où il était question d'écrire les tables de multiplication de 2 à 12, mais en utilisant une procédure table(n) qui écrira la table de multiplication de n."
   ]
  },
  {
   "cell_type": "code",
   "execution_count": 3,
   "id": "5b919b9f-e2ea-4d2d-a510-80be56e0e849",
   "metadata": {},
   "outputs": [
    {
     "name": "stdout",
     "output_type": "stream",
     "text": [
      "\n",
      "Table de 1:\n",
      " 1 *  1 =   1\n",
      " 1 *  2 =   2\n",
      " 1 *  3 =   3\n",
      " 1 *  4 =   4\n",
      " 1 *  5 =   5\n",
      " 1 *  6 =   6\n",
      " 1 *  7 =   7\n",
      " 1 *  8 =   8\n",
      " 1 *  9 =   9\n",
      " 1 * 10 =  10\n",
      " 1 * 11 =  11\n",
      " 1 * 12 =  12\n",
      "\n",
      "Table de 2:\n",
      " 2 *  1 =   2\n",
      " 2 *  2 =   4\n",
      " 2 *  3 =   6\n",
      " 2 *  4 =   8\n",
      " 2 *  5 =  10\n",
      " 2 *  6 =  12\n",
      " 2 *  7 =  14\n",
      " 2 *  8 =  16\n",
      " 2 *  9 =  18\n",
      " 2 * 10 =  20\n",
      " 2 * 11 =  22\n",
      " 2 * 12 =  24\n",
      "\n",
      "Table de 3:\n",
      " 3 *  1 =   3\n",
      " 3 *  2 =   6\n",
      " 3 *  3 =   9\n",
      " 3 *  4 =  12\n",
      " 3 *  5 =  15\n",
      " 3 *  6 =  18\n",
      " 3 *  7 =  21\n",
      " 3 *  8 =  24\n",
      " 3 *  9 =  27\n",
      " 3 * 10 =  30\n",
      " 3 * 11 =  33\n",
      " 3 * 12 =  36\n",
      "\n",
      "Table de 4:\n",
      " 4 *  1 =   4\n",
      " 4 *  2 =   8\n",
      " 4 *  3 =  12\n",
      " 4 *  4 =  16\n",
      " 4 *  5 =  20\n",
      " 4 *  6 =  24\n",
      " 4 *  7 =  28\n",
      " 4 *  8 =  32\n",
      " 4 *  9 =  36\n",
      " 4 * 10 =  40\n",
      " 4 * 11 =  44\n",
      " 4 * 12 =  48\n",
      "\n",
      "Table de 5:\n",
      " 5 *  1 =   5\n",
      " 5 *  2 =  10\n",
      " 5 *  3 =  15\n",
      " 5 *  4 =  20\n",
      " 5 *  5 =  25\n",
      " 5 *  6 =  30\n",
      " 5 *  7 =  35\n",
      " 5 *  8 =  40\n",
      " 5 *  9 =  45\n",
      " 5 * 10 =  50\n",
      " 5 * 11 =  55\n",
      " 5 * 12 =  60\n",
      "\n",
      "Table de 6:\n",
      " 6 *  1 =   6\n",
      " 6 *  2 =  12\n",
      " 6 *  3 =  18\n",
      " 6 *  4 =  24\n",
      " 6 *  5 =  30\n",
      " 6 *  6 =  36\n",
      " 6 *  7 =  42\n",
      " 6 *  8 =  48\n",
      " 6 *  9 =  54\n",
      " 6 * 10 =  60\n",
      " 6 * 11 =  66\n",
      " 6 * 12 =  72\n",
      "\n",
      "Table de 7:\n",
      " 7 *  1 =   7\n",
      " 7 *  2 =  14\n",
      " 7 *  3 =  21\n",
      " 7 *  4 =  28\n",
      " 7 *  5 =  35\n",
      " 7 *  6 =  42\n",
      " 7 *  7 =  49\n",
      " 7 *  8 =  56\n",
      " 7 *  9 =  63\n",
      " 7 * 10 =  70\n",
      " 7 * 11 =  77\n",
      " 7 * 12 =  84\n",
      "\n",
      "Table de 8:\n",
      " 8 *  1 =   8\n",
      " 8 *  2 =  16\n",
      " 8 *  3 =  24\n",
      " 8 *  4 =  32\n",
      " 8 *  5 =  40\n",
      " 8 *  6 =  48\n",
      " 8 *  7 =  56\n",
      " 8 *  8 =  64\n",
      " 8 *  9 =  72\n",
      " 8 * 10 =  80\n",
      " 8 * 11 =  88\n",
      " 8 * 12 =  96\n",
      "\n",
      "Table de 9:\n",
      " 9 *  1 =   9\n",
      " 9 *  2 =  18\n",
      " 9 *  3 =  27\n",
      " 9 *  4 =  36\n",
      " 9 *  5 =  45\n",
      " 9 *  6 =  54\n",
      " 9 *  7 =  63\n",
      " 9 *  8 =  72\n",
      " 9 *  9 =  81\n",
      " 9 * 10 =  90\n",
      " 9 * 11 =  99\n",
      " 9 * 12 = 108\n",
      "\n",
      "Table de 10:\n",
      "10 *  1 =  10\n",
      "10 *  2 =  20\n",
      "10 *  3 =  30\n",
      "10 *  4 =  40\n",
      "10 *  5 =  50\n",
      "10 *  6 =  60\n",
      "10 *  7 =  70\n",
      "10 *  8 =  80\n",
      "10 *  9 =  90\n",
      "10 * 10 = 100\n",
      "10 * 11 = 110\n",
      "10 * 12 = 120\n",
      "\n",
      "Table de 11:\n",
      "11 *  1 =  11\n",
      "11 *  2 =  22\n",
      "11 *  3 =  33\n",
      "11 *  4 =  44\n",
      "11 *  5 =  55\n",
      "11 *  6 =  66\n",
      "11 *  7 =  77\n",
      "11 *  8 =  88\n",
      "11 *  9 =  99\n",
      "11 * 10 = 110\n",
      "11 * 11 = 121\n",
      "11 * 12 = 132\n",
      "\n",
      "Table de 12:\n",
      "12 *  1 =  12\n",
      "12 *  2 =  24\n",
      "12 *  3 =  36\n",
      "12 *  4 =  48\n",
      "12 *  5 =  60\n",
      "12 *  6 =  72\n",
      "12 *  7 =  84\n",
      "12 *  8 =  96\n",
      "12 *  9 = 108\n",
      "12 * 10 = 120\n",
      "12 * 11 = 132\n",
      "12 * 12 = 144\n"
     ]
    }
   ],
   "source": [
    "# Exercice 3.2\n",
    "# Réécrivez le programme de l'exercice 2.3 (partie 2),\n",
    "# où il était question d'écrire les tables de multiplication de 2 à 12,\n",
    "# mais en utilisant une procédure table(n) qui écrira la table de multiplication de n.\n",
    "\n",
    "def table(n):\n",
    "    print('\\nTable de {}:'.format(n))\n",
    "    i = 1\n",
    "    while i <= 12:\n",
    "        print('{:2d} * {:2d} = {:3d}'.format(n, i, n*i))\n",
    "        i += 1\n",
    "\n",
    "\n",
    "# Programme principal\n",
    "n_pp = 1\n",
    "while n_pp <= 12:\n",
    "    table(n_pp)\n",
    "    n_pp += 1"
   ]
  },
  {
   "cell_type": "markdown",
   "id": "0b3462cf-5784-4603-ac77-fc7588dd946d",
   "metadata": {},
   "source": [
    "## Exercice 3.3\n",
    "Écrivez une fonction maximum(a,b,c) qui renvoie le plus grand des trois nombres a, b, c\n",
    "fournis en arguments."
   ]
  },
  {
   "cell_type": "code",
   "execution_count": 4,
   "id": "1167d042-a2ef-410b-a911-66685d56e104",
   "metadata": {},
   "outputs": [
    {
     "name": "stdout",
     "output_type": "stream",
     "text": [
      "1\n",
      "1\n",
      "1\n",
      "3\n",
      "3\n",
      "3\n"
     ]
    }
   ],
   "source": [
    "# Exercice 3.3\n",
    "# Écrivez une fonction maximum(a,b,c) qui renvoie le plus grand des trois nombres a, b, c\n",
    "# fournis en arguments.\n",
    "def maximum(a, b, c):\n",
    "    nombre_max = None\n",
    "    if a >= b and a >= c:\n",
    "        nombre_max = a\n",
    "    elif b >= a and b >= c:\n",
    "        nombre_max = b\n",
    "    else:  # c>=a and c >=b\n",
    "        nombre_max = c\n",
    "    return nombre_max\n",
    "\n",
    "\n",
    "# Tests unitaires\n",
    "print(maximum(1, 0, 0))\n",
    "print(maximum(0, 1, 0))\n",
    "print(maximum(0, 0, 1))\n",
    "print(maximum(1, 2, 3))\n",
    "print(maximum(1, 3, 3))\n",
    "print(maximum(3, 3, 3))"
   ]
  },
  {
   "cell_type": "code",
   "execution_count": null,
   "id": "c0950641-208a-4c8d-ae0a-9b91087c2e8d",
   "metadata": {},
   "outputs": [],
   "source": [
    "# plus long\n",
    "def maximum(a, b, c):\n",
    "    nombre_max = None\n",
    "    if a >= b and a >= c:\n",
    "        nombre_max = a\n",
    "    if b >= a and b >= c:\n",
    "        nombre_max = b\n",
    "    if c >= a and c >= b:\n",
    "        nombre_max = c\n",
    "    return nombre_max"
   ]
  },
  {
   "cell_type": "code",
   "execution_count": 26,
   "id": "6afde5c7-bd81-493b-9514-eaba4ac893d9",
   "metadata": {},
   "outputs": [
    {
     "name": "stdout",
     "output_type": "stream",
     "text": [
      "3\n",
      "3\n"
     ]
    }
   ],
   "source": [
    "def maximum(a, b, c):\n",
    "    return max(a, b, c)\n",
    "\n",
    "\n",
    "print(maximum(1, 2, 3))\n",
    "print(max(1, 2, 3))"
   ]
  },
  {
   "cell_type": "markdown",
   "id": "dd57fafb-d494-4f28-96ca-23c11e8f1ab2",
   "metadata": {},
   "source": [
    "## Exercice 3.4\n",
    "Écrivez un programme qui convertit des degrés Celsius en degrés Fahrenheit, et vice-versa.\n",
    "Définissez deux fonctions qui effectuent les conversions.\n",
    "\n",
    "Formules : si F est la température en °F et C la température en °C, alors\n",
    "$$F=\\frac{9}{5}C+32$$\n",
    "$$C=\\frac{5}{9}(F–32)$$"
   ]
  },
  {
   "cell_type": "code",
   "execution_count": 6,
   "id": "7bc7a3c7-c57c-4118-a022-2e55fa0d11ff",
   "metadata": {},
   "outputs": [
    {
     "name": "stdout",
     "output_type": "stream",
     "text": [
      "celcius_to_farenheit(20) 68.0\n",
      "farenheit_to_celcius(68) 20.0\n"
     ]
    }
   ],
   "source": [
    "def celcius_to_farenheit(c):\n",
    "    f = (9/5)*c + 32\n",
    "    return f\n",
    "\n",
    "\n",
    "def farenheit_to_celcius(f):\n",
    "    c = (5/9)*(f - 32)\n",
    "    return c\n",
    "\n",
    "\n",
    "print('celcius_to_farenheit(20)', celcius_to_farenheit(20))\n",
    "print('farenheit_to_celcius(68)', farenheit_to_celcius(68))"
   ]
  },
  {
   "cell_type": "markdown",
   "id": "6084354b-2717-4641-8454-f9d33c1ac32c",
   "metadata": {},
   "source": [
    "## Exercice 3.5\n",
    "D'après un sondage effectué auprès de 2000 personnes, un humain joue pierre dans 41% des cas, papier dans 30 % des cas, et ciseaux dans 29 % des cas. Sachant cela, on va tenter de rendre l'ordinateur plus « malin ».\n",
    "\n",
    "Modifiez le code du § 3.3. Il faudra remplacer la ligne\n",
    "    ```mon_coup = randint(1,3)```\n",
    "par\n",
    "    ```mon_coup = coup_ordi()```\n",
    "et programmer la fonction `coup_ordi)` qui retournera papier dans 41 % des cas, ciseaux dans 30 % des cas et pierre dans 29 % des cas.\n"
   ]
  },
  {
   "cell_type": "code",
   "execution_count": 7,
   "id": "1738eb20-4147-4ccf-8492-a455b2375119",
   "metadata": {},
   "outputs": [
    {
     "name": "stdout",
     "output_type": "stream",
     "text": [
      "Pierre-papier-ciseaux. Le premier à 5 a gagné !\n"
     ]
    },
    {
     "name": "stdin",
     "output_type": "stream",
     "text": [
      "1 : pierre, 2 : papier, 3 : ciseaux ?  1\n"
     ]
    },
    {
     "name": "stdout",
     "output_type": "stream",
     "text": [
      "Vous montrez pierre - Je montre papier \n",
      "vous 0    moi 1\n"
     ]
    },
    {
     "name": "stdin",
     "output_type": "stream",
     "text": [
      "1 : pierre, 2 : papier, 3 : ciseaux ?  1\n"
     ]
    },
    {
     "name": "stdout",
     "output_type": "stream",
     "text": [
      "Vous montrez pierre - Je montre pierre \n",
      "vous 0    moi 1\n"
     ]
    },
    {
     "name": "stdin",
     "output_type": "stream",
     "text": [
      "1 : pierre, 2 : papier, 3 : ciseaux ?  1\n"
     ]
    },
    {
     "name": "stdout",
     "output_type": "stream",
     "text": [
      "Vous montrez pierre - Je montre ciseaux \n",
      "vous 1    moi 1\n"
     ]
    },
    {
     "name": "stdin",
     "output_type": "stream",
     "text": [
      "1 : pierre, 2 : papier, 3 : ciseaux ?  1\n"
     ]
    },
    {
     "name": "stdout",
     "output_type": "stream",
     "text": [
      "Vous montrez pierre - Je montre papier \n",
      "vous 1    moi 2\n"
     ]
    },
    {
     "name": "stdin",
     "output_type": "stream",
     "text": [
      "1 : pierre, 2 : papier, 3 : ciseaux ?  1\n"
     ]
    },
    {
     "name": "stdout",
     "output_type": "stream",
     "text": [
      "Vous montrez pierre - Je montre papier \n",
      "vous 1    moi 3\n"
     ]
    },
    {
     "name": "stdin",
     "output_type": "stream",
     "text": [
      "1 : pierre, 2 : papier, 3 : ciseaux ?  1\n"
     ]
    },
    {
     "name": "stdout",
     "output_type": "stream",
     "text": [
      "Vous montrez pierre - Je montre papier \n",
      "vous 1    moi 4\n"
     ]
    },
    {
     "name": "stdin",
     "output_type": "stream",
     "text": [
      "1 : pierre, 2 : papier, 3 : ciseaux ?  1\n"
     ]
    },
    {
     "name": "stdout",
     "output_type": "stream",
     "text": [
      "Vous montrez pierre - Je montre ciseaux \n",
      "vous 2    moi 4\n"
     ]
    },
    {
     "name": "stdin",
     "output_type": "stream",
     "text": [
      "1 : pierre, 2 : papier, 3 : ciseaux ?  1\n"
     ]
    },
    {
     "name": "stdout",
     "output_type": "stream",
     "text": [
      "Vous montrez pierre - Je montre ciseaux \n",
      "vous 3    moi 4\n"
     ]
    },
    {
     "name": "stdin",
     "output_type": "stream",
     "text": [
      "1 : pierre, 2 : papier, 3 : ciseaux ?  1\n"
     ]
    },
    {
     "name": "stdout",
     "output_type": "stream",
     "text": [
      "Vous montrez pierre - Je montre pierre \n",
      "vous 3    moi 4\n"
     ]
    },
    {
     "name": "stdin",
     "output_type": "stream",
     "text": [
      "1 : pierre, 2 : papier, 3 : ciseaux ?  1\n"
     ]
    },
    {
     "name": "stdout",
     "output_type": "stream",
     "text": [
      "Vous montrez pierre - Je montre ciseaux \n",
      "vous 4    moi 4\n"
     ]
    },
    {
     "name": "stdin",
     "output_type": "stream",
     "text": [
      "1 : pierre, 2 : papier, 3 : ciseaux ?  1\n"
     ]
    },
    {
     "name": "stdout",
     "output_type": "stream",
     "text": [
      "Vous montrez pierre - Je montre papier \n",
      "vous 4    moi 5\n"
     ]
    }
   ],
   "source": [
    "# Exercice 3.5\n",
    "# D'après un sondage effectué auprès de 2000 personnes,\n",
    "# un humain joue pierre dans 41% des cas, papier dans 30 % des cas, et ciseaux dans 29 % des cas. Sachant cela, on va tenter de rendre l'ordinateur plus « malin ».\n",
    "# Modifiez le code du § 3.3.\n",
    "\n",
    "# jeu pierre, papier, ciseaux\n",
    "# l'ordinateur joue au hasard\n",
    "\n",
    "from random import random\n",
    "\n",
    "# >>>\n",
    "\n",
    "\n",
    "def coup_ordi():\n",
    "    # Fonction qui retourne papier dans 41 % des cas,\n",
    "    # ciseaux dans 30 % des cas et pierre dans 29 % des cas\n",
    "    hasard = random()\n",
    "    coup = None\n",
    "    if hasard < 0.41:\n",
    "        coup = 2  # 2 : papier\n",
    "    elif hasard < 0.71:\n",
    "        coup = 3  # 3 : ciseaux\n",
    "    else:\n",
    "        coup = 1  # 1 : pierre\n",
    "    return coup\n",
    "# <<<\n",
    "\n",
    "\n",
    "def ecrire(nombre):\n",
    "    if nombre == 1:\n",
    "        print(\"pierre\", end=\" \")\n",
    "    elif nombre == 2:\n",
    "        print(\"papier\", end=\" \")\n",
    "    else:\n",
    "        print(\"ciseaux\", end=\" \")\n",
    "\n",
    "\n",
    "def augmenter_scores(mon_coup, ton_coup, mon_score, ton_score):\n",
    "    mon_nouveau_score = mon_score\n",
    "    ton_nouveau_score = ton_score\n",
    "    if mon_coup == 1 and ton_coup == 2:\n",
    "        ton_nouveau_score += 1\n",
    "    elif mon_coup == 2 and ton_coup == 1:\n",
    "        mon_nouveau_score += 1\n",
    "    elif mon_coup == 1 and ton_coup == 3:\n",
    "        mon_nouveau_score += 1\n",
    "    elif mon_coup == 3 and ton_coup == 1:\n",
    "        ton_nouveau_score += 1\n",
    "    elif mon_coup == 3 and ton_coup == 2:\n",
    "        mon_nouveau_score += 1\n",
    "    elif mon_coup == 2 and ton_coup == 3:\n",
    "        ton_nouveau_score += 1\n",
    "    return mon_nouveau_score, ton_nouveau_score\n",
    "\n",
    "\n",
    "ton_score = 0\n",
    "mon_score = 0\n",
    "fin = 5\n",
    "print(\"Pierre-papier-ciseaux. Le premier à\", fin, \"a gagné !\")\n",
    "no_manche = 0\n",
    "while mon_score < fin and ton_score < fin:\n",
    "    ton_coup = int(input(\"1 : pierre, 2 : papier, 3 : ciseaux ? \"))\n",
    "    while ton_coup < 1 or ton_coup > 3:\n",
    "        ton_coup = int(input(\"1 : pierre, 2 : papier, 3 : ciseaux ? \"))\n",
    "    print(\"Vous montrez\", end=\" \")\n",
    "    ecrire(ton_coup)\n",
    "    # >>>\n",
    "    mon_coup = coup_ordi()\n",
    "    # <<<\n",
    "    print(\"- Je montre\", end=\" \")\n",
    "    ecrire(mon_coup)\n",
    "    print()     # aller à la ligne\n",
    "    mon_score, ton_score = augmenter_scores(\n",
    "        mon_coup, ton_coup, mon_score, ton_score)\n",
    "    print(\"vous\", ton_score, \"   moi\", mon_score)"
   ]
  },
  {
   "cell_type": "markdown",
   "id": "f3aecb45-e1dc-40e3-b3a7-fcaabd428534",
   "metadata": {},
   "source": [
    "## Exercice 3.6\n",
    "Écrivez une fonction `f(x)` qui retourne la valeur de `f (x) = 2x^3 – 3x – 1`.\n",
    "Écrivez une procédure tabuler avec quatre paramètres : f, borneInf, borneSup et pas. Cette procédure affichera les valeurs de la fonction f, pour x compris entre borneInf et borneSup, avec un incrément de pas."
   ]
  },
  {
   "cell_type": "code",
   "execution_count": 43,
   "id": "e0e235f3-5485-48c2-a6b3-b365b683e173",
   "metadata": {},
   "outputs": [
    {
     "name": "stdout",
     "output_type": "stream",
     "text": [
      "-2\t-11\n",
      "-1.5\t-3.25\n",
      "-1.0\t0.0\n",
      "-0.5\t0.25\n",
      "0.0\t-1.0\n",
      "0.5\t-2.25\n",
      "1.0\t-2.0\n",
      "1.5\t1.25\n",
      "2.0\t9.0\n"
     ]
    }
   ],
   "source": [
    "# Exercice 3.6\n",
    "# Écrivez une fonction f(x) qui retourne la valeur de f (x) = 2x^3 – 3x – 1.\n",
    "# Écrivez une procédure tabuler avec quatre paramètres : f, borne_inf, borne_sup et pas.\n",
    "# Cette procédure affichera les valeurs de la fonction f,\n",
    "# pour x compris entre borne_inf et borne_sup, avec un incrément de pas.\n",
    "\n",
    "def f(x):\n",
    "    return 2*x**3 - 3*x - 1\n",
    "\n",
    "\n",
    "def tabuler(borne_inf, borne_sup, pas):\n",
    "    x = borne_inf\n",
    "    while x <= borne_sup:\n",
    "        print('{}\\t{}'.format(x, f(x)))\n",
    "        x = x + pas\n",
    "\n",
    "\n",
    "tabuler(-2, 2, 0.5)"
   ]
  },
  {
   "cell_type": "code",
   "execution_count": null,
   "id": "79bf7124-0812-4283-ac11-36dc5e88fed2",
   "metadata": {},
   "outputs": [],
   "source": []
  }
 ],
 "metadata": {
  "kernelspec": {
   "display_name": "Python 3 (ipykernel)",
   "language": "python",
   "name": "python3"
  },
  "language_info": {
   "codemirror_mode": {
    "name": "ipython",
    "version": 3
   },
   "file_extension": ".py",
   "mimetype": "text/x-python",
   "name": "python",
   "nbconvert_exporter": "python",
   "pygments_lexer": "ipython3",
   "version": "3.9.7"
  }
 },
 "nbformat": 4,
 "nbformat_minor": 5
}
