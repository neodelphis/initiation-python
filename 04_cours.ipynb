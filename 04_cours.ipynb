{
 "cells": [
  {
   "cell_type": "raw",
   "id": "1f3786a0",
   "metadata": {
    "slideshow": {
     "slide_type": "skip"
    },
    "vscode": {
     "languageId": "raw"
    }
   },
   "source": [
    "---\n",
    "title: \"Structures de données en Python\"\n",
    "author: \"Pierre Jaumier\"\n",
    "format:\n",
    "  pdf:\n",
    "    toc: false\n",
    "    number-sections: false\n",
    "    colorlinks: true\n",
    "---"
   ]
  },
  {
   "cell_type": "markdown",
   "id": "3847cbcc",
   "metadata": {
    "slideshow": {
     "slide_type": "slide"
    }
   },
   "source": [
    "## 📄 Bienvenue – Structures de données\n",
    "\n",
    "**Structures de données en Python**\n",
    "\n",
    "- Objectif : Apprendre à utiliser les structures de données essentielles\n",
    "- Pierre Jaumier\n",
    "\n",
    "> 💡 Aujourd’hui, on va découvrir :\n",
    "> - Les listes, tuples, dictionnaires et ensembles\n",
    "> - Comment les manipuler efficacement\n",
    "> - Quand choisir l’une plutôt que l’autre\n"
   ]
  },
  {
   "cell_type": "markdown",
   "id": "65bcc28c",
   "metadata": {
    "slideshow": {
     "slide_type": "slide"
    }
   },
   "source": [
    "## 📄 Pourquoi les structures de données ?\n",
    "\n",
    "> \"Les structures de données sont les briques de base de tout programme.\"\n",
    "\n",
    "Elles permettent de :\n",
    "- Organiser des informations\n",
    "- Faciliter leur manipulation\n",
    "- Gagner en performance\n",
    "\n",
    "Exemples :\n",
    "- Liste de courses → `list`\n",
    "- Coordonnées GPS → `tuple`\n",
    "- Profil utilisateur → `dict`\n",
    "- Catégories d'objets → `set`"
   ]
  },
  {
   "cell_type": "markdown",
   "id": "856bff8f",
   "metadata": {
    "slideshow": {
     "slide_type": "slide"
    }
   },
   "source": [
    "## 📄 Liste – Création et accès\n",
    "\n",
    "```python\n",
    "# Création d'une liste\n",
    "fruits = ['pomme', 'banane', 'orange']\n",
    "\n",
    "# Accès par index\n",
    "print(fruits[0])   # 'pomme'\n",
    "print(fruits[-1])  # 'orange'\n",
    "\n",
    "# Modification\n",
    "fruits[1] = 'kiwi'\n",
    "```\n",
    "\n",
    "👉 Le premier élément est à l'index `0`."
   ]
  },
  {
   "cell_type": "markdown",
   "id": "0addd1b5",
   "metadata": {
    "slideshow": {
     "slide_type": "slide"
    }
   },
   "source": [
    "## 📄 Liste – Opérations courantes\n",
    "\n",
    "```python\n",
    "# Ajout\n",
    "fruits.append('mangue')       # ajout à la fin\n",
    "fruits.insert(1, 'citron')    # insertion à la position 1\n",
    "\n",
    "# Suppression\n",
    "fruits.remove('citron')       # suppression par valeur\n",
    "del fruits[0]                 # suppression par index\n",
    "\n",
    "# Tri\n",
    "fruits.sort()\n",
    "```\n"
   ]
  },
  {
   "cell_type": "markdown",
   "id": "5d45d4ba",
   "metadata": {
    "slideshow": {
     "slide_type": "slide"
    }
   },
   "source": [
    "## 📄 Liste – Slicing\n",
    "\n",
    "```python\n",
    "liste = ['a', 'b', 'c', 'd', 'e']\n",
    "\n",
    "# Syntaxe : liste[start:end:step]\n",
    "print(liste[1:3])     # ['b', 'c']\n",
    "print(liste[:3])      # ['a', 'b', 'c']\n",
    "print(liste[2:])      # ['c', 'd', 'e']\n",
    "print(liste[::-1])    # ['e', 'd', 'c', 'b', 'a'] (inversion)\n",
    "```\n"
   ]
  },
  {
   "cell_type": "markdown",
   "id": "8e53972d",
   "metadata": {
    "slideshow": {
     "slide_type": "slide"
    },
    "vscode": {
     "languageId": "plaintext"
    }
   },
   "source": [
    "## 🎓 Les List Comprehensions en Python\n",
    "\n",
    "> 💡 En Python, les **list comprehensions** ou création de listes à la volée sont une façon concise de créer des listes.\n",
    "\n",
    "Elles permettent de transformer ou filtrer des données **en une seule ligne**.\n",
    "\n",
    "**Avant (avec boucle `for`) :**\n",
    "```python\n",
    "carres = []\n",
    "for x in range(5):\n",
    "    carres.append(x**2)\n",
    "```\n",
    "\n",
    "**Après (avec list comprehension) :**\n",
    "```python\n",
    "carres = [x**2 for x in range(5)]\n",
    "```"
   ]
  },
  {
   "cell_type": "markdown",
   "id": "9f4e071c",
   "metadata": {
    "slideshow": {
     "slide_type": "slide"
    }
   },
   "source": [
    "## Syntaxe basique\n",
    "\n",
    "**Structure :**\n",
    "```python\n",
    "[nouvelle_expression for élément in itérable]\n",
    "```\n",
    "\n",
    "**Exemples :**\n",
    "```python\n",
    "# Carrés des nombres de 0 à 4\n",
    "[x**2 for x in range(5)]  # ➜ [0, 1, 4, 9, 16]\n",
    "\n",
    "# Longueurs des mots d'une liste\n",
    "[len(mot) for mot in ['chat', 'chien', 'oiseau']]  # ➜ [4, 5, 6]\n",
    "```"
   ]
  },
  {
   "cell_type": "markdown",
   "id": "e302b013",
   "metadata": {
    "slideshow": {
     "slide_type": "slide"
    },
    "vscode": {
     "languageId": "plaintext"
    }
   },
   "source": [
    "## Ajouter une condition (`if`)\n",
    "\n",
    "**Filtrage avec `if` :**\n",
    "```python\n",
    "[nouvelle_expression for élément in itérable if condition]\n",
    "```\n",
    "\n",
    "**Exemple :**\n",
    "```python\n",
    "# Nombres pairs entre 0 et 9\n",
    "[x for x in range(10) if x % 2 == 0]  # ➜ [0, 2, 4, 6, 8]\n",
    "```"
   ]
  },
  {
   "cell_type": "markdown",
   "id": "5e1ac3e2",
   "metadata": {
    "slideshow": {
     "slide_type": "slide"
    }
   },
   "source": [
    "## Exercices rapides\n",
    "\n",
    "**Exercice 1 :**\n",
    "Créez une liste des lettres majuscules du mot `'python'`.\n",
    "\n",
    "**Exercice 2 :**\n",
    "Filtrez les mots dont la longueur est supérieure à 3 dans `['un', 'deux', 'trois', 'quatre']`.\n",
    "\n",
    "**Exercice 3 :**\n",
    "Créez une liste avec `'pair'` ou `'impair'` pour chaque nombre de 0 à 4.\n"
   ]
  },
  {
   "cell_type": "markdown",
   "id": "f9c6f9c3",
   "metadata": {
    "slideshow": {
     "slide_type": "slide"
    }
   },
   "source": [
    "## Correction des exercices\n",
    "\n",
    "**Exercice 1 :**\n",
    "```python\n",
    "[lettre.upper() for lettre in 'python']  # ➜ ['P', 'Y', 'T', 'H', 'O', 'N']\n",
    "```\n",
    "\n",
    "**Exercice 2 :**\n",
    "```python\n",
    "[mot for mot in ['un', 'deux', 'trois', 'quatre'] if len(mot) > 3]\n",
    "# ➜ ['deux', 'trois', 'quatre']\n",
    "```\n",
    "\n",
    "**Exercice 3 :**\n",
    "```python\n",
    "['pair' if x % 2 == 0 else 'impair' for x in range(5)]\n",
    "# ➜ ['pair', 'impair', 'pair', 'impair', 'pair']\n",
    "```"
   ]
  },
  {
   "cell_type": "markdown",
   "id": "0f164743",
   "metadata": {
    "slideshow": {
     "slide_type": "slide"
    },
    "vscode": {
     "languageId": "plaintext"
    }
   },
   "source": [
    "## Bonnes pratiques\n",
    "\n",
    "✅ Utilisez les list comprehensions :\n",
    "- Quand le code est court et clair\n",
    "- Pour transformer ou filtrer des données\n",
    "\n",
    "🚫 Évitez-les quand :\n",
    "- Il y a trop de conditions imbriquées\n",
    "- La logique est complexe\n",
    "\n",
    "💡 Lisibilité avant concision !"
   ]
  },
  {
   "cell_type": "markdown",
   "id": "dca5e8dc",
   "metadata": {
    "slideshow": {
     "slide_type": "slide"
    }
   },
   "source": [
    "## 📄 Tuple – Création et utilisation\n",
    "\n",
    "```python\n",
    "# Création\n",
    "point = (10, 20)\n",
    "\n",
    "# Accès\n",
    "x, y = point\n",
    "print(x)  # 10\n",
    "\n",
    "# Utilisation commune : retour multiple de fonction\n",
    "def divmod(a, b):\n",
    "    return a // b, a % b\n",
    "\n",
    "resultat = divmod(10, 3)  # (3, 1)\n",
    "```\n"
   ]
  },
  {
   "cell_type": "markdown",
   "id": "97028326",
   "metadata": {
    "slideshow": {
     "slide_type": "slide"
    }
   },
   "source": [
    "## 📄 Tuple vs Liste\n",
    "\n",
    "| Caractéristique | Liste           | Tuple            |\n",
    "|------------------|------------------|-------------------|\n",
    "| Modifiable ?     | ✅ Oui            | ❌  Non           |\n",
    "| Performance      | Moins rapide     | Plus rapide       |\n",
    "| Sécurité         | Moins sûr        | Plus sûr          |\n",
    "| Utilisation      | Données variables| Données fixes     |\n",
    "\n",
    "👉 Exemple pratique :\n",
    "```python\n",
    "# Tuple utilisé comme clé dans un dictionnaire\n",
    "positions = {('Paris', 'Lyon'): 450}\n",
    "```\n"
   ]
  },
  {
   "cell_type": "markdown",
   "id": "067f8cc5",
   "metadata": {
    "slideshow": {
     "slide_type": "slide"
    }
   },
   "source": [
    "## 📄 Dictionnaire – Création et accès\n",
    "\n",
    "```python\n",
    "# Création\n",
    "personne = {'nom': 'Alice', 'âge': 25}\n",
    "\n",
    "# Accès\n",
    "print(personne['nom'])  # 'Alice'\n",
    "\n",
    "# Ajout/modification\n",
    "personne['ville'] = 'Paris'  # ajout\n",
    "personne['âge'] = 30         # modification\n",
    "```\n"
   ]
  },
  {
   "cell_type": "markdown",
   "id": "d061e10c",
   "metadata": {
    "slideshow": {
     "slide_type": "slide"
    }
   },
   "source": [
    "## 📄 Dictionnaire – Méthodes utiles\n",
    "\n",
    "```python\n",
    "# .keys(), .values(), .items()\n",
    "for cle in personne.keys():\n",
    "    print(cle)\n",
    "\n",
    "for valeur in personne.values():\n",
    "    print(valeur)\n",
    "\n",
    "for cle, valeur in personne.items():\n",
    "    print(f'{cle}: {valeur}')\n",
    "```\n",
    "\n",
    "```python\n",
    "# Vérifier existence\n",
    "if 'ville' in personne:\n",
    "    print('La ville est connue')\n",
    "```"
   ]
  },
  {
   "cell_type": "markdown",
   "id": "170a9c4f",
   "metadata": {
    "slideshow": {
     "slide_type": "slide"
    }
   },
   "source": [
    "## 🔹 Dict comprehensions\n",
    "\n",
    "> 💡 En Python, les **dict comprehensions** permettent de créer des dictionnaires **de façon élégante et rapide**, comme les list comprehensions mais avec une structure adaptée.\n",
    "\n",
    "**Avant (avec boucle `for`) :**\n",
    "\n",
    "**Structure :**\n",
    "```python\n",
    "{nouvelle_clé: nouvelle_valeur for élément in itérable}\n",
    "```\n",
    "\n",
    "**Exemples :**\n",
    "```python\n",
    "# Carrés des nombres de 0 à 4\n",
    "{x: x**2 for x in range(5)}  \n",
    "# ➜ {0: 0, 1: 1, 2: 4, 3: 9, 4: 16}\n",
    "\n",
    "# Dictionnaire à partir d'une liste de mots\n",
    "{mot: len(mot) for mot in ['chat', 'chien', 'oiseau']}  \n",
    "# ➜ {'chat': 4, 'chien': 5, 'oiseau': 6}\n",
    "```"
   ]
  },
  {
   "cell_type": "markdown",
   "id": "93372133",
   "metadata": {
    "slideshow": {
     "slide_type": "slide"
    }
   },
   "source": [
    "## 📄 Ensembles – Création et unicité\n",
    "\n",
    "```python\n",
    "# Création\n",
    "set1 = {'pomme', 'banane', 'orange'}\n",
    "set2 = set(['pomme', 'poire', 'pomme'])\n",
    "\n",
    "print(set2)  # {'poire', 'pomme'} (doublons supprimés)\n",
    "```\n",
    "\n",
    "👉 Utile pour :\n",
    "- Éliminer les doublons\n",
    "- Rechercher rapidement si un élément existe"
   ]
  },
  {
   "cell_type": "markdown",
   "id": "975367b3",
   "metadata": {
    "slideshow": {
     "slide_type": "slide"
    }
   },
   "source": [
    "## 📄 Ensembles – Opérations mathématiques\n",
    "\n",
    "```python\n",
    "set1 = {'pomme', 'banane', 'orange'}\n",
    "set2 = {'banane', 'kiwi'}\n",
    "\n",
    "# Union\n",
    "print(set1 | set2)  # {'pomme', 'banane', 'orange', 'kiwi'}\n",
    "\n",
    "# Intersection\n",
    "print(set1 & set2)  # {'banane'}\n",
    "\n",
    "# Différence\n",
    "print(set1 - set2)  # {'pomme', 'orange'}\n",
    "\n",
    "# Appartenance\n",
    "print('pomme' in set1)  # True\n",
    "```"
   ]
  },
  {
   "cell_type": "markdown",
   "id": "e354241e",
   "metadata": {
    "slideshow": {
     "slide_type": "slide"
    }
   },
   "source": [
    "## 📄 Comparaison des structures\n",
    "\n",
    "| Structure     | Mutable | Ordonné | Indexable | Unicité |\n",
    "|---------------|---------|---------|-----------|---------|\n",
    "| Liste         | ✅ Oui  | ✅ Oui  | ✅ Oui    | ❌ Non  |\n",
    "| Tuple         | ❌ Non  | ✅ Oui  | ✅ Oui    | ❌ Non  |\n",
    "| Dictionnaire  | ✅ Oui  | ✅ Oui (3.7+) | ❌ Non (par clé) | ❌ Non (clé unique) |\n",
    "| Ensemble      | ✅ Oui  | ❌ Non  | ❌ Non    | ✅ Oui  |\n",
    "\n",
    "👉 Choisissez selon vos besoins !"
   ]
  },
  {
   "cell_type": "markdown",
   "id": "c916e3a0",
   "metadata": {
    "slideshow": {
     "slide_type": "slide"
    }
   },
   "source": [
    "## 📄 Exercices guidés\n",
    "\n",
    "**Exercice 1 : Liste**\n",
    "- Créez une liste de 5 films préférés\n",
    "- Triez-la par ordre alphabétique\n",
    "- Affichez le 2e film\n",
    "\n",
    "**Exercice 2 : Dictionnaire**\n",
    "- Créez un dictionnaire avec votre nom, âge et ville\n",
    "- Affichez chaque information sur une ligne séparée\n",
    "\n",
    "**Exercice 3 : Ensemble**\n",
    "- Comparez deux listes de fruits\n",
    "- Trouvez les fruits communs aux deux listes"
   ]
  },
  {
   "cell_type": "markdown",
   "id": "de4145b4",
   "metadata": {
    "slideshow": {
     "slide_type": "slide"
    }
   },
   "source": [
    "## 📄 Conclusion & Questions\n",
    "\n",
    "**Ce qu’on a appris aujourd’hui :**\n",
    "\n",
    "- Manipuler des listes, tuples, dictionnaires et ensembles\n",
    "- Comprendre leurs différences et cas d’usage\n",
    "- Choisir la bonne structure selon le besoin\n",
    "\n",
    "❓ **Des questions ?**"
   ]
  },
  {
   "cell_type": "markdown",
   "id": "ccc051dd",
   "metadata": {
    "slideshow": {
     "slide_type": "slide"
    }
   },
   "source": [
    "## 🧾 Prochaines étapes\n",
    "\n",
    "- Introduction aux fonctions\n",
    "- Manipulation de fichiers\n",
    "- Introduction aux modules standard"
   ]
  }
 ],
 "metadata": {
  "kernelspec": {
   "display_name": "game",
   "language": "python",
   "name": "game"
  },
  "language_info": {
   "codemirror_mode": {
    "name": "ipython",
    "version": 3
   },
   "file_extension": ".py",
   "mimetype": "text/x-python",
   "name": "python",
   "nbconvert_exporter": "python",
   "pygments_lexer": "ipython3",
   "version": "3.13.2"
  }
 },
 "nbformat": 4,
 "nbformat_minor": 5
}
