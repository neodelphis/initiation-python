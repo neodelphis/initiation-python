{
  "cells": [
    {
      "cell_type": "markdown",
      "metadata": {},
      "source": [
        "# 🐍 Mots Clés en Python\n",
        "\n",
        "Voici un tour d'horizon des **mots clés réservés** de Python avec un exemple exécutable pour chacun."
      ]
    },
    {
      "cell_type": "markdown",
      "metadata": {},
      "source": [
        "```py\n",
        "False      await      else       import     pass\n",
        "None       break      except     in         raise\n",
        "True       class      finally    is         return\n",
        "and        continue   for        lambda     try\n",
        "as         def        from       nonlocal   while\n",
        "assert     del        global     not        with\n",
        "async      elif       if         or         yield\n",
        "```"
      ]
    },
    {
      "cell_type": "code",
      "execution_count": null,
      "metadata": {},
      "outputs": [
        {
          "name": "stdout",
          "output_type": "stream",
          "text": [
            "Liste complète des mots clés en Python :\n",
            "['False', 'None', 'True', 'and', 'as', 'assert', 'async', 'await', 'break', 'class', 'continue', 'def', 'del', 'elif', 'else', 'except', 'finally', 'for', 'from', 'global', 'if', 'import', 'in', 'is', 'lambda', 'nonlocal', 'not', 'or', 'pass', 'raise', 'return', 'try', 'while', 'with', 'yield']\n"
          ]
        }
      ],
      "source": [
        "import keyword\n",
        "print('Liste complète des mots clés en Python :')\n",
        "print(keyword.kwlist)"
      ]
    },
    {
      "cell_type": "markdown",
      "metadata": {},
      "source": [
        "## ✅ `False`, `True` – Valeurs booléennes"
      ]
    },
    {
      "cell_type": "code",
      "execution_count": null,
      "metadata": {},
      "outputs": [],
      "source": [
        "x = (5 > 10)  # Parenthèses superflues\n",
        "print(x)  # False"
      ]
    },
    {
      "cell_type": "code",
      "execution_count": null,
      "metadata": {},
      "outputs": [],
      "source": [
        "y = (5 == 5)\n",
        "print(y)  # True"
      ]
    },
    {
      "cell_type": "markdown",
      "metadata": {},
      "source": [
        "## ✅ `None` – Absence de valeur"
      ]
    },
    {
      "cell_type": "code",
      "execution_count": 2,
      "metadata": {},
      "outputs": [
        {
          "name": "stdout",
          "output_type": "stream",
          "text": [
            "résultat = None\n",
            "Pas encore de résultat\n"
          ]
        }
      ],
      "source": [
        "résultat = None\n",
        "if résultat is None:\n",
        "    print(f'résultat = {résultat}')\n",
        "    print('Pas encore de résultat')"
      ]
    },
    {
      "cell_type": "markdown",
      "metadata": {},
      "source": [
        "## ✅ `and`, `or`, `not` – Opérateurs logiques"
      ]
    },
    {
      "cell_type": "code",
      "execution_count": 5,
      "metadata": {},
      "outputs": [
        {
          "name": "stdout",
          "output_type": "stream",
          "text": [
            "Vous pouvez conduire\n"
          ]
        }
      ],
      "source": [
        "age = 20\n",
        "permis = True\n",
        "if age >= 18 and permis:\n",
        "    print('Vous pouvez conduire')"
      ]
    },
    {
      "cell_type": "code",
      "execution_count": null,
      "metadata": {},
      "outputs": [],
      "source": [
        "a = True\n",
        "b = False\n",
        "print(not a)  # False\n",
        "print(a or b)  # True"
      ]
    },
    {
      "cell_type": "markdown",
      "metadata": {},
      "source": [
        "## ✅ `if`, `elif`, `else` – Structures conditionnelles"
      ]
    },
    {
      "cell_type": "code",
      "execution_count": null,
      "metadata": {},
      "outputs": [],
      "source": [
        "temperature = 25\n",
        "if temperature > 30:\n",
        "    print('Chaud')\n",
        "elif temperature > 20:\n",
        "    print('Agréable')\n",
        "else:\n",
        "    print('Froid')"
      ]
    },
    {
      "cell_type": "markdown",
      "metadata": {},
      "source": [
        "## ✅ `for` – Boucle itérative"
      ]
    },
    {
      "cell_type": "code",
      "execution_count": null,
      "metadata": {},
      "outputs": [],
      "source": [
        "for lettre in 'Python':\n",
        "    print(lettre)"
      ]
    },
    {
      "cell_type": "code",
      "execution_count": null,
      "metadata": {},
      "outputs": [
        {
          "name": "stdout",
          "output_type": "stream",
          "text": [
            "0 P\n",
            "1 y\n",
            "2 t\n",
            "3 h\n",
            "4 o\n",
            "5 n\n"
          ]
        }
      ],
      "source": [
        "for index, lettre in enumerate('Python'):\n",
        "    print(index, lettre)"
      ]
    },
    {
      "cell_type": "markdown",
      "metadata": {},
      "source": [
        "## ✅ `while` – Boucle conditionnelle"
      ]
    },
    {
      "cell_type": "code",
      "execution_count": null,
      "metadata": {},
      "outputs": [],
      "source": [
        "i = 0\n",
        "while i < 5:\n",
        "    print(i)\n",
        "    i += 1"
      ]
    },
    {
      "cell_type": "markdown",
      "metadata": {},
      "source": [
        "## ✅ `break` – Sortir d’une boucle"
      ]
    },
    {
      "cell_type": "code",
      "execution_count": null,
      "metadata": {},
      "outputs": [],
      "source": [
        "for i in range(10):\n",
        "    if i == 5:\n",
        "        break\n",
        "    print(i)"
      ]
    },
    {
      "cell_type": "markdown",
      "metadata": {},
      "source": [
        "## ✅ `continue` – Passer à l’itération suivante"
      ]
    },
    {
      "cell_type": "code",
      "execution_count": 3,
      "metadata": {},
      "outputs": [
        {
          "name": "stdout",
          "output_type": "stream",
          "text": [
            "0\n",
            "1\n",
            "3\n",
            "4\n"
          ]
        }
      ],
      "source": [
        "for i in range(5):\n",
        "    if i == 2:\n",
        "        continue\n",
        "    print(i)"
      ]
    },
    {
      "cell_type": "markdown",
      "metadata": {},
      "source": [
        "## ✅ `def` – Définition de fonction"
      ]
    },
    {
      "cell_type": "code",
      "execution_count": null,
      "metadata": {},
      "outputs": [],
      "source": [
        "def dire_bonjour(nom):\n",
        "    print(f'Bonjour {nom}')\n",
        "\n",
        "dire_bonjour('Alice')"
      ]
    },
    {
      "cell_type": "markdown",
      "metadata": {},
      "source": [
        "## ✅ `return` – Retourner une valeur depuis une fonction"
      ]
    },
    {
      "cell_type": "code",
      "execution_count": null,
      "metadata": {},
      "outputs": [],
      "source": [
        "def carre(x):\n",
        "    return x * x\n",
        "\n",
        "print(carre(4))"
      ]
    },
    {
      "cell_type": "markdown",
      "metadata": {},
      "source": [
        "## ✅ `class` – Définition de classe"
      ]
    },
    {
      "cell_type": "code",
      "execution_count": null,
      "metadata": {},
      "outputs": [],
      "source": [
        "class Chat:\n",
        "    def __init__(self, nom):\n",
        "        self.nom = nom\n",
        "\n",
        "    def miauler(self):\n",
        "        print('Miaou')\n",
        "\n",
        "mon_chat = Chat('Minou')\n",
        "mon_chat.miauler()"
      ]
    },
    {
      "cell_type": "markdown",
      "metadata": {},
      "source": [
        "## ✅ `lambda` – Fonction anonyme"
      ]
    },
    {
      "cell_type": "code",
      "execution_count": null,
      "metadata": {},
      "outputs": [
        {
          "name": "stdout",
          "output_type": "stream",
          "text": [
            "['Bob Johnson', 'Alice Smith', 'David Wilson', 'Charlie Brown']\n"
          ]
        }
      ],
      "source": [
        "# Liste de noms complets\n",
        "noms_complets = [\"Alice Smith\", \"Bob Johnson\", \"Charlie Brown\", \"David Wilson\"]\n",
        "\n",
        "# Utilisation d'une fonction lambda pour trier par la longueur du prénom,\n",
        "# la première partie du nom avant l'espace\n",
        "noms_triés = sorted(noms_complets, key=lambda nom: len(nom.split()[0]))\n",
        "\n",
        "print(noms_triés)\n"
      ]
    },
    {
      "cell_type": "markdown",
      "metadata": {},
      "source": [
        "## ✅ `pass` – Instruction vide"
      ]
    },
    {
      "cell_type": "code",
      "execution_count": 6,
      "metadata": {},
      "outputs": [],
      "source": [
        "def fonction_pas_finie():\n",
        "    pass\n",
        "\n",
        "fonction_pas_finie()  # Ne fait rien"
      ]
    },
    {
      "cell_type": "markdown",
      "metadata": {},
      "source": [
        "## ✅ `import` / `from ... import` – Importer des modules"
      ]
    },
    {
      "cell_type": "code",
      "execution_count": null,
      "metadata": {},
      "outputs": [],
      "source": [
        "import math\n",
        "from random import randint\n",
        "\n",
        "print(math.sqrt(16))\n",
        "print(randint(1, 6))"
      ]
    },
    {
      "cell_type": "markdown",
      "metadata": {},
      "source": [
        "## ✅ `as` – Renommer un module ou alias"
      ]
    },
    {
      "cell_type": "code",
      "execution_count": 7,
      "metadata": {},
      "outputs": [],
      "source": [
        "import math as m\n",
        "with open('exemple.txt', 'w') as f:\n",
        "    réponse = m.sqrt(1764)\n",
        "    f.write(f'La réponse est {réponse}\\n')"
      ]
    },
    {
      "cell_type": "markdown",
      "metadata": {},
      "source": [
        "## ✅ `global` – Accès à une variable globale"
      ]
    },
    {
      "cell_type": "code",
      "execution_count": 8,
      "metadata": {},
      "outputs": [
        {
          "name": "stdout",
          "output_type": "stream",
          "text": [
            "20\n"
          ]
        }
      ],
      "source": [
        "x = 10\n",
        "def modifier():\n",
        "    global x\n",
        "    x = 20\n",
        "modifier()\n",
        "print(x)"
      ]
    },
    {
      "cell_type": "code",
      "execution_count": 1,
      "metadata": {},
      "outputs": [
        {
          "name": "stdout",
          "output_type": "stream",
          "text": [
            "10\n"
          ]
        }
      ],
      "source": [
        "x = 10\n",
        "def modifier():\n",
        "    x = 20\n",
        "modifier()\n",
        "print(x)"
      ]
    },
    {
      "cell_type": "markdown",
      "metadata": {},
      "source": [
        "## ✅ `nonlocal` – Variable dans une portée imbriquée\n",
        "\n",
        "Le mot-clé nonlocal en Python est utilisé pour travailler avec des variables dans des fonctions imbriquées (fonctions définies à l'intérieur d'autres fonctions). Il permet de modifier une variable définie dans une portée englobante (mais non globale) depuis une fonction imbriquée."
      ]
    },
    {
      "cell_type": "code",
      "execution_count": 10,
      "metadata": {},
      "outputs": [
        {
          "name": "stdout",
          "output_type": "stream",
          "text": [
            "Je suis modifiée par fonction_interne\n"
          ]
        }
      ],
      "source": [
        "def fonction_externe():\n",
        "    variable = \"Je suis une variable locale de fonction_externe\"\n",
        "\n",
        "    def fonction_interne():\n",
        "        nonlocal variable  # Indique que nous voulons utiliser la variable de la fonction englobante\n",
        "        variable = \"Je suis modifiée par fonction_interne\"\n",
        "\n",
        "    fonction_interne()\n",
        "    print(variable)\n",
        "\n",
        "fonction_externe()\n"
      ]
    },
    {
      "cell_type": "markdown",
      "metadata": {},
      "source": [
        "## ✅ `try`, `except`, `finally` – Gestion des erreurs"
      ]
    },
    {
      "cell_type": "code",
      "execution_count": null,
      "metadata": {},
      "outputs": [],
      "source": [
        "try:\n",
        "    x = 1 / 0\n",
        "except ZeroDivisionError:\n",
        "    print('Erreur division par zéro')\n",
        "finally:\n",
        "    print('Toujours exécuté')"
      ]
    },
    {
      "cell_type": "markdown",
      "metadata": {},
      "source": [
        "## ✅ `raise` – Lever une exception"
      ]
    },
    {
      "cell_type": "code",
      "execution_count": null,
      "metadata": {},
      "outputs": [],
      "source": [
        "def valider_age(age):\n",
        "    if age < 0:\n",
        "        raise ValueError('L\\'âge ne peut pas être négatif')\n",
        "valider_age(-5)"
      ]
    },
    {
      "cell_type": "markdown",
      "metadata": {},
      "source": [
        "## ✅ `del` – Supprimer une variable ou un élément"
      ]
    },
    {
      "cell_type": "code",
      "execution_count": null,
      "metadata": {},
      "outputs": [],
      "source": [
        "x = [1, 2, 3]\n",
        "del x[1]\n",
        "print(x)"
      ]
    },
    {
      "cell_type": "markdown",
      "metadata": {},
      "source": [
        "## ✅ `in` – Vérifie si un élément est présent"
      ]
    },
    {
      "cell_type": "code",
      "execution_count": null,
      "metadata": {},
      "outputs": [],
      "source": [
        "print('a' in 'abc')\n",
        "print(3 in [1, 2, 3])"
      ]
    },
    {
      "cell_type": "markdown",
      "metadata": {},
      "source": [
        "## ✅ `is` – Comparaison d'identité"
      ]
    },
    {
      "cell_type": "code",
      "execution_count": 11,
      "metadata": {},
      "outputs": [
        {
          "name": "stdout",
          "output_type": "stream",
          "text": [
            "True\n",
            "False\n"
          ]
        }
      ],
      "source": [
        "a = [1, 2]\n",
        "b = a\n",
        "c = [1, 2]\n",
        "print(a is b)\n",
        "print(a is c)"
      ]
    },
    {
      "cell_type": "markdown",
      "metadata": {},
      "source": [
        "## ✅ `assert` – Vérification pendant le développement"
      ]
    },
    {
      "cell_type": "code",
      "execution_count": 11,
      "metadata": {},
      "outputs": [],
      "source": [
        "x = 5\n",
        "assert x == 5, 'x devrait être 5'"
      ]
    },
    {
      "cell_type": "markdown",
      "metadata": {},
      "source": [
        "## ✅ `with` – Gestion de contexte"
      ]
    },
    {
      "cell_type": "code",
      "execution_count": null,
      "metadata": {},
      "outputs": [],
      "source": [
        "with open('exemple.txt', 'r') as f:\n",
        "    contenu = f.read()\n",
        "print(contenu)"
      ]
    },
    {
      "cell_type": "markdown",
      "metadata": {},
      "source": [
        "## ✅ `yield` – Créer des générateurs"
      ]
    },
    {
      "cell_type": "markdown",
      "metadata": {},
      "source": [
        "Le mot-clé `yield` en Python est utilisé dans le contexte des générateurs. Un générateur est une fonction spéciale qui permet de produire une séquence de valeurs au fil du temps, plutôt que de les calculer toutes en une fois et de les stocker en mémoire. Cela peut être très utile pour traiter de grandes quantités de données ou pour créer des séquences infinies.\n"
      ]
    },
    {
      "cell_type": "code",
      "execution_count": 16,
      "metadata": {},
      "outputs": [
        {
          "name": "stdout",
          "output_type": "stream",
          "text": [
            "0\n",
            "1\n",
            "2\n",
            "3\n",
            "4\n"
          ]
        }
      ],
      "source": [
        "\n",
        "def compteur(n):\n",
        "    i = 0\n",
        "    while i < n:\n",
        "        yield i  # Renvoie la valeur de i et suspend l'exécution\n",
        "        i += 1\n",
        "\n",
        "# Utilisation du générateur\n",
        "for nombre in compteur(5):\n",
        "    print(nombre)\n"
      ]
    },
    {
      "cell_type": "markdown",
      "metadata": {},
      "source": [
        "\n",
        "### Fonctionnement de `yield`\n",
        "\n",
        "Lorsque vous utilisez `yield` dans une fonction, celle-ci devient un générateur. Voici comment cela fonctionne :\n",
        "\n",
        "1. **Suspension de l'exécution** : Lorsque la fonction rencontre un `yield`, elle renvoie la valeur spécifiée et suspend son exécution, en sauvegardant son état actuel.\n",
        "\n",
        "2. **Reprise de l'exécution** : Lorsque la fonction est appelée à nouveau (en utilisant la méthode `next()` ou dans une boucle), elle reprend son exécution juste après le `yield` où elle s'était arrêtée.\n",
        "\n",
        "3. **Fin de l'exécution** : La fonction continue à s'exécuter jusqu'à ce qu'elle rencontre un autre `yield` ou jusqu'à ce qu'elle se termine. Si elle se termine, une exception `StopIteration` est levée pour indiquer qu'il n'y a plus de valeurs à produire.\n",
        "\n",
        "\n"
      ]
    },
    {
      "cell_type": "markdown",
      "metadata": {},
      "source": [
        "\n",
        "### Avantages des générateurs\n",
        "\n",
        "- **Efficacité mémoire** : Les générateurs ne stockent pas toutes les valeurs en mémoire en même temps, ce qui est particulièrement utile pour traiter de grandes quantités de données.\n",
        "\n",
        "- **Paresseux (Lazy Evaluation)** : Les valeurs sont produites à la demande, ce qui peut améliorer les performances en évitant des calculs inutiles.\n",
        "\n",
        "- **Infinite Sequences** : Les générateurs peuvent produire des séquences infinies, car les valeurs sont générées à la volée.\n",
        "\n",
        "### Exemple avancé\n",
        "\n",
        "Voici un exemple un peu plus avancé qui utilise un générateur pour produire la séquence de Fibonacci :\n",
        "\n",
        "Dans cet exemple, le générateur `fibonacci_infini` produit les  nombres de la séquence de Fibonacci. Chaque appel à `yield` renvoie la valeur actuelle de `a` et met à jour les valeurs de `a` et `b` pour le prochain appel."
      ]
    },
    {
      "cell_type": "code",
      "execution_count": 21,
      "metadata": {},
      "outputs": [
        {
          "name": "stdout",
          "output_type": "stream",
          "text": [
            "0\n",
            "1\n",
            "1\n",
            "2\n",
            "3\n",
            "5\n",
            "8\n",
            "13\n",
            "21\n",
            "34\n"
          ]
        }
      ],
      "source": [
        "def fibonacci_infini():\n",
        "    a, b = 0, 1\n",
        "    while True:\n",
        "        yield a\n",
        "        a, b = b, a + b\n",
        "\n",
        "# Utilisation du générateur\n",
        "generateur_fibonacci = fibonacci_infini()\n",
        "\n",
        "# Affichage des 10 premiers nombres de la séquence de Fibonacci\n",
        "for _ in range(10):\n",
        "    print(next(generateur_fibonacci))\n"
      ]
    },
    {
      "cell_type": "markdown",
      "metadata": {},
      "source": [
        "## ✅ `async`, `await` – Programmation asynchrone"
      ]
    },
    {
      "cell_type": "markdown",
      "metadata": {},
      "source": [
        "En Python, les mots-clés `async` et `await` sont utilisés pour écrire du code asynchrone, ce qui permet de gérer des opérations concurrentes de manière efficace, notamment pour les entrées/sorties (I/O) comme les requêtes réseau, les lectures de fichiers, etc. \n",
        "\n",
        "### `async`\n",
        "\n",
        "Le mot-clé `async` est utilisé pour définir une fonction asynchrone. Une fonction asynchrone est une fonction qui peut être exécutée de manière non bloquante, ce qui signifie qu'elle peut être suspendue et reprise plus tard sans bloquer l'exécution du reste du programme.\n",
        "\n",
        "```python\n",
        "async def ma_fonction_asynchrone():\n",
        "    # Code asynchrone ici\n",
        "    pass\n",
        "```\n",
        "\n",
        "### `await`\n",
        "\n",
        "Le mot-clé `await` est utilisé pour appeler une fonction asynchrone et attendre son résultat. Il ne peut être utilisé qu'à l'intérieur d'une fonction définie avec `async`. Lorsque l'exécution atteint une instruction `await`, la fonction asynchrone est suspendue jusqu'à ce que l'opération attendue soit terminée, permettant à d'autres tâches de s'exécuter en attendant.\n",
        "\n",
        "```python\n",
        "async def ma_fonction_asynchrone():\n",
        "    resultat = await une_autre_fonction_asynchrone()\n",
        "    print(resultat)\n",
        "```\n",
        "\n",
        "### Exemple d'utilisation"
      ]
    },
    {
      "cell_type": "markdown",
      "metadata": {},
      "source": [
        "```py\n",
        "import asyncio\n",
        "\n",
        "async def dire_bonjour_apres_delai(nom, delai):\n",
        "    await asyncio.sleep(delai)  # Simule une attente non bloquante\n",
        "    print(f\"Bonjour, {nom}!\")\n",
        "\n",
        "async def main():\n",
        "    # Planifie l'exécution des tâches de manière asynchrone\n",
        "    await asyncio.gather(\n",
        "        dire_bonjour_apres_delai(\"Alice\", 2),\n",
        "        dire_bonjour_apres_delai(\"Bob\", 1),\n",
        "        dire_bonjour_apres_delai(\"Charlie\", 3)\n",
        "    )\n",
        "\n",
        "# Exécute la boucle d'événements asynchrone\n",
        "asyncio.run(main())\n",
        "```"
      ]
    },
    {
      "cell_type": "markdown",
      "metadata": {},
      "source": [
        "\n",
        " - A enregistrer dans un fichier `asynchrone.py`\n",
        " - Puis exécuter le code via `>python asynchrone.py`\n"
      ]
    },
    {
      "cell_type": "markdown",
      "metadata": {},
      "source": []
    }
  ],
  "metadata": {
    "kernelspec": {
      "display_name": "game",
      "language": "python",
      "name": "game"
    },
    "language_info": {
      "codemirror_mode": {
        "name": "ipython",
        "version": 3
      },
      "file_extension": ".py",
      "mimetype": "text/x-python",
      "name": "python",
      "nbconvert_exporter": "python",
      "pygments_lexer": "ipython3",
      "version": "3.13.2"
    }
  },
  "nbformat": 4,
  "nbformat_minor": 4
}
