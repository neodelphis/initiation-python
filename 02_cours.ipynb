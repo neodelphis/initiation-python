{
 "cells": [
  {
   "cell_type": "raw",
   "id": "c68f094c",
   "metadata": {
    "slideshow": {
     "slide_type": "skip"
    },
    "vscode": {
     "languageId": "raw"
    }
   },
   "source": [
    "---\n",
    "title: \"Suite du cours d’introduction à Python\"\n",
    "author: \"Pierre Jaumier\"\n",
    "format:\n",
    "  pdf:\n",
    "    toc: false\n",
    "    number-sections: false\n",
    "    colorlinks: true\n",
    "---"
   ]
  },
  {
   "cell_type": "markdown",
   "id": "f48e4028",
   "metadata": {
    "slideshow": {
     "slide_type": "skip"
    }
   },
   "source": [
    "# 📊 Suite du cours d’introduction à Python  \n",
    "🧩 Thème : Utiliser le hasard avec le module `random`, les boucles et les conditions\n"
   ]
  },
  {
   "cell_type": "markdown",
   "id": "9a39d5e1",
   "metadata": {
    "slideshow": {
     "slide_type": "slide"
    }
   },
   "source": [
    "## 🔹 Bienvenue\n",
    "- **Introduction à Python (Partie 2)**\n",
    "- 📊 Diapos PowerPoint – Suite du cours d’introduction à Python\n",
    "- 🧩 Thème : Créer des petits jeux de hasard avec le module `random`"
   ]
  },
  {
   "cell_type": "markdown",
   "id": "3918e3f5",
   "metadata": {
    "slideshow": {
     "slide_type": "slide"
    }
   },
   "source": [
    "## 🔹 Objectifs de cette partie\n",
    "À la fin de cette session, vous saurez :\n",
    "- Comprendre pourquoi le hasard est important dans les jeux\n",
    "- Utiliser le module `random` pour simuler des événements aléatoires\n",
    "- Tirer au sort des nombres, des éléments d'une liste, mélanger des données\n",
    "- Utiliser les boucles `for` et conditions `if...elif...else`\n",
    "- Créer de petits jeux basés sur le hasard"
   ]
  },
  {
   "cell_type": "markdown",
   "id": "327b26c5",
   "metadata": {
    "slideshow": {
     "slide_type": "slide"
    }
   },
   "source": [
    "## 🔹 Pourquoi le hasard dans les jeux ?\n",
    "- Le hasard rend les jeux :\n",
    "  - Imprévisibles\n",
    "  - Réjouissants\n",
    "  - Équitables\n",
    "- Exemples de jeux utilisant le hasard :\n",
    "  - Jeux de dés\n",
    "  - Jeux de cartes\n",
    "  - Loto, bingo, etc."
   ]
  },
  {
   "cell_type": "markdown",
   "id": "0a680c95",
   "metadata": {
    "slideshow": {
     "slide_type": "slide"
    }
   },
   "source": [
    "## 🔹 Hasard \"vrai\" vs \"pseudo-aléatoire\"\n",
    "- En informatique, le **vrai hasard n’existe pas**.\n",
    "- On utilise des **nombres pseudo-aléatoires** générés par des algorithmes complexes.\n",
    "- Python utilise une fonction mathématique + un germe (`seed`) pour produire ces séquences."
   ]
  },
  {
   "cell_type": "markdown",
   "id": "62b107d2",
   "metadata": {
    "slideshow": {
     "slide_type": "slide"
    }
   },
   "source": [
    "## 🔹 Le module `random`\n",
    "Pour utiliser le module `random`, il faut l’importer :\n",
    "\n",
    "```python\n",
    "from random import *\n",
    "```\n",
    "\n",
    "Ou importer uniquement ce dont on a besoin :\n",
    "\n",
    "```python\n",
    "from random import randint, choice, shuffle, sample\n",
    "```"
   ]
  },
  {
   "cell_type": "markdown",
   "id": "1e72b8fb",
   "metadata": {
    "slideshow": {
     "slide_type": "slide"
    }
   },
   "source": [
    "## 🔹 Fonction `random()`\n",
    "- Génère un nombre décimal entre 0 (inclus) et 1 (exclu).\n",
    "- Exemple :\n",
    "\n",
    "```python\n",
    "from random import random\n",
    "print(random())  # ex: affiche 0.87965...\n",
    "```"
   ]
  },
  {
   "cell_type": "markdown",
   "id": "ef8fd2de",
   "metadata": {
    "slideshow": {
     "slide_type": "slide"
    }
   },
   "source": [
    "## 🔹 Fonction `randint(a, b)`\n",
    "- Retourne un entier entre `a` et `b` inclus.\n",
    "- Idéal pour simuler des dés :\n",
    "```python\n",
    "from random import randint\n",
    "print(randint(1, 6))  # Simule un dé à 6 faces\n",
    "```"
   ]
  },
  {
   "cell_type": "markdown",
   "id": "2700f8b4",
   "metadata": {
    "slideshow": {
     "slide_type": "slide"
    }
   },
   "source": [
    "## 🔹 Boucle `for x in range(n)`\n",
    "Pour répéter une action plusieurs fois (ici n fois)\n",
    "\n",
    "```python\n",
    "for x in range(10):\n",
    "    print(randint(1, 6), end=\" \")\n",
    "```\n",
    "\n",
    "Affiche 10 jets de dés comme :\n",
    "```\n",
    "3 5 6 1 6 6 4 1 3 1\n",
    "```\n",
    "\n",
    "x variable qui varie de 0 à (n-1), 9 dans l'exemple"
   ]
  },
  {
   "cell_type": "markdown",
   "id": "6fdd7417",
   "metadata": {
    "slideshow": {
     "slide_type": "slide"
    }
   },
   "source": [
    "## 🔹 Fonction `choice(liste)`\n",
    "Permet de choisir un élément au hasard dans une liste :\n",
    "\n",
    "```python\n",
    "from random import choice\n",
    "cartes = ['As', 'Roi', 'Dame', 'Valet']\n",
    "print(choice(cartes))  # ex: 'Roi'\n",
    "```"
   ]
  },
  {
   "cell_type": "markdown",
   "id": "e581c401",
   "metadata": {
    "slideshow": {
     "slide_type": "slide"
    }
   },
   "source": [
    "## 🔹 Fonction `shuffle(liste)`\n",
    "Mélange les éléments d’une liste :\n",
    "\n",
    "```python\n",
    "from random import shuffle\n",
    "paquet = ['Cœur', 'Carreau', 'Trèfle', 'Pique']\n",
    "shuffle(paquet)\n",
    "print(paquet)  # ex: ['Trèfle', 'Pique', 'Cœur', 'Carreau']\n",
    "```"
   ]
  },
  {
   "cell_type": "markdown",
   "id": "4c9fbbd4",
   "metadata": {
    "slideshow": {
     "slide_type": "slide"
    }
   },
   "source": [
    "\n",
    "## 🔹 Fonction `sample(liste, k)`\n",
    "Tire `k` éléments uniques d’une liste sans répétition :\n",
    "\n",
    "```python\n",
    "from random import sample\n",
    "numeros = list(range(1, 51))\n",
    "tirage = sample(numeros, 5)\n",
    "print(tirage)  # ex: [3, 12, 27, 39, 45]\n",
    "```"
   ]
  },
  {
   "cell_type": "markdown",
   "id": "94210c3a",
   "metadata": {
    "slideshow": {
     "slide_type": "slide"
    }
   },
   "source": [
    "## 🔹 Exercice : Simuler un jeu de dé pipé\n",
    "- Probabilités personnalisées :\n",
    "  - 1 → 10%\n",
    "  - 2,3,4,5 → 15%\n",
    "  - 6 → 30%\n",
    "\n",
    "Utiliser `random()` et `if...elif...else` :\n",
    "\n",
    "```python\n",
    "from random import random\n",
    "\n",
    "rnd = random()\n",
    "if rnd < 0.1:\n",
    "    print(1)\n",
    "elif rnd < 0.25:\n",
    "    print(2)\n",
    "elif rnd < 0.4:\n",
    "    print(3)\n",
    "elif rnd < 0.55:\n",
    "    print(4)\n",
    "elif rnd < 0.7:\n",
    "    print(5)\n",
    "else:\n",
    "    print(6)\n",
    "```"
   ]
  },
  {
   "cell_type": "markdown",
   "id": "0ea6e49a",
   "metadata": {
    "slideshow": {
     "slide_type": "slide"
    },
    "vscode": {
     "languageId": "plaintext"
    }
   },
   "source": [
    "## 🔹 Opérateurs de comparaison\n",
    "| Opérateur | Signification       |\n",
    "|----------|---------------------|\n",
    "| `<`      | inférieur à         |\n",
    "| `>`      | supérieur à         |\n",
    "| `<=`     | inférieur ou égal   |\n",
    "| `>=`     | supérieur ou égal   |\n",
    "| `==`     | égal à              |\n",
    "| `!=`     | différent de        |\n",
    "\n",
    "⚠️ Ne pas confondre `=` (affectation) et `==` (comparaison)"
   ]
  },
  {
   "cell_type": "markdown",
   "id": "16946ea3",
   "metadata": {
    "slideshow": {
     "slide_type": "slide"
    }
   },
   "source": [
    "## 🔹 Mini-Projets possibles\n",
    "### 💡 A réaliser en solo ou en binôme\n",
    "1. Un générateur de mot de passe aléatoire\n",
    "2. Un simulateur de tirage Euro Millions\n",
    "3. Une simulation de jeu de bingo (1 à 90)\n",
    "4. Mélanger l’ordre d’entrée des catcheurs (Royal Rumble)"
   ]
  },
  {
   "cell_type": "markdown",
   "id": "6045439e",
   "metadata": {
    "slideshow": {
     "slide_type": "slide"
    }
   },
   "source": [
    "## 🔹 Points clés de cette partie\n",
    "✅ Python ne produit pas de vrai hasard mais des nombres pseudo-aléatoires  \n",
    "✅ Le module `random` permet de gérer le hasard facilement  \n",
    "✅ `randint`, `choice`, `shuffle`, `sample` sont très utiles  \n",
    "✅ Les boucles `for` permettent de répéter des actions  \n",
    "✅ Les conditions `if...elif...else` permettent de prendre des décisions selon le hasard "
   ]
  },
  {
   "cell_type": "markdown",
   "id": "21173f2e",
   "metadata": {
    "slideshow": {
     "slide_type": "slide"
    }
   },
   "source": [
    "## 🔹 Questions & Discussions\n",
    "- Ouverture aux questions des participants\n",
    "- Revue rapide des difficultés rencontrées"
   ]
  },
  {
   "cell_type": "markdown",
   "id": "68c1aee5",
   "metadata": {
    "slideshow": {
     "slide_type": "slide"
    }
   },
   "source": [
    "## 🔹 À suivre…\n",
    "### Prochain chapitre : Structures de données avancées\n",
    "- Listes, tuples, dictionnaires\n",
    "- Manipulation de données complexes\n",
    "- Jeux plus évolués"
   ]
  },
  {
   "cell_type": "markdown",
   "id": "27f66f1e",
   "metadata": {},
   "source": []
  }
 ],
 "metadata": {
  "language_info": {
   "name": "python"
  }
 },
 "nbformat": 4,
 "nbformat_minor": 5
}
