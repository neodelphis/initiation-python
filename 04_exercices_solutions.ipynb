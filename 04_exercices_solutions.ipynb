{
  "cells": [
    {
      "cell_type": "markdown",
      "metadata": {},
      "source": [
        "# Exercices avancés sur les structures de données en Python\n",
        "\n",
        "*Pour élèves ayant déjà programmé dans d'autres langages*\n",
        "\n",
        "Avec corrections détaillées"
      ]
    },
    {
      "cell_type": "markdown",
      "metadata": {},
      "source": [
        "## Exercice 1 : Fusion et nettoyage de listes"
      ]
    },
    {
      "cell_type": "code",
      "execution_count": 59,
      "metadata": {},
      "outputs": [],
      "source": [
        "liste1 = [3, 7, 10, 15, 2]\n",
        "liste2 = [5, 10, 20, 3]\n",
        "\n",
        "# Écris ton code ici pour :\n",
        "# 1. Concaténer les deux listes\n",
        "# 2. Supprimer les doublons\n",
        "# 3. Trier dans l'ordre croissant\n",
        "# 4. Ne garder que les nombres pairs"
      ]
    },
    {
      "cell_type": "markdown",
      "metadata": {},
      "source": [
        "### ✅ Correction"
      ]
    },
    {
      "cell_type": "code",
      "execution_count": 60,
      "metadata": {},
      "outputs": [
        {
          "name": "stdout",
          "output_type": "stream",
          "text": [
            "[2, 10, 20]\n"
          ]
        }
      ],
      "source": [
        "# Correction Exercice 1\n",
        "\n",
        "resultat = sorted(set(liste1 + liste2))\n",
        "pairs = [x for x in resultat if x % 2 == 0]\n",
        "\n",
        "print(pairs)"
      ]
    },
    {
      "cell_type": "markdown",
      "metadata": {},
      "source": [
        "## Exercice 2 : Statistiques sur un texte"
      ]
    },
    {
      "cell_type": "code",
      "execution_count": 2,
      "metadata": {},
      "outputs": [],
      "source": [
        "texte = 'le chat noir est dans le jardin et le chien regarde le chat'\n",
        "\n",
        "# Compte :\n",
        "# - Le nombre total de mots\n",
        "# - Le mot le plus fréquent\n",
        "# - La longueur moyenne des mots"
      ]
    },
    {
      "cell_type": "markdown",
      "metadata": {},
      "source": [
        "### ✅ Correction"
      ]
    },
    {
      "cell_type": "code",
      "execution_count": 57,
      "metadata": {},
      "outputs": [
        {
          "name": "stdout",
          "output_type": "stream",
          "text": [
            "Nombre total de mots : 6\n",
            "Mot le plus fréquent : 'le'\n",
            "Longueur moyenne des mots : 4.00\n"
          ]
        }
      ],
      "source": [
        "# Correction Exercice 2\n",
        "\n",
        "mots = texte.split()\n",
        "nb_mots = len(mots)\n",
        "\n",
        "compteur = {}\n",
        "for mot in mots:\n",
        "    compteur[mot] = compteur.get(mot, 0) + 1\n",
        "\n",
        "mot_plus_frequent = max(compteur, key=compteur.get)\n",
        "longueur_moyenne = sum(len(mot) for mot in mots) / nb_mots\n",
        "\n",
        "print(f\"Nombre total de mots : {nb_mots}\")\n",
        "print(f\"Mot le plus fréquent : '{mot_plus_frequent}'\")\n",
        "print(f\"Longueur moyenne des mots : {longueur_moyenne:.2f}\")"
      ]
    },
    {
      "cell_type": "code",
      "execution_count": 58,
      "id": "a5788f99",
      "metadata": {},
      "outputs": [
        {
          "name": "stdout",
          "output_type": "stream",
          "text": [
            "Nombre total de mots : 6\n",
            "Mot le plus fréquent : 'le'\n",
            "Longueur moyenne des mots : 4.00\n"
          ]
        }
      ],
      "source": [
        "# Correction Exercice 2 avec la bibliothèque collections\n",
        "from collections import Counter\n",
        "from statistics import mean\n",
        "\n",
        "mots = texte.split()\n",
        "nb_mots = len(mots)\n",
        "# Compte le nombre de mots\n",
        "# et le mot le plus fréquent\n",
        "# Compte la longueur moyenne des mots\n",
        "compteur = Counter(mots)\n",
        "mot_plus_frequent = compteur.most_common(1)[0][0]\n",
        "longueur_moyenne = mean(len(mot) for mot in mots)\n",
        "print(f\"Nombre total de mots : {nb_mots}\")\n",
        "print(f\"Mot le plus fréquent : '{mot_plus_frequent}'\")\n",
        "print(f\"Longueur moyenne des mots : {longueur_moyenne:.2f}\")"
      ]
    },
    {
      "cell_type": "markdown",
      "metadata": {},
      "source": [
        "## Exercice 3 : Recherche dans une base de données simplifiée"
      ]
    },
    {
      "cell_type": "code",
      "execution_count": 53,
      "metadata": {},
      "outputs": [],
      "source": [
        "étudiants = [\n",
        "    {'nom': 'Alice', 'âge': 22, 'notes': {'math': 18, 'français': 16}},\n",
        "    {'nom': 'Bob', 'âge': 20, 'notes': {'math': 14, 'français': 19}},\n",
        "    {'nom': 'Charlie', 'âge': 21, 'notes': {'math': 15, 'français': 17}}\n",
        "]\n",
        "\n",
        "# Partie 1 : Trouve tous les étudiants dont la note en math ≥ 15\n",
        "\n",
        "# Partie 2 (facultatif) : Calcule la moyenne générale et ajoute-la dans 'moyenne'"
      ]
    },
    {
      "cell_type": "markdown",
      "metadata": {},
      "source": [
        "### ✅ Correction"
      ]
    },
    {
      "cell_type": "code",
      "execution_count": 56,
      "metadata": {},
      "outputs": [
        {
          "name": "stdout",
          "output_type": "stream",
          "text": [
            "Étudiants avec math ≥ 15 :\n",
            "[{'nom': 'Alice', 'âge': 22, 'notes': {'math': 18, 'français': 16}, 'moyenne': 17.0}, {'nom': 'Charlie', 'âge': 21, 'notes': {'math': 15, 'français': 17}, 'moyenne': 16.0}]\n",
            "\n",
            "Étudiants avec moyennes ajoutées :\n",
            "[{'nom': 'Alice', 'âge': 22, 'notes': {'math': 18, 'français': 16}, 'moyenne': 17.0}, {'nom': 'Bob', 'âge': 20, 'notes': {'math': 14, 'français': 19}, 'moyenne': 16.5}, {'nom': 'Charlie', 'âge': 21, 'notes': {'math': 15, 'français': 17}, 'moyenne': 16.0}]\n"
          ]
        }
      ],
      "source": [
        "# Correction Exercice 3\n",
        "\n",
        "# Partie 1\n",
        "filtrés = [étudiant for étudiant in étudiants if étudiant['notes']['math'] >= 15]\n",
        "print('Étudiants avec math ≥ 15 :')\n",
        "print(filtrés)\n",
        "\n",
        "# Partie 2\n",
        "for étudiant in étudiants:\n",
        "    notes = étudiant['notes'].values()\n",
        "    étudiant['moyenne'] = sum(notes) / len(notes) # ou mean(notes)\n",
        "\n",
        "print(\"\\nÉtudiants avec moyennes ajoutées :\")\n",
        "print(étudiants)"
      ]
    },
    {
      "cell_type": "markdown",
      "metadata": {},
      "source": [
        "## Exercice 4 : Gestion de contacts"
      ]
    },
    {
      "cell_type": "code",
      "execution_count": 51,
      "metadata": {},
      "outputs": [],
      "source": [
        "annuaire = {\n",
        "    'Jean Dupont': {\n",
        "        'téléphone': '06 12 34 56 78',\n",
        "        'email': 'jean.dupont@email.com',\n",
        "        'adresse': '12 rue des Champs'\n",
        "    }\n",
        "}\n",
        "\n",
        "def chercher_contact(nom):\n",
        "    # Affiche les infos si le contact existe\n",
        "    # Sinon affiche un message d'erreur\n",
        "    pass  # À remplacer par votre code\n",
        "\n",
        "# Tester la fonction\n",
        "chercher_contact('Jean Dupont')\n",
        "chercher_contact('Paul Martin')"
      ]
    },
    {
      "cell_type": "markdown",
      "metadata": {},
      "source": [
        "### ✅ Correction"
      ]
    },
    {
      "cell_type": "code",
      "execution_count": 52,
      "metadata": {},
      "outputs": [
        {
          "name": "stdout",
          "output_type": "stream",
          "text": [
            "Informations pour Jean Dupont :\n",
            "téléphone : 06 12 34 56 78\n",
            "email : jean.dupont@email.com\n",
            "adresse : 12 rue des Champs\n",
            "Le contact 'Paul Martin' n'existe pas.\n"
          ]
        }
      ],
      "source": [
        "# Correction Exercice 4\n",
        "\n",
        "def chercher_contact(nom):\n",
        "    if nom in annuaire:\n",
        "        print(f\"Informations pour {nom} :\")\n",
        "        for cle, val in annuaire[nom].items():\n",
        "            print(f\"{cle} : {val}\")\n",
        "    else:\n",
        "        print(f\"Le contact '{nom}' n'existe pas.\")\n",
        "\n",
        "# Tests\n",
        "chercher_contact('Jean Dupont')\n",
        "chercher_contact('Paul Martin')"
      ]
    },
    {
      "cell_type": "markdown",
      "metadata": {},
      "source": [
        "## Exercice 5 : Jeu du Mastermind simplifié"
      ]
    },
    {
      "cell_type": "code",
      "execution_count": 32,
      "metadata": {},
      "outputs": [
        {
          "data": {
            "text/plain": [
              "['d', 'a', 'b', 'b']"
            ]
          },
          "execution_count": 32,
          "metadata": {},
          "output_type": "execute_result"
        }
      ],
      "source": [
        "# Construction de la solution\n",
        "# \n",
        "import random\n",
        "\n",
        "couleurs = ['a', 'b', 'c', 'd', 'e', 'f']\n",
        "random.seed(42)  # Pour la reproductibilité\n",
        "# Génération d'une combinaison secrète\n",
        "secret = random.choices(couleurs, k=4)  # Sélectionne 4 couleurs au hasard\n",
        "\n",
        "# print('Devinez la combinaison secrète de 4 couleurs.')\n",
        "# print('Couleurs possibles : a, b, c, d, e, f')\n",
        "secret"
      ]
    },
    {
      "cell_type": "code",
      "execution_count": 33,
      "id": "5e210275",
      "metadata": {},
      "outputs": [
        {
          "data": {
            "text/plain": [
              "['d', 'b', 'c', 'c']"
            ]
          },
          "execution_count": 33,
          "metadata": {},
          "output_type": "execute_result"
        }
      ],
      "source": [
        "entrée_calvier = ' d b c c '\n",
        "proposition = entrée_calvier.strip().lower().split()\n",
        "assert len(proposition) == 4, \"La proposition doit contenir 4 couleurs.\"\n",
        "proposition"
      ]
    },
    {
      "cell_type": "code",
      "execution_count": 34,
      "id": "72655e37",
      "metadata": {},
      "outputs": [
        {
          "data": {
            "text/plain": [
              "<zip at 0x10c08f6c0>"
            ]
          },
          "execution_count": 34,
          "metadata": {},
          "output_type": "execute_result"
        }
      ],
      "source": [
        "zip(secret, proposition)"
      ]
    },
    {
      "cell_type": "code",
      "execution_count": 12,
      "id": "c4eec7f0",
      "metadata": {},
      "outputs": [
        {
          "data": {
            "text/plain": [
              "[('d', 'd'), ('a', 'b'), ('b', 'c'), ('b', 'c')]"
            ]
          },
          "execution_count": 12,
          "metadata": {},
          "output_type": "execute_result"
        }
      ],
      "source": [
        "# Bien placés\n",
        "comparaison = list(zip(secret, proposition))\n",
        "comparaison"
      ]
    },
    {
      "cell_type": "code",
      "execution_count": 13,
      "id": "9f2a75d5",
      "metadata": {},
      "outputs": [
        {
          "data": {
            "text/plain": [
              "[True, False, False, False]"
            ]
          },
          "execution_count": 13,
          "metadata": {},
          "output_type": "execute_result"
        }
      ],
      "source": [
        "[s == p for s, p in comparaison]"
      ]
    },
    {
      "cell_type": "code",
      "execution_count": 14,
      "id": "a84b8e60",
      "metadata": {},
      "outputs": [
        {
          "data": {
            "text/plain": [
              "1"
            ]
          },
          "execution_count": 14,
          "metadata": {},
          "output_type": "execute_result"
        }
      ],
      "source": [
        "sum([s == p for s, p in comparaison])"
      ]
    },
    {
      "cell_type": "code",
      "execution_count": 38,
      "id": "a5f336e6",
      "metadata": {},
      "outputs": [
        {
          "data": {
            "text/plain": [
              "(1, [('a', 'b'), ('b', 'c'), ('b', 'c')])"
            ]
          },
          "execution_count": 38,
          "metadata": {},
          "output_type": "execute_result"
        }
      ],
      "source": [
        "# Il faut noter les éléments déjà bien placés\n",
        "# Attention à ne pas faire d'opération sur la liste sur laquelle on itère dans la boucle d'itération\n",
        "bien_placé = 0\n",
        "comparaison_copie = comparaison.copy()\n",
        "for i, (s, p) in enumerate(comparaison):\n",
        "    if s == p:\n",
        "        bien_placé += 1\n",
        "        del comparaison_copie[i] # On supprime l'élément bien placé\n",
        "\n",
        "bien_placé, comparaison_copie\n"
      ]
    },
    {
      "cell_type": "code",
      "execution_count": 36,
      "id": "4df585cd",
      "metadata": {},
      "outputs": [
        {
          "data": {
            "text/plain": [
              "['a', 'b', 'b']"
            ]
          },
          "execution_count": 36,
          "metadata": {},
          "output_type": "execute_result"
        }
      ],
      "source": [
        "# Mal placés\n",
        "mal_placé = 0\n",
        "# Reste des couleurs de secret\n",
        "secret_reste = [s for s, p in comparaison_copie]\n",
        "secret_reste"
      ]
    },
    {
      "cell_type": "code",
      "execution_count": 37,
      "id": "18c5faae",
      "metadata": {},
      "outputs": [
        {
          "name": "stdout",
          "output_type": "stream",
          "text": [
            "secret_reste=['a', 'b'], mal_placé=1\n"
          ]
        },
        {
          "data": {
            "text/plain": [
              "1"
            ]
          },
          "execution_count": 37,
          "metadata": {},
          "output_type": "execute_result"
        }
      ],
      "source": [
        "\n",
        "for s, p in comparaison_copie:\n",
        "    if p in secret_reste:\n",
        "        mal_placé += 1\n",
        "        secret_reste.remove(p)  # On supprime la couleur pour ne pas la compter plusieurs fois\n",
        "        print((f'{secret_reste=}, {mal_placé=}'))\n",
        "mal_placé"
      ]
    },
    {
      "cell_type": "code",
      "execution_count": 45,
      "id": "6ddca2c9",
      "metadata": {},
      "outputs": [
        {
          "name": "stdout",
          "output_type": "stream",
          "text": [
            " secret_copie = [None, 'a', 'b', 'b'],\n",
            " essai_copie  = [None, 'b', 'c', 'c']\n"
          ]
        }
      ],
      "source": [
        "# Optimisation\n",
        "secret = ['d', 'a', 'b', 'b']\n",
        "essai = ['d', 'b', 'c', 'c']\n",
        "\n",
        "\n",
        "bien_place = 0\n",
        "mal_place = 0\n",
        "\n",
        "secret_copie = secret.copy()\n",
        "essai_copie = essai.copy()\n",
        "\n",
        "# Bien placés\n",
        "for j in range(4):\n",
        "    if essai[j] == secret[j]:\n",
        "        bien_place += 1\n",
        "        secret_copie[j] = None\n",
        "        essai_copie[j] = None\n",
        "\n",
        "print(f' {secret_copie = },\\n {essai_copie  = }')\n"
      ]
    },
    {
      "cell_type": "code",
      "execution_count": null,
      "id": "4e5c0312",
      "metadata": {},
      "outputs": [
        {
          "name": "stdout",
          "output_type": "stream",
          "text": [
            " secret_copie = [None, 'a', 'b'],\n",
            " essai_copie  = [None, 'b', 'c', 'c']\n"
          ]
        }
      ],
      "source": [
        "# Mal placés\n",
        "for couleur in essai_copie:\n",
        "    if couleur is not None and couleur in secret_copie:\n",
        "        mal_place += 1\n",
        "        secret_copie.remove(couleur)\n",
        "\n",
        "print(f' {secret_copie = },\\n {essai_copie  = }')\n"
      ]
    },
    {
      "cell_type": "markdown",
      "metadata": {},
      "source": [
        "### ✅ Correction"
      ]
    },
    {
      "cell_type": "code",
      "execution_count": null,
      "metadata": {},
      "outputs": [],
      "source": [
        "# Correction Exercice 5\n",
        "\n",
        "import random\n",
        "\n",
        "couleurs = ['rouge', 'bleu', 'vert', 'jaune', 'orange', 'violet']\n",
        "secret = random.choices(couleurs, k=4)\n",
        "\n",
        "tentatives = 10\n",
        "print('DEVINEZ LA COMBINAISON SECRÈTE DE 4 COULEURS')\n",
        "\n",
        "for i in range(tentatives):\n",
        "    essai = input(f\"Tentative {i+1} - Entrez 4 couleurs séparées par des espaces : \").split()\n",
        "\n",
        "    if len(essai) != 4:\n",
        "        print('Veuillez entrer exactement 4 couleurs.')\n",
        "        continue\n",
        "\n",
        "    bien_place = 0\n",
        "    mal_place = 0\n",
        "\n",
        "    secret_copie = secret.copy()\n",
        "    essai_copie = essai.copy()\n",
        "\n",
        "    # Bien placés\n",
        "    for j in range(4):\n",
        "        if essai[j] == secret[j]:\n",
        "            bien_place += 1\n",
        "            secret_copie[j] = None\n",
        "            essai_copie[j] = None\n",
        "\n",
        "    # Mal placés\n",
        "    for couleur in essai_copie:\n",
        "        if couleur in secret_copie and couleur is not None:\n",
        "            mal_place += 1\n",
        "            secret_copie.remove(couleur)\n",
        "\n",
        "    print(f\"Bien placés : {bien_place}, Mal placés : {mal_place}\")\n",
        "\n",
        "    if bien_place == 4:\n",
        "        print('Félicitations ! Vous avez trouvé la combinaison.')\n",
        "        break\n",
        "else:\n",
        "    print(f\"Dommage ! La combinaison était : {' '.join(secret)}\")"
      ]
    },
    {
      "cell_type": "markdown",
      "metadata": {},
      "source": [
        "## Exercice 6 : Optimisation de recherche dans une liste"
      ]
    },
    {
      "cell_type": "code",
      "execution_count": 49,
      "metadata": {},
      "outputs": [],
      "source": [
        "import time\n",
        "import random\n",
        "\n",
        "# Génération aléatoire\n",
        "grande_liste = [random.randint(1, 100000) for _ in range(100000)]\n",
        "grand_set = set(grande_liste)\n",
        "\n",
        "# Test\n",
        "element = random.choice(grande_liste)\n",
        "\n",
        "# Mesure temps de recherche dans la liste\n",
        "# VOTRE CODE ICI\n",
        "\n",
        "# Mesure temps de recherche dans le set\n",
        "# VOTRE CODE ICI"
      ]
    },
    {
      "cell_type": "markdown",
      "metadata": {},
      "source": [
        "### ✅ Correction"
      ]
    },
    {
      "cell_type": "code",
      "execution_count": 50,
      "metadata": {},
      "outputs": [
        {
          "name": "stdout",
          "output_type": "stream",
          "text": [
            "Temps avec liste : 0.000277s\n",
            "Temps avec set   : 0.000033s\n"
          ]
        }
      ],
      "source": [
        "# Correction Exercice 6\n",
        "\n",
        "import time\n",
        "import random\n",
        "\n",
        "# Génération aléatoire\n",
        "grande_liste = [random.randint(1, 100000) for _ in range(100000)]\n",
        "grand_set = set(grande_liste)\n",
        "\n",
        "element = random.choice(grande_liste)\n",
        "\n",
        "# Recherche dans la liste\n",
        "debut = time.time()\n",
        "_ = element in grande_liste\n",
        "fin = time.time()\n",
        "temps_liste = fin - debut\n",
        "\n",
        "# Recherche dans le set\n",
        "debut = time.time()\n",
        "_ = element in grand_set\n",
        "fin = time.time()\n",
        "temps_set = fin - debut\n",
        "\n",
        "print(f\"Temps avec liste : {temps_liste:.6f}s\")\n",
        "print(f\"Temps avec set   : {temps_set:.6f}s\")"
      ]
    },
    {
      "cell_type": "markdown",
      "metadata": {},
      "source": [
        "## Exercice 7 : Tri personnalisé de tuples"
      ]
    },
    {
      "cell_type": "code",
      "execution_count": null,
      "metadata": {},
      "outputs": [],
      "source": [
        "personnes = [\n",
        "    ('Alice', 25),\n",
        "    ('Bob', 20),\n",
        "    ('Claire', 30),\n",
        "    ('David', 20)\n",
        "]\n",
        "\n",
        "# Triez par ordre alphabétique puis par âge croissant"
      ]
    },
    {
      "cell_type": "markdown",
      "metadata": {},
      "source": [
        "### ✅ Correction"
      ]
    },
    {
      "cell_type": "code",
      "execution_count": null,
      "metadata": {},
      "outputs": [],
      "source": [
        "# Correction Exercice 7\n",
        "\n",
        "personnes_triees = sorted(personnes, key=lambda x: (x[0], x[1]))\n",
        "print(personnes_triees)"
      ]
    },
    {
      "cell_type": "markdown",
      "metadata": {},
      "source": [
        "## Exercice 8 : Compteur de bigrammes dans un texte"
      ]
    },
    {
      "cell_type": "code",
      "execution_count": 47,
      "metadata": {},
      "outputs": [],
      "source": [
        "texte = 'le chat dort le chat ronronne'\n",
        "\n",
        "# Comptez les bigrammes présents dans le texte\n",
        "# Affichez les 5 les plus fréquents"
      ]
    },
    {
      "cell_type": "markdown",
      "metadata": {},
      "source": [
        "### ✅ Correction"
      ]
    },
    {
      "cell_type": "code",
      "execution_count": null,
      "metadata": {},
      "outputs": [
        {
          "name": "stdout",
          "output_type": "stream",
          "text": [
            "Top 5 bigrammes :\n",
            "('le', 'chat') : 2\n",
            "('chat', 'dort') : 1\n",
            "('dort', 'le') : 1\n",
            "('chat', 'ronronne') : 1\n"
          ]
        }
      ],
      "source": [
        "# Correction Exercice 8\n",
        "\n",
        "from collections import defaultdict\n",
        "\n",
        "mots = texte.split()\n",
        "bigrammes = zip(mots, mots[1:])\n",
        "\n",
        "compteur = defaultdict(int) # defaultdict crée un dictionnaire avec une valeur par défaut de 0\n",
        "for bigramme in bigrammes:\n",
        "    compteur[bigramme] += 1\n",
        "\n",
        "# Trie les bigrammes par fréquence décroissante\n",
        "top = sorted(compteur.items(), key=lambda x: x[1], reverse=True)[:5]\n",
        "\n",
        "print('Top 5 bigrammes :')\n",
        "for bigramme, count in top:\n",
        "    print(bigramme, ':', count)\n",
        "\n",
        "# Option plus rapide avec Counter."
      ]
    },
    {
      "cell_type": "markdown",
      "metadata": {},
      "source": [
        "🎉 Bravo ! Tu as terminé ces exercices avancés sur les structures de données"
      ]
    },
    {
      "cell_type": "markdown",
      "id": "2490427a",
      "metadata": {},
      "source": []
    }
  ],
  "metadata": {
    "kernelspec": {
      "display_name": "game",
      "language": "python",
      "name": "game"
    },
    "language_info": {
      "codemirror_mode": {
        "name": "ipython",
        "version": 3
      },
      "file_extension": ".py",
      "mimetype": "text/x-python",
      "name": "python",
      "nbconvert_exporter": "python",
      "pygments_lexer": "ipython3",
      "version": "3.13.2"
    }
  },
  "nbformat": 4,
  "nbformat_minor": 5
}
