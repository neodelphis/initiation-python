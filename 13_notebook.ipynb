{
 "cells": [
  {
   "cell_type": "markdown",
   "id": "3847cbcc",
   "metadata": {
    "slideshow": {
     "slide_type": "slide"
    }
   },
   "source": [
    "# Initiation au Traitement des Données avec Python  \n",
    "\n",
    "Installez `pandas` , `seaborn`, `matplotlib` et `numpy` dans votre environnement pour pouvoir utiliser ce notebook.\n",
    "\n"
   ]
  },
  {
   "cell_type": "code",
   "execution_count": null,
   "id": "dc184793",
   "metadata": {},
   "outputs": [],
   "source": [
    "import pandas as pd\n",
    "import seaborn as sns\n",
    "import numpy as np\n",
    "import matplotlib.pyplot as plt\n",
    "\n",
    "# Créons un DataFrame fictif\n",
    "data = {\n",
    "    'nom': ['Alice', 'Bob', 'Charlie', 'David', 'Eve', 'Frank', 'Grace', 'Hugo', 'Inès', 'Julien', 'Yasmina'],\n",
    "    'âge': [25, 34, 17, 62, 29, 45, 30, 16, 38, 55, 40],\n",
    "    'ville': ['Paris', 'Lyon', 'Paris', 'Marseille', 'Lyon', 'Paris', 'Marseille', 'Paris', 'Lyon', 'Marseille', 'Rabat'],\n",
    "    'salaire': [35000, 42000, 22000, 55000, 38000, 47000, 36000, 20000, 41000, 52000, 39000],\n",
    "}\n",
    "\n",
    "df = pd.DataFrame(data)"
   ]
  },
  {
   "cell_type": "code",
   "execution_count": null,
   "id": "8da2f5a0",
   "metadata": {},
   "outputs": [],
   "source": [
    "df.head()\n",
    "# Affiche les 5 premières lignes du DataFrame"
   ]
  },
  {
   "cell_type": "code",
   "execution_count": null,
   "id": "9f130dd7",
   "metadata": {},
   "outputs": [],
   "source": [
    "# Filtrer par âge\n",
    "mineurs = df[df['âge'] < 18]\n",
    "print(mineurs)"
   ]
  },
  {
   "cell_type": "code",
   "execution_count": null,
   "id": "3bad52b5",
   "metadata": {},
   "outputs": [],
   "source": [
    "# Plusieurs conditions\n",
    "paris_adultes = df[(df['âge'] >= 18) & (df['ville'] == 'Paris')]\n",
    "print(paris_adultes)"
   ]
  },
  {
   "cell_type": "code",
   "execution_count": null,
   "id": "4731f8b0",
   "metadata": {},
   "outputs": [],
   "source": [
    "# Ajouter une colonne\n",
    "df['année_naissance'] = 2025 - df['âge']\n",
    "df.head()"
   ]
  },
  {
   "cell_type": "code",
   "execution_count": null,
   "id": "9d09afd8",
   "metadata": {},
   "outputs": [],
   "source": [
    "# Mapper les villes vers des pays\n",
    "df['pays'] = df['ville'].map({'Paris': 'France', 'Lyon': 'France', 'Marseille': 'France', 'Rabat': 'Maroc'})\n",
    "print(df[['ville', 'pays']])"
   ]
  },
  {
   "cell_type": "code",
   "execution_count": null,
   "id": "d785558e",
   "metadata": {},
   "outputs": [],
   "source": [
    "# Catégoriser l'âge\n",
    "def categorie_age(age):\n",
    "    if age < 18: return 'Mineur'\n",
    "    elif age < 60: return 'Adulte'\n",
    "    else: return 'Senior'\n",
    "\n",
    "df['catégorie'] = df['âge'].apply(categorie_age)\n",
    "print(df[['nom', 'âge', 'catégorie']])"
   ]
  },
  {
   "cell_type": "code",
   "execution_count": null,
   "id": "2ada7f4c",
   "metadata": {},
   "outputs": [],
   "source": [
    "# Statistiques générales\n",
    "print(df.describe())"
   ]
  },
  {
   "cell_type": "code",
   "execution_count": null,
   "id": "746e3797",
   "metadata": {},
   "outputs": [],
   "source": [
    "# Moyenne des salaires à Paris\n",
    "moyenne_salaire_paris = df[df['ville'] == 'Paris']['salaire'].mean()\n",
    "print(\"Salaire moyen à Paris :\", moyenne_salaire_paris)"
   ]
  },
  {
   "cell_type": "code",
   "execution_count": null,
   "id": "556f9b7c",
   "metadata": {},
   "outputs": [],
   "source": [
    "# Grouper par ville\n",
    "stats_par_ville = df.groupby('ville').agg({\n",
    "    'âge': ['mean', 'median', 'count'],\n",
    "    'salaire': 'mean'\n",
    "})\n",
    "print(stats_par_ville)"
   ]
  },
  {
   "cell_type": "code",
   "execution_count": null,
   "id": "3a480046",
   "metadata": {},
   "outputs": [],
   "source": [
    "# Histogramme des âges\n",
    "sns.histplot(df['âge'], bins=10)\n",
    "plt.title(\"Répartition des âges\")\n",
    "plt.show()"
   ]
  },
  {
   "cell_type": "code",
   "execution_count": null,
   "id": "20d8c59a",
   "metadata": {},
   "outputs": [],
   "source": [
    "# Boxplot des âges par ville\n",
    "sns.boxplot(x='ville', y='âge', data=df)\n",
    "plt.title(\"Âge par ville\")\n",
    "plt.show()\n"
   ]
  },
  {
   "cell_type": "code",
   "execution_count": null,
   "id": "d162c9b4",
   "metadata": {},
   "outputs": [],
   "source": [
    "# Nuage de points âge vs salaire\n",
    "sns.scatterplot(x='âge', y='salaire', data=df)\n",
    "plt.title(\"Relation entre âge et salaire\")\n",
    "plt.show()"
   ]
  },
  {
   "cell_type": "code",
   "execution_count": null,
   "id": "df6cd632",
   "metadata": {},
   "outputs": [],
   "source": [
    "# Corrélation\n",
    "corr = df.select_dtypes(include=[np.number]).corr()\n",
    "sns.heatmap(corr, annot=True)\n",
    "plt.title(\"Matrice de corrélation\")\n",
    "plt.show()"
   ]
  },
  {
   "cell_type": "code",
   "execution_count": null,
   "id": "75969a73",
   "metadata": {},
   "outputs": [],
   "source": []
  }
 ],
 "metadata": {
  "kernelspec": {
   "display_name": "game",
   "language": "python",
   "name": "game"
  },
  "language_info": {
   "codemirror_mode": {
    "name": "ipython",
    "version": 3
   },
   "file_extension": ".py",
   "mimetype": "text/x-python",
   "name": "python",
   "nbconvert_exporter": "python",
   "pygments_lexer": "ipython3",
   "version": "3.13.2"
  }
 },
 "nbformat": 4,
 "nbformat_minor": 5
}
