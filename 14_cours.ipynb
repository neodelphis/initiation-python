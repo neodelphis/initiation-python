{
 "cells": [
  {
   "cell_type": "raw",
   "id": "2020b84a",
   "metadata": {
    "slideshow": {
     "slide_type": "skip"
    },
    "vscode": {
     "languageId": "raw"
    }
   },
   "source": [
    "---\n",
    "title: \"Bonnes pratiques en Python\"\n",
    "author: \"Pierre Jaumier\"\n",
    "format:\n",
    "  pdf:\n",
    "    toc: false\n",
    "    number-sections: false\n",
    "    colorlinks: true\n",
    "---"
   ]
  },
  {
   "cell_type": "markdown",
   "id": "3847cbcc",
   "metadata": {
    "slideshow": {
     "slide_type": "slide"
    }
   },
   "source": [
    "## 📊 Bonnes pratiques en Python\n",
    "\n",
    "\n",
    "### 🐍 Comprendre `if __name__ == \"__main__\"`\n",
    "### 📏 Le guide de style PEP 8\n",
    "### 📄 Documentation: Docstrings au format Google\n"
   ]
  },
  {
   "cell_type": "markdown",
   "id": "65bcc28c",
   "metadata": {
    "slideshow": {
     "slide_type": "slide"
    }
   },
   "source": [
    "## 📊 __name__ == \"__main__\"\n",
    "\n",
    "```python\n",
    "if __name__ == \"__main__\":\n",
    "    main()\n",
    "```\n",
    "\n",
    "> Une astuce essentielle pour structurer vos scripts Python"
   ]
  },
  {
   "cell_type": "markdown",
   "id": "856bff8f",
   "metadata": {
    "slideshow": {
     "slide_type": "slide"
    }
   },
   "source": [
    "## 📊 Le rôle des modules en Python\n",
    "\n",
    "📁 En Python :\n",
    "- Chaque fichier `.py` est un **module**\n",
    "- On peut **importer** des modules dans d'autres fichiers\n",
    "- Les modules peuvent contenir :\n",
    "  - Des fonctions\n",
    "  - Des classes\n",
    "  - Des variables\n",
    "  - Du code exécutable"
   ]
  },
  {
   "cell_type": "markdown",
   "id": "0addd1b5",
   "metadata": {
    "slideshow": {
     "slide_type": "slide"
    }
   },
   "source": [
    "## La variable spéciale `__name__`\n",
    "\n",
    "📌 Tous les modules ont une variable interne appelée `__name__`.\n",
    "\n",
    "🔍 Son contenu dépend de la façon dont on utilise le module :\n",
    "\n",
    "| Utilisation                   | Valeur de `__name__` |\n",
    "|------------------------------|----------------------|\n",
    "| Fichier exécuté directement  | `\"__main__\"`         |\n",
    "| Fichier importé comme module | `\"nom_du_module\"`    |\n"
   ]
  },
  {
   "cell_type": "markdown",
   "id": "5d45d4ba",
   "metadata": {
    "slideshow": {
     "slide_type": "slide"
    }
   },
   "source": [
    "## 📊 Exemple concret\n",
    "\n",
    "📄 Fichier : `mon_module.py`\n",
    "\n",
    "```python\n",
    "print(\"Module chargé\")\n",
    "\n",
    "def dire_bonjour():\n",
    "    print(\"Bonjour !\")\n",
    "\n",
    "if __name__ == \"__main__\":\n",
    "    print(\"Exécution directe\")\n",
    "    dire_bonjour()\n",
    "```"
   ]
  },
  {
   "cell_type": "markdown",
   "id": "dca5e8dc",
   "metadata": {
    "slideshow": {
     "slide_type": "slide"
    }
   },
   "source": [
    "## 📊 Cas 1 – Exécution directe\n",
    "\n",
    "```python\n",
    "print(\"Module chargé\")\n",
    "\n",
    "def dire_bonjour():\n",
    "    print(\"Bonjour !\")\n",
    "\n",
    "if __name__ == \"__main__\":\n",
    "    print(\"Exécution directe\")\n",
    "    dire_bonjour()\n",
    "```\n",
    "\n",
    "⌨️ Commande :\n",
    "```bash\n",
    "python mon_module.py\n",
    "```\n",
    "\n",
    "🖥️ Résultat :\n",
    "```bash\n",
    "Module chargé\n",
    "Exécution directe\n",
    "Bonjour !\n",
    "```\n",
    "\n",
    "✅ Le bloc `if __name__ == \"__main__\":` est exécuté."
   ]
  },
  {
   "cell_type": "markdown",
   "id": "97028326",
   "metadata": {
    "slideshow": {
     "slide_type": "slide"
    }
   },
   "source": [
    "## 📊 Cas 2 – Import du module\n",
    "\n",
    "📄 Fichier : `autre_fichier.py`\n",
    "\n",
    "```python\n",
    "import mon_module\n",
    "\n",
    "mon_module.dire_bonjour()\n",
    "```\n",
    "\n",
    "⌨️ Commande :\n",
    "```bash\n",
    "python autre_fichier.py\n",
    "```\n",
    "\n",
    "🖥️ Résultat :\n",
    "```bash\n",
    "Module chargé\n",
    "Bonjour !\n",
    "```\n",
    "\n",
    "❌ Le bloc `if __name__ == \"__main__\":` n’est **pas exécuté**."
   ]
  },
  {
   "cell_type": "markdown",
   "id": "067f8cc5",
   "metadata": {
    "slideshow": {
     "slide_type": "slide"
    }
   },
   "source": [
    "## 📊 À quoi ça sert ?\n",
    "\n",
    "🛠 Utile pour :\n",
    "- Tester facilement un module sans tout exécuter\n",
    "- Créer des scripts réutilisables\n",
    "- Structurer clairement ton code\n",
    "- Définir un point d'entrée principal (comme dans d’autres langages)"
   ]
  },
  {
   "cell_type": "markdown",
   "id": "d061e10c",
   "metadata": {
    "slideshow": {
     "slide_type": "slide"
    }
   },
   "source": [
    "## 📊 Bonne pratique – Structure recommandée\n",
    "\n",
    "```python\n",
    "def main():\n",
    "    print(\"Programme principal\")\n",
    "\n",
    "if __name__ == \"__main__\":\n",
    "    main()\n",
    "```\n",
    "\n",
    "➡ Facilite les tests et la maintenance  \n",
    "➡ Clairement identifiable comme point d'entrée"
   ]
  },
  {
   "cell_type": "markdown",
   "id": "93372133",
   "metadata": {
    "slideshow": {
     "slide_type": "slide"
    }
   },
   "source": [
    "## 🐍 PEP 8 – Le guide de style Python\n",
    "\n",
    "> Écrire du code Python propre, lisible et professionnel\n",
    "\n",
    "\n",
    "### 📊 Qu'est-ce que PEP 8 ?\n",
    "\n",
    "📌 **PEP 8** = *Python Enhancement Proposal* n°8  \n",
    "🛠 C’est le **guide officiel de style de codage** en Python.\n",
    "\n",
    "🎯 Objectif :  \n",
    "> Rendre le code Python **cohérent**, **lisible** et **facile à maintenir** par tous les développeurs.\n",
    "\n",
    "🔗 Site officiel : [https://peps.python.org/pep-0008/](https://peps.python.org/pep-0008/)"
   ]
  },
  {
   "cell_type": "markdown",
   "id": "975367b3",
   "metadata": {
    "slideshow": {
     "slide_type": "slide"
    }
   },
   "source": [
    "## 📊 Pourquoi est-ce important ?\n",
    "\n",
    "💬 Code lu bien plus souvent qu'écrit.\n",
    "\n",
    "✅ Avantages :\n",
    "- Facilite la collaboration\n",
    "- Réduit les erreurs\n",
    "- Améliore la maintenance\n",
    "- Uniformise le style dans une équipe\n",
    "\n",
    "🧠 En entreprise ou en open-source, respecter PEP 8 est essentiel !"
   ]
  },
  {
   "cell_type": "markdown",
   "id": "e354241e",
   "metadata": {
    "slideshow": {
     "slide_type": "slide"
    }
   },
   "source": [
    "## 📊 Principales règles de style\n",
    "\n",
    "🔧 Voici quelques grandes lignes directrices :\n",
    "\n",
    "- **Indentation** : 4 espaces par niveau\n",
    "- **Longueur des lignes** : maximum de caractères\n",
    "- **Noms clairs et en minuscules** : `ma_variable`, `ma_fonction`\n",
    "- **Classes** : `PascalCase` : `MajusculeCamelCase`\n",
    "- **Constantes** : `MA_CONSTANTE`\n",
    "- **Espaces autour des opérateurs** : `x = 1 + 2`\n",
    "- **Un seul import par ligne** ou un nombre raisonnable"
   ]
  },
  {
   "cell_type": "markdown",
   "id": "c916e3a0",
   "metadata": {
    "slideshow": {
     "slide_type": "slide"
    }
   },
   "source": [
    "## 📊 Exemple avant / après PEP 8\n",
    "\n",
    "🔴 Avant (non conforme) :\n",
    "```python\n",
    "def calcul(x):return x+1\n",
    "```\n",
    "\n",
    "🟢 Après (conforme) :\n",
    "```python\n",
    "def calcul(x):\n",
    "    return x + 1\n",
    "```\n",
    "\n",
    "➡ Plus lisible, non ?"
   ]
  },
  {
   "cell_type": "markdown",
   "id": "de4145b4",
   "metadata": {
    "slideshow": {
     "slide_type": "slide"
    }
   },
   "source": [
    "## 📊 Bonnes pratiques supplémentaires\n",
    "\n",
    "📌 Quelques autres conseils :\n",
    "- Pas d’espace final en fin de ligne\n",
    "- Lignes vides pour séparer les fonctions et classes\n",
    "- Commentaires complets mais concis\n",
    "- Docstrings pour chaque module, classe et fonction publique\n",
    "- ❌ Pas de formatage du genre\n",
    "```python\n",
    "a    = 1\n",
    "long = 10\n",
    "```\n",
    "- Exemples de fonctions\n",
    "```python\n",
    "def afficher_profil(nom, prenom, age=0, ville=\"inconnue\"):\n",
    "    ...\n",
    "\n",
    "def envoyer_message(destinataire, message_texte):\n",
    "    ...\n",
    "```"
   ]
  },
  {
   "cell_type": "markdown",
   "id": "ccc051dd",
   "metadata": {
    "slideshow": {
     "slide_type": "slide"
    }
   },
   "source": [
    "## 📊 Outils pour vérifier PEP 8\n",
    "\n",
    "🛠 Automatise la vérification avec ces outils :\n",
    "\n",
    "- `pylint` – analyse complète\n",
    "- `flake8` – rapide et efficace\n",
    "- `black` – reformateur automatique\n",
    "- `isort` – trie les imports\n",
    "- Extensions VSCode / PyCharm intégrant PEP 8\n",
    "\n",
    "🤖 Gain de temps et qualité assurée !"
   ]
  },
  {
   "cell_type": "markdown",
   "id": "5fa00aa4",
   "metadata": {
    "slideshow": {
     "slide_type": "slide"
    }
   },
   "source": [
    "## 📊 Documenter ses fonctions et classes en Python\n",
    "\n",
    "\n",
    "### 📄 Google Style Docstrings  \n",
    "\n",
    "📌 Un **docstring** est une chaîne de documentation intégrée dans le code :\n",
    "\n",
    "```python\n",
    "def ma_fonction(param):\n",
    "    \"\"\"Ceci est un docstring – il explique ce que fait la fonction.\"\"\"\n",
    "    return param + 1\n",
    "```\n",
    "\n",
    "🧠 Il sert à :\n",
    "- Décrire ce que fait une fonction/méthode/classe\n",
    "- Expliquer les paramètres et valeurs retournées\n",
    "- Donner des exemples d’utilisation\n",
    "- Être lu par les développeurs et les outils (IDE, générateurs de docs…)"
   ]
  },
  {
   "cell_type": "markdown",
   "id": "27a17d2d",
   "metadata": {
    "slideshow": {
     "slide_type": "slide"
    }
   },
   "source": [
    "## 📊 Pourquoi utiliser un format standard ?\n",
    "\n",
    "🛠 Plusieurs formats existent :\n",
    "- **Google Style**\n",
    "- **NumPyDoc**\n",
    "- **Epytext**\n",
    "- **reST / Sphinx**\n",
    "\n",
    "🎯 Le **format Google** est simple, clair et bien structuré. C’est l’un des plus répandus."
   ]
  },
  {
   "cell_type": "markdown",
   "id": "51667b5e",
   "metadata": {
    "slideshow": {
     "slide_type": "slide"
    }
   },
   "source": [
    "## 📊 Structure du Google Style Docstring\n",
    "\n",
    "📖 Exemple :\n",
    "\n",
    "```python\n",
    "def diviser(a, b):\n",
    "    \"\"\"\n",
    "    Divise deux nombres.\n",
    "\n",
    "    Args:\n",
    "        a (float): Numérateur\n",
    "        b (float): Dénominateur\n",
    "\n",
    "    Returns:\n",
    "        float: Résultat de la division\n",
    "\n",
    "    Raises:\n",
    "        ZeroDivisionError: Si b est égal à zéro\n",
    "    \"\"\"\n",
    "    if b == 0:\n",
    "        raise ZeroDivisionError(\"division par zéro\")\n",
    "    return a / b\n",
    "```"
   ]
  },
  {
   "cell_type": "markdown",
   "id": "7590252f",
   "metadata": {
    "slideshow": {
     "slide_type": "slide"
    }
   },
   "source": [
    "## 📊 Sections principales\n",
    "\n",
    "🔖 Les sections courantes :\n",
    "\n",
    "| Section     | Description                              |\n",
    "|-------------|------------------------------------------|\n",
    "| `Args`      | Liste des paramètres                     |\n",
    "| `Returns`   | Ce que retourne la fonction              |\n",
    "| `Raises`    | Exceptions levées                        |\n",
    "| `Example`   | Exemple d'utilisation                    |\n",
    "| `Note`      | Remarque importante                      |\n",
    "| `Warning`   | Avertissement                            |\n",
    "\n",
    "✅ Bien organisé = facile à lire"
   ]
  },
  {
   "cell_type": "markdown",
   "id": "cca386a5",
   "metadata": {
    "slideshow": {
     "slide_type": "slide"
    }
   },
   "source": [
    "## 📊 Avantages du Google Style\n",
    "\n",
    "👍 Pourquoi l’adopter ?\n",
    "- ✅ Lisibilité optimale\n",
    "- 🛠 Supporté par les IDEs (VSCode, PyCharm…)\n",
    "- 🔧 Compatible avec Sphinx via `sphinx.ext.napoleon`\n",
    "- 📚 Bonne transition vers une documentation officielle"
   ]
  },
  {
   "cell_type": "markdown",
   "id": "24113f06",
   "metadata": {
    "slideshow": {
     "slide_type": "slide"
    }
   },
   "source": [
    "## 📊 Bonnes pratiques\n",
    "\n",
    "💡 Conseils :\n",
    "- Écris les docstrings dès la création de la fonction\n",
    "- Sois concis mais précis\n",
    "- Mets des exemples quand c’est utile\n",
    "- Utilise des types explicites (`str`, `int`, `list[str]`, etc.)\n",
    "- Met à jour le docstring si tu modifies la fonction"
   ]
  },
  {
   "cell_type": "markdown",
   "id": "e3f8f817",
   "metadata": {
    "slideshow": {
     "slide_type": "slide"
    }
   },
   "source": []
  },
  {
   "cell_type": "markdown",
   "id": "ef20cd32",
   "metadata": {
    "slideshow": {
     "slide_type": "slide"
    }
   },
   "source": []
  },
  {
   "cell_type": "markdown",
   "id": "02256117",
   "metadata": {
    "slideshow": {
     "slide_type": "slide"
    }
   },
   "source": []
  },
  {
   "cell_type": "markdown",
   "id": "27d2773a",
   "metadata": {
    "slideshow": {
     "slide_type": "slide"
    }
   },
   "source": []
  }
 ],
 "metadata": {
  "kernelspec": {
   "display_name": "game",
   "language": "python",
   "name": "game"
  },
  "language_info": {
   "name": "python",
   "version": "3.13.2"
  }
 },
 "nbformat": 4,
 "nbformat_minor": 5
}
